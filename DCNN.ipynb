{
 "cells": [
  {
   "cell_type": "code",
   "execution_count": 26,
   "metadata": {
    "collapsed": true
   },
   "outputs": [],
   "source": [
    "import numpy as np\n",
    "from impl.solver import *\n",
    "import sys"
   ]
  },
  {
   "cell_type": "code",
   "execution_count": 27,
   "metadata": {},
   "outputs": [
    {
     "name": "stdout",
     "output_type": "stream",
     "text": [
      "Extracting data/MNIST_data/train-images-idx3-ubyte.gz\n",
      "Extracting data/MNIST_data/train-labels-idx1-ubyte.gz\n",
      "Extracting data/MNIST_data/t10k-images-idx3-ubyte.gz\n",
      "Extracting data/MNIST_data/t10k-labels-idx1-ubyte.gz\n"
     ]
    },
    {
     "data": {
      "text/plain": [
       "((10000,), (5000,), (55000,))"
      ]
     },
     "execution_count": 27,
     "metadata": {},
     "output_type": "execute_result"
    }
   ],
   "source": [
    "# import hipsternet.input_data as input_data  # NOT used for MNIST\n",
    "from tensorflow.examples.tutorials.mnist import input_data\n",
    "mnist = input_data.read_data_sets('data/MNIST_data/', one_hot=False)\n",
    "X_train, y_train = mnist.train.images, mnist.train.labels\n",
    "X_val, y_val = mnist.validation.images, mnist.validation.labels\n",
    "X_test, y_test = mnist.test.images, mnist.test.labels\n",
    "y_test.shape, y_val.shape, y_train.shape"
   ]
  },
  {
   "cell_type": "code",
   "execution_count": 28,
   "metadata": {},
   "outputs": [
    {
     "data": {
      "text/plain": [
       "(55000, 784, 10)"
      ]
     },
     "execution_count": 28,
     "metadata": {},
     "output_type": "execute_result"
    }
   ],
   "source": [
    "M, D, C = X_train.shape[0], X_train.shape[1], y_train.max() + 1\n",
    "M, D, C"
   ]
  },
  {
   "cell_type": "code",
   "execution_count": 29,
   "metadata": {
    "scrolled": true
   },
   "outputs": [
    {
     "data": {
      "text/plain": [
       "((55000, 784), (5000, 784), (10000, 784))"
      ]
     },
     "execution_count": 29,
     "metadata": {},
     "output_type": "execute_result"
    }
   ],
   "source": [
    "import impl.utils as utils\n",
    "X_train, X_val, X_test = utils.prepro(X_train, X_val, X_test)\n",
    "X_train.shape, X_val.shape, X_test.shape"
   ]
  },
  {
   "cell_type": "code",
   "execution_count": 30,
   "metadata": {
    "scrolled": true
   },
   "outputs": [
    {
     "data": {
      "text/plain": [
       "((55000, 1, 28, 28), (5000, 1, 28, 28), (10000, 1, 28, 28))"
      ]
     },
     "execution_count": 30,
     "metadata": {},
     "output_type": "execute_result"
    }
   ],
   "source": [
    "# if net_type == 'cnn':\n",
    "img_shape = (1, 28, 28)\n",
    "X_train = X_train.reshape(-1, *img_shape)\n",
    "X_val = X_val.reshape(-1, *img_shape)\n",
    "X_test = X_test.reshape(-1, *img_shape)\n",
    "X_train.shape, X_val.shape, X_test.shape"
   ]
  },
  {
   "cell_type": "code",
   "execution_count": 35,
   "metadata": {
    "collapsed": true
   },
   "outputs": [],
   "source": [
    "# Hyper-parameters\n",
    "n_iter = 100 # number of epochs\n",
    "alpha = 1e-3 # learning_rate\n",
    "mb_size = 64 # width, timestep for sequential data or minibatch size\n",
    "num_layers = 1 # depth \n",
    "n_experiment = 1\n",
    "reg = 1e-5 # regularization\n",
    "print_after = 100 # print loss for train, valid, and test"
   ]
  },
  {
   "cell_type": "code",
   "execution_count": 36,
   "metadata": {
    "collapsed": true
   },
   "outputs": [],
   "source": [
    "import numpy as np\n",
    "import impl.loss as loss_fun\n",
    "import impl.layer as l\n",
    "import impl.NN as nn\n",
    "\n",
    "class DCNN(nn.NN):\n",
    "\n",
    "    def __init__(self, D, C, H, lam=1e-3, p_dropout=.8, loss='cross_ent', nonlin='relu'):\n",
    "        super().__init__(D, C, H, lam, p_dropout, loss, nonlin)\n",
    "    \n",
    "    def _init_model(self, D, C, H):\n",
    "        self.model = dict(\n",
    "            W1=np.random.randn(H, 1, 3, 3) / np.sqrt(H / 2.),\n",
    "            b1=np.zeros((H, 1)),\n",
    "\n",
    "            W2=np.random.randn(H, H, 3, 3) / np.sqrt(H / 2.),\n",
    "            b2=np.zeros((H, 1)),\n",
    "            gamma2=np.ones((1, H*D)),\n",
    "            beta2=np.zeros((1, H*D)),\n",
    "\n",
    "            W22=np.random.randn(H, H, 3, 3) / np.sqrt(H / 2.),\n",
    "            b22=np.zeros((H, 1)),\n",
    "            gamma22=np.ones((1, H*D)),\n",
    "            beta22=np.zeros((1, H*D)),\n",
    "\n",
    "            W3=np.random.randn(H*D, C) / np.sqrt(H*D / 2.),\n",
    "            b3=np.zeros((1, C))\n",
    "        )\n",
    "        self.bn_caches = dict(            \n",
    "            bn2_mean=np.zeros((1, H*D)),\n",
    "            bn2_var=np.zeros((1, H*D)),\n",
    "\n",
    "            bn22_mean=np.zeros((1, H*D)),\n",
    "            bn22_var=np.zeros((1, H*D))\n",
    "        )\n",
    "        \n",
    "    def forward(self, X, train=False):\n",
    "\n",
    "        # 1st layer: Input to Conv\n",
    "        h1, h1_cache = l.conv_forward(X=X, W=self.model['W1'], b=self.model['b1']) \n",
    "        h1, nl1_cache = l.relu_forward(h1)\n",
    "\n",
    "        # midst layer: Convnet 1\n",
    "        h2, h2_cache = l.conv_forward(X=h1, W=self.model['W2'], b=self.model['b2'])\n",
    "        h2 = h2.reshape([nl1_cache.shape[0], -1])\n",
    "        h2, bn2_cache, self.bn_caches['bn2_mean'], self.bn_caches['bn2_var'] = l.bn_forward(h2, \n",
    "                                                self.model['gamma2'], self.model['beta2'], \n",
    "                                                (self.bn_caches['bn2_mean'], self.bn_caches['bn2_var']), \n",
    "                                                train=train)\n",
    "        h2, nl2_cache = l.relu_forward(h2)\n",
    "        do2_cache = None # ERROR: referenced before assigned!\n",
    "        if train: h2, do2_cache = l.dropout_forward(X=h2, p_dropout=p_dropout)\n",
    "        \n",
    "        # midst layer: Convnet 2\n",
    "        h2 = h2.reshape(nl1_cache.shape)\n",
    "        h2, h22_cache = l.conv_forward(X=h2, W=self.model['W22'], b=self.model['b22'])\n",
    "        h2 = h2.reshape([nl1_cache.shape[0], -1])\n",
    "        h2, bn22_cache, self.bn_caches['bn22_mean'], self.bn_caches['bn22_var'] = l.bn_forward(h2, \n",
    "                                                self.model['gamma22'], self.model['beta22'], \n",
    "                                                (self.bn_caches['bn22_mean'], self.bn_caches['bn22_var']), \n",
    "                                                train=train)\n",
    "        h2, nl22_cache = l.relu_forward(h2)\n",
    "        do22_cache = None # ERROR: referenced before assigned!\n",
    "        if train: h2, do22_cache = l.dropout_forward(X=h2, p_dropout=p_dropout)\n",
    "\n",
    "        # last layer : FC to Output\n",
    "        h3, h3_cache = l.fc_forward(X=h2, W=self.model['W3'], b=self.model['b3'])\n",
    "\n",
    "        cache = h1_cache, nl1_cache, h2_cache, bn2_cache, nl2_cache, do2_cache, h22_cache, bn22_cache, nl22_cache, do22_cache, h3_cache\n",
    "        return h3, cache\n",
    "    \n",
    "    def loss_function(self, y, y_train):\n",
    "        loss = self.loss_funs[self.loss](self.model, y_pred, y_train, self.lam)\n",
    "        dy = self.dloss_funs[self.loss](y, y_train)\n",
    "        return loss, dy\n",
    "    \n",
    "    def backward(self, dy, cache):\n",
    "\n",
    "        h1_cache, nl1_cache, h2_cache, bn2_cache, nl2_cache, do2_cache, h22_cache, bn22_cache, nl22_cache, do22_cache, h3_cache = cache\n",
    "\n",
    "        # last layer\n",
    "        dh2, dw3, db3 = l.fc_backward(dout=dy, cache=h3_cache)\n",
    "\n",
    "        # midst layer 2\n",
    "        dh2 = l.dropout_backward(dout=dh2, cache=do22_cache)\n",
    "        dh2 = l.relu_backward(dout=dh2, cache=nl22_cache)\n",
    "        dh2, dgamma22, dbeta22 = l.bn_backward(dout=dh2, cache=bn22_cache)\n",
    "        dh2 = dh2.reshape(nl1_cache.shape)\n",
    "        dh2, dw22, db22 = l.conv_backward(dout=dh2, cache=h22_cache)\n",
    "        dh2 = dh2.reshape([nl1_cache.shape[0], -1])\n",
    "\n",
    "        # midst layer 1\n",
    "        dh2 = l.dropout_backward(dout=dh2, cache=do2_cache)\n",
    "        dh2 = l.relu_backward(dout=dh2, cache=nl2_cache)\n",
    "        dh2, dgamma2, dbeta2 = l.bn_backward(dout=dh2, cache=bn2_cache)\n",
    "        dh2 = dh2.reshape(nl1_cache.shape)\n",
    "        dh1, dw2, db2 = l.conv_backward(dout=dh2, cache=h2_cache)\n",
    "\n",
    "        # 1st layer\n",
    "        dh1 = l.relu_backward(dout=dh1, cache=nl1_cache)\n",
    "        dX, dw1, db1 = l.conv_backward(dout=dh1, cache=h1_cache)\n",
    "\n",
    "        # grad for GD\n",
    "        grad = dict(\n",
    "            W1=dw1, \n",
    "            b1=db1,\n",
    "\n",
    "            W2=dw2, \n",
    "            b2=db2,\n",
    "            gamma2=dgamma2,\n",
    "            beta2=dbeta2,\n",
    "            \n",
    "            W22=dw22, \n",
    "            b22=db22,\n",
    "            gamma22=dgamma22,\n",
    "            beta22=dbeta22,\n",
    "\n",
    "            W3=dw3, \n",
    "            b3=db3\n",
    "            )\n",
    "        \n",
    "        return grad"
   ]
  },
  {
   "cell_type": "code",
   "execution_count": 39,
   "metadata": {
    "collapsed": true
   },
   "outputs": [],
   "source": [
    "import numpy as np\n",
    "import impl.utils as util\n",
    "import impl.constant as c\n",
    "import copy\n",
    "from sklearn.utils import shuffle as skshuffle\n",
    "\n",
    "\n",
    "def get_minibatch(X, y, minibatch_size, shuffle=True):\n",
    "    minibatches = []\n",
    "\n",
    "    if shuffle:\n",
    "        X, y = skshuffle(X, y)\n",
    "\n",
    "    for i in range(0, X.shape[0], minibatch_size):\n",
    "        X_mini = X[i:i + minibatch_size]\n",
    "        y_mini = y[i:i + minibatch_size]\n",
    "\n",
    "        minibatches.append((X_mini, y_mini))\n",
    "\n",
    "    return minibatches\n",
    "\n",
    "def adam(nn, X_train, y_train, val_set=None, alpha=0.001, mb_size=256, n_iter=2000, print_after=100):\n",
    "    M = {k: np.zeros_like(v) for k, v in nn.model.items()}\n",
    "    R = {k: np.zeros_like(v) for k, v in nn.model.items()}\n",
    "    beta1 = .9\n",
    "    beta2 = .999\n",
    "\n",
    "    minibatches = get_minibatch(X_train, y_train, mb_size)\n",
    "\n",
    "    if val_set:\n",
    "        X_val, y_val = val_set\n",
    "\n",
    "    for iter in range(1, n_iter + 1):\n",
    "        t = iter\n",
    "        idx = np.random.randint(0, len(minibatches))\n",
    "        X_mini, y_mini = minibatches[idx]\n",
    "\n",
    "        #         grad, loss = nn.train_step(X_mini, y_mini)\n",
    "        #         def train_step(self, X_train, y_train):\n",
    "        #         \"\"\"\n",
    "        #         Single training step over minibatch: forward, loss, backprop\n",
    "        #         \"\"\"\n",
    "        y_pred, cache = nn.forward(X_train, train=True)\n",
    "        loss, dy = nn.loss_function(y_pred, y_train)\n",
    "        grad = nn.backward(dy, cache)\n",
    "        #         return grad, loss\n",
    "\n",
    "\n",
    "        if iter % print_after == 0:\n",
    "            if val_set:\n",
    "                val_acc = util.accuracy(y_val, nn.predict(X_val))\n",
    "                print('Iter-{} loss: {:.4f} validation: {:4f}'.format(iter, loss, val_acc))\n",
    "            else:\n",
    "                print('Iter-{} loss: {:.4f}'.format(iter, loss))\n",
    "\n",
    "        for k in grad:\n",
    "            M[k] = util.exp_running_avg(M[k], grad[k], beta1)\n",
    "            R[k] = util.exp_running_avg(R[k], grad[k]**2, beta2)\n",
    "\n",
    "            m_k_hat = M[k] / (1. - beta1**(t))\n",
    "            r_k_hat = R[k] / (1. - beta2**(t))\n",
    "\n",
    "            nn.model[k] -= alpha * m_k_hat / (np.sqrt(r_k_hat) + c.eps)\n",
    "\n",
    "    return nn\n"
   ]
  },
  {
   "cell_type": "code",
   "execution_count": null,
   "metadata": {},
   "outputs": [
    {
     "name": "stdout",
     "output_type": "stream",
     "text": [
      "Experiment-1\n"
     ]
    }
   ],
   "source": [
    "accs = np.zeros(n_experiment)\n",
    "for k in range(n_experiment):\n",
    "    print('Experiment-{}'.format(k + 1))\n",
    "\n",
    "    net = DCNN(C=C, D=D, H=8)\n",
    "\n",
    "    net = adam(nn=net, X_train=X_train, y_train=y_train, val_set=(X_val, y_val), \n",
    "                     mb_size=mb_size, alpha=alpha, n_iter=n_iter, print_after=print_after)\n",
    "\n",
    "    y_pred = net.predict(X_test)\n",
    "    accs[k] = np.mean(y_pred == y_test)\n",
    "\n",
    "print()\n",
    "print('Test Mean accuracy: {:.4f}, std: {:.4f}'.format(accs.mean(), accs.std()))"
   ]
  },
  {
   "cell_type": "code",
   "execution_count": null,
   "metadata": {
    "collapsed": true
   },
   "outputs": [],
   "source": []
  }
 ],
 "metadata": {
  "kernelspec": {
   "display_name": "Python 3",
   "language": "python",
   "name": "python3"
  },
  "language_info": {
   "codemirror_mode": {
    "name": "ipython",
    "version": 3
   },
   "file_extension": ".py",
   "mimetype": "text/x-python",
   "name": "python",
   "nbconvert_exporter": "python",
   "pygments_lexer": "ipython3",
   "version": "3.5.1"
  }
 },
 "nbformat": 4,
 "nbformat_minor": 2
}
