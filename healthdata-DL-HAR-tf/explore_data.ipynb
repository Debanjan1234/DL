{
 "cells": [
  {
   "cell_type": "markdown",
   "metadata": {},
   "source": [
    "# Human Activity Recognition (HAR) explore"
   ]
  },
  {
   "cell_type": "code",
   "execution_count": 1,
   "metadata": {
    "collapsed": true
   },
   "outputs": [],
   "source": [
    "# Imports\n",
    "import numpy as np\n",
    "import os\n",
    "from utils.utilities import *\n",
    "from sklearn.model_selection import train_test_split\n",
    "import matplotlib.pyplot as plt\n",
    "import pandas as pd\n",
    "import seaborn as sns\n",
    "%matplotlib inline"
   ]
  },
  {
   "cell_type": "code",
   "execution_count": 2,
   "metadata": {},
   "outputs": [
    {
     "name": "stdout",
     "output_type": "stream",
     "text": [
      "ls: cannot access data/train/Inertial Signals/: No such file or directory\n",
      "\u001b[0m\u001b[01;34mcheckpoints\u001b[0m/       \u001b[01;34mdata\u001b[0m/                    HAR-CNN.ipynb       \u001b[01;34mimg\u001b[0m/\n",
      "\u001b[01;34mcheckpoints-cnn\u001b[0m/   explore_data.ipynb       HAR-CNN_LSTM.ipynb  README.md\n",
      "\u001b[01;34mcheckpoints-crnn\u001b[0m/  HAR-CNN-Inception.ipynb  HAR-LSTM.ipynb      \u001b[01;34mutils\u001b[0m/\n"
     ]
    }
   ],
   "source": [
    "% ls data/train/Inertial\\ Signals/\n",
    "% ls"
   ]
  },
  {
   "cell_type": "code",
   "execution_count": 3,
   "metadata": {
    "collapsed": true
   },
   "outputs": [],
   "source": [
    "# import os\n",
    "# # Fixed params\n",
    "# n_class = 6\n",
    "# n_steps = 128\n",
    "\n",
    "# # Paths\n",
    "# # path_ = os.path.join(data_path='./data/', split='train')\n",
    "# path_ = os.path.join('./data/', 'train')\n",
    "# path_\n",
    "# path_signals = os.path.join(path_, \"Inertial_Signals\")\n",
    "# path_signals\n",
    "\n",
    "# split = 'train'\n",
    "\n",
    "# # Read labels and one-hot encode\n",
    "# label_path = os.path.join(path_, \"y_\" + split + \".txt\")\n",
    "# label_path\n",
    "# labels = pd.read_csv(label_path, header = None)\n",
    "# labels.shape\n",
    "\n",
    "# # Read time-series data\n",
    "# # path_signals, os.listdir(path='./data/train/Inertial Signals')\n",
    "# channel_files = os.listdir(path=path_signals)\n",
    "# # channel_files.sort()\n",
    "# # n_channels = len(channel_files)\n",
    "# # posix = len(split) + 5\n"
   ]
  },
  {
   "cell_type": "code",
   "execution_count": 4,
   "metadata": {
    "collapsed": true
   },
   "outputs": [],
   "source": [
    "X_train, labels_train, list_ch_train = read_data(data_path=\"./data/\", split=\"train\") # train\n",
    "X_test, labels_test, list_ch_test = read_data(data_path=\"./data/\", split=\"test\") # test\n",
    "\n",
    "assert list_ch_train == list_ch_test, \"Mistmatch in channels!\""
   ]
  },
  {
   "cell_type": "code",
   "execution_count": 5,
   "metadata": {},
   "outputs": [
    {
     "name": "stdout",
     "output_type": "stream",
     "text": [
      "Training data shape: N = 7352, steps = 128, channels = 9\n",
      "Test data shape: N = 2947, steps = 128, channels = 9\n"
     ]
    }
   ],
   "source": [
    "print (\"Training data shape: N = {:d}, steps = {:d}, channels = {:d}\".format(X_train.shape[0],\n",
    "                                                                             X_train.shape[1],\n",
    "                                                                             X_train.shape[2]))\n",
    "print (\"Test data shape: N = {:d}, steps = {:d}, channels = {:d}\".format(X_test.shape[0],\n",
    "                                                                         X_test.shape[1],\n",
    "                                                                         X_test.shape[2]))"
   ]
  },
  {
   "cell_type": "code",
   "execution_count": 6,
   "metadata": {
    "collapsed": true
   },
   "outputs": [],
   "source": [
    "# Mean value for each channel at each step\n",
    "all_data = np.concatenate((X_train,X_test), axis = 0)\n",
    "means_ = np.zeros((all_data.shape[1],all_data.shape[2]))\n",
    "stds_ = np.zeros((all_data.shape[1],all_data.shape[2]))\n",
    "\n",
    "for ch in range(X_train.shape[2]):\n",
    "    means_[:,ch] = np.mean(all_data[:,:,ch], axis=0)\n",
    "    stds_[:,ch] = np.std(all_data[:,:,ch], axis=0)\n",
    "    \n",
    "df_mean = pd.DataFrame(data = means_)\n",
    "df_std = pd.DataFrame(data = stds_)"
   ]
  },
  {
   "cell_type": "code",
   "execution_count": 7,
   "metadata": {},
   "outputs": [
    {
     "data": {
      "image/png": "[encoded data removed]",
      "text/plain": [
       "<matplotlib.figure.Figure at 0x7f47c04ac860>"
      ]
     },
     "metadata": {},
     "output_type": "display_data"
    }
   ],
   "source": [
    "df_std.hist()\n",
    "plt.show()"
   ]
  },
  {
   "cell_type": "code",
   "execution_count": 8,
   "metadata": {},
   "outputs": [
    {
     "data": {
      "image/png": "[encoded data removed]",
      "text/plain": [
       "<matplotlib.figure.Figure at 0x7f478050ff98>"
      ]
     },
     "metadata": {},
     "output_type": "display_data"
    }
   ],
   "source": [
    "df_std.hist()\n",
    "plt.show()"
   ]
  },
  {
   "cell_type": "markdown",
   "metadata": {},
   "source": [
    "Some channels have mean values near 1, most close to 0. Let's standardize them all"
   ]
  },
  {
   "cell_type": "code",
   "execution_count": 9,
   "metadata": {
    "collapsed": true
   },
   "outputs": [],
   "source": [
    "X_train, X_test = standardize(X_train, X_test)"
   ]
  },
  {
   "cell_type": "code",
   "execution_count": 10,
   "metadata": {
    "collapsed": true
   },
   "outputs": [],
   "source": [
    "# Check Mean value for each channel at each step\n",
    "all_data = np.concatenate((X_train,X_test), axis = 0)\n",
    "means_ = np.zeros((all_data.shape[1],all_data.shape[2]))\n",
    "stds_ = np.zeros((all_data.shape[1],all_data.shape[2]))\n",
    "\n",
    "for ch in range(X_train.shape[2]):\n",
    "    means_[:,ch] = np.mean(all_data[:,:,ch], axis=0)\n",
    "    stds_[:,ch] = np.std(all_data[:,:,ch], axis=0)\n",
    "    \n",
    "df_mean = pd.DataFrame(data = means_)\n",
    "df_std = pd.DataFrame(data = stds_)"
   ]
  },
  {
   "cell_type": "code",
   "execution_count": 11,
   "metadata": {},
   "outputs": [
    {
     "data": {
      "image/png": "[encoded data removed]",
      "text/plain": [
       "<matplotlib.figure.Figure at 0x7f47807eac18>"
      ]
     },
     "metadata": {},
     "output_type": "display_data"
    }
   ],
   "source": [
    "df_mean.hist()\n",
    "plt.show()"
   ]
  },
  {
   "cell_type": "code",
   "execution_count": null,
   "metadata": {
    "collapsed": true
   },
   "outputs": [],
   "source": []
  },
  {
   "cell_type": "code",
   "execution_count": null,
   "metadata": {
    "collapsed": true
   },
   "outputs": [],
   "source": []
  },
  {
   "cell_type": "code",
   "execution_count": null,
   "metadata": {
    "collapsed": true
   },
   "outputs": [],
   "source": []
  },
  {
   "cell_type": "code",
   "execution_count": null,
   "metadata": {
    "collapsed": true
   },
   "outputs": [],
   "source": []
  },
  {
   "cell_type": "code",
   "execution_count": null,
   "metadata": {
    "collapsed": true
   },
   "outputs": [],
   "source": []
  },
  {
   "cell_type": "code",
   "execution_count": null,
   "metadata": {
    "collapsed": true
   },
   "outputs": [],
   "source": []
  },
  {
   "cell_type": "code",
   "execution_count": null,
   "metadata": {
    "collapsed": true
   },
   "outputs": [],
   "source": []
  },
  {
   "cell_type": "code",
   "execution_count": null,
   "metadata": {
    "collapsed": true
   },
   "outputs": [],
   "source": []
  },
  {
   "cell_type": "code",
   "execution_count": null,
   "metadata": {
    "collapsed": true
   },
   "outputs": [],
   "source": []
  },
  {
   "cell_type": "code",
   "execution_count": null,
   "metadata": {
    "collapsed": true
   },
   "outputs": [],
   "source": []
  },
  {
   "cell_type": "code",
   "execution_count": null,
   "metadata": {
    "collapsed": true
   },
   "outputs": [],
   "source": []
  }
 ],
 "metadata": {
  "kernelspec": {
   "display_name": "Python 3",
   "language": "python",
   "name": "python3"
  },
  "language_info": {
   "codemirror_mode": {
    "name": "ipython",
    "version": 3
   },
   "file_extension": ".py",
   "mimetype": "text/x-python",
   "name": "python",
   "nbconvert_exporter": "python",
   "pygments_lexer": "ipython3",
   "version": "3.5.1"
  }
 },
 "nbformat": 4,
 "nbformat_minor": 2
}
