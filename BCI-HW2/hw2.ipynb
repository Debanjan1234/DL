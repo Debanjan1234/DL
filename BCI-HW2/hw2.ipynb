{
 "cells": [
  {
   "cell_type": "markdown",
   "metadata": {},
   "source": [
    "# Brain-Computer Interfaces (Fall 2017, ELE 594)\n",
    "# Instructor: Yalda Shahriari\n",
    "# 2nd homework, 10/8/17 (The homework, is due by Oct 18th\n",
    "# , 11:55 pm).\n",
    "# Instruction: All the data instructions are the same as homework 1.\n",
    "# 1-"
   ]
  },
  {
   "cell_type": "markdown",
   "metadata": {},
   "source": [
    "a) Perform PCA on broadband data using two time windows, one before and one after trial onset\n",
    "(e.g., - 500 to 0 ms and 100 to 600 ms).\n",
    "\n",
    "Hint: Separate the requested epochs from the EEG data (e.g. [-500 0ms]). \n",
    "\n",
    "Center the data by subtracting the mean of each epoch. \n",
    "\n",
    "For each trial obtain the sample covariance matrix (refer to the lecture notes). \n",
    "\n",
    "Get the average of the covariances over all the trials. \n",
    "\n",
    "Perform eigenvalue decomposition, order the PCs and the eigenvalues in descending order, and proceed to answer the questions."
   ]
  },
  {
   "cell_type": "code",
   "execution_count": 67,
   "metadata": {
    "collapsed": true
   },
   "outputs": [],
   "source": [
    "import scipy.io as spio\n",
    "import numpy as np\n",
    "\n",
    "sampleEEGdata = spio.loadmat(file_name='../BCI-HW1/sampleEEGdata.mat')"
   ]
  },
  {
   "cell_type": "code",
   "execution_count": 68,
   "metadata": {},
   "outputs": [
    {
     "data": {
      "text/plain": [
       "dict_keys(['__header__', '__version__', '__globals__', 'EEG'])"
      ]
     },
     "execution_count": 68,
     "metadata": {},
     "output_type": "execute_result"
    }
   ],
   "source": [
    "sampleEEGdata.keys()"
   ]
  },
  {
   "cell_type": "code",
   "execution_count": 69,
   "metadata": {},
   "outputs": [
    {
     "data": {
      "text/plain": [
       "(1, 1)"
      ]
     },
     "execution_count": 69,
     "metadata": {},
     "output_type": "execute_result"
    }
   ],
   "source": [
    "sampleEEGdata['EEG'].shape"
   ]
  },
  {
   "cell_type": "code",
   "execution_count": 70,
   "metadata": {},
   "outputs": [
    {
     "data": {
      "text/plain": [
       "dtype([('setname', 'O'), ('filename', 'O'), ('filepath', 'O'), ('subject', 'O'), ('group', 'O'), ('condition', 'O'), ('session', 'O'), ('comments', 'O'), ('nbchan', 'O'), ('trials', 'O'), ('pnts', 'O'), ('srate', 'O'), ('xmin', 'O'), ('xmax', 'O'), ('times', 'O'), ('data', 'O'), ('icaact', 'O'), ('icawinv', 'O'), ('icasphere', 'O'), ('icaweights', 'O'), ('icachansind', 'O'), ('chanlocs', 'O'), ('urchanlocs', 'O'), ('chaninfo', 'O'), ('ref', 'O'), ('event', 'O'), ('urevent', 'O'), ('eventdescription', 'O'), ('epoch', 'O'), ('epochdescription', 'O'), ('reject', 'O'), ('stats', 'O'), ('specdata', 'O'), ('specicaact', 'O'), ('splinefile', 'O'), ('icasplinefile', 'O'), ('dipfit', 'O'), ('history', 'O'), ('saved', 'O'), ('etc', 'O'), ('spedata', 'O')])"
      ]
     },
     "execution_count": 70,
     "metadata": {},
     "output_type": "execute_result"
    }
   ],
   "source": [
    "sampleEEGdata['EEG'][0, 0].dtype"
   ]
  },
  {
   "cell_type": "code",
   "execution_count": 71,
   "metadata": {},
   "outputs": [
    {
     "data": {
      "text/plain": [
       "(64, 640, 99)"
      ]
     },
     "execution_count": 71,
     "metadata": {},
     "output_type": "execute_result"
    }
   ],
   "source": [
    "sampleEEGdata['EEG'][0, 0]['data'].shape"
   ]
  },
  {
   "cell_type": "code",
   "execution_count": 72,
   "metadata": {},
   "outputs": [
    {
     "data": {
      "text/plain": [
       "((64, 640, 99), 256)"
      ]
     },
     "execution_count": 72,
     "metadata": {},
     "output_type": "execute_result"
    }
   ],
   "source": [
    "data = sampleEEGdata['EEG'][0, 0]['data']\n",
    "srate = sampleEEGdata['EEG'][0, 0]['srate'][0, 0]\n",
    "data.shape, srate"
   ]
  },
  {
   "cell_type": "code",
   "execution_count": 73,
   "metadata": {},
   "outputs": [
    {
     "data": {
      "text/plain": [
       "(-1, 1.49609375, 256, 640, 256.40062597809077)"
      ]
     },
     "execution_count": 73,
     "metadata": {},
     "output_type": "execute_result"
    }
   ],
   "source": [
    "# To separate the pre- and post- trial onset epochs: low limit and length/duration\n",
    "# duration= 500 ms, low1= -500 ms, low2 = 100ms\n",
    "# to convert the time point/loc to the sample number:\n",
    "# time/T gives you number of points\n",
    "# time * freq to get the number of samples\n",
    "# The overal timeline is -1500 to 1000\n",
    "# low1, low2, length =\n",
    "xmin = sampleEEGdata['EEG'][0, 0]['xmin'][0, 0]\n",
    "xmax = sampleEEGdata['EEG'][0, 0]['xmax'][0, 0]\n",
    "xmin, xmax, srate, data.shape[1], data.shape[1]/ (xmax - xmin)"
   ]
  },
  {
   "cell_type": "code",
   "execution_count": 74,
   "metadata": {},
   "outputs": [
    {
     "data": {
      "text/plain": [
       "(128, 128, 281)"
      ]
     },
     "execution_count": 74,
     "metadata": {},
     "output_type": "execute_result"
    }
   ],
   "source": [
    "# number of sample / (duration) == freq\n",
    "# -0.5 - 0.0 and 0.1 - 0.6\n",
    "# length = 0.5\n",
    "# low1 = -0.5, low2 = 0.1 temporally/ time-wise/ time-axis\n",
    "low1, length, low2 = int((-0.5 - xmin) * srate), int(0.5 * srate), int((0.1 - xmin) * srate)\n",
    "low1, length, low2"
   ]
  },
  {
   "cell_type": "code",
   "execution_count": 75,
   "metadata": {},
   "outputs": [
    {
     "data": {
      "text/plain": [
       "((64, 128, 99), (64, 128, 99), (64, 640, 99))"
      ]
     },
     "execution_count": 75,
     "metadata": {},
     "output_type": "execute_result"
    }
   ],
   "source": [
    "# Extract the pre- and post- trial onset/stimuli event as segments/ epochs from the data\n",
    "data_pre, data_post = data[:, low1: low1+length, :], data[:, low2: low2+length, :]\n",
    "data_post.shape, data_pre.shape, data.shape # data.shape = (channels, time-points, trials) == (0, 1, 2)"
   ]
  },
  {
   "cell_type": "code",
   "execution_count": 76,
   "metadata": {},
   "outputs": [
    {
     "data": {
      "text/plain": [
       "(99, (64, 640), (64,))"
      ]
     },
     "execution_count": 76,
     "metadata": {},
     "output_type": "execute_result"
    }
   ],
   "source": [
    "# Center the data by subtracting the mean of each epoch. \n",
    "# The mean should be the mean of all samples in the space of channels/ number axis or dimensions or features\n",
    "data.shape[2], data[:, :, 0].shape, data[:, :, 0].mean(axis=1).shape"
   ]
  },
  {
   "cell_type": "code",
   "execution_count": 77,
   "metadata": {},
   "outputs": [
    {
     "data": {
      "text/plain": [
       "(64, 640)"
      ]
     },
     "execution_count": 77,
     "metadata": {},
     "output_type": "execute_result"
    }
   ],
   "source": [
    "# axis = 0 number of channels, axis= 1 number of points\n",
    "(data[:, :, 0] - data[:, :, 0].mean(axis=1).reshape(-1, 1)).shape"
   ]
  },
  {
   "cell_type": "code",
   "execution_count": 78,
   "metadata": {},
   "outputs": [
    {
     "data": {
      "text/plain": [
       "(99, (64, 640))"
      ]
     },
     "execution_count": 78,
     "metadata": {},
     "output_type": "execute_result"
    }
   ],
   "source": [
    "data_mean_list = []\n",
    "for idx_trial in range(data.shape[2]):\n",
    "    data_trial_mean = data[:, :, idx_trial] - data[:, :, idx_trial].mean(axis=1).reshape(-1, 1)\n",
    "#     print(data_trial_mean.shape)\n",
    "    data_mean_list.append(data_trial_mean)\n",
    "len(data_mean_list), data_mean_list[0].shape"
   ]
  },
  {
   "cell_type": "code",
   "execution_count": 82,
   "metadata": {},
   "outputs": [
    {
     "data": {
      "text/plain": [
       "((99, 64, 640), dtype('float64'))"
      ]
     },
     "execution_count": 82,
     "metadata": {},
     "output_type": "execute_result"
    }
   ],
   "source": [
    "np.array(data_mean_list).shape, np.array(data_mean_list, dtype=float).dtype"
   ]
  },
  {
   "cell_type": "code",
   "execution_count": 88,
   "metadata": {
    "collapsed": true
   },
   "outputs": [],
   "source": [
    "data_mean = np.array(data_mean_list, dtype=float)"
   ]
  },
  {
   "cell_type": "code",
   "execution_count": 110,
   "metadata": {
    "collapsed": true
   },
   "outputs": [],
   "source": [
    "# normalize the data: 0-mean (zero-mean) and 1-std (uni-cov/std)\n",
    "def normalize_data(data):\n",
    "    data_norm_list = []\n",
    "    for idx_trial in range(data.shape[2]):\n",
    "        data_trial_norm = data[:, :, idx_trial] - data[:, :, idx_trial].mean(axis=1).reshape(-1, 1)\n",
    "        data_trial_norm /= data[:, :, idx_trial].std(axis=1).reshape(-1, 1)\n",
    "        data_norm_list.append(data_trial_norm)\n",
    "    data_norm_list = np.array(data_norm_list, dtype=float)\n",
    "    return data_norm_list"
   ]
  },
  {
   "cell_type": "code",
   "execution_count": 111,
   "metadata": {
    "collapsed": true
   },
   "outputs": [],
   "source": [
    "data_pre_norm, data_norm, data_post_norm = normalize_data(data=data_pre), normalize_data(data=data), normalize_data(data=data_post)"
   ]
  },
  {
   "cell_type": "code",
   "execution_count": 112,
   "metadata": {},
   "outputs": [
    {
     "data": {
      "text/plain": [
       "((99, 64, 640), (99, 64, 128), (99, 64, 128))"
      ]
     },
     "execution_count": 112,
     "metadata": {},
     "output_type": "execute_result"
    }
   ],
   "source": [
    "data_norm.shape, data_post_norm.shape, data_pre_norm.shape"
   ]
  },
  {
   "cell_type": "code",
   "execution_count": 113,
   "metadata": {},
   "outputs": [],
   "source": [
    "# # make sure the mean was calculated correctly\n",
    "# for idx_trial in range(data_mean.shape[0]):\n",
    "#     if data_mean[idx_trial].mean(axis=1).sum(axis=0) > 1e-4:\n",
    "#         print(data_mean[idx_trial].mean(axis=1).sum(axis=0))\n",
    "#     if data_post_mean[idx_trial].mean(axis=1).sum(axis=0) > 0.01:\n",
    "#         print(data_post_mean[idx_trial].mean(axis=1).sum(axis=0))\n",
    "#     if data_pre_mean[idx_trial].mean(axis=1).sum(axis=0) > 0.01:\n",
    "#         print(data_pre_mean[idx_trial].mean(axis=1).sum(axis=0))\n",
    "        "
   ]
  },
  {
   "cell_type": "code",
   "execution_count": 115,
   "metadata": {
    "collapsed": true
   },
   "outputs": [],
   "source": [
    "# For each trial obtain the sample covariance matrix (refer to the lecture notes).\n",
    "def cov_data(data_norm):\n",
    "    data_cov_list = []\n",
    "    for idx_trial in range(data_norm.shape[0]):\n",
    "        data_trial_cov = data_norm[idx_trial] @ data_norm[idx_trial].T # X_nxt @ X_nxt.T = conv_nxn\n",
    "        data_cov_list.append(data_trial_cov)\n",
    "    data_cov = np.array(data_cov_list, dtype=float)\n",
    "    return data_cov"
   ]
  },
  {
   "cell_type": "code",
   "execution_count": 118,
   "metadata": {
    "collapsed": true
   },
   "outputs": [],
   "source": [
    "data_pre_cov, data_cov, data_post_cov = cov_data(data_norm=data_pre_mean), cov_data(data_norm=data_norm), cov_data(data_norm=data_post_mean)"
   ]
  },
  {
   "cell_type": "code",
   "execution_count": 119,
   "metadata": {},
   "outputs": [
    {
     "data": {
      "text/plain": [
       "((99, 64, 64), (99, 64, 64), (99, 64, 64))"
      ]
     },
     "execution_count": 119,
     "metadata": {},
     "output_type": "execute_result"
    }
   ],
   "source": [
    "data_cov.shape, data_pre_cov.shape, data_post_cov.shape"
   ]
  },
  {
   "cell_type": "code",
   "execution_count": 120,
   "metadata": {
    "collapsed": true
   },
   "outputs": [],
   "source": [
    "# Get the average of the covariances over all the trials.\n",
    "data_cov_mean, data_pre_cov_mean, data_post_cov_mean = data_cov.mean(axis=0), data_pre_cov.mean(axis=0), data_post_cov.mean(axis=0)"
   ]
  },
  {
   "cell_type": "code",
   "execution_count": 121,
   "metadata": {},
   "outputs": [
    {
     "data": {
      "text/plain": [
       "((64, 64), (64, 64), (64, 64))"
      ]
     },
     "execution_count": 121,
     "metadata": {},
     "output_type": "execute_result"
    }
   ],
   "source": [
    "data_cov_mean.shape, data_pre_cov_mean.shape, data_post_cov_mean.shape"
   ]
  },
  {
   "cell_type": "code",
   "execution_count": 146,
   "metadata": {},
   "outputs": [
    {
     "data": {
      "text/plain": [
       "((64,), (64, 64), (64, 1), (64, 65))"
      ]
     },
     "execution_count": 146,
     "metadata": {},
     "output_type": "execute_result"
    }
   ],
   "source": [
    "# Perform eigenvalue decomposition, \n",
    "# order the PCs and the eigenvalues in descending order, \n",
    "# and proceed to answer the questions.\n",
    "w, v = np.linalg.eig(a=data_cov_mean)\n",
    "w.shape, v.shape, w.reshape(-1, 1).shape, np.hstack(tup=(w.reshape(-1, 1), v)).shape\n",
    "# wv = np.column_stack(tup=(w, v))\n",
    "# w.shape, v.shape, np.array([w, v]).shape\n",
    "# sorted(wv[:, 0], reverse=True)"
   ]
  },
  {
   "cell_type": "code",
   "execution_count": 163,
   "metadata": {},
   "outputs": [
    {
     "data": {
      "text/plain": [
       "((64, 64), dtype('float64'))"
      ]
     },
     "execution_count": 163,
     "metadata": {},
     "output_type": "execute_result"
    }
   ],
   "source": [
    "# create a dict for sorting the eigen vevctors based eigen values\n",
    "w_to_v =  {w: v for w, v in zip(w, v)} # output is a dictionary {}\n",
    "w_sorted = sorted(w, reverse=True) # output is a list for python data structure []\n",
    "\n",
    "# Getting the sorted eigenvector according to eigvalues\n",
    "# w_to_v[w_sorted[0]]\n",
    "v_sorted = []\n",
    "for each_w in w_sorted:\n",
    "    v_sorted.append(w_to_v[each_w])\n",
    "\n",
    "v_sorted = np.array(v_sorted, dtype=float)\n",
    "v_sorted.shape, v_sorted.dtype"
   ]
  },
  {
   "cell_type": "code",
   "execution_count": 166,
   "metadata": {},
   "outputs": [
    {
     "data": {
      "image/png": "[encoded data removed]",
      "text/plain": [
       "<matplotlib.figure.Figure at 0x7fae9f8f8da0>"
      ]
     },
     "metadata": {},
     "output_type": "display_data"
    }
   ],
   "source": [
    "import matplotlib.pyplot as mplot\n",
    "\n",
    "mplot.imshow(X=v_sorted)\n",
    "mplot.show()"
   ]
  },
  {
   "cell_type": "markdown",
   "metadata": {},
   "source": [
    "b) Plot topographical maps and time courses of the first four components. \n",
    "\n",
    "To construct the PCA time courses, multiply the PCA weights defined by the pre- and post-trial time windows with the electrode time courses from the entire trial. \n",
    "\n",
    "Do you notice any differences in the topographical maps or time courses from before versus after stimulus onset? \n",
    "\n",
    "How would you interpret differences and/or similarities?\n",
    "\n",
    "Note: Make the colormaps in ‘jet’ format and keep the color limit for the topoplots for both\n",
    "conditions (i.e. pre- and post-stimulus) the same"
   ]
  },
  {
   "cell_type": "code",
   "execution_count": null,
   "metadata": {
    "collapsed": true
   },
   "outputs": [],
   "source": []
  }
 ],
 "metadata": {
  "kernelspec": {
   "display_name": "Python 3",
   "language": "python",
   "name": "python3"
  },
  "language_info": {
   "codemirror_mode": {
    "name": "ipython",
    "version": 3
   },
   "file_extension": ".py",
   "mimetype": "text/x-python",
   "name": "python",
   "nbconvert_exporter": "python",
   "pygments_lexer": "ipython3",
   "version": "3.6.1"
  }
 },
 "nbformat": 4,
 "nbformat_minor": 2
}
