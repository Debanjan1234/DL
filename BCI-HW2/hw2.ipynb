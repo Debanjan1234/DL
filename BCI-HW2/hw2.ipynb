{
 "cells": [
  {
   "cell_type": "markdown",
   "metadata": {},
   "source": [
    "# Brain-Computer Interfaces (Fall 2017, ELE 594)\n",
    "# Instructor: Yalda Shahriari\n",
    "# 2nd homework, 10/8/17 (The homework, is due by Oct 18th\n",
    "# , 11:55 pm).\n",
    "# Instruction: All the data instructions are the same as homework 1.\n",
    "# 1-"
   ]
  },
  {
   "cell_type": "markdown",
   "metadata": {},
   "source": [
    "a) Perform PCA on broadband data using two time windows, one before and one after trial onset\n",
    "(e.g., - 500 to 0 ms and 100 to 600 ms).\n",
    "\n",
    "Hint: Separate the requested epochs from the EEG data (e.g. [-500 0ms]). \n",
    "\n",
    "Center the data by subtracting the mean of each epoch. \n",
    "\n",
    "For each trial obtain the sample covariance matrix (refer to the lecture notes). \n",
    "\n",
    "Get the average of the covariances over all the trials. \n",
    "\n",
    "Perform eigenvalue decomposition, order the PCs and the eigenvalues in descending order, and proceed to answer the questions."
   ]
  },
  {
   "cell_type": "code",
   "execution_count": 7,
   "metadata": {},
   "outputs": [],
   "source": [
    "import scipy.io as spio\n",
    "\n",
    "sampleEEGdata = spio.loadmat(file_name='../BCI-HW1/sampleEEGdata.mat')"
   ]
  },
  {
   "cell_type": "code",
   "execution_count": 9,
   "metadata": {},
   "outputs": [
    {
     "data": {
      "text/plain": [
       "dict_keys(['__header__', '__globals__', 'EEG', '__version__'])"
      ]
     },
     "execution_count": 9,
     "metadata": {},
     "output_type": "execute_result"
    }
   ],
   "source": [
    "sampleEEGdata.keys()"
   ]
  },
  {
   "cell_type": "code",
   "execution_count": 11,
   "metadata": {},
   "outputs": [
    {
     "data": {
      "text/plain": [
       "(1, 1)"
      ]
     },
     "execution_count": 11,
     "metadata": {},
     "output_type": "execute_result"
    }
   ],
   "source": [
    "sampleEEGdata['EEG'].shape"
   ]
  },
  {
   "cell_type": "code",
   "execution_count": 13,
   "metadata": {},
   "outputs": [
    {
     "data": {
      "text/plain": [
       "dtype([('setname', 'O'), ('filename', 'O'), ('filepath', 'O'), ('subject', 'O'), ('group', 'O'), ('condition', 'O'), ('session', 'O'), ('comments', 'O'), ('nbchan', 'O'), ('trials', 'O'), ('pnts', 'O'), ('srate', 'O'), ('xmin', 'O'), ('xmax', 'O'), ('times', 'O'), ('data', 'O'), ('icaact', 'O'), ('icawinv', 'O'), ('icasphere', 'O'), ('icaweights', 'O'), ('icachansind', 'O'), ('chanlocs', 'O'), ('urchanlocs', 'O'), ('chaninfo', 'O'), ('ref', 'O'), ('event', 'O'), ('urevent', 'O'), ('eventdescription', 'O'), ('epoch', 'O'), ('epochdescription', 'O'), ('reject', 'O'), ('stats', 'O'), ('specdata', 'O'), ('specicaact', 'O'), ('splinefile', 'O'), ('icasplinefile', 'O'), ('dipfit', 'O'), ('history', 'O'), ('saved', 'O'), ('etc', 'O'), ('spedata', 'O')])"
      ]
     },
     "execution_count": 13,
     "metadata": {},
     "output_type": "execute_result"
    }
   ],
   "source": [
    "sampleEEGdata['EEG'][0, 0].dtype"
   ]
  },
  {
   "cell_type": "code",
   "execution_count": 14,
   "metadata": {},
   "outputs": [
    {
     "data": {
      "text/plain": [
       "(64, 640, 99)"
      ]
     },
     "execution_count": 14,
     "metadata": {},
     "output_type": "execute_result"
    }
   ],
   "source": [
    "sampleEEGdata['EEG'][0, 0]['data'].shape"
   ]
  },
  {
   "cell_type": "code",
   "execution_count": 16,
   "metadata": {
    "collapsed": true
   },
   "outputs": [],
   "source": [
    "data = sampleEEGdata['EEG'][0, 0]['data']\n",
    "srate = sampleEEGdata['EEG'][0, 0]['srate']"
   ]
  },
  {
   "cell_type": "markdown",
   "metadata": {},
   "source": [
    "b) Plot topographical maps and time courses of the first four components. \n",
    "\n",
    "To construct the PCA time courses, multiply the PCA weights defined by the pre- and post-trial time windows with the electrode time courses from the entire trial. \n",
    "\n",
    "Do you notice any differences in the topographical maps or time courses from before versus after stimulus onset? \n",
    "\n",
    "How would you interpret differences and/or similarities?\n",
    "\n",
    "Note: Make the colormaps in ‘jet’ format and keep the color limit for the topoplots for both\n",
    "conditions (i.e. pre- and post-stimulus) the same"
   ]
  },
  {
   "cell_type": "code",
   "execution_count": null,
   "metadata": {
    "collapsed": true
   },
   "outputs": [],
   "source": []
  }
 ],
 "metadata": {
  "kernelspec": {
   "display_name": "Python 3",
   "language": "python",
   "name": "python3"
  },
  "language_info": {
   "codemirror_mode": {
    "name": "ipython",
    "version": 3
   },
   "file_extension": ".py",
   "mimetype": "text/x-python",
   "name": "python",
   "nbconvert_exporter": "python",
   "pygments_lexer": "ipython3",
   "version": "3.5.1"
  }
 },
 "nbformat": 4,
 "nbformat_minor": 2
}
