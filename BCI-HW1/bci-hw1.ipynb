{
 "cells": [
  {
   "cell_type": "markdown",
   "metadata": {},
   "source": [
    "# BCI homework"
   ]
  },
  {
   "cell_type": "markdown",
   "metadata": {},
   "source": [
    "# Brain-Computer Interfaces (Fall 2017, ELE 594)\n",
    "# Instructor: Yalda Shahriari"
   ]
  },
  {
   "cell_type": "markdown",
   "metadata": {},
   "source": [
    "# 1st homework, 9/23/17 (The homework, is due by Oct 4, 11:55 pm)."
   ]
  },
  {
   "cell_type": "markdown",
   "metadata": {},
   "source": [
    "# Instruction: \n",
    "Load the “sampleEEGdata” into your Matlab workspace. \n",
    "This EEG dataset contains 64 channels (EEG.nbchan), 640 time points (EEG.pnts), and 99 trials (EEG.trials). \n",
    "The time points in ms has been saved in EEG.times where you can see each trial has been started \n",
    "from -1000 ms and ends at ~1500 ms. \n",
    "Use the topoplot.m function for plotting the head plots. \n",
    "Save the ‘eloc64C2.txt’ file in the same directory as the topoplot.m function for further analysis. "
   ]
  },
  {
   "cell_type": "code",
   "execution_count": 25,
   "metadata": {
    "collapsed": true
   },
   "outputs": [],
   "source": [
    "# Here are the functions, \n",
    "# which reconstructs the dictionaries just use this loadmat instead of scipy.io's loadmat:\n",
    "\n",
    "import scipy.io as spio\n",
    "import numpy as np\n",
    "\n",
    "def loadmat(filename):\n",
    "    '''\n",
    "    this function should be called instead of direct spio.loadmat\n",
    "    as it cures the problem of not properly recovering python dictionaries\n",
    "    from mat files. It calls the function check keys to cure all entries\n",
    "    which are still mat-objects\n",
    "    '''\n",
    "    data = spio.loadmat(filename, struct_as_record=False, squeeze_me=True)\n",
    "    return _check_keys(data)\n",
    "\n",
    "def _check_keys(dict):\n",
    "    '''\n",
    "    checks if entries in dictionary are mat-objects. If yes\n",
    "    todict is called to change them to nested dictionaries\n",
    "    '''\n",
    "    for key in dict:\n",
    "        if isinstance(dict[key], spio.matlab.mio5_params.mat_struct):\n",
    "            dict[key] = _todict(dict[key])\n",
    "    return dict        \n",
    "\n",
    "def _todict(matobj):\n",
    "    '''\n",
    "    A recursive function which constructs from matobjects nested dictionaries\n",
    "    '''\n",
    "    dict = {}\n",
    "    for strg in matobj._fieldnames:\n",
    "        elem = matobj.__dict__[strg]\n",
    "        if isinstance(elem, spio.matlab.mio5_params.mat_struct):\n",
    "            dict[strg] = _todict(elem)\n",
    "        else:\n",
    "            dict[strg] = elem\n",
    "    return dict"
   ]
  },
  {
   "cell_type": "code",
   "execution_count": 26,
   "metadata": {},
   "outputs": [
    {
     "data": {
      "text/plain": [
       "dict_keys(['etc', 'condition', 'trials', 'group', 'chanlocs', 'urchanlocs', 'event', 'saved', 'comments', 'icawinv', 'data', 'subject', 'chaninfo', 'reject', 'setname', 'srate', 'history', 'stats', 'pnts', 'filename', 'nbchan', 'epoch', 'urevent', 'dipfit', 'icasplinefile', 'icasphere', 'splinefile', 'xmax', 'specicaact', 'epochdescription', 'filepath', 'times', 'specdata', 'icaweights', 'spedata', 'icaact', 'ref', 'eventdescription', 'icachansind', 'session', 'xmin'])"
      ]
     },
     "execution_count": 26,
     "metadata": {},
     "output_type": "execute_result"
    }
   ],
   "source": [
    "# Load the “sampleEEGdata” into your Matlab workspace. \n",
    "data = loadmat(filename='sampleEEGdata')\n",
    "data['EEG'].keys()"
   ]
  },
  {
   "cell_type": "code",
   "execution_count": 27,
   "metadata": {},
   "outputs": [
    {
     "data": {
      "text/plain": [
       "(64, 640, 99)"
      ]
     },
     "execution_count": 27,
     "metadata": {},
     "output_type": "execute_result"
    }
   ],
   "source": [
    "# This EEG dataset contains 64 channels (EEG.nbchan), 640 time points (EEG.pnts), and 99 trials (EEG.trials). \n",
    "eeg = data['EEG']\n",
    "eeg['nbchan'], eeg['pnts'], eeg['trials']"
   ]
  },
  {
   "cell_type": "code",
   "execution_count": 28,
   "metadata": {},
   "outputs": [
    {
     "data": {
      "text/plain": [
       "(256.0, 256)"
      ]
     },
     "execution_count": 28,
     "metadata": {},
     "output_type": "execute_result"
    }
   ],
   "source": [
    "# The time points in ms has been saved in EEG.times where you can see each trial has been started \n",
    "# from -1000 ms and ends at ~1500 ms.\n",
    "eeg['times'].shape\n",
    "t_start = -1000 # ms: milisecond\n",
    "t_end = 1500 # ms\n",
    "t_duration = t_end - t_start\n",
    "sfreq = (eeg['times'].shape[0]/t_duration) * 1000\n",
    "sfreq, eeg['srate']"
   ]
  },
  {
   "cell_type": "code",
   "execution_count": 51,
   "metadata": {
    "scrolled": true
   },
   "outputs": [
    {
     "data": {
      "text/plain": [
       "{'disprej': array([], dtype=float64),\n",
       " 'gcompreject': array([], dtype=float64),\n",
       " 'icarejconst': array([], dtype=float64),\n",
       " 'icarejconstE': array([], dtype=float64),\n",
       " 'icarejfreq': array([], dtype=float64),\n",
       " 'icarejfreqE': array([], dtype=float64),\n",
       " 'icarejjp': array([], dtype=float64),\n",
       " 'icarejjpE': array([], dtype=float64),\n",
       " 'icarejkurt': array([], dtype=float64),\n",
       " 'icarejkurtE': array([], dtype=float64),\n",
       " 'icarejmanual': array([], dtype=float64),\n",
       " 'icarejmanualE': array([], dtype=float64),\n",
       " 'icarejthresh': array([], dtype=float64),\n",
       " 'icarejthreshE': array([], dtype=float64),\n",
       " 'rejconst': array([], dtype=float64),\n",
       " 'rejconstE': array([], dtype=float64),\n",
       " 'rejconstcol': array([ 0.694 ,  1.    ,  0.7008]),\n",
       " 'rejfreq': array([], dtype=float64),\n",
       " 'rejfreqE': array([], dtype=float64),\n",
       " 'rejfreqcol': array([ 0.9596,  0.7193,  1.    ]),\n",
       " 'rejglobal': array([], dtype=float64),\n",
       " 'rejglobalE': array([], dtype=float64),\n",
       " 'rejjp': array([], dtype=float64),\n",
       " 'rejjpE': array([], dtype=float64),\n",
       " 'rejjpcol': array([ 1.    ,  0.6991,  0.7537]),\n",
       " 'rejkurt': array([], dtype=float64),\n",
       " 'rejkurtE': array([], dtype=float64),\n",
       " 'rejkurtcol': array([ 0.688 ,  0.7042,  1.    ]),\n",
       " 'rejmanual': array([], dtype=float64),\n",
       " 'rejmanualE': array([], dtype=float64),\n",
       " 'rejmanualcol': array([ 1.   ,  1.   ,  0.783]),\n",
       " 'rejthresh': array([], dtype=float64),\n",
       " 'rejthreshE': array([], dtype=float64),\n",
       " 'rejthreshcol': array([ 0.8487,  1.    ,  0.5008]),\n",
       " 'threshentropy': 600,\n",
       " 'threshkurtact': 600,\n",
       " 'threshkurtdist': 600,\n",
       " 'threshold': array([ 0.8,  0.8,  0.8])}"
      ]
     },
     "execution_count": 51,
     "metadata": {},
     "output_type": "execute_result"
    }
   ],
   "source": [
    "# Use the topoplot.m function for plotting the head plots.\n",
    "eeg.keys()\n",
    "# inst = eeg['epoch'][0]\n",
    "# eeg['urchanlocs'] # empty array\n",
    "# eeg['splinefile'] # empty array\n",
    "# len(eeg['epoch']) # number of trials\n",
    "# _todict(eeg['epoch'][98]) # events\n",
    "# eeg['dipfit'] # empty array\n",
    "# eeg['etc'].keys() # ICA info\n",
    "# eeg['etc']['icasphere_beforerms'].shape # ICA\n",
    "# len(eeg['chanlocs']) # number of channels for channel locations\n",
    "# _todict(eeg['chanlocs'][0])\n",
    "# eeg['filename'] # empty array\n",
    "# eeg['xmin'] #you can see each trial has been started from -1000 ms and ends at ~1500 ms.\n",
    "# eeg['filepath'] # an empty array\n",
    "# eeg['setname'] # 'EGG sample dataset' as the name of this\n",
    "# eeg['subject'] # an empty array\n",
    "# eeg['specicaact'] # an empty array\n",
    "# eeg['specicaact'] # an empty array\n",
    "# eeg['icachansind'] # an empty array\n",
    "# eeg['times'].shape # num_times\n",
    "# eeg['icaweights'] # an empty array\n",
    "# len(eeg['urevent']) # 3009\n",
    "# _todict(eeg['urevent'][0]) # {'duration': 17, 'latency': 2150.25, 'type': 5}\n",
    "# eeg['icaact'] # an empty array\n",
    "# eeg['srate'] # sampling rate\n",
    "# eeg['specdata'] # an empty array\n",
    "# eeg['trials'] # 99 the same as number of epochs\n",
    "# eeg['icawinv'] # an empty array\n",
    "# eeg['comments'] \n",
    "# #array(['Parent dataset: 15june2                                        ',\n",
    "#        '                                                               ',\n",
    "#        'Parent dataset \"15june2\": ----------                           ',\n",
    "#        'Original file: /Users/mcohen1/Desktop/simondata/raw/15june2.bdf'], \n",
    "#       dtype='<U63')\n",
    "# eeg['eventdescription'] # empty arrays\n",
    "# eeg['session'] # an empty array\n",
    "# eeg['stats'] # empty arrays\n",
    "# eeg['history'] \n",
    "# #\"\\npop_eegplot( EEG, 1, 1, 1);\\nEEG.setname='TheNewWave';\n",
    "# # \\nEEG = pop_rejepoch( EEG, find(EEG.reject.rejglobal), 0);\n",
    "# # \\nEEG = eeg_checkset( EEG );\"\n",
    "# eeg['pnts'] # 640 is the number points or time points in each channel\n",
    "# eeg['data'].shape # (64, 640, 99): channels, time, trials\n",
    "# eeg['ref'] #array([-67, -68], dtype=int16)\n",
    "# len(eeg['event']) # 311 events\n",
    "# _todict(eeg['event'][0]) #{'duration': 16, 'epoch': 1, 'latency': 0.375, 'type': 2, 'urevent': 58}\n",
    "# eeg['chaninfo']\n",
    "# {'filename': '/Users/mcohen1/Documents/MATLAB/eeglab/plugins/dipfit2.2/standard_BESA/standard-10-5-cap385.elp',\n",
    "#  'icachansind': array([], dtype=float64),\n",
    "#  'nosedir': '+X',\n",
    "#  'plotrad': array([], dtype=float64),\n",
    "#  'shrink': array([], dtype=float64)}\n",
    "# eeg['group'] # empty array\n",
    "# eeg['epochdescription'] # empty array\n",
    "# eeg['saved'] # no\n",
    "# eeg['condition'] # empty arrays\n",
    "# eeg['spedata'] # empty array\n",
    "# eeg['icasplinefile'] # empty array\n",
    "# eeg['icasphere'] # empty array\n",
    "eeg['reject'] # lot of empty arrays and some info\n",
    "# eeg['xmax'] # t_max = 1500 ms\n",
    "# eeg['nbchan'] # 64 number of channels"
   ]
  },
  {
   "cell_type": "code",
   "execution_count": 50,
   "metadata": {},
   "outputs": [
    {
     "data": {
      "text/plain": [
       "{'duration': 17, 'latency': 3105.875, 'type': 5}"
      ]
     },
     "execution_count": 50,
     "metadata": {},
     "output_type": "execute_result"
    }
   ],
   "source": [
    "# len(eeg['epoch']) # number of trials\n",
    "_todict(eeg['epoch'][0]) # events\n",
    "# eeg['etc'].keys() # ICA info\n",
    "# eeg['etc']['icasphere_beforerms'].shape # ICA\n",
    "# len(eeg['chanlocs']) # number of channels for channel locations\n",
    "# _todict(eeg['chanlocs'][0])\n",
    "# eeg['xmin'] #you can see each trial has been started from -1000 ms and ends at ~1500 ms.\n",
    "# eeg['times'].shape # num_times\n",
    "# len(eeg['urevent']) # 3009\n",
    "_todict(eeg['urevent'][3]) # {'duration': 17, 'latency': 2150.25, 'type': 5}\n",
    "# eeg['srate'] # sampling rate\n",
    "# eeg['trials'] # 99 the same as number of epochs\n",
    "# eeg['pnts'] # 640 is the number points or time points in each channel\n",
    "# eeg['data'].shape # (64, 640, 99): channels, time, trials\n",
    "# eeg['ref'] #array([-67, -68], dtype=int16)\n",
    "# len(eeg['event']) # 311 events\n",
    "# _todict(eeg['event'][2]) #{'duration': 16, 'epoch': 1, 'latency': 0.375, 'type': 2, 'urevent': 58}\n",
    "# eeg['xmax'] # t_max = 1500 ms\n",
    "# eeg['nbchan'] # 64 number of channels"
   ]
  },
  {
   "cell_type": "code",
   "execution_count": 31,
   "metadata": {},
   "outputs": [
    {
     "data": {
      "text/plain": [
       "(64, 640, 99)"
      ]
     },
     "execution_count": 31,
     "metadata": {},
     "output_type": "execute_result"
    }
   ],
   "source": [
    "# Creating mne Objects from numpy arrays\n",
    "import mne as mne\n",
    "\n",
    "# sfreq = 1000  # Sampling frequency\n",
    "# times = np.arange(0, 10, 0.001)  # Use 10000 samples (10s)\n",
    "# eeg['srate']\n",
    "\n",
    "\n",
    "# Data\n",
    "# sin = np.sin(times * 10)  # Multiplied by 10 for shorter cycles\n",
    "# cos = np.cos(times * 10)\n",
    "# sinX2 = sin * 2\n",
    "# cosX2 = cos * 2\n",
    "# # Numpy array of size 4 X 10000.\n",
    "# data = np.array([sin, cos, sinX2, cosX2])\n",
    "\n",
    "# mat = loadmat(mne.datasets.misc.data_path() + '/ecog/sample_ecog.mat')\n",
    "# ch_names = mat['ch_names'].tolist()\n",
    "# elec = mat['elec']\n",
    "# dig_ch_pos = dict(zip(ch_names, elec))\n",
    "# mon = mne.channels.DigMontage(dig_ch_pos=dig_ch_pos)\n",
    "# print('Created %s channel positions' % len(ch_names))\n",
    "labels = []\n",
    "XYZs = []\n",
    "for each in eeg['chanlocs']:\n",
    "    label = _todict(matobj=each)['labels']\n",
    "    labels.append(label)\n",
    "    X = _todict(matobj=each)['X']\n",
    "    Y = _todict(matobj=each)['Y']\n",
    "    Z = _todict(matobj=each)['Z']\n",
    "    XYZs.append(np.array([X, Y, Z], dtype=float))\n",
    "    \n",
    "# len(labels)\n",
    "XYZs = np.array(XYZs, dtype=float)\n",
    "XYZs\n",
    "ch_names = labels #mat['ch_names'].tolist()\n",
    "elec = XYZs #mat['elec']\n",
    "dig_ch_pos = dict(zip(ch_names, elec))\n",
    "mon = mne.channels.DigMontage(dig_ch_pos=dig_ch_pos)\n",
    "# mon\n",
    "\n",
    "# # # # Definition of channel types and names.\n",
    "# # # ch_types = ['mag', 'mag', 'grad', 'grad']\n",
    "# # # ch_names = ['sin', 'cos', 'sinX2', 'cosX2']\n",
    "# # len(eeg['chanlocs']) # number of channels for channel locations\n",
    "# _todict(eeg['chanlocs'][0]), \n",
    "# _todict(eeg['chanlocs'][1])\n",
    "\n",
    "# It is also possible to use info from another raw object.\n",
    "# info = mne.create_info(ch_names=ch_names, sfreq=sfreq, ch_types=ch_types)\n",
    "info = mne.create_info(ch_names=ch_names, ch_types='eeg', montage=mon, sfreq=eeg['srate'])\n",
    "# info\n",
    "\n",
    "# raw = mne.io.RawArray(data, info)\n",
    "# mne.io.RawArray(data=, first_samp=, info=, verbose=)\n",
    "data = eeg['data']\n",
    "data.shape\n",
    "# # mne.io.RawArray(data=data, info=info)\n",
    "# EpochArray\n",
    "# EvockedArray which is the average epoch array\n",
    "# mne.EpochsArray(baseline=, data=, event_id=, events=, tmin=, verbose= \n",
    "#                 flat=, info=, on_missing=, proj=, \n",
    "#                 reject=, reject_tmax=, reject_tmin=)\n",
    "# eeg['event']\n",
    "\n",
    "# # Scaling of the figure.\n",
    "# # For actual EEG/MEG data different scaling factors should be used.\n",
    "# scalings = {'mag': 2, 'grad': 2}\n",
    "\n",
    "# raw.plot(n_channels=4, scalings=scalings, title='Data from arrays',\n",
    "#          show=True, block=True)\n",
    "\n",
    "# # It is also possible to auto-compute scalings\n",
    "# scalings = 'auto'  # Could also pass a dictionary with some value == 'auto'\n",
    "# raw.plot(n_channels=4, scalings=scalings, title='Auto-scaled Data from arrays',\n",
    "#          show=True, block=True)"
   ]
  },
  {
   "cell_type": "code",
   "execution_count": 6,
   "metadata": {},
   "outputs": [
    {
     "name": "stdout",
     "output_type": "stream",
     "text": [
      "\u001b[34m.ipynb_checkpoints\u001b[m\u001b[m/             plot_decoding_csp_space.ipynb\r\n",
      "\u001b[31mChannel Description.txt\u001b[m\u001b[m*        plot_objects_from_arrays.ipynb\r\n",
      "HW1.pdf                         \u001b[31msampleEEGdata.mat\u001b[m\u001b[m*\r\n",
      "bci-hw1.ipynb                   \u001b[31mtopoplot.m\u001b[m\u001b[m*\r\n",
      "\u001b[31meloc64C2.txt\u001b[m\u001b[m*\r\n"
     ]
    }
   ],
   "source": [
    "# Save the ‘eloc64C2.txt’ file in the same directory as the topoplot.m function for further analysis.\n",
    "% ls"
   ]
  },
  {
   "cell_type": "markdown",
   "metadata": {},
   "source": [
    "# 1-"
   ]
  },
  {
   "cell_type": "code",
   "execution_count": 8,
   "metadata": {},
   "outputs": [
    {
     "data": {
      "text/plain": [
       "((64, 640, 99),\n",
       " dict_keys(['xmax', 'times', 'spedata', 'chanlocs', 'subject', 'saved', 'condition', 'icawinv', 'icachansind', 'icasphere', 'pnts', 'icasplinefile', 'eventdescription', 'srate', 'epoch', 'dipfit', 'ref', 'history', 'filename', 'event', 'urchanlocs', 'specdata', 'comments', 'reject', 'splinefile', 'session', 'urevent', 'setname', 'nbchan', 'trials', 'etc', 'chaninfo', 'data', 'epochdescription', 'stats', 'icaweights', 'xmin', 'specicaact', 'group', 'icaact', 'filepath']),\n",
       " (640,),\n",
       " 256,\n",
       " (640,))"
      ]
     },
     "execution_count": 8,
     "metadata": {},
     "output_type": "execute_result"
    }
   ],
   "source": [
    "# a) Extract epochs from 0 to 800 ms.\n",
    "eeg.keys(), eeg['epoch'].shape, eeg['epochdescription'], eeg['trials'], _todict(matobj=eeg['epoch'][0])\n",
    "eeg['data'].shape, eeg.keys(), eeg['times'].shape, eeg['srate'], eeg['times'].shape\n",
    "# eeg['srate'] * 800\n",
    "\n",
    "# Compute the ERPs at each electrode. \n",
    "\n",
    "# Get the average over all the trials. \n",
    "\n",
    "# Select nine time points at which to show topographical plots (e.g., 0 to 800 ms in 100- ms steps). \n",
    "\n",
    "# In one figure, make a series of topographical plots at these time points. \n",
    "\n",
    "# To increase the signal-to-noise ratio (SNR), make each plot show the average of activity from 20 ms before \n",
    "# until 20 ms after each time point. \n",
    "\n",
    "# For example, the topographical plot from 200 ms should show average activity from 180 ms until 220 ms. \n",
    "\n",
    "# Indicate the center time point in a title on each subplot."
   ]
  },
  {
   "cell_type": "code",
   "execution_count": null,
   "metadata": {
    "collapsed": true
   },
   "outputs": [],
   "source": [
    "# b) Loop through each electrode and find the peak time of the ERP between 100 and 800 ms.\n",
    "\n",
    "# Store these peak times in a separate variable and then make a topographical plot of the peak times\n",
    "# (that is, the topographical map will illustrate times in milliseconds, not activity at peak times).\n",
    "\n",
    "# Include a color bar in the figure and make sure to show times in milliseconds from time 0 (not, for\n",
    "# example, time indices instead of milliseconds).\n",
    "\n",
    "# What areas of the scalp show the earliest and the latest peak responses to the stimulus within this window?"
   ]
  },
  {
   "cell_type": "code",
   "execution_count": 133,
   "metadata": {
    "collapsed": true
   },
   "outputs": [],
   "source": [
    "# c) Repeat step (a) by applying large Laplacian filter.\n",
    "\n",
    "# Compare step (c) with step (a) and clearly explain your observations and comments (hint: To obtain the distance\n",
    "# and the surrounding electrodes, transfer the polar coordinates in eloc64C2.txt file into Cartesian.\n",
    "                                                                                   \n",
    "# Then for each electrode of interest keep those electrodes that are in radius [0.18 0.28], \n",
    "# remove the rest, continue obtaining your weights, and then the Laplacian filtered signal). "
   ]
  },
  {
   "cell_type": "code",
   "execution_count": null,
   "metadata": {
    "collapsed": true
   },
   "outputs": [],
   "source": [
    "# (Note: Make the colormaps in ‘jet’ format and keep the color limit for all the topoplots and for\n",
    "# each section the same)."
   ]
  },
  {
   "cell_type": "markdown",
   "metadata": {},
   "source": [
    "# 2-"
   ]
  },
  {
   "cell_type": "code",
   "execution_count": 134,
   "metadata": {
    "collapsed": true
   },
   "outputs": [],
   "source": [
    "# a) Create a family of complex Morlet wavelets, ranging in frequencies from 2 Hz to 30 Hz in five steps. \n",
    "# Consider cycle as a fix number of 4 cycle."
   ]
  },
  {
   "cell_type": "code",
   "execution_count": null,
   "metadata": {
    "collapsed": true
   },
   "outputs": [],
   "source": [
    "# b) Convolve each wavelet with EEG data from all electrodes and from only first trial \n",
    "# (hint: you can get the fft of both data and wavelet; multiply in the frequency domain, \n",
    "#  get ifft to return it back to the time domain, \n",
    "#  and then in order to make the convolved data the same length as the original data cut out the begging \n",
    "#  and the end of the convolved data with the cutting length equivalent to half of the wavelet length). "
   ]
  },
  {
   "cell_type": "code",
   "execution_count": null,
   "metadata": {
    "collapsed": true
   },
   "outputs": [],
   "source": [
    "# c) Extract power and phase from the result of the complex wavelet convolution and store in a\n",
    "# time x frequency x electrodes x power/phase matrix (thus, a 640 x 5 x 64 x 2 matrix)."
   ]
  },
  {
   "cell_type": "code",
   "execution_count": 135,
   "metadata": {
    "collapsed": true
   },
   "outputs": [],
   "source": [
    "# d) Make topographical plots of power and phase at 180 ms at all frequencies (hint: you may need\n",
    "# to use the squeeze function to remove singleton dimensions).\n",
    "\n",
    "# Arrange the plots in one figure with five columns for frequency and two rows for power/phase. \n",
    "\n",
    "# Put labels in the plot so it is clear which topographical maps correspond to which frequencies."
   ]
  },
  {
   "cell_type": "code",
   "execution_count": null,
   "metadata": {
    "collapsed": true
   },
   "outputs": [],
   "source": [
    "# e) Repeat step (d) for activity at 360 ms, and 650 ms."
   ]
  },
  {
   "cell_type": "code",
   "execution_count": 136,
   "metadata": {
    "collapsed": true
   },
   "outputs": [],
   "source": [
    "# f) Are there any prominent topographical features in power or in phase? \n",
    "\n",
    "# Do these differ for different frequencies? \n",
    "\n",
    "# Do power and phase have similar topographical distributions? \n",
    "\n",
    "# Is there any reason to suspect that they might have similar or different topographies?"
   ]
  },
  {
   "cell_type": "code",
   "execution_count": null,
   "metadata": {
    "collapsed": true
   },
   "outputs": [],
   "source": [
    "# g) (Optional) Now consider the frequency range varies between 2Hz to 30Hz in two steps.\n",
    "\n",
    "# Instead of constant cycle equivalent to 4 (what we had before), \n",
    "# consider variable cycles ranging between [3 10] cycle. \n",
    "\n",
    "# Based on your total number of frequencies, \n",
    "# you can define constant steps for your cycles where it starts from 3 cycles and ends at 10 cycles. \n",
    "\n",
    "# 3 would correspond to the minimum frequency (i.e. 2 Hz) and 10 would correspond to the maximum frequency (i.e. 30 Hz).\n",
    "\n",
    "# Considering only channel ‘FCz’, for each frequency, obtain the power for all the trials (i.e. 99).\n",
    "\n",
    "# Get the average of the powers over all the trials. \n",
    "\n",
    "# Apply baseline correction by dividing the obtained results to the average baseline power (i.e. [-500 -200 ms]). \n",
    "\n",
    "# The resulting matrix size would be 20 x 640. \n",
    "\n",
    "# Plot the time-frequency map where the x-axis is the time [-200 1000 ms], \n",
    "# y-axis is the frequency [2 30 Hz], and color corresponds to 10log10 (power). \n",
    "\n",
    "# Make the colormaps in ‘jet’ format and the color-limit to [-3 3]. \n",
    "\n",
    "# Repeat the same process with fixed cycle 4 for all the frequencies.\n",
    "\n",
    "# Compare your results between two conditions of fixed and variable cycles and explain your observations. "
   ]
  },
  {
   "cell_type": "code",
   "execution_count": null,
   "metadata": {
    "collapsed": true
   },
   "outputs": [],
   "source": []
  }
 ],
 "metadata": {
  "kernelspec": {
   "display_name": "Python 3",
   "language": "python",
   "name": "python3"
  },
  "language_info": {
   "codemirror_mode": {
    "name": "ipython",
    "version": 3
   },
   "file_extension": ".py",
   "mimetype": "text/x-python",
   "name": "python",
   "nbconvert_exporter": "python",
   "pygments_lexer": "ipython3",
   "version": "3.5.1"
  }
 },
 "nbformat": 4,
 "nbformat_minor": 2
}
