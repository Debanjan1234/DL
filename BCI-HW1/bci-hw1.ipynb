{
 "cells": [
  {
   "cell_type": "markdown",
   "metadata": {},
   "source": [
    "# BCI homework"
   ]
  },
  {
   "cell_type": "markdown",
   "metadata": {},
   "source": [
    "# Brain-Computer Interfaces (Fall 2017, ELE 594)\n",
    "# Instructor: Yalda Shahriari"
   ]
  },
  {
   "cell_type": "markdown",
   "metadata": {},
   "source": [
    "# 1st homework, 9/23/17 (The homework, is due by Oct 4, 11:55 pm)."
   ]
  },
  {
   "cell_type": "markdown",
   "metadata": {},
   "source": [
    "# Instruction: \n",
    "Load the “sampleEEGdata” into your Matlab workspace. \n",
    "This EEG dataset contains 64 channels (EEG.nbchan), 640 time points (EEG.pnts), and 99 trials (EEG.trials). \n",
    "The time points in ms has been saved in EEG.times where you can see each trial has been started \n",
    "from -1000 ms and ends at ~1500 ms. \n",
    "Use the topoplot.m function for plotting the head plots. \n",
    "Save the ‘eloc64C2.txt’ file in the same directory as the topoplot.m function for further analysis. "
   ]
  },
  {
   "cell_type": "code",
   "execution_count": 101,
   "metadata": {
    "collapsed": true
   },
   "outputs": [],
   "source": [
    "# Here are the functions, \n",
    "# which reconstructs the dictionaries just use this loadmat instead of scipy.io's loadmat:\n",
    "\n",
    "import scipy.io as spio\n",
    "import numpy as np\n",
    "\n",
    "def loadmat(filename):\n",
    "    '''\n",
    "    this function should be called instead of direct spio.loadmat\n",
    "    as it cures the problem of not properly recovering python dictionaries\n",
    "    from mat files. It calls the function check keys to cure all entries\n",
    "    which are still mat-objects\n",
    "    '''\n",
    "    data = spio.loadmat(filename, struct_as_record=False, squeeze_me=True)\n",
    "    return _check_keys(data)\n",
    "\n",
    "def _check_keys(dict):\n",
    "    '''\n",
    "    checks if entries in dictionary are mat-objects. If yes\n",
    "    todict is called to change them to nested dictionaries\n",
    "    '''\n",
    "    for key in dict:\n",
    "        if isinstance(dict[key], spio.matlab.mio5_params.mat_struct):\n",
    "            dict[key] = _todict(dict[key])\n",
    "    return dict        \n",
    "\n",
    "def _todict(matobj):\n",
    "    '''\n",
    "    A recursive function which constructs from matobjects nested dictionaries\n",
    "    '''\n",
    "    dict = {}\n",
    "    for strg in matobj._fieldnames:\n",
    "        elem = matobj.__dict__[strg]\n",
    "        if isinstance(elem, spio.matlab.mio5_params.mat_struct):\n",
    "            dict[strg] = _todict(elem)\n",
    "        else:\n",
    "            dict[strg] = elem\n",
    "    return dict"
   ]
  },
  {
   "cell_type": "code",
   "execution_count": 102,
   "metadata": {},
   "outputs": [
    {
     "data": {
      "text/plain": [
       "dict_keys(['icachansind', 'icaact', 'eventdescription', 'urevent', 'group', 'history', 'epochdescription', 'epoch', 'trials', 'icawinv', 'etc', 'chanlocs', 'condition', 'event', 'pnts', 'icasplinefile', 'ref', 'setname', 'stats', 'filepath', 'saved', 'icaweights', 'icasphere', 'splinefile', 'dipfit', 'reject', 'comments', 'specicaact', 'data', 'chaninfo', 'spedata', 'xmax', 'specdata', 'srate', 'xmin', 'times', 'session', 'subject', 'nbchan', 'urchanlocs', 'filename'])"
      ]
     },
     "execution_count": 102,
     "metadata": {},
     "output_type": "execute_result"
    }
   ],
   "source": [
    "# Load the “sampleEEGdata” into your Matlab workspace. \n",
    "data = loadmat(filename='sampleEEGdata')\n",
    "data['EEG'].keys()"
   ]
  },
  {
   "cell_type": "code",
   "execution_count": 103,
   "metadata": {},
   "outputs": [
    {
     "data": {
      "text/plain": [
       "(64, 640, 99)"
      ]
     },
     "execution_count": 103,
     "metadata": {},
     "output_type": "execute_result"
    }
   ],
   "source": [
    "# This EEG dataset contains 64 channels (EEG.nbchan), 640 time points (EEG.pnts), and 99 trials (EEG.trials). \n",
    "eeg = data['EEG']\n",
    "eeg['nbchan'], eeg['pnts'], eeg['trials']"
   ]
  },
  {
   "cell_type": "code",
   "execution_count": 104,
   "metadata": {},
   "outputs": [
    {
     "data": {
      "text/plain": [
       "(256.0, 256)"
      ]
     },
     "execution_count": 104,
     "metadata": {},
     "output_type": "execute_result"
    }
   ],
   "source": [
    "# The time points in ms has been saved in EEG.times where you can see each trial has been started \n",
    "# from -1000 ms and ends at ~1500 ms.\n",
    "eeg['times'].shape\n",
    "t_start = -1000 # ms: milisecond\n",
    "t_end = 1500 # ms\n",
    "t_duration = t_end - t_start\n",
    "sfreq = (eeg['times'].shape[0]/t_duration) * 1000\n",
    "sfreq, eeg['srate']"
   ]
  },
  {
   "cell_type": "code",
   "execution_count": 105,
   "metadata": {},
   "outputs": [
    {
     "data": {
      "text/plain": [
       "dict_keys(['icachansind', 'icaact', 'eventdescription', 'urevent', 'group', 'history', 'epochdescription', 'epoch', 'trials', 'icawinv', 'etc', 'chanlocs', 'condition', 'event', 'pnts', 'icasplinefile', 'ref', 'setname', 'stats', 'filepath', 'saved', 'icaweights', 'icasphere', 'splinefile', 'dipfit', 'reject', 'comments', 'specicaact', 'data', 'chaninfo', 'spedata', 'xmax', 'specdata', 'srate', 'xmin', 'times', 'session', 'subject', 'nbchan', 'urchanlocs', 'filename'])"
      ]
     },
     "execution_count": 105,
     "metadata": {},
     "output_type": "execute_result"
    }
   ],
   "source": [
    "# Use the topoplot.m function for plotting the head plots.\n",
    "# This one can be done using MATLAB or MNI but as suggested we can demonstrate the end results in MATLAB.\n",
    "inst = eeg['epoch'][0]\n",
    "eeg.keys(), eeg['eventdescription'], eeg['data'].shape, eeg['times'].shape, eeg['epoch'][0], _todict(inst), len(eeg['epoch'])\n",
    "eeg.keys()"
   ]
  },
  {
   "cell_type": "code",
   "execution_count": 106,
   "metadata": {},
   "outputs": [
    {
     "name": "stdout",
     "output_type": "stream",
     "text": [
      "bci-hw1.ipynb             HW1.pdf                         \u001b[0m\u001b[01;32msampleEEGdata.mat\u001b[0m*\r\n",
      "\u001b[01;32mChannel Description.txt\u001b[0m*  plot_decoding_csp_space.ipynb   \u001b[01;32mtopoplot.m\u001b[0m*\r\n",
      "\u001b[01;32meloc64C2.txt\u001b[0m*             plot_objects_from_arrays.ipynb\r\n"
     ]
    }
   ],
   "source": [
    "# Save the ‘eloc64C2.txt’ file in the same directory as the topoplot.m function for further analysis.\n",
    "% ls"
   ]
  },
  {
   "cell_type": "markdown",
   "metadata": {},
   "source": [
    "# 1-"
   ]
  },
  {
   "cell_type": "code",
   "execution_count": 132,
   "metadata": {},
   "outputs": [
    {
     "data": {
      "text/plain": [
       "204800"
      ]
     },
     "execution_count": 132,
     "metadata": {},
     "output_type": "execute_result"
    }
   ],
   "source": [
    "# a) Extract epochs from 0 to 800 ms.\n",
    "eeg.keys(), eeg['epoch'].shape, eeg['epochdescription'], eeg['trials'], _todict(matobj=eeg['epoch'][0])\n",
    "eeg['data'].shape, eeg.keys(), eeg['times'].shape, eeg['srate'], eeg['times'].shape\n",
    "\n",
    "# I need the index from 0-800 ms\n",
    "eeg['srate'] * 800\n",
    "\n",
    "# Compute the ERPs at each electrode. \n",
    "\n",
    "# Get the average over all the trials. \n",
    "\n",
    "# Select nine time points at which to show topographical plots (e.g., 0 to 800 ms in 100- ms steps). \n",
    "\n",
    "# In one figure, make a series of topographical plots at these time points. \n",
    "\n",
    "# To increase the signal-to-noise ratio (SNR), make each plot show the average of activity from 20 ms before \n",
    "# until 20 ms after each time point. \n",
    "\n",
    "# For example, the topographical plot from 200 ms should show average activity from 180 ms until 220 ms. \n",
    "\n",
    "# Indicate the center time point in a title on each subplot."
   ]
  },
  {
   "cell_type": "code",
   "execution_count": null,
   "metadata": {
    "collapsed": true
   },
   "outputs": [],
   "source": [
    "# b) Loop through each electrode and find the peak time of the ERP between 100 and 800 ms.\n",
    "\n",
    "# Store these peak times in a separate variable and then make a topographical plot of the peak times\n",
    "# (that is, the topographical map will illustrate times in milliseconds, not activity at peak times).\n",
    "\n",
    "# Include a color bar in the figure and make sure to show times in milliseconds from time 0 (not, for\n",
    "# example, time indices instead of milliseconds).\n",
    "\n",
    "# What areas of the scalp show the earliest and the latest peak responses to the stimulus within this window?"
   ]
  },
  {
   "cell_type": "code",
   "execution_count": 133,
   "metadata": {
    "collapsed": true
   },
   "outputs": [],
   "source": [
    "# c) Repeat step (a) by applying large Laplacian filter.\n",
    "\n",
    "# Compare step (c) with step (a) and clearly explain your observations and comments (hint: To obtain the distance\n",
    "# and the surrounding electrodes, transfer the polar coordinates in eloc64C2.txt file into Cartesian.\n",
    "                                                                                   \n",
    "# Then for each electrode of interest keep those electrodes that are in radius [0.18 0.28], \n",
    "# remove the rest, continue obtaining your weights, and then the Laplacian filtered signal). "
   ]
  },
  {
   "cell_type": "code",
   "execution_count": null,
   "metadata": {
    "collapsed": true
   },
   "outputs": [],
   "source": [
    "# (Note: Make the colormaps in ‘jet’ format and keep the color limit for all the topoplots and for\n",
    "# each section the same)."
   ]
  },
  {
   "cell_type": "markdown",
   "metadata": {},
   "source": [
    "# 2-"
   ]
  },
  {
   "cell_type": "code",
   "execution_count": 134,
   "metadata": {
    "collapsed": true
   },
   "outputs": [],
   "source": [
    "# a) Create a family of complex Morlet wavelets, ranging in frequencies from 2 Hz to 30 Hz in five steps. \n",
    "# Consider cycle as a fix number of 4 cycle."
   ]
  },
  {
   "cell_type": "code",
   "execution_count": null,
   "metadata": {
    "collapsed": true
   },
   "outputs": [],
   "source": [
    "# b) Convolve each wavelet with EEG data from all electrodes and from only first trial \n",
    "# (hint: you can get the fft of both data and wavelet; multiply in the frequency domain, \n",
    "#  get ifft to return it back to the time domain, \n",
    "#  and then in order to make the convolved data the same length as the original data cut out the begging \n",
    "#  and the end of the convolved data with the cutting length equivalent to half of the wavelet length). "
   ]
  },
  {
   "cell_type": "code",
   "execution_count": null,
   "metadata": {
    "collapsed": true
   },
   "outputs": [],
   "source": [
    "# c) Extract power and phase from the result of the complex wavelet convolution and store in a\n",
    "# time x frequency x electrodes x power/phase matrix (thus, a 640 x 5 x 64 x 2 matrix)."
   ]
  },
  {
   "cell_type": "code",
   "execution_count": 135,
   "metadata": {
    "collapsed": true
   },
   "outputs": [],
   "source": [
    "# d) Make topographical plots of power and phase at 180 ms at all frequencies (hint: you may need\n",
    "# to use the squeeze function to remove singleton dimensions).\n",
    "\n",
    "# Arrange the plots in one figure with five columns for frequency and two rows for power/phase. \n",
    "\n",
    "# Put labels in the plot so it is clear which topographical maps correspond to which frequencies."
   ]
  },
  {
   "cell_type": "code",
   "execution_count": null,
   "metadata": {
    "collapsed": true
   },
   "outputs": [],
   "source": [
    "# e) Repeat step (d) for activity at 360 ms, and 650 ms."
   ]
  },
  {
   "cell_type": "code",
   "execution_count": 136,
   "metadata": {
    "collapsed": true
   },
   "outputs": [],
   "source": [
    "# f) Are there any prominent topographical features in power or in phase? \n",
    "\n",
    "# Do these differ for different frequencies? \n",
    "\n",
    "# Do power and phase have similar topographical distributions? \n",
    "\n",
    "# Is there any reason to suspect that they might have similar or different topographies?"
   ]
  },
  {
   "cell_type": "code",
   "execution_count": null,
   "metadata": {
    "collapsed": true
   },
   "outputs": [],
   "source": [
    "# g) (Optional) Now consider the frequency range varies between 2Hz to 30Hz in two steps.\n",
    "\n",
    "# Instead of constant cycle equivalent to 4 (what we had before), \n",
    "# consider variable cycles ranging between [3 10] cycle. \n",
    "\n",
    "# Based on your total number of frequencies, \n",
    "# you can define constant steps for your cycles where it starts from 3 cycles and ends at 10 cycles. \n",
    "\n",
    "# 3 would correspond to the minimum frequency (i.e. 2 Hz) and 10 would correspond to the maximum frequency (i.e. 30 Hz).\n",
    "\n",
    "# Considering only channel ‘FCz’, for each frequency, obtain the power for all the trials (i.e. 99).\n",
    "\n",
    "# Get the average of the powers over all the trials. \n",
    "\n",
    "# Apply baseline correction by dividing the obtained results to the average baseline power (i.e. [-500 -200 ms]). \n",
    "\n",
    "# The resulting matrix size would be 20 x 640. \n",
    "\n",
    "# Plot the time-frequency map where the x-axis is the time [-200 1000 ms], \n",
    "# y-axis is the frequency [2 30 Hz], and color corresponds to 10log10 (power). \n",
    "\n",
    "# Make the colormaps in ‘jet’ format and the color-limit to [-3 3]. \n",
    "\n",
    "# Repeat the same process with fixed cycle 4 for all the frequencies.\n",
    "\n",
    "# Compare your results between two conditions of fixed and variable cycles and explain your observations. "
   ]
  },
  {
   "cell_type": "code",
   "execution_count": null,
   "metadata": {
    "collapsed": true
   },
   "outputs": [],
   "source": []
  }
 ],
 "metadata": {
  "kernelspec": {
   "display_name": "Python 3",
   "language": "python",
   "name": "python3"
  },
  "language_info": {
   "codemirror_mode": {
    "name": "ipython",
    "version": 3
   },
   "file_extension": ".py",
   "mimetype": "text/x-python",
   "name": "python",
   "nbconvert_exporter": "python",
   "pygments_lexer": "ipython3",
   "version": "3.5.1"
  }
 },
 "nbformat": 4,
 "nbformat_minor": 2
}
