{
 "cells": [
  {
   "cell_type": "markdown",
   "metadata": {
    "collapsed": true,
    "deletable": true,
    "editable": true
   },
   "source": [
    "# Image Classification\n",
    "In this project, you'll classify images from the [CIFAR-10 dataset](https://www.cs.toronto.edu/~kriz/cifar.html).  The dataset consists of airplanes, dogs, cats, and other objects. You'll preprocess the images, then train a convolutional neural network on all the samples. The images need to be normalized and the labels need to be one-hot encoded.  You'll get to apply what you learned and build a convolutional, max pooling, dropout, and fully connected layers.  At the end, you'll get to see your neural network's predictions on the sample images.\n",
    "## Get the Data\n",
    "Run the following cell to download the [CIFAR-10 dataset for python](https://www.cs.toronto.edu/~kriz/cifar-10-python.tar.gz)."
   ]
  },
  {
   "cell_type": "code",
   "execution_count": 1,
   "metadata": {
    "collapsed": false,
    "deletable": true,
    "editable": true
   },
   "outputs": [
    {
     "name": "stdout",
     "output_type": "stream",
     "text": [
      "All files found!\n"
     ]
    }
   ],
   "source": [
    "\"\"\"\n",
    "DON'T MODIFY ANYTHING IN THIS CELL THAT IS BELOW THIS LINE\n",
    "\"\"\"\n",
    "from urllib.request import urlretrieve\n",
    "from os.path import isfile, isdir\n",
    "from tqdm import tqdm\n",
    "import problem_unittests as tests\n",
    "import tarfile\n",
    "\n",
    "cifar10_dataset_folder_path = 'cifar-10-batches-py'\n",
    "\n",
    "class DLProgress(tqdm):\n",
    "    last_block = 0\n",
    "\n",
    "    def hook(self, block_num=1, block_size=1, total_size=None):\n",
    "        self.total = total_size\n",
    "        self.update((block_num - self.last_block) * block_size)\n",
    "        self.last_block = block_num\n",
    "\n",
    "if not isfile('cifar-10-python.tar.gz'):\n",
    "    with DLProgress(unit='B', unit_scale=True, miniters=1, desc='CIFAR-10 Dataset') as pbar:\n",
    "        urlretrieve(\n",
    "            'https://www.cs.toronto.edu/~kriz/cifar-10-python.tar.gz',\n",
    "            'cifar-10-python.tar.gz',\n",
    "            pbar.hook)\n",
    "\n",
    "if not isdir(cifar10_dataset_folder_path):\n",
    "    with tarfile.open('cifar-10-python.tar.gz') as tar:\n",
    "        tar.extractall()\n",
    "        tar.close()\n",
    "\n",
    "\n",
    "tests.test_folder_path(cifar10_dataset_folder_path)"
   ]
  },
  {
   "cell_type": "markdown",
   "metadata": {
    "deletable": true,
    "editable": true
   },
   "source": [
    "## Explore the Data\n",
    "The dataset is broken into batches to prevent your machine from running out of memory.  The CIFAR-10 dataset consists of 5 batches, named `data_batch_1`, `data_batch_2`, etc.. Each batch contains the labels and images that are one of the following:\n",
    "* airplane 1\n",
    "* automobile 2\n",
    "* bird 3\n",
    "* cat 4\n",
    "* deer 5\n",
    "* dog 6\n",
    "* frog 7\n",
    "* horse 8\n",
    "* ship 9\n",
    "* truck 10\n",
    "\n",
    "* Total 10 classes (Aras changed above/this section a bit)\n",
    "\n",
    "Understanding a dataset is part of making predictions on the data.  Play around with the code cell below by changing the `batch_id` and `sample_id`. The `batch_id` is the id for a batch (1-5). The `sample_id` is the id for a image and label pair in the batch.\n",
    "\n",
    "Ask yourself \"What are all possible labels?\", \"What is the range of values for the image data?\", \"Are the labels in order or random?\".  Answers to questions like these will help you preprocess the data and end up with better predictions."
   ]
  },
  {
   "cell_type": "code",
   "execution_count": 2,
   "metadata": {
    "collapsed": false,
    "deletable": true,
    "editable": true
   },
   "outputs": [
    {
     "name": "stdout",
     "output_type": "stream",
     "text": [
      "\n",
      "Stats of batch 1:\n",
      "Samples: 10000\n",
      "Label Counts: {0: 1005, 1: 974, 2: 1032, 3: 1016, 4: 999, 5: 937, 6: 1030, 7: 1001, 8: 1025, 9: 981}\n",
      "First 20 Labels: [6, 9, 9, 4, 1, 1, 2, 7, 8, 3, 4, 7, 7, 2, 9, 9, 9, 3, 2, 6]\n",
      "\n",
      "Example of Image 5:\n",
      "Image - Min Value: 0 Max Value: 252\n",
      "Image - Shape: (32, 32, 3)\n",
      "Label - Label Id: 1 Name: automobile\n"
     ]
    },
    {
     "data": {
      "image/png": "[encoded data removed]",
      "text/plain": [
       "<matplotlib.figure.Figure at 0x1154893c8>"
      ]
     },
     "metadata": {
      "image/png": {
       "height": 250,
       "width": 253
      }
     },
     "output_type": "display_data"
    }
   ],
   "source": [
    "%matplotlib inline\n",
    "%config InlineBackend.figure_format = 'retina'\n",
    "\n",
    "import helper\n",
    "import numpy as np\n",
    "\n",
    "# Explore the dataset\n",
    "batch_id = 1\n",
    "sample_id = 5\n",
    "helper.display_stats(cifar10_dataset_folder_path, batch_id, sample_id)"
   ]
  },
  {
   "cell_type": "markdown",
   "metadata": {
    "deletable": true,
    "editable": true
   },
   "source": [
    "## Implement Preprocess Functions\n",
    "### Normalize\n",
    "In the cell below, implement the `normalize` function to take in image data, `x`, and return it as a normalized Numpy array. The values should be in the range of 0 to 1, inclusive.  The return object should be the same shape as `x`."
   ]
  },
  {
   "cell_type": "code",
   "execution_count": 3,
   "metadata": {
    "collapsed": false,
    "deletable": true,
    "editable": true
   },
   "outputs": [
    {
     "name": "stdout",
     "output_type": "stream",
     "text": [
      "Tests Passed\n"
     ]
    }
   ],
   "source": [
    "def normalize(x):\n",
    "    \"\"\"\n",
    "    Normalize a list of sample image data in the range of 0 to 1\n",
    "    : x: List of image data.  The image shape is (32, 32, 3)\n",
    "    : return: Numpy array of normalize data\n",
    "    \"\"\"\n",
    "    # TODO: Implement Function\n",
    "    ## image data shape = [t, i,j,k], t= num_img_per_batch (basically the list of images), i,j,k=height,width, and depth/channel\n",
    "    return x/255\n",
    "\n",
    "\n",
    "\"\"\"\n",
    "DON'T MODIFY ANYTHING IN THIS CELL THAT IS BELOW THIS LINE\n",
    "\"\"\"\n",
    "tests.test_normalize(normalize)"
   ]
  },
  {
   "cell_type": "markdown",
   "metadata": {
    "deletable": true,
    "editable": true
   },
   "source": [
    "### One-hot encode\n",
    "Just like the previous code cell, you'll be implementing a function for preprocessing.  This time, you'll implement the `one_hot_encode` function. The input, `x`, are a list of labels.  Implement the function to return the list of labels as One-Hot encoded Numpy array.  The possible values for labels are 0 to 9. The one-hot encoding function should return the same encoding for each value between each call to `one_hot_encode`.  Make sure to save the map of encodings outside the function.\n",
    "\n",
    "Hint: Don't reinvent the wheel."
   ]
  },
  {
   "cell_type": "code",
   "execution_count": 4,
   "metadata": {
    "collapsed": false,
    "deletable": true,
    "editable": true
   },
   "outputs": [
    {
     "name": "stdout",
     "output_type": "stream",
     "text": [
      "Tests Passed\n"
     ]
    }
   ],
   "source": [
    "# import helper ## I did this because sklearn.preprocessing was defined in there\n",
    "from sklearn import preprocessing  ## from sklearn lib import preprocessing lib/sublib/functionality/class\n",
    "\n",
    "def one_hot_encode(x):\n",
    "    \"\"\"\n",
    "    One hot encode a list of sample labels. Return a one-hot encoded vector for each label.\n",
    "    : x: List of sample Labels\n",
    "    : return: Numpy array of one-hot encoded labels\n",
    "    \"\"\"\n",
    "    # TODO: Implement Function\n",
    "\n",
    "    ## This was in the helper.py which belongs to the generic helper functions\n",
    "    #     def display_image_predictions(features, labels, predictions):\n",
    "    #     n_classes = 10\n",
    "    #     label_names = _load_label_names()\n",
    "    #     label_binarizer = LabelBinarizer()\n",
    "    #     label_binarizer.fit(range(n_classes))\n",
    "    #     label_ids = label_binarizer.inverse_transform(np.array(labels))\n",
    "    label_binarizer = preprocessing.LabelBinarizer() ## instantiate and initialized the one-hot encoder from class to one-hot\n",
    "    n_class = 10 ## total num_classes\n",
    "    label_binarizer.fit(range(n_class)) ## fit the one-vec to the range of number of classes, 10 in this case (dataset)\n",
    "    return label_binarizer.transform(x) ## transform the class labels to one-hot vec\n",
    "\n",
    "\n",
    "\"\"\"\n",
    "DON'T MODIFY ANYTHING IN THIS CELL THAT IS BELOW THIS LINE\n",
    "\"\"\"\n",
    "tests.test_one_hot_encode(one_hot_encode)"
   ]
  },
  {
   "cell_type": "markdown",
   "metadata": {
    "deletable": true,
    "editable": true
   },
   "source": [
    "### Randomize Data\n",
    "As you saw from exploring the data above, the order of the samples are randomized.  It doesn't hurt to randomize it again, but you don't need to for this dataset."
   ]
  },
  {
   "cell_type": "markdown",
   "metadata": {
    "deletable": true,
    "editable": true
   },
   "source": [
    "## Preprocess all the data and save it\n",
    "Running the code cell below will preprocess all the CIFAR-10 data and save it to file. The code below also uses 10% of the training data for validation."
   ]
  },
  {
   "cell_type": "code",
   "execution_count": 5,
   "metadata": {
    "collapsed": false,
    "deletable": true,
    "editable": true
   },
   "outputs": [],
   "source": [
    "\"\"\"\n",
    "DON'T MODIFY ANYTHING IN THIS CELL\n",
    "\"\"\"\n",
    "# Preprocess Training, Validation, and Testing Data\n",
    "helper.preprocess_and_save_data(cifar10_dataset_folder_path, normalize, one_hot_encode)"
   ]
  },
  {
   "cell_type": "markdown",
   "metadata": {
    "deletable": true,
    "editable": true
   },
   "source": [
    "# Check Point\n",
    "This is your first checkpoint.  If you ever decide to come back to this notebook or have to restart the notebook, you can start from here.  The preprocessed data has been saved to disk."
   ]
  },
  {
   "cell_type": "code",
   "execution_count": 6,
   "metadata": {
    "collapsed": true,
    "deletable": true,
    "editable": true
   },
   "outputs": [],
   "source": [
    "\"\"\"\n",
    "DON'T MODIFY ANYTHING IN THIS CELL\n",
    "\"\"\"\n",
    "import pickle\n",
    "import problem_unittests as tests\n",
    "import helper\n",
    "\n",
    "# Load the Preprocessed Validation data\n",
    "valid_features, valid_labels = pickle.load(open('preprocess_validation.p', mode='rb'))"
   ]
  },
  {
   "cell_type": "markdown",
   "metadata": {
    "deletable": true,
    "editable": true
   },
   "source": [
    "## Build the network\n",
    "For the neural network, you'll build each layer into a function.  Most of the code you've seen has been outside of functions. To test your code more thoroughly, we require that you put each layer in a function.  This allows us to give you better feedback and test for simple mistakes using our unittests before you submit your project.\n",
    "\n",
    "If you're finding it hard to dedicate enough time for this course a week, we've provided a small shortcut to this part of the project. In the next couple of problems, you'll have the option to use [TensorFlow Layers](https://www.tensorflow.org/api_docs/python/tf/layers) or [TensorFlow Layers (contrib)](https://www.tensorflow.org/api_guides/python/contrib.layers) to build each layer, except \"Convolutional & Max Pooling\" layer.  TF Layers is similar to Keras's and TFLearn's abstraction to layers, so it's easy to pickup.\n",
    "\n",
    "If you would like to get the most of this course, try to solve all the problems without TF Layers.  Let's begin!\n",
    "### Input\n",
    "The neural network needs to read the image data, one-hot encoded labels, and dropout keep probability. Implement the following functions\n",
    "* Implement `neural_net_image_input`\n",
    " * Return a [TF Placeholder](https://www.tensorflow.org/api_docs/python/tf/placeholder)\n",
    " * Set the shape using `image_shape` with batch size set to `None`.\n",
    " * Name the TensorFlow placeholder \"x\" using the TensorFlow `name` parameter in the [TF Placeholder](https://www.tensorflow.org/api_docs/python/tf/placeholder).\n",
    "* Implement `neural_net_label_input`\n",
    " * Return a [TF Placeholder](https://www.tensorflow.org/api_docs/python/tf/placeholder)\n",
    " * Set the shape using `n_classes` with batch size set to `None`.\n",
    " * Name the TensorFlow placeholder \"y\" using the TensorFlow `name` parameter in the [TF Placeholder](https://www.tensorflow.org/api_docs/python/tf/placeholder).\n",
    "* Implement `neural_net_keep_prob_input`\n",
    " * Return a [TF Placeholder](https://www.tensorflow.org/api_docs/python/tf/placeholder) for dropout keep probability.\n",
    " * Name the TensorFlow placeholder \"keep_prob\" using the TensorFlow `name` parameter in the [TF Placeholder](https://www.tensorflow.org/api_docs/python/tf/placeholder).\n",
    "\n",
    "These names will be used at the end of the project to load your saved model.\n",
    "\n",
    "Note: `None` for shapes in TensorFlow allow for a dynamic size."
   ]
  },
  {
   "cell_type": "code",
   "execution_count": 89,
   "metadata": {
    "collapsed": false,
    "deletable": true,
    "editable": true
   },
   "outputs": [],
   "source": [
    "import tensorflow as tf\n",
    "\n",
    "def nn_image_input(image_shape):\n",
    "    \"\"\"\n",
    "    Return a Tensor for a bach of image input\n",
    "    : image_shape: Shape of the images\n",
    "    : return: Tensor for image input.\n",
    "    \"\"\"\n",
    "    # TODO: Implement Function\n",
    "    ## name the placeholder?? why should I do that? I can return it directly like below\n",
    "    ## It is also worth mentioning that the overal image_shape = [i,j,k] meaning row, col, channels/depth or \n",
    "    ## i, j, k\n",
    "    ## h, w, depth (deep-wide learning)\n",
    "    ## r, c, channels\n",
    "    ## y, x, z\n",
    "    ## Data_structure AKA data_shape are usually defined dshape = [i, j, k] as a tensor/Mat/Vec or even a scalar\n",
    "    ## This is kind of tricky: image_shape is probablly pointing at the img_hight, img_width, and image_depth as well\n",
    "    ## x_tensor is probably the input image or images or input batch\n",
    "    return tf.placeholder(dtype=tf.float32, \n",
    "                          shape=[None, image_shape[0], image_shape[1], image_shape[2]], \n",
    "                          name=None)\n",
    "\n",
    "def nn_label_input(n_classes):\n",
    "    \"\"\"\n",
    "    Return a Tensor for a batch of label input\n",
    "    : n_classes: Number of classes\n",
    "    : return: Tensor for label input.\n",
    "    \"\"\"\n",
    "    # TODO: Implement Function\n",
    "    ## tf.placehoolder(data_type, data_structure (data_shape))\n",
    "    return tf.placeholder(dtype=tf.int32, shape=[None, n_classes], name=None) ## the t/batch_size/num_img_per_batch = None & n/num_dimension = n_classes\n",
    "\n",
    "\"\"\"\n",
    "DON'T MODIFY ANYTHING IN THIS CELL THAT IS BELOW THIS LINE\n",
    "\"\"\"\n",
    "tf.reset_default_graph()\n",
    "# tests.test_nn_image_inputs(nn_image_input)\n",
    "# tests.test_nn_label_inputs(nn_label_input)"
   ]
  },
  {
   "cell_type": "markdown",
   "metadata": {
    "deletable": true,
    "editable": true
   },
   "source": [
    "### Convolution and Max Pooling Layer\n",
    "Convolution layers have a lot of success with images. For this code cell, you should implement the function `conv2d_maxpool` to apply convolution then max pooling:\n",
    "* Create the weight and bias using `conv_ksize`, `conv_num_outputs` and the shape of `x_tensor`.\n",
    "* Apply a convolution to `x_tensor` using weight and `conv_strides`.\n",
    " * We recommend you use same padding, but you're welcome to use any padding.\n",
    "* Add bias\n",
    "* Add a nonlinear activation to the convolution.\n",
    "* Apply Max Pooling using `pool_ksize` and `pool_strides`.\n",
    " * We recommend you use same padding, but you're welcome to use any padding.\n",
    "\n",
    "Note: You **can't** use [TensorFlow Layers](https://www.tensorflow.org/api_docs/python/tf/layers) or [TensorFlow Layers (contrib)](https://www.tensorflow.org/api_guides/python/contrib.layers) for this layer.  You're free to use any TensorFlow package for all the other layers."
   ]
  },
  {
   "cell_type": "code",
   "execution_count": 90,
   "metadata": {
    "collapsed": false,
    "deletable": true,
    "editable": true
   },
   "outputs": [],
   "source": [
    "# This is the new function for implementing the backprop in convnets.\n",
    "def conv2d_relu(x_tensor, conv_num_outputs, conv_ksize, conv_strides):\n",
    "    \"\"\"\n",
    "    Apply convolution then max pooling to x_tensor\n",
    "    :param x_tensor: TensorFlow Tensor\n",
    "    :param conv_num_outputs: Number of outputs for the convolutional layer\n",
    "    :param conv_ksize: kernal size 2-D Tuple for the convolutional layer\n",
    "    :param conv_strides: Stride 2-D Tuple for convolution\n",
    "    : return: A tensor that represents convolution and max pooling of x_tensor\n",
    "    \"\"\"\n",
    "    # TODO: Implement Function\n",
    "    k = x_tensor.get_shape()[3:4].num_elements() ## there shoudl be a simpler way!! num_elements/length\n",
    "    w_shape = [conv_ksize[0], conv_ksize[1], k, conv_num_outputs] # conv_num_output 1D tuple or a scalar\n",
    "    \n",
    "    # kernel size=k_hxw and number of hidden units==H_1xh\n",
    "    w_kxh = tf.Variable(tf.truncated_normal(shape=w_shape, mean=0.0, stddev=0.1, dtype=tf.float32, \n",
    "                                            seed=None, name=None))\n",
    "    # convolution stride/steps per scan/convolution\n",
    "    strides = [1, conv_strides[0], conv_strides[1], 1] # t == batch/num_data-img-images, i=hight/row/y, j=width/x/col, k=depth is usually 1\n",
    "    \n",
    "    # The convolution output result and the input to the hidden layer units==hin_kcxh.\n",
    "    # kc: kernel convolved meaning that input dimension convolved with k is n-k+1/h-k+1==kc\n",
    "    hin_kcxh = tf.nn.conv2d(input=x_tensor, filter=w_kxh, strides=strides, padding='VALID', use_cudnn_on_gpu=None,\n",
    "                              data_format=None, name=None) ## apply convolution, None==Dynamic and NOT static memory\n",
    "\n",
    "    # Let's create biases\n",
    "    b_1xh = tf.Variable(tf.truncated_normal(shape=[conv_num_outputs], mean=0.0, stddev=0.1, dtype=tf.float32, \n",
    "                                        seed=None, name=None)) # b_1xh\n",
    "    hin_kcxh += b_1xh\n",
    "    \n",
    "    # Passing hin_kcxh to the activation function, i.e. ReLU in this case.\n",
    "    # adding relu function/activate function and the output is the h_tensor hidden layer output\n",
    "    hout_kcxh = tf.nn.relu(hin_kcxh, name=None) ## apply non-linearity, i.e. ReLU function\n",
    "    \n",
    "    # return the hidden layer output, biases, and weights\n",
    "    # For hidden layer output is convolved with ksized-kernel-> kc==kernel-convolved\n",
    "    return w_kxh, b_1xh, hout_kcxh"
   ]
  },
  {
   "cell_type": "markdown",
   "metadata": {
    "deletable": true,
    "editable": true
   },
   "source": [
    "### Flatten Layer\n",
    "Implement the `flatten` function to change the dimension of `x_tensor` from a 4-D tensor to a 2-D tensor.  The output should be the shape (*Batch Size*, *Flattened Image Size*). You can use [TensorFlow Layers](https://www.tensorflow.org/api_docs/python/tf/layers) or [TensorFlow Layers (contrib)](https://www.tensorflow.org/api_guides/python/contrib.layers) for this layer."
   ]
  },
  {
   "cell_type": "code",
   "execution_count": 91,
   "metadata": {
    "collapsed": false,
    "deletable": true,
    "editable": true
   },
   "outputs": [],
   "source": [
    "def flatten(x_tensor):\n",
    "    \"\"\"\n",
    "    Flatten x_tensor to (Batch Size, Flattened Image Size)\n",
    "    : x_tensor: A tensor of size (Batch Size, ...), where ... are the image dimensions.\n",
    "    : return: A tensor of size (Batch Size, Flattened Image Size).\n",
    "    \"\"\"\n",
    "    # TODO: Implement Function\n",
    "    # x_tensor shape = [batch, img_w, img_height, img_depth] = [t, n] = mat_txn, t==batch, n=hxwxd\n",
    "    # img_flat = img_w * img_h * img_d\n",
    "    n_size = x_tensor.get_shape()[1:4].num_elements() #1,2,3\n",
    "    \n",
    "    # The actual flattening and reshaping procedure from hout_kcxh to hout_1xkch\n",
    "    # kch== kc*h, kc==kernel-convolved/n-k+1, and h==number of hidden units h in hiddel layer H\n",
    "    hout_1xkch = tf.reshape(tensor=x_tensor, shape=[-1, n_size], name=None)\n",
    "    \n",
    "    # returning the reshaped/flat/vectorized hout/output tensor from hidden layer H\n",
    "    return hout_1xkch"
   ]
  },
  {
   "cell_type": "markdown",
   "metadata": {
    "deletable": true,
    "editable": true
   },
   "source": [
    "### Fully-Connected Layer\n",
    "Implement the `fully_conn` function to apply a fully connected layer to `x_tensor` with the shape (*Batch Size*, *num_outputs*). You can use [TensorFlow Layers](https://www.tensorflow.org/api_docs/python/tf/layers) or [TensorFlow Layers (contrib)](https://www.tensorflow.org/api_guides/python/contrib.layers) for this layer."
   ]
  },
  {
   "cell_type": "markdown",
   "metadata": {
    "deletable": true,
    "editable": true
   },
   "source": [
    "### Output Layer\n",
    "Implement the `output` function to apply a fully connected layer to `x_tensor` with the shape (*Batch Size*, *num_outputs*). You can use [TensorFlow Layers](https://www.tensorflow.org/api_docs/python/tf/layers) or [TensorFlow Layers (contrib)](https://www.tensorflow.org/api_guides/python/contrib.layers) for this layer.\n",
    "\n",
    "Note: Activation, softmax, or cross entropy shouldn't be applied to this."
   ]
  },
  {
   "cell_type": "code",
   "execution_count": 92,
   "metadata": {
    "collapsed": false,
    "deletable": true,
    "editable": true
   },
   "outputs": [],
   "source": [
    "def output(x_tensor, num_outputs):\n",
    "    \"\"\"\n",
    "    Apply a output layer to x_tensor using weight and bias\n",
    "    : x_tensor: A 2-D tensor where the first dimension is batch size.\n",
    "    : num_outputs: The number of output that the new tensor should be.\n",
    "    : return: A 2-D tensor where the second dimension is num_outputs.\n",
    "    \"\"\"\n",
    "    # TODO: Implement Function\n",
    "    ## The only differemce between this layer and the previous fully connected layer is the softmax for classification.\n",
    "    ## Instead of ReLU, softmax should be used.\n",
    "    n_size = x_tensor.get_shape()[1:2].num_elements() ## to get the num_features\n",
    "    \n",
    "    ## Let's assign w and b for wx+b\n",
    "    w_hxm = tf.Variable(tf.truncated_normal(shape=[n_size, num_outputs], mean=0.0, stddev=0.1, \n",
    "                                        dtype=tf.float32, seed=None, name=None))\n",
    "    \n",
    "    # biases for the ouput Layer or O_1xm is b_1xm\n",
    "    b_1xm = tf.Variable(tf.truncated_normal(shape=[num_outputs], mean=0.0, stddev=0.1, \n",
    "                                        dtype=tf.float32, seed=None, name=None))\n",
    "\n",
    "    # The actual matrix multiplication or yin_1xm==logits before entering the logistic function/sigmoid/softmax function\n",
    "    # These activation functions are used for classification purposes.\n",
    "    y_1xm_logits = tf.matmul(x_tensor, w_hxm) + b_1xm\n",
    "    \n",
    "    #return tf.nn.softmax(y_tensor_in) \n",
    "    # The softmax function/tf.softmax() is NOTused since the cross entropy softmax will be applied instead for cost measurement.\n",
    "    # That is why only logits wx+b is needed for this layer.\n",
    "    return w_hxm, b_1xm, y_1xm_logits"
   ]
  },
  {
   "cell_type": "markdown",
   "metadata": {
    "deletable": true,
    "editable": true
   },
   "source": [
    "### Create Convolutional Model\n",
    "Implement the function `conv_net` to create a convolutional neural network model. The function takes in a batch of images, `x`, and outputs logits.  Use the layers you created above to create this model:\n",
    "\n",
    "* Apply 1, 2, or 3 Convolution and Max Pool layers\n",
    "* Apply a Flatten Layer\n",
    "* Apply 1, 2, or 3 Fully Connected Layers\n",
    "* Apply an Output Layer\n",
    "* Return the output\n",
    "* Apply [TensorFlow's Dropout](https://www.tensorflow.org/api_docs/python/tf/nn/dropout) to one or more layers in the model using `keep_prob`. "
   ]
  },
  {
   "cell_type": "code",
   "execution_count": 93,
   "metadata": {
    "collapsed": false,
    "deletable": true,
    "editable": true
   },
   "outputs": [],
   "source": [
    "# This is feed forward/ forward propagation\n",
    "def conv_net(x):\n",
    "    \"\"\"\n",
    "    Create a convolutional neural network model\n",
    "    : x: Placeholder tensor that holds image data.\n",
    "    : return: Tensor that represents logits\n",
    "    \"\"\"\n",
    "    # TODO: Apply 1, 2, or 3 Convolution layers\n",
    "    w_kxh, b_1xh, hout_kcxh = conv2d_relu(x_tensor=x_1xijk, conv_num_outputs=10, conv_ksize=[3, 3], conv_strides=[1, 1])\n",
    "\n",
    "    # TODO: Apply a Flatten Layer for FC/ Full Connections\n",
    "    hout_1xkch = flatten(x_tensor=hout_kcxh) #kch==kc*h for flattening the tensor/matrix to a vector\n",
    "\n",
    "    # TODO: Apply an Output Layer\n",
    "    w_hxm, b_1xm, y_1xm_logits = output(x_tensor=hout_1xkch, num_outputs=10)\n",
    "    \n",
    "    # TODO: return output\n",
    "    # returning the conv net parames in order\n",
    "    return w_kxh, b_1xh, hout_kcxh, hout_1xkch, w_hxm, b_1xm, y_1xm_logits"
   ]
  },
  {
   "cell_type": "code",
   "execution_count": 94,
   "metadata": {
    "collapsed": false,
    "deletable": true,
    "editable": true
   },
   "outputs": [],
   "source": [
    "##############################\n",
    "## Build the Neural Network ##\n",
    "##############################\n",
    "\n",
    "# Feed forward\n",
    "# def feedforward(): # Future work\n",
    "    \n",
    "# Remove previous weights, bias, inputs, etc..\n",
    "tf.reset_default_graph()\n",
    "\n",
    "# Inputs\n",
    "x_1xijk = nn_image_input(image_shape=(32, 32, 3)) # i=32, j=32, k=3, n=i*j*k\n",
    "y_1xm_labels = nn_label_input(n_classes=10) # num_output_classes=10, m=10\n",
    "\n",
    "# Model\n",
    "# logits = conv_net(x=x)\n",
    "w_kxh, b_1xh, hout_kcxh, hout_1xkch, w_hxm, b_1xm, y_1xm_logits = conv_net(x=x_1xijk)\n",
    "\n",
    "# Name logits Tensor, so that is can be loaded from disk after training\n",
    "y_1xm_logits = tf.identity(y_1xm_logits, name='y_1xm_logits')\n",
    "\n",
    "# Loss and Optimizer\n",
    "cost = tf.reduce_mean(tf.nn.softmax_cross_entropy_with_logits(logits=y_1xm_logits, labels=y_1xm_labels))"
   ]
  },
  {
   "cell_type": "code",
   "execution_count": 96,
   "metadata": {
    "collapsed": false,
    "deletable": true,
    "editable": true
   },
   "outputs": [],
   "source": [
    "# ## Testing and debugging the conv2d_relu function\n",
    "# # Inputs\n",
    "# # (height, width, depth) = (32, 32, 3)\n",
    "# x_1xijk = nn_image_input(image_shape=(32, 32, 3)) # i=32, j=32, k=3, n=i*j*k # depth==channels==RGB\n",
    "# y_1xm = nn_label_input(n_classes=10) # num_output_classes=10, m=10\n",
    "\n",
    "# # TODO: Apply 1, 2, or 3 Convolution and Max Pool layers\n",
    "# w_kxh, b_1xh, hout_kcxh = conv2d_relu(x_tensor=x_1xijk, conv_num_outputs=10, conv_ksize=[3, 3], conv_strides=[1, 1])\n",
    "# w_kxh, b_1xh, hout_kcxh\n",
    "\n",
    "# hout_1xkch = flatten(x_tensor=hout_kcxh)\n",
    "# # N, H, W, C =hout_kcxh.get_shape()\n",
    "# # hout_kcxh, hout_1xkch, N, H, W, C\n",
    "# # h = hout_kcxh.get_shape()[1:2].num_elements()\n",
    "# # w = hout_kcxh.get_shape()[2:3].num_elements()\n",
    "# # c = hout_kcxh.get_shape()[3:4].num_elements()\n",
    "# # h, w, c\n",
    "# # tf.reshape(hout_1xkch, shape=[-1, h, w, c], name=None)\n",
    "# # # shape[3].num_element()\n",
    "# # # tf.reshape(tensorhout_kcxh)\n",
    "\n",
    "# w_hxm, b_1xm, y_1xm_logits = output(x_tensor=hout_1xkch, num_outputs=10)\n",
    "# w_hxm, b_1xm, y_1xm_logits\n",
    "\n",
    "# w_kxh, b_1xh, hout_kcxh, hout_1xkch, w_hxm, b_1xm, y_1xm_logits = conv_net(x=x_1xijk)\n",
    "# w_kxh, b_1xh, hout_kcxh, hout_1xkch, w_hxm, b_1xm, y_1xm_logits\n",
    "\n",
    "# # # # In this section, I try to implement backprop using SGD. \n",
    "# # ## This is an optimizer for minimizing the cost and training the conv_net.\n",
    "# # ## Output layer error\n",
    "# # #softmax = exp(logits) / reduce_sum(exp(logits), dim)\n",
    "# # fy_1xm = tf.nn.softmax(logits=y_1xm_logits, dim=-1, name=None) # logits needed\n",
    "# # df_1xm = fy_1xm * (1-fy_1xm) # fy_1xm??  -- how come can they be multiplied?\n",
    "# # # db_1xm = cost_1xm * df_1xm # The same question applies to this one as well?\n",
    "# # err = tf.nn.softmax_cross_entropy_with_logits(logits=y_1xm_logits, labels=y_1xm_labels)\n",
    "# # y_1xm_logits, fy_1xm, df_1xm, cost, err\n",
    "# # # db_1xm = err * df_1xm # The same question applies to this one as well?\n",
    "# # m=df_1xm.get_shape()[1:2].num_elements()\n",
    "# # m\n",
    "# # err_1xm = tf.reshape(tensor=err, shape=[-1, m], name=None)\n",
    "# # err, err_1xm\n",
    "\n",
    "# # # In this section, I try to implement backprop using SGD. \n",
    "# ## This is an optimizer for minimizing the cost and training the conv_net.\n",
    "# ## Output layer error\n",
    "# #softmax = exp(logits) / reduce_sum(exp(logits), dim)\n",
    "# fy_1xm = tf.nn.softmax(logits=y_1xm_logits, dim=-1, name=None) # logits needed\n",
    "# df_1xm = fy_1xm * (1-fy_1xm) # fy_1xm??  -- how come can they be multiplied?\n",
    "\n",
    "# err = tf.nn.softmax_cross_entropy_with_logits(logits=y_1xm_logits, labels=y_1xm_labels)\n",
    "# m = df_1xm.get_shape()[1:2].num_elements()\n",
    "# err_1xm = tf.reshape(tensor=err, shape=[-1, m], name=None)\n",
    "# db_1xm = err_1xm * df_1xm # The same question applies to this one as well?\n",
    "\n",
    "# ## FC layer between output layer and hidden layer\n",
    "# # h_out_1xh is needed as the output of the convolutional layer.\n",
    "# # dw_hxm=tf.matmul(db_1xm.T, hout_1xh).T # another form\n",
    "# # w_hxm is also needed as the weights between hidden layer and the output layer.\n",
    "# dw_hxm = tf.matmul(tf.transpose(hout_1xkch), db_1xm) # FC weights\n",
    "# db_1xh = tf.matmul(db_1xm, tf.transpose(w_hxm)) # FC layer\n",
    "\n",
    "# # Conv layer and PC/partially connected layers input and hidden\n",
    "# h = hout_kcxh.get_shape()[1:2].num_elements()\n",
    "# w = hout_kcxh.get_shape()[2:3].num_elements()\n",
    "# c = hout_kcxh.get_shape()[3:4].num_elements()\n",
    "# # db_kcxh = tf.reshape(tensor=db_1xh, shape=[-1, h, w, c], name=None) # shape it back to the original one since it had been flattened.\n",
    "# db_kcxh = tf.reshape(tensor=db_1xh, shape=[-1, h, w, c], name=None) # shape it back to the original one since it had been flattened.\n",
    "\n",
    "# ## Self implementation of conv2d_bp using rot 180\n",
    "# # # Rot 180 the kernel/w and x\n",
    "# # x_1xhwc = tf.squeeze(input=x_1xijk, axis=[0], name=None, squeeze_dims=None) #squeeze_dims: Deprecated keyword argument that is now axis.\n",
    "# # x_1xhwc_flipped = tf.image.flip_up_down(image=x_1xhwc) # around w axis\n",
    "# # x_1xhwc_flipped_180 = tf.image.flip_left_right(image=x_1xhwc_flipped) # around h axis\n",
    "# # x_1xnhwc_flipped_180 = tf.expand_dims(input=x_1xhwc_flipped_180, axis=0, name=None, dim=None) # dim is deprecated and replaced by axis.\n",
    "# # # dw_kxh = tf.nn.conv2d(input=x_1xnhwc_flipped_180, filter=db_kcxh, strides=[1, 1, 1, 1], padding='VALID', use_cudnn_on_gpu=None, \n",
    "# # #              data_format=None, name=None)\n",
    "# # # test_conv2d_kcxh = tf.nn.conv2d(input=x_1xnhwc_flipped_180, filter=db_kcxh, strides=[1, 1, 1, 1], padding='VALID', use_cudnn_on_gpu=None,\n",
    "# # #                           data_format=None, name=None) ## apply convolution, None==Dynamic and NOT static memory\n",
    "\n",
    "\n",
    "# dw_kxh = tf.nn.conv2d_backprop_filter(input=x_1xijk, filter_sizes=w_kxh.get_shape(), out_backprop=db_kcxh, \n",
    "#                                       strides=[1, 1, 1, 1], padding='VALID', \n",
    "#                                       use_cudnn_on_gpu=None, data_format=None, name=None)\n",
    "# # input: A Tensor. Must be one of the following types: \n",
    "# # half, float32, float64. 4-D with shape \n",
    "# # input:[batch, in_height, in_width, in_channels].\n",
    "# # filter_sizes: A Tensor of type int32. An integer vector representing the tensor shape of filter, where filter is a 4-D \n",
    "# # filter size: [filter_height, filter_width, in_channels, out_channels] tensor.\n",
    "# # out_backprop: A Tensor. Must have the same type as input. 4-D with shape \n",
    "# # out_bp: [batch, out_height, out_width, out_channels]. Gradients w.r.t. the output of the convolution.\n",
    "# # A Tensor. Has the same type as input. 4-D with shape \n",
    "# # return: [filter_height, filter_width, in_channels, out_channels]. Gradient w.r.t. the filter input of the convolution.\n",
    "\n",
    "\n",
    "    \n",
    "# #     x_1xijk, x_1xhwc, x_1xhwc_flipped, x_1xhwc_flipped_180,\n",
    "# err_1xm, dw_hxm, db_1xh, db_kcxh, x_1xnhwc_flipped_180, x_1xijk, test_conv2d_kcxh, w_kxh.get_shape(), w_kxh, dw_kxh, \n",
    "# b_1xh.get_shape(), db_1xh.get_shape()"
   ]
  },
  {
   "cell_type": "code",
   "execution_count": 107,
   "metadata": {
    "collapsed": true,
    "deletable": true,
    "editable": true
   },
   "outputs": [],
   "source": [
    "# This is the back propagation.\n",
    "def backprop(x_1xijk, w_kxh, b_1xh, hout_kcxh, hout_1xkch, w_hxm, b_1xm, y_1xm_logits, y_1xm_labels):\n",
    "    \"\"\"Back propagation of the conv_net\n",
    "    : cost_1xm: Placeholder tensor that holds the error/cost/loss with m-Dim same as the output/y_tensor_txm. \n",
    "    \"\"\"\n",
    "    # # In this section, I try to implement backprop using SGD. \n",
    "    ## This is an optimizer for minimizing the cost and training the conv_net.\n",
    "    ## Output layer error\n",
    "    #softmax = exp(logits) / reduce_sum(exp(logits), dim)\n",
    "    fy_1xm = tf.nn.softmax(logits=y_1xm_logits, dim=-1, name=None) # logits needed\n",
    "    df_1xm = fy_1xm * (1-fy_1xm) # fy_1xm??  -- how come can they be multiplied?\n",
    "    \n",
    "    err = tf.nn.softmax_cross_entropy_with_logits(logits=y_1xm_logits, labels=y_1xm_labels)\n",
    "    m = df_1xm.get_shape()[1:2].num_elements()\n",
    "    err_1xm = tf.reshape(tensor=err, shape=[-1, m], name=None)\n",
    "    db_1xm = err_1xm * df_1xm # The same question applies to this one as well?\n",
    "\n",
    "    ## FC layer between output layer and hidden layer\n",
    "    # h_out_1xh is needed as the output of the convolutional layer.\n",
    "    # dw_hxm=tf.matmul(db_1xm.T, hout_1xh).T # another form\n",
    "    # w_hxm is also needed as the weights between hidden layer and the output layer.\n",
    "    dw_hxm = tf.matmul(tf.transpose(hout_1xkch), db_1xm) # FC weights\n",
    "    db_1xh = tf.matmul(db_1xm, tf.transpose(w_hxm)) # FC layer\n",
    "\n",
    "    # Conv layer and PC/partially connected layers input and hidden\n",
    "    h = hout_kcxh.get_shape()[1:2].num_elements()\n",
    "    w = hout_kcxh.get_shape()[2:3].num_elements()\n",
    "    c = hout_kcxh.get_shape()[3:4].num_elements()\n",
    "    # tf.reshape(hout_1xkch, shape=[-1, h, w, c], name=None)\n",
    "    #  NOTE: kernel should be transposed/not anything else\n",
    "    db_kcxh = tf.reshape(tensor=db_1xh, shape=[-1, h, w, c], name=None) # shape it back to the original one since it had been flattened.\n",
    "    dw_kxh = tf.nn.conv2d_backprop_filter(input=x_1xijk, filter_sizes=w_kxh.get_shape(), out_backprop=db_kcxh, \n",
    "                                      strides=[1, 1, 1, 1], padding='VALID', \n",
    "                                      use_cudnn_on_gpu=None, data_format=None, name=None)\n",
    "\n",
    "\n",
    "    # Passing hin_kcxh to the activation function, i.e. ReLU in this case.\n",
    "    # adding relu function/activate function and the output is the h_tensor hidden layer output\n",
    "    # ReLU derivative == ReLU == max(0,1)\n",
    "    dw_kxh = tf.nn.relu(dw_kxh, name=None) ## apply non-linearity, i.e. ReLU function\n",
    "\n",
    "    learn_rate=0.01\n",
    "    w_kxh += learn_rate * dw_kxh\n",
    "    b_1xh += learn_rate * db_kcxh\n",
    "    w_hxm += learn_rate * dw_hxm\n",
    "    b_1xm +=  learn_rate * db_1xm\n",
    "    \n",
    "    # When there is no returning/return value, pass is the option.\n",
    "    pass"
   ]
  },
  {
   "cell_type": "code",
   "execution_count": 113,
   "metadata": {
    "collapsed": false,
    "deletable": true,
    "editable": true
   },
   "outputs": [],
   "source": [
    "##############################\n",
    "## Train NN ##\n",
    "##############################\n",
    "# optimizer = backprop(x_1xijk, w_kxh, b_1xh, hout_kcxh, hout_1xkch, w_hxm, b_1xm, y_1xm_logits, y_1xm_labels)\n",
    "optimizer = tf.train.AdamOptimizer().minimize(cost)\n",
    "\n",
    "\n",
    "# Accuracy\n",
    "correct_pred = tf.equal(tf.argmax(y_1xm_logits, 1), tf.argmax(y_1xm_labels, 1))\n",
    "accuracy = tf.reduce_mean(tf.cast(correct_pred, tf.float32), name='accuracy')"
   ]
  },
  {
   "cell_type": "code",
   "execution_count": 114,
   "metadata": {
    "collapsed": false,
    "deletable": true,
    "editable": true
   },
   "outputs": [],
   "source": [
    "def train_neural_network(session, optimizer, feature_batch, label_batch):\n",
    "    \"\"\"\n",
    "    Optimize the session on a batch of images and labels\n",
    "    : session: Current TensorFlow session\n",
    "    : optimizer: TensorFlow optimizer function\n",
    "    : feature_batch: Batch of Numpy image data\n",
    "    : label_batch: Batch of Numpy label data\n",
    "    \"\"\"\n",
    "    # TODO: Implement Function\n",
    "    # Feed the dictionary (x, y, dropout_prob) from Numpy (Python) into TensorFlow (Tensors)\n",
    "    feed_dict_train = {x_1xijk:feature_batch, y_1xm_labels:label_batch}\n",
    "\n",
    "    # Run the optimizer on the fed training dict (TF training data).\n",
    "    session.run(optimizer, feed_dict=feed_dict_train)\n",
    "    \n",
    "    pass"
   ]
  },
  {
   "cell_type": "markdown",
   "metadata": {
    "deletable": true,
    "editable": true
   },
   "source": [
    "### Show Stats\n",
    "Implement the function `print_stats` to print loss and validation accuracy.  Use the global variables `valid_features` and `valid_labels` to calculate validation accuracy.  Use a keep probability of `1.0` to calculate the loss and validation accuracy."
   ]
  },
  {
   "cell_type": "code",
   "execution_count": 115,
   "metadata": {
    "collapsed": false,
    "deletable": true,
    "editable": true
   },
   "outputs": [],
   "source": [
    "def print_stats(session, feature_batch, label_batch, cost, accuracy):\n",
    "    \"\"\"\n",
    "    Print information about loss and validation accuracy\n",
    "    : session: Current TensorFlow session\n",
    "    : feature_batch: Batch of Numpy image data\n",
    "    : label_batch: Batch of Numpy label data\n",
    "    : cost: TensorFlow cost function\n",
    "    : accuracy: TensorFlow accuracy function\n",
    "    \"\"\"\n",
    "    # TODO: Implement Function\n",
    "    \n",
    "    ## Placeholders for input/feature and output/labels    \n",
    "    feed_dict_train = {x_1xijk:feature_batch, y_1xm_labels:label_batch}\n",
    "    cost_train = session.run(cost, feed_dict=feed_dict_train)\n",
    "    accuracy_train = session.run(accuracy, feed_dict=feed_dict_train)\n",
    "    print(\"trainging cost:\", cost_train, \"accuracy:\", accuracy_train)\n",
    "\n",
    "    ## Using the placeholders declared globally before and at the top\n",
    "    feed_dict_valid = {x_1xijk:valid_features, y_1xm_labels:valid_labels}\n",
    "    cost_valid = session.run(cost, feed_dict=feed_dict_valid)\n",
    "    accuracy_valid = session.run(accuracy, feed_dict=feed_dict_valid)\n",
    "    print(\"validation cost:\", cost_valid, \"accuracy:\", accuracy_valid)\n",
    "    \n",
    "    \n",
    "    pass"
   ]
  },
  {
   "cell_type": "markdown",
   "metadata": {
    "deletable": true,
    "editable": true
   },
   "source": [
    "### Hyperparameters\n",
    "Tune the following parameters:\n",
    "* Set `epochs` to the number of iterations until the network stops learning or start overfitting\n",
    "* Set `batch_size` to the highest number that your machine has memory for.  Most people set them to common sizes of memory:\n",
    " * 64\n",
    " * 128\n",
    " * 256\n",
    " * ...\n",
    "* Set `keep_probability` to the probability of keeping a node using dropout"
   ]
  },
  {
   "cell_type": "code",
   "execution_count": 116,
   "metadata": {
    "collapsed": true,
    "deletable": true,
    "editable": true
   },
   "outputs": [],
   "source": [
    "# TODO: Tune Parameters\n",
    "epochs = 10 #None\n",
    "batch_size = 64 # recommanded memory"
   ]
  },
  {
   "cell_type": "markdown",
   "metadata": {
    "deletable": true,
    "editable": true
   },
   "source": [
    "### Train on a Single CIFAR-10 Batch\n",
    "Instead of training the neural network on all the CIFAR-10 batches of data, let's use a single batch. This should save time while you iterate on the model to get a better accuracy.  Once the final validation accuracy is 50% or greater, run the model on all the data in the next section."
   ]
  },
  {
   "cell_type": "code",
   "execution_count": 117,
   "metadata": {
    "collapsed": false,
    "deletable": true,
    "editable": true
   },
   "outputs": [
    {
     "name": "stdout",
     "output_type": "stream",
     "text": [
      "Checking the Training on a Single Batch...\n",
      "Epoch  1, CIFAR-10 Batch 1:  trainging cost: 1.92518 accuracy: 0.4\n",
      "validation cost: 1.77643 accuracy: 0.377\n",
      "Epoch  2, CIFAR-10 Batch 1:  trainging cost: 1.78358 accuracy: 0.425\n",
      "validation cost: 1.66955 accuracy: 0.4162\n",
      "Epoch  3, CIFAR-10 Batch 1:  trainging cost: 1.63334 accuracy: 0.525\n",
      "validation cost: 1.59047 accuracy: 0.4456\n",
      "Epoch  4, CIFAR-10 Batch 1:  trainging cost: 1.52232 accuracy: 0.525\n",
      "validation cost: 1.53628 accuracy: 0.4596\n",
      "Epoch  5, CIFAR-10 Batch 1:  trainging cost: 1.41345 accuracy: 0.55\n",
      "validation cost: 1.50043 accuracy: 0.4706\n",
      "Epoch  6, CIFAR-10 Batch 1:  trainging cost: 1.322 accuracy: 0.55\n",
      "validation cost: 1.482 accuracy: 0.4772\n",
      "Epoch  7, CIFAR-10 Batch 1:  trainging cost: 1.24439 accuracy: 0.575\n",
      "validation cost: 1.47514 accuracy: 0.4816\n",
      "Epoch  8, CIFAR-10 Batch 1:  trainging cost: 1.18036 accuracy: 0.6\n",
      "validation cost: 1.47428 accuracy: 0.4802\n",
      "Epoch  9, CIFAR-10 Batch 1:  trainging cost: 1.11779 accuracy: 0.65\n",
      "validation cost: 1.48288 accuracy: 0.4816\n",
      "Epoch 10, CIFAR-10 Batch 1:  trainging cost: 1.06758 accuracy: 0.675\n",
      "validation cost: 1.49321 accuracy: 0.4844\n"
     ]
    }
   ],
   "source": [
    "\"\"\"\n",
    "DON'T MODIFY ANYTHING IN THIS CELL\n",
    "\"\"\"\n",
    "print('Checking the Training on a Single Batch...')\n",
    "with tf.Session() as sess:\n",
    "    # Initializing the variables\n",
    "    sess.run(tf.global_variables_initializer())\n",
    "    \n",
    "    # Training cycle\n",
    "    for epoch in range(epochs):\n",
    "        batch_i = 1\n",
    "        for batch_features, batch_labels in helper.load_preprocess_training_batch(batch_i, batch_size):\n",
    "            train_neural_network(sess, optimizer, batch_features, batch_labels)\n",
    "        print('Epoch {:>2}, CIFAR-10 Batch {}:  '.format(epoch + 1, batch_i), end='')\n",
    "        print_stats(sess, batch_features, batch_labels, cost, accuracy)"
   ]
  },
  {
   "cell_type": "markdown",
   "metadata": {
    "deletable": true,
    "editable": true
   },
   "source": [
    "### Fully Train the Model\n",
    "Now that you got a good accuracy with a single CIFAR-10 batch, try it with all five batches."
   ]
  },
  {
   "cell_type": "code",
   "execution_count": 118,
   "metadata": {
    "collapsed": false,
    "deletable": true,
    "editable": true
   },
   "outputs": [
    {
     "name": "stdout",
     "output_type": "stream",
     "text": [
      "Training...\n",
      "Epoch  1, CIFAR-10 Batch 1:  trainging cost: 1.92771 accuracy: 0.35\n",
      "validation cost: 1.81789 accuracy: 0.3524\n",
      "Epoch  1, CIFAR-10 Batch 2:  trainging cost: 1.69667 accuracy: 0.375\n",
      "validation cost: 1.66043 accuracy: 0.42\n",
      "Epoch  2, CIFAR-10 Batch 1:  trainging cost: 1.71884 accuracy: 0.525\n",
      "validation cost: 1.58253 accuracy: 0.4312\n",
      "Epoch  2, CIFAR-10 Batch 2:  trainging cost: 1.48347 accuracy: 0.475\n",
      "validation cost: 1.54341 accuracy: 0.4482\n",
      "Epoch  3, CIFAR-10 Batch 1:  trainging cost: 1.61666 accuracy: 0.55\n",
      "validation cost: 1.50331 accuracy: 0.4634\n",
      "Epoch  3, CIFAR-10 Batch 2:  trainging cost: 1.33497 accuracy: 0.575\n",
      "validation cost: 1.49874 accuracy: 0.4642\n",
      "Epoch  4, CIFAR-10 Batch 1:  trainging cost: 1.54985 accuracy: 0.525\n",
      "validation cost: 1.47253 accuracy: 0.4776\n",
      "Epoch  4, CIFAR-10 Batch 2:  trainging cost: 1.21817 accuracy: 0.6\n",
      "validation cost: 1.47563 accuracy: 0.475\n",
      "Epoch  5, CIFAR-10 Batch 1:  trainging cost: 1.49514 accuracy: 0.525\n",
      "validation cost: 1.45328 accuracy: 0.4888\n",
      "Epoch  5, CIFAR-10 Batch 2:  trainging cost: 1.12597 accuracy: 0.6\n",
      "validation cost: 1.46149 accuracy: 0.4798\n",
      "Epoch  6, CIFAR-10 Batch 1:  trainging cost: 1.42591 accuracy: 0.525\n",
      "validation cost: 1.43878 accuracy: 0.4972\n",
      "Epoch  6, CIFAR-10 Batch 2:  trainging cost: 1.05184 accuracy: 0.6\n",
      "validation cost: 1.45318 accuracy: 0.486\n",
      "Epoch  7, CIFAR-10 Batch 1:  trainging cost: 1.36302 accuracy: 0.525\n",
      "validation cost: 1.42402 accuracy: 0.5036\n",
      "Epoch  7, CIFAR-10 Batch 2:  trainging cost: 0.981201 accuracy: 0.625\n",
      "validation cost: 1.45372 accuracy: 0.4878\n",
      "Epoch  8, CIFAR-10 Batch 1:  trainging cost: 1.31481 accuracy: 0.525\n",
      "validation cost: 1.40949 accuracy: 0.508\n",
      "Epoch  8, CIFAR-10 Batch 2:  trainging cost: 0.900914 accuracy: 0.675\n",
      "validation cost: 1.45922 accuracy: 0.4898\n",
      "Epoch  9, CIFAR-10 Batch 1:  trainging cost: 1.28165 accuracy: 0.55\n",
      "validation cost: 1.39706 accuracy: 0.5138\n",
      "Epoch  9, CIFAR-10 Batch 2:  trainging cost: 0.830051 accuracy: 0.7\n",
      "validation cost: 1.45315 accuracy: 0.4922\n",
      "Epoch 10, CIFAR-10 Batch 1:  trainging cost: 1.2464 accuracy: 0.575\n",
      "validation cost: 1.39114 accuracy: 0.5184\n",
      "Epoch 10, CIFAR-10 Batch 2:  trainging cost: 0.783278 accuracy: 0.7\n",
      "validation cost: 1.45917 accuracy: 0.4954\n"
     ]
    }
   ],
   "source": [
    "\"\"\"\n",
    "DON'T MODIFY ANYTHING IN THIS CELL\n",
    "\"\"\"\n",
    "save_model_path = './image_classification'\n",
    "\n",
    "print('Training...')\n",
    "with tf.Session() as sess:\n",
    "    # Initializing the variables\n",
    "    sess.run(tf.global_variables_initializer())\n",
    "    \n",
    "    # Training cycle\n",
    "    for epoch in range(epochs):\n",
    "        # Loop over all batches, i.e. 5 batches total\n",
    "        n_batches = 2\n",
    "        for batch_i in range(1, n_batches + 1):\n",
    "            for batch_features, batch_labels in helper.load_preprocess_training_batch(batch_i, batch_size):\n",
    "                train_neural_network(sess, optimizer, batch_features, batch_labels)\n",
    "            print('Epoch {:>2}, CIFAR-10 Batch {}:  '.format(epoch + 1, batch_i), end='')\n",
    "            print_stats(sess, batch_features, batch_labels, cost, accuracy)\n",
    "            \n",
    "    # Save Model\n",
    "    saver = tf.train.Saver()\n",
    "    save_path = saver.save(sess, save_model_path)"
   ]
  },
  {
   "cell_type": "markdown",
   "metadata": {
    "deletable": true,
    "editable": true
   },
   "source": [
    "# Checkpoint\n",
    "The model has been saved to disk.\n",
    "## Test Model\n",
    "Test your model against the test dataset.  This will be your final accuracy. You should have an accuracy greater than 50%. If you don't, keep tweaking the model architecture and parameters."
   ]
  },
  {
   "cell_type": "code",
   "execution_count": 120,
   "metadata": {
    "collapsed": false,
    "deletable": true,
    "editable": true
   },
   "outputs": [
    {
     "ename": "KeyError",
     "evalue": "\"The name 'x_1xijk:0' refers to a Tensor which does not exist. The operation, 'x_1xijk', does not exist in the graph.\"",
     "output_type": "error",
     "traceback": [
      "\u001b[0;31m---------------------------------------------------------------------------\u001b[0m",
      "\u001b[0;31mKeyError\u001b[0m                                  Traceback (most recent call last)",
      "\u001b[0;32m<ipython-input-120-641afda0330f>\u001b[0m in \u001b[0;36m<module>\u001b[0;34m()\u001b[0m\n\u001b[1;32m     60\u001b[0m \u001b[0;34m\u001b[0m\u001b[0m\n\u001b[1;32m     61\u001b[0m \u001b[0;34m\u001b[0m\u001b[0m\n\u001b[0;32m---> 62\u001b[0;31m \u001b[0mtest_model\u001b[0m\u001b[0;34m(\u001b[0m\u001b[0;34m)\u001b[0m\u001b[0;34m\u001b[0m\u001b[0m\n\u001b[0m",
      "\u001b[0;32m<ipython-input-120-641afda0330f>\u001b[0m in \u001b[0;36mtest_model\u001b[0;34m()\u001b[0m\n\u001b[1;32m     35\u001b[0m \u001b[0;34m\u001b[0m\u001b[0m\n\u001b[1;32m     36\u001b[0m         \u001b[0;31m# Get Tensors from loaded model\u001b[0m\u001b[0;34m\u001b[0m\u001b[0;34m\u001b[0m\u001b[0m\n\u001b[0;32m---> 37\u001b[0;31m         \u001b[0mloaded_x\u001b[0m \u001b[0;34m=\u001b[0m \u001b[0mloaded_graph\u001b[0m\u001b[0;34m.\u001b[0m\u001b[0mget_tensor_by_name\u001b[0m\u001b[0;34m(\u001b[0m\u001b[0;34m'x_1xijk:0'\u001b[0m\u001b[0;34m)\u001b[0m\u001b[0;34m\u001b[0m\u001b[0m\n\u001b[0m\u001b[1;32m     38\u001b[0m         \u001b[0mloaded_y\u001b[0m \u001b[0;34m=\u001b[0m \u001b[0mloaded_graph\u001b[0m\u001b[0;34m.\u001b[0m\u001b[0mget_tensor_by_name\u001b[0m\u001b[0;34m(\u001b[0m\u001b[0;34m'y_1xm_labels:0'\u001b[0m\u001b[0;34m)\u001b[0m\u001b[0;34m\u001b[0m\u001b[0m\n\u001b[1;32m     39\u001b[0m         \u001b[0mloaded_logits\u001b[0m \u001b[0;34m=\u001b[0m \u001b[0mloaded_graph\u001b[0m\u001b[0;34m.\u001b[0m\u001b[0mget_tensor_by_name\u001b[0m\u001b[0;34m(\u001b[0m\u001b[0;34m'logits:0'\u001b[0m\u001b[0;34m)\u001b[0m\u001b[0;34m\u001b[0m\u001b[0m\n",
      "\u001b[0;32m/Users/arasdar/anaconda3/envs/new_env_test_tf/lib/python3.5/site-packages/tensorflow/python/framework/ops.py\u001b[0m in \u001b[0;36mget_tensor_by_name\u001b[0;34m(self, name)\u001b[0m\n\u001b[1;32m   2620\u001b[0m       raise TypeError(\"Tensor names are strings (or similar), not %s.\"\n\u001b[1;32m   2621\u001b[0m                       % type(name).__name__)\n\u001b[0;32m-> 2622\u001b[0;31m     \u001b[0;32mreturn\u001b[0m \u001b[0mself\u001b[0m\u001b[0;34m.\u001b[0m\u001b[0mas_graph_element\u001b[0m\u001b[0;34m(\u001b[0m\u001b[0mname\u001b[0m\u001b[0;34m,\u001b[0m \u001b[0mallow_tensor\u001b[0m\u001b[0;34m=\u001b[0m\u001b[0;32mTrue\u001b[0m\u001b[0;34m,\u001b[0m \u001b[0mallow_operation\u001b[0m\u001b[0;34m=\u001b[0m\u001b[0;32mFalse\u001b[0m\u001b[0;34m)\u001b[0m\u001b[0;34m\u001b[0m\u001b[0m\n\u001b[0m\u001b[1;32m   2623\u001b[0m \u001b[0;34m\u001b[0m\u001b[0m\n\u001b[1;32m   2624\u001b[0m   \u001b[0;32mdef\u001b[0m \u001b[0m_next_id\u001b[0m\u001b[0;34m(\u001b[0m\u001b[0mself\u001b[0m\u001b[0;34m)\u001b[0m\u001b[0;34m:\u001b[0m\u001b[0;34m\u001b[0m\u001b[0m\n",
      "\u001b[0;32m/Users/arasdar/anaconda3/envs/new_env_test_tf/lib/python3.5/site-packages/tensorflow/python/framework/ops.py\u001b[0m in \u001b[0;36mas_graph_element\u001b[0;34m(self, obj, allow_tensor, allow_operation)\u001b[0m\n\u001b[1;32m   2471\u001b[0m \u001b[0;34m\u001b[0m\u001b[0m\n\u001b[1;32m   2472\u001b[0m     \u001b[0;32mwith\u001b[0m \u001b[0mself\u001b[0m\u001b[0;34m.\u001b[0m\u001b[0m_lock\u001b[0m\u001b[0;34m:\u001b[0m\u001b[0;34m\u001b[0m\u001b[0m\n\u001b[0;32m-> 2473\u001b[0;31m       \u001b[0;32mreturn\u001b[0m \u001b[0mself\u001b[0m\u001b[0;34m.\u001b[0m\u001b[0m_as_graph_element_locked\u001b[0m\u001b[0;34m(\u001b[0m\u001b[0mobj\u001b[0m\u001b[0;34m,\u001b[0m \u001b[0mallow_tensor\u001b[0m\u001b[0;34m,\u001b[0m \u001b[0mallow_operation\u001b[0m\u001b[0;34m)\u001b[0m\u001b[0;34m\u001b[0m\u001b[0m\n\u001b[0m\u001b[1;32m   2474\u001b[0m \u001b[0;34m\u001b[0m\u001b[0m\n\u001b[1;32m   2475\u001b[0m   \u001b[0;32mdef\u001b[0m \u001b[0m_as_graph_element_locked\u001b[0m\u001b[0;34m(\u001b[0m\u001b[0mself\u001b[0m\u001b[0;34m,\u001b[0m \u001b[0mobj\u001b[0m\u001b[0;34m,\u001b[0m \u001b[0mallow_tensor\u001b[0m\u001b[0;34m,\u001b[0m \u001b[0mallow_operation\u001b[0m\u001b[0;34m)\u001b[0m\u001b[0;34m:\u001b[0m\u001b[0;34m\u001b[0m\u001b[0m\n",
      "\u001b[0;32m/Users/arasdar/anaconda3/envs/new_env_test_tf/lib/python3.5/site-packages/tensorflow/python/framework/ops.py\u001b[0m in \u001b[0;36m_as_graph_element_locked\u001b[0;34m(self, obj, allow_tensor, allow_operation)\u001b[0m\n\u001b[1;32m   2513\u001b[0m           raise KeyError(\"The name %s refers to a Tensor which does not \"\n\u001b[1;32m   2514\u001b[0m                          \u001b[0;34m\"exist. The operation, %s, does not exist in the \"\u001b[0m\u001b[0;34m\u001b[0m\u001b[0m\n\u001b[0;32m-> 2515\u001b[0;31m                          \"graph.\" % (repr(name), repr(op_name)))\n\u001b[0m\u001b[1;32m   2516\u001b[0m         \u001b[0;32mtry\u001b[0m\u001b[0;34m:\u001b[0m\u001b[0;34m\u001b[0m\u001b[0m\n\u001b[1;32m   2517\u001b[0m           \u001b[0;32mreturn\u001b[0m \u001b[0mop\u001b[0m\u001b[0;34m.\u001b[0m\u001b[0moutputs\u001b[0m\u001b[0;34m[\u001b[0m\u001b[0mout_n\u001b[0m\u001b[0;34m]\u001b[0m\u001b[0;34m\u001b[0m\u001b[0m\n",
      "\u001b[0;31mKeyError\u001b[0m: \"The name 'x_1xijk:0' refers to a Tensor which does not exist. The operation, 'x_1xijk', does not exist in the graph.\""
     ]
    }
   ],
   "source": [
    "\"\"\"\n",
    "DON'T MODIFY ANYTHING IN THIS CELL\n",
    "\"\"\"\n",
    "%matplotlib inline\n",
    "%config InlineBackend.figure_format = 'retina'\n",
    "\n",
    "import tensorflow as tf\n",
    "import pickle\n",
    "import helper\n",
    "import random\n",
    "\n",
    "# Set batch size if not already set\n",
    "try:\n",
    "    if batch_size:\n",
    "        pass\n",
    "except NameError:\n",
    "    batch_size = 64\n",
    "\n",
    "save_model_path = './image_classification'\n",
    "n_samples = 4\n",
    "top_n_predictions = 3\n",
    "\n",
    "def test_model():\n",
    "    \"\"\"\n",
    "    Test the saved model against the test dataset\n",
    "    \"\"\"\n",
    "\n",
    "    test_features, test_labels = pickle.load(open('preprocess_training.p', mode='rb'))\n",
    "    loaded_graph = tf.Graph()\n",
    "\n",
    "    with tf.Session(graph=loaded_graph) as sess:\n",
    "        # Load model\n",
    "        loader = tf.train.import_meta_graph(save_model_path + '.meta')\n",
    "        loader.restore(sess, save_model_path)\n",
    "\n",
    "        # Get Tensors from loaded model\n",
    "        loaded_x = loaded_graph.get_tensor_by_name('x:0')\n",
    "        loaded_y = loaded_graph.get_tensor_by_name('y:0')\n",
    "        loaded_logits = loaded_graph.get_tensor_by_name('logits:0')\n",
    "        loaded_acc = loaded_graph.get_tensor_by_name('accuracy:0')\n",
    "        \n",
    "        # Get accuracy in batches for memory limitations\n",
    "        test_batch_acc_total = 0\n",
    "        test_batch_count = 0\n",
    "        \n",
    "        for train_feature_batch, train_label_batch in helper.batch_features_labels(test_features, test_labels, batch_size):\n",
    "            test_batch_acc_total += sess.run(\n",
    "                loaded_acc,\n",
    "                feed_dict={loaded_x: train_feature_batch, loaded_y: train_label_batch})\n",
    "            test_batch_count += 1\n",
    "\n",
    "        print('Testing Accuracy: {}\\n'.format(test_batch_acc_total/test_batch_count))\n",
    "\n",
    "        # Print Random Samples\n",
    "        random_test_features, random_test_labels = tuple(zip(*random.sample(list(zip(test_features, test_labels)), n_samples)))\n",
    "        random_test_predictions = sess.run(\n",
    "            tf.nn.top_k(tf.nn.softmax(loaded_logits), top_n_predictions),\n",
    "            feed_dict={loaded_x: random_test_features, loaded_y: random_test_labels})\n",
    "        helper.display_image_predictions(random_test_features, random_test_labels, random_test_predictions)\n",
    "\n",
    "\n",
    "test_model()"
   ]
  },
  {
   "cell_type": "markdown",
   "metadata": {
    "deletable": true,
    "editable": true
   },
   "source": [
    "## Why 50-70% Accuracy?\n",
    "You might be wondering why you can't get an accuracy any higher. First things first, 50% isn't bad for a simple CNN.  Pure guessing would get you 10% accuracy. However, you might notice people are getting scores [well above 70%](http://rodrigob.github.io/are_we_there_yet/build/classification_datasets_results.html#43494641522d3130).  That's because we haven't taught you all there is to know about neural networks. We still need to cover a few more techniques.\n",
    "## Submitting This Project\n",
    "When submitting this project, make sure to run all the cells before saving the notebook.  Save the notebook file as \"dlnd_image_classification.ipynb\" and save it as a HTML file under \"File\" -> \"Download as\".  Include the \"helper.py\" and \"problem_unittests.py\" files in your submission."
   ]
  }
 ],
 "metadata": {
  "kernelspec": {
   "display_name": "Python 3",
   "language": "python",
   "name": "python3"
  },
  "language_info": {
   "codemirror_mode": {
    "name": "ipython",
    "version": 3
   },
   "file_extension": ".py",
   "mimetype": "text/x-python",
   "name": "python",
   "nbconvert_exporter": "python",
   "pygments_lexer": "ipython3",
   "version": "3.5.3"
  }
 },
 "nbformat": 4,
 "nbformat_minor": 0
}
