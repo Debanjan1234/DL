{
 "cells": [
  {
   "cell_type": "markdown",
   "metadata": {},
   "source": [
    "# Brain-Computer Interfaces (Fall 2017, ELE 594) \n",
    "# Instructor: Yalda Shahriari\n",
    "# 3th homework, 11/1/17 (The homework, is due by Nov 8th, 11:55 pm)."
   ]
  },
  {
   "cell_type": "markdown",
   "metadata": {},
   "source": [
    "Part 1:\n",
    "\n",
    "Instructions for part 1:\n",
    "In this part use the same dataset as you used for the first two homework.\n",
    "\n",
    "1- Pick two frequencies of 5 Hz and 25 Hz and electrode of Cz.\n",
    "\n",
    "Then perform complex Morlet wavelet convolution and filter-Hilbert using those two frequencies as the peak/ center frequencies for all trials.\n",
    "\n",
    "Plot the resulting power and the bandpass-filtered signal (that is, the real component of the analytic signal) from each method (you need to plot the average of all the trials). \n",
    "\n",
    "Describe some similarities and differences between the results of the two time-frequency decomposition methods.\n",
    "\n",
    "Note:\n",
    " You need to generate the analytic form of the signal similar to what “hilbert” Matlab\n",
    "function does.\n",
    "\n",
    " Do not use any pre-written Matlab function (e.g., “hilbert’) for generating your results."
   ]
  },
  {
   "cell_type": "markdown",
   "metadata": {},
   "source": [
    "Part 2:\n",
    "Instructions for part 2:\n",
    "\n",
    "In this part, use the dataset you recorded yourselves for eye blink, eye closed, eye open, and teeth clench conditions.\n",
    "\n",
    "2-\n",
    "(a) Compute the power spectral density (PSD) of the entire eyes open and eyes closed conditions for channel “Oz”. \n",
    "\n",
    "Plot the resulting PSD from 0-70 Hz (i.e., both eyes open and eyes closed conditions in one plot) in the same plot, \n",
    "with separate subplots for each subject. \n",
    "\n",
    "Be sure to use common axis with clear labels for each subject.\n",
    "\n",
    "Hint: For PSD use 256-pt pwelch Matlab function. \n",
    "    \n",
    "For parameters, use windows of 1-second with 50% overlap. \n",
    "\n",
    "All the PSD plots should be in 10log10 scale.\n",
    "\n",
    "(b) Identify the peak alpha frequency for each subject and plot the topographies for the eyes open and closed condition. \n",
    "\n",
    "Use separate subplots and colorbars for each subject."
   ]
  },
  {
   "cell_type": "code",
   "execution_count": null,
   "metadata": {
    "collapsed": true
   },
   "outputs": [],
   "source": []
  }
 ],
 "metadata": {
  "kernelspec": {
   "display_name": "Python 3",
   "language": "python",
   "name": "python3"
  },
  "language_info": {
   "codemirror_mode": {
    "name": "ipython",
    "version": 3
   },
   "file_extension": ".py",
   "mimetype": "text/x-python",
   "name": "python",
   "nbconvert_exporter": "python",
   "pygments_lexer": "ipython3",
   "version": "3.5.1"
  }
 },
 "nbformat": 4,
 "nbformat_minor": 2
}
