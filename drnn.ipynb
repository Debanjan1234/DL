{
 "cells": [
  {
   "cell_type": "code",
   "execution_count": 128,
   "metadata": {
    "collapsed": true
   },
   "outputs": [],
   "source": [
    "import sys\n",
    "import numpy as np\n",
    "import impl.RNN as rnn\n",
    "import impl.solver as solver"
   ]
  },
  {
   "cell_type": "code",
   "execution_count": 129,
   "metadata": {
    "collapsed": true
   },
   "outputs": [],
   "source": [
    "# if __name__ == '__main__':\n",
    "with open('data/text_data/japan.txt', 'r') as f:\n",
    "    txt = f.read()\n",
    "\n",
    "    X = []\n",
    "    y = []\n",
    "\n",
    "    char_to_idx = {char: i for i, char in enumerate(set(txt))}\n",
    "    idx_to_char = {i: char for i, char in enumerate(set(txt))}\n",
    "\n",
    "    X = np.array([char_to_idx[x] for x in txt])\n",
    "    y = [char_to_idx[x] for x in txt[1:]]\n",
    "    y.append(char_to_idx['.'])\n",
    "    y = np.array(y)"
   ]
  },
  {
   "cell_type": "code",
   "execution_count": 130,
   "metadata": {
    "collapsed": true
   },
   "outputs": [],
   "source": [
    "vocab_size = len(char_to_idx)\n",
    "\n",
    "# hyper parameters\n",
    "time_step = 30\n",
    "n_iter = 13000 # epochs\n",
    "alpha = 1e-3\n",
    "print_after = 1000\n",
    "H = 64"
   ]
  },
  {
   "cell_type": "code",
   "execution_count": 143,
   "metadata": {
    "collapsed": true
   },
   "outputs": [],
   "source": [
    "import numpy as np\n",
    "import impl.loss as loss_fun\n",
    "import impl.layer as l\n",
    "import impl.regularization as reg\n",
    "import impl.utils as util\n",
    "import impl.NN as nn\n",
    "\n",
    "class RNN(nn.NN):\n",
    "\n",
    "    def __init__(self, D, H, char2idx, idx2char):\n",
    "        self.D = D\n",
    "        self.H = H\n",
    "        self.char2idx = char2idx\n",
    "        self.idx2char = idx2char\n",
    "        self.vocab_size = len(char2idx)\n",
    "        super().__init__(D, D, H, None, None, loss='cross_ent', nonlin='relu')\n",
    "\n",
    "    def initial_state(self):\n",
    "        return np.zeros((1, self.H))\n",
    "\n",
    "    def forward(self, X, h, num_layer, train=True):\n",
    "        model = self.models[num_layer-1]\n",
    "        Wxh, Whh, Why = model['Wxh'], model['Whh'], model['Why']\n",
    "        bh, by = model['bh'], model['by']\n",
    "\n",
    "        hprev = h.copy()\n",
    "\n",
    "        h, h_cache = l.tanh_forward(X @ Wxh + hprev @ Whh + bh)\n",
    "        y, y_cache = l.fc_forward(h, Why, by)\n",
    "\n",
    "        cache = X, Whh, h, hprev, y, h_cache, y_cache, Wxh\n",
    "\n",
    "        if not train:\n",
    "            y = util.softmax(y)\n",
    "\n",
    "        return y, h, cache\n",
    "\n",
    "    def backward(self, dy, dh_next, cache):\n",
    "        X, Whh, h, hprev, y, h_cache, y_cache, Wxh = cache\n",
    "\n",
    "        # Hidden to output gradient\n",
    "        dh, dWhy, dby = l.fc_backward(dy, y_cache)\n",
    "        dh += dh_next\n",
    "        dby = dby.reshape((1, -1))\n",
    "\n",
    "        # tanh\n",
    "        dh = l.tanh_backward(dh, h_cache)\n",
    "\n",
    "        # Hidden gradient\n",
    "        dbh = dh\n",
    "        dWhh = hprev.T @ dh\n",
    "        dWxh = X.T @ dh\n",
    "        dh_next = dh @ Whh.T\n",
    "        dX = dh @ Wxh.T\n",
    "\n",
    "        grad = dict(Wxh=dWxh, Whh=dWhh, Why=dWhy, bh=dbh, by=dby)\n",
    "\n",
    "        return grad, dh_next, dX\n",
    "\n",
    "    def _init_model(self, D, C, H):\n",
    "        self.models = []\n",
    "        total_num_layers = 1\n",
    "        for l in range(total_num_layers):\n",
    "            model = dict(\n",
    "                Wxh=np.random.randn(D, H) / np.sqrt(D / 2.),\n",
    "                Whh=np.random.randn(H, H) / np.sqrt(H / 2.),\n",
    "                Why=np.random.randn(H, D) / np.sqrt(C / 2.),\n",
    "                bh=np.zeros((1, H)),\n",
    "                by=np.zeros((1, D))\n",
    "            )\n",
    "            self.models.append(model)\n",
    "            \n",
    "    def train_step_fwd(self, X_train, y_train, h):\n",
    "        ys, caches = [], []\n",
    "        h_ = h.copy()\n",
    "#         h_2 = h.copy()\n",
    "        for X in X_train:\n",
    "            X_one_hot = np.zeros(self.D)\n",
    "            X_one_hot[X] = 1.\n",
    "            x = X_one_hot.reshape(1, -1)\n",
    "            x, h_, cache = self.forward(x, h_, train=True, num_layer=1)\n",
    "#             x, h_2, cache2 = self.forward(x, h_2, train=True, num_layer=2)\n",
    "            ys.append(x)\n",
    "            caches.append(cache)\n",
    "#             caches.append(cache2)\n",
    "            \n",
    "        return ys, caches\n",
    "\n",
    "    def train_step_bwd(self, X_train, y_train, ys, caches):\n",
    "\n",
    "        # Error\n",
    "        loss, dys, grads_ = 0.0, [], []\n",
    "        for y_pred, y in zip(ys, y_train):\n",
    "            loss += loss_fun.cross_entropy(self.models[0], y_pred, y, lam=0)/ y_train.shape[0] # last layer\n",
    "            dy = loss_fun.dcross_entropy(y_pred, y)\n",
    "            dys.append(dy)\n",
    "\n",
    "        # Grads\n",
    "        dh_next = np.zeros((1, self.H))\n",
    "        grads = {k: np.zeros_like(v) for k, v in self.models[0].items()}\n",
    "#         dh_next2 = np.zeros((1, self.H))\n",
    "#         grads2 = {k: np.zeros_like(v) for k, v in self.models[1].items()} # for the 2nd layer\n",
    "        for t in reversed(range(len(dys))):\n",
    "#             grad2, dh_next2, dX = self.backward(dys[t], dh_next2, caches[t+1]) # self.model[1] == 2nd layer\n",
    "            grad, dh_next, dX = self.backward(dys[t], dh_next, caches[t]) # self.model[0] == 1st layer\n",
    "            for k in grads.keys():\n",
    "                grads[k] += grad[k]\n",
    "#                 grads2[k] += grad2[k]                \n",
    "        grads_.append(grads)\n",
    "#         grads_.append(grads2)\n",
    "\n",
    "        return grads_, loss"
   ]
  },
  {
   "cell_type": "code",
   "execution_count": 144,
   "metadata": {},
   "outputs": [],
   "source": [
    "net = RNN(D=vocab_size, H=H, char2idx=char_to_idx, idx2char=idx_to_char)"
   ]
  },
  {
   "cell_type": "code",
   "execution_count": 145,
   "metadata": {
    "collapsed": true
   },
   "outputs": [],
   "source": [
    "import numpy as np\n",
    "import impl.utils as util\n",
    "import impl.constant as c\n",
    "import copy\n",
    "from sklearn.utils import shuffle as skshuffle\n",
    "\n",
    "def get_minibatch(X, y, minibatch_size, shuffle=True):\n",
    "    minibatches = []\n",
    "\n",
    "    if shuffle:\n",
    "        X, y = skshuffle(X, y)\n",
    "\n",
    "    for i in range(0, X.shape[0], minibatch_size):\n",
    "        X_mini = X[i:i + minibatch_size]\n",
    "        y_mini = y[i:i + minibatch_size]\n",
    "\n",
    "        minibatches.append((X_mini, y_mini))\n",
    "\n",
    "    return minibatches\n",
    "\n",
    "def adam_rnn(nn, X_train, y_train, alpha=0.001, mb_size=256, n_iter=2000, print_after=100):\n",
    "    minibatches = get_minibatch(X_train, y_train, mb_size, shuffle=False)\n",
    "\n",
    "    idx = 0\n",
    "    state = nn.initial_state()\n",
    "    smooth_loss = -np.log(1.0 / len(set(X_train)))\n",
    "\n",
    "    M_, R_ = [], []\n",
    "    for l in range(len(nn.models)): # l stands for layer number\n",
    "        M = {k: np.zeros_like(v) for k, v in nn.models[l].items()}\n",
    "        R = {k: np.zeros_like(v) for k, v in nn.models[l].items()}\n",
    "        M_.append(M)\n",
    "        R_.append(R)\n",
    "    beta1 = .9\n",
    "    beta2 = .999\n",
    "\n",
    "    for iter in range(1, n_iter + 1):\n",
    "        t = iter\n",
    "\n",
    "        if idx >= len(minibatches):\n",
    "            idx = 0\n",
    "            state = nn.initial_state()\n",
    "\n",
    "        X_mini, y_mini = minibatches[idx]\n",
    "        idx += 1\n",
    "\n",
    "        if iter % print_after == 0:\n",
    "            print('Iter-{} loss: {:.4f}'.format(iter, smooth_loss))\n",
    "\n",
    "        #             # Testing can be completed once we make sure the training is done and is validated.\n",
    "        #             sample = nn.test_step_fwd(X_mini[0], state)\n",
    "        #             print(sample)\n",
    "\n",
    "        ys_, caches_ = nn.train_step_fwd(X_mini, y_mini, state)\n",
    "        grads_, loss = nn.train_step_bwd(X_mini, y_mini, ys_, caches_)\n",
    "        smooth_loss = 0.999 * smooth_loss + 0.001 * loss\n",
    "\n",
    "        for l in range(len(nn.models)):\n",
    "            for k in nn.models[0].keys():\n",
    "                M_[l][k] = util.exp_running_avg(M_[l][k], grads_[l][k], beta1)\n",
    "                R_[l][k] = util.exp_running_avg(R_[l][k], grads_[l][k]**2, beta2)\n",
    "\n",
    "                m_k_hat = M_[l][k] / (1. - beta1**(t))\n",
    "                r_k_hat = R_[l][k] / (1. - beta2**(t))\n",
    "\n",
    "                nn.models[l][k] -= alpha * m_k_hat / (np.sqrt(r_k_hat) + c.eps)\n",
    "\n",
    "    return nn"
   ]
  },
  {
   "cell_type": "code",
   "execution_count": 146,
   "metadata": {},
   "outputs": [
    {
     "name": "stdout",
     "output_type": "stream",
     "text": [
      "Iter-1000 loss: 3.3698\n",
      "Iter-2000 loss: 2.6147\n",
      "Iter-3000 loss: 2.1153\n",
      "Iter-4000 loss: 1.7936\n",
      "Iter-5000 loss: 1.5697\n",
      "Iter-6000 loss: 1.3930\n",
      "Iter-7000 loss: 1.2623\n",
      "Iter-8000 loss: 1.1591\n",
      "Iter-9000 loss: 1.0733\n",
      "Iter-10000 loss: 0.9972\n",
      "Iter-11000 loss: 0.9389\n",
      "Iter-12000 loss: 0.8755\n",
      "Iter-13000 loss: 0.8362\n"
     ]
    },
    {
     "data": {
      "text/plain": [
       "<__main__.RNN at 0x10f816cc0>"
      ]
     },
     "execution_count": 146,
     "metadata": {},
     "output_type": "execute_result"
    }
   ],
   "source": [
    "adam_rnn(nn=net, X_train=X, y_train=y, alpha=alpha, mb_size=time_step, n_iter=n_iter, \n",
    "                print_after=print_after)"
   ]
  },
  {
   "cell_type": "code",
   "execution_count": null,
   "metadata": {
    "collapsed": true
   },
   "outputs": [],
   "source": []
  }
 ],
 "metadata": {
  "kernelspec": {
   "display_name": "Python 3",
   "language": "python",
   "name": "python3"
  },
  "language_info": {
   "codemirror_mode": {
    "name": "ipython",
    "version": 3
   },
   "file_extension": ".py",
   "mimetype": "text/x-python",
   "name": "python",
   "nbconvert_exporter": "python",
   "pygments_lexer": "ipython3",
   "version": "3.5.1"
  }
 },
 "nbformat": 4,
 "nbformat_minor": 2
}
