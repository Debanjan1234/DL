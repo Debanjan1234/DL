{
 "cells": [
  {
   "cell_type": "code",
   "execution_count": 1,
   "metadata": {
    "collapsed": true
   },
   "outputs": [],
   "source": [
    "import sys\n",
    "import numpy as np\n",
    "import impl.RNN as rnn\n",
    "import impl.solver as solver"
   ]
  },
  {
   "cell_type": "code",
   "execution_count": 2,
   "metadata": {
    "collapsed": true
   },
   "outputs": [],
   "source": [
    "# if __name__ == '__main__':\n",
    "with open('data/text_data/japan.txt', 'r') as f:\n",
    "    txt = f.read()\n",
    "\n",
    "    X = []\n",
    "    y = []\n",
    "\n",
    "    char_to_idx = {char: i for i, char in enumerate(set(txt))}\n",
    "    idx_to_char = {i: char for i, char in enumerate(set(txt))}\n",
    "\n",
    "    X = np.array([char_to_idx[x] for x in txt])\n",
    "    y = [char_to_idx[x] for x in txt[1:]]\n",
    "    y.append(char_to_idx['.'])\n",
    "    y = np.array(y)"
   ]
  },
  {
   "cell_type": "code",
   "execution_count": 117,
   "metadata": {
    "collapsed": true
   },
   "outputs": [],
   "source": [
    "vocab_size = len(char_to_idx)\n",
    "\n",
    "# hyper parameters\n",
    "time_step = 20\n",
    "n_iter = 13000 # epochs\n",
    "alpha = 1e-3\n",
    "print_after = 1000\n",
    "H = 64"
   ]
  },
  {
   "cell_type": "code",
   "execution_count": 113,
   "metadata": {
    "collapsed": false
   },
   "outputs": [],
   "source": [
    "import numpy as np\n",
    "import impl.loss as loss_fun\n",
    "import impl.layer as l\n",
    "import impl.regularization as reg\n",
    "import impl.utils as util\n",
    "import impl.NN as nn\n",
    "\n",
    "class RNN(nn.NN):\n",
    "\n",
    "    def __init__(self, D, H, char2idx, idx2char):\n",
    "        self.D = D\n",
    "        self.H = H\n",
    "        self.char2idx = char2idx\n",
    "        self.idx2char = idx2char\n",
    "        self.vocab_size = len(char2idx)\n",
    "        super().__init__(D, D, H, None, None, loss='cross_ent', nonlin='relu')\n",
    "\n",
    "    def initial_state(self):\n",
    "        return np.zeros((1, self.H))\n",
    "\n",
    "    def forward(self, X, h, train=True):\n",
    "        Wxh, Whh, Why = self.model['Wxh'], self.model['Whh'], self.model['Why']\n",
    "        bh, by = self.model['bh'], self.model['by']\n",
    "\n",
    "        X_one_hot = np.zeros(self.D)\n",
    "        X_one_hot[X] = 1.\n",
    "        X_one_hot = X_one_hot.reshape(1, -1)\n",
    "\n",
    "        hprev = h.copy()\n",
    "\n",
    "        h, h_cache = l.tanh_forward(X_one_hot @ Wxh + hprev @ Whh + bh)\n",
    "        y, y_cache = l.fc_forward(h, Why, by)\n",
    "\n",
    "        cache = (X_one_hot, Whh, h, hprev, y, h_cache, y_cache)\n",
    "\n",
    "        if not train:\n",
    "            y = util.softmax(y)\n",
    "\n",
    "        return y, h, cache\n",
    "\n",
    "    def backward(self, y_pred, y_train, dh_next, cache):\n",
    "        X, Whh, h, hprev, y, h_cache, y_cache = cache\n",
    "\n",
    "        # Softmax gradient\n",
    "        dy = loss_fun.dcross_entropy(y_pred, y_train)\n",
    "\n",
    "        # Hidden to output gradient\n",
    "        dh, dWhy, dby = l.fc_backward(dy, y_cache)\n",
    "        dh += dh_next\n",
    "        dby = dby.reshape((1, -1))\n",
    "\n",
    "        # tanh\n",
    "        dh = l.tanh_backward(dh, h_cache)\n",
    "\n",
    "        # Hidden gradient\n",
    "        dbh = dh\n",
    "        dWhh = hprev.T @ dh\n",
    "        dWxh = X.T @ dh\n",
    "        dh_next = dh @ Whh.T\n",
    "\n",
    "        grad = dict(Wxh=dWxh, Whh=dWhh, Why=dWhy, bh=dbh, by=dby)\n",
    "\n",
    "        return grad, dh_next\n",
    "\n",
    "    def train_step_fwd(self, X_train, y_train, h):\n",
    "        ys = []\n",
    "        caches = []\n",
    "        loss = 0.\n",
    "\n",
    "        # Forward\n",
    "        for x, y in zip(X_train, y_train):\n",
    "            y_pred, h, cache = self.forward(x, h, train=True)\n",
    "            loss += loss_fun.cross_entropy(self.model, y_pred, y, lam=0)\n",
    "            ys.append(y_pred)\n",
    "            caches.append(cache)\n",
    "\n",
    "        loss /= X_train.shape[0]\n",
    "        \n",
    "        return ys, caches, loss\n",
    "\n",
    "    def train_step_bwd(self, X_train, y_train, ys, caches):\n",
    "        # Backward\n",
    "        dh_next = np.zeros((1, self.H))\n",
    "        grads = {k: np.zeros_like(v) for k, v in self.model.items()}\n",
    "\n",
    "        for t in reversed(range(len(X_train))):\n",
    "            grad, dh_next = self.backward(ys[t], y_train[t], dh_next, caches[t])\n",
    "\n",
    "            for k in grads.keys():\n",
    "                grads[k] += grad[k]\n",
    "\n",
    "        for k, v in grads.items():\n",
    "            grads[k] = np.clip(v, -5., 5.)\n",
    "\n",
    "        return grads\n",
    "\n",
    "    def sample(self, X_seed, h, size=100):\n",
    "        chars = [self.idx2char[X_seed]]\n",
    "        idx_list = list(range(self.vocab_size))\n",
    "        X = X_seed\n",
    "\n",
    "        for _ in range(size - 1):\n",
    "            prob, h, _ = self.forward(X, h, train=False)\n",
    "            idx = np.random.choice(idx_list, p=prob.ravel())\n",
    "            chars.append(self.idx2char[idx])\n",
    "            X = idx\n",
    "\n",
    "        return ''.join(chars)\n",
    "\n",
    "    def _init_model(self, D, C, H):\n",
    "        self.model = dict(\n",
    "            Wxh=np.random.randn(D, H) / np.sqrt(D / 2.),\n",
    "            Whh=np.random.randn(H, H) / np.sqrt(H / 2.),\n",
    "            Why=np.random.randn(H, D) / np.sqrt(C / 2.),\n",
    "            bh=np.zeros((1, H)),\n",
    "            by=np.zeros((1, D))\n",
    "        )"
   ]
  },
  {
   "cell_type": "code",
   "execution_count": 114,
   "metadata": {
    "collapsed": false
   },
   "outputs": [],
   "source": [
    "net = RNN(D=vocab_size, H=H, char2idx=char_to_idx, idx2char=idx_to_char)"
   ]
  },
  {
   "cell_type": "code",
   "execution_count": 115,
   "metadata": {
    "collapsed": true
   },
   "outputs": [],
   "source": [
    "import numpy as np\n",
    "import impl.utils as util\n",
    "import impl.constant as c\n",
    "import copy\n",
    "from sklearn.utils import shuffle as skshuffle\n",
    "\n",
    "def get_minibatch(X, y, minibatch_size, shuffle=True):\n",
    "    minibatches = []\n",
    "\n",
    "    if shuffle:\n",
    "        X, y = skshuffle(X, y)\n",
    "\n",
    "    for i in range(0, X.shape[0], minibatch_size):\n",
    "        X_mini = X[i:i + minibatch_size]\n",
    "        y_mini = y[i:i + minibatch_size]\n",
    "\n",
    "        minibatches.append((X_mini, y_mini))\n",
    "\n",
    "    return minibatches\n",
    "\n",
    "def adam_rnn(nn, X_train, y_train, alpha=0.001, mb_size=256, n_iter=2000, print_after=100):\n",
    "    M = {k: np.zeros_like(v) for k, v in nn.model.items()}\n",
    "    R = {k: np.zeros_like(v) for k, v in nn.model.items()}\n",
    "    beta1 = .9\n",
    "    beta2 = .999\n",
    "\n",
    "    minibatches = get_minibatch(X_train, y_train, mb_size, shuffle=False)\n",
    "\n",
    "    idx = 0\n",
    "    state = nn.initial_state()\n",
    "    smooth_loss = -np.log(1.0 / len(set(X_train)))\n",
    "\n",
    "    for iter in range(1, n_iter + 1):\n",
    "        t = iter\n",
    "\n",
    "        if idx >= len(minibatches):\n",
    "            idx = 0\n",
    "            state = nn.initial_state()\n",
    "\n",
    "        X_mini, y_mini = minibatches[idx]\n",
    "        idx += 1\n",
    "\n",
    "        if iter % print_after == 0:\n",
    "            print(\"=========================================================================\")\n",
    "            print('Iter-{} loss: {:.4f}'.format(iter, smooth_loss))\n",
    "            print(\"=========================================================================\")\n",
    "\n",
    "            sample = nn.sample(X_mini[0], state, 100)\n",
    "            print(sample)\n",
    "\n",
    "            print(\"=========================================================================\")\n",
    "            print()\n",
    "            print()\n",
    "\n",
    "        ys, caches, loss = nn.train_step_fwd(X_mini, y_mini, state)\n",
    "        smooth_loss = 0.999 * smooth_loss + 0.001 * loss\n",
    "\n",
    "        grad = nn.train_step_bwd(X_mini, y_mini, ys, caches)\n",
    "\n",
    "        for k in grad:\n",
    "            M[k] = util.exp_running_avg(M[k], grad[k], beta1)\n",
    "            R[k] = util.exp_running_avg(R[k], grad[k]**2, beta2)\n",
    "\n",
    "            m_k_hat = M[k] / (1. - beta1**(t))\n",
    "            r_k_hat = R[k] / (1. - beta2**(t))\n",
    "\n",
    "            nn.model[k] -= alpha * m_k_hat / (np.sqrt(r_k_hat) + c.eps)\n",
    "\n",
    "    return nn"
   ]
  },
  {
   "cell_type": "code",
   "execution_count": 116,
   "metadata": {
    "collapsed": false
   },
   "outputs": [
    {
     "name": "stdout",
     "output_type": "stream",
     "text": [
      "=========================================================================\n",
      "Iter-1000 loss: 3.4016\n",
      "=========================================================================\n",
      "iJixrirc rsagescirre7t epitnr  tcdg1siny pan tr thec ig atr ofstiiciat2raceomlhe pan5l pkreene Thy i\n",
      "=========================================================================\n",
      "\n",
      "\n",
      "=========================================================================\n",
      "Iter-2000 loss: 2.6792\n",
      "=========================================================================\n",
      "opinu on lonht, ly ity ony aes ames If Japan wod pmn ed Wtho  fourba, lskylorv'r the pirnt 1 hed bvi\n",
      "=========================================================================\n",
      "\n",
      "\n",
      "=========================================================================\n",
      "Iter-3000 loss: 2.1935\n",
      "=========================================================================\n",
      "tyo. Fhiviry mrun 17 5a lersgl tye chfets-at the tadbt Oestte sarlert kforn rangestk. Smarka arkg an\n",
      "=========================================================================\n",
      "\n",
      "\n",
      "=========================================================================\n",
      "Iter-4000 loss: 1.8709\n",
      "=========================================================================\n",
      "xpesonr Sinto. Foflthe nheg. the ome\n",
      "-7ar as denFv9oh to ed indes ins 2ve prons tha lesolat is one y\n",
      "=========================================================================\n",
      "\n",
      "\n",
      "=========================================================================\n",
      "Iter-5000 loss: 1.6450\n",
      "=========================================================================\n",
      "ed.le f of the Forchan tnl in th  by noun iinatoky. Jhill iryalst mhelatr cO perse aun a2is . litis \n",
      "=========================================================================\n",
      "\n",
      "\n",
      "=========================================================================\n",
      "Iter-6000 loss: 1.4822\n",
      "=========================================================================\n",
      "d Whr a disinu he Comitht hillomcitarichain Sialinf ine0th iontm-Japanges. Japan es an of o mipar wi\n",
      "=========================================================================\n",
      "\n",
      "\n",
      "=========================================================================\n",
      "Iter-7000 loss: 1.3578\n",
      "=========================================================================\n",
      "e ofollaresy  so thiss1staleonse obyd Jmparise iortheswioAsitiche tha byuke Ghich inhakaist ccoregvP\n",
      "=========================================================================\n",
      "\n",
      "\n",
      "=========================================================================\n",
      "Iter-8000 loss: 1.2522\n",
      "=========================================================================\n",
      "ed in thechanl vf an inst mhilixturan, follararionarisetor Gtp Wen iritht 'saurlaty en velice Asth-l\n",
      "=========================================================================\n",
      "\n",
      "\n",
      "=========================================================================\n",
      "Iter-9000 loss: 1.1664\n",
      "=========================================================================\n",
      "cing ixtivisate, 6ontheticomellag chedGof rnHrecalintal Eeporellontaras indiIofed Tertomytho W rulis\n",
      "=========================================================================\n",
      "\n",
      "\n",
      "=========================================================================\n",
      "Iter-10000 loss: 1.0924\n",
      "=========================================================================\n",
      "es indipexpanaly th Waptevenhand Hundente feuntrist onliter noran E8pbans. falan enth inke by furea \n",
      "=========================================================================\n",
      "\n",
      "\n",
      "=========================================================================\n",
      "Iter-11000 loss: 1.0269\n",
      "=========================================================================\n",
      "es inlean\"'E litoty ppurlestrene, ahitekool Cherelin  afllexch meintpehaldesha Seabat miserearigstig\n",
      "=========================================================================\n",
      "\n",
      "\n",
      "=========================================================================\n",
      "Iter-12000 loss: 0.9767\n",
      "=========================================================================\n",
      "d Rasclmpilatory, faresthe halatitte dex, salatacy en Antad hitht. Nher aly. Iw of Japanl tirestall \n",
      "=========================================================================\n",
      "\n",
      "\n",
      "=========================================================================\n",
      "Iter-13000 loss: 0.9263\n",
      "=========================================================================\n",
      "the Olelar asiog-dos ty oulatinites medica erciggsti icine Japan\") iopy, Japanied in kyof thertaniti\n",
      "=========================================================================\n",
      "\n",
      "\n"
     ]
    },
    {
     "data": {
      "text/plain": [
       "<__main__.RNN at 0x7f00f7976a58>"
      ]
     },
     "execution_count": 116,
     "metadata": {},
     "output_type": "execute_result"
    }
   ],
   "source": [
    "adam_rnn(nn=net, X_train=X, y_train=y, alpha=alpha, mb_size=time_step, n_iter=n_iter, \n",
    "                print_after=print_after)"
   ]
  },
  {
   "cell_type": "code",
   "execution_count": null,
   "metadata": {
    "collapsed": true
   },
   "outputs": [],
   "source": []
  },
  {
   "cell_type": "code",
   "execution_count": 5,
   "metadata": {
    "collapsed": false
   },
   "outputs": [],
   "source": [
    "x= []\n",
    "for i in range(5):\n",
    "    for j in range(3):\n",
    "        x.append"
   ]
  },
  {
   "cell_type": "code",
   "execution_count": 9,
   "metadata": {
    "collapsed": true
   },
   "outputs": [],
   "source": [
    "class initTest:    \n",
    "    def __init__(self, D, C, H, depth):\n",
    "        self.models = []\n",
    "        for layer in range(depth):\n",
    "            model = dict(\n",
    "                Wxh=np.random.randn(D, H) / np.sqrt(D / 2.),\n",
    "                Whh=np.random.randn(H, H) / np.sqrt(H / 2.),\n",
    "                Why=np.random.randn(H, D) / np.sqrt(C / 2.),\n",
    "                bh=np.zeros((1, H)),\n",
    "                by=np.zeros((1, D))\n",
    "            )\n",
    "            self.models.append(model)"
   ]
  },
  {
   "cell_type": "code",
   "execution_count": 10,
   "metadata": {
    "collapsed": false
   },
   "outputs": [
    {
     "data": {
      "text/plain": [
       "array([[ 0.,  0.,  0.,  0.,  0.,  0.,  0.,  0.,  0.,  0.,  0.,  0.,  0.,\n",
       "         0.,  0.,  0.,  0.,  0.,  0.,  0.,  0.,  0.,  0.,  0.,  0.,  0.,\n",
       "         0.,  0.,  0.,  0.,  0.,  0.,  0.,  0.,  0.,  0.,  0.,  0.,  0.,\n",
       "         0.,  0.,  0.,  0.,  0.,  0.,  0.,  0.,  0.,  0.,  0.,  0.,  0.,\n",
       "         0.,  0.,  0.,  0.,  0.,  0.,  0.,  0.,  0.,  0.,  0.,  0.,  0.,\n",
       "         0.,  0.,  0.,  0.,  0.,  0.]])"
      ]
     },
     "execution_count": 10,
     "metadata": {},
     "output_type": "execute_result"
    }
   ],
   "source": [
    "test = initTest(C=vocab_size, D=vocab_size, depth=2, H=H)\n",
    "test.models[0].items()\n",
    "test.models[0]['by']\n",
    "# for item in test.models[1]:\n",
    "#     print(item)"
   ]
  },
  {
   "cell_type": "code",
   "execution_count": null,
   "metadata": {
    "collapsed": true
   },
   "outputs": [],
   "source": []
  }
 ],
 "metadata": {
  "kernelspec": {
   "display_name": "Python 3",
   "language": "python",
   "name": "python3"
  },
  "language_info": {
   "codemirror_mode": {
    "name": "ipython",
    "version": 3
   },
   "file_extension": ".py",
   "mimetype": "text/x-python",
   "name": "python",
   "nbconvert_exporter": "python",
   "pygments_lexer": "ipython3",
   "version": "3.6.0"
  }
 },
 "nbformat": 4,
 "nbformat_minor": 2
}
