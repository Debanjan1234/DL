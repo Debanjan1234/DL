{
 "cells": [
  {
   "cell_type": "code",
   "execution_count": 2,
   "metadata": {
    "collapsed": true
   },
   "outputs": [],
   "source": [
    "import sys\n",
    "import numpy as np\n",
    "import impl.RNN as rnn\n",
    "import impl.solver as solver"
   ]
  },
  {
   "cell_type": "code",
   "execution_count": 3,
   "metadata": {
    "collapsed": true
   },
   "outputs": [],
   "source": [
    "# if __name__ == '__main__':\n",
    "with open('data/text_data/japan.txt', 'r') as f:\n",
    "    txt = f.read()\n",
    "\n",
    "    X = []\n",
    "    y = []\n",
    "\n",
    "    char_to_idx = {char: i for i, char in enumerate(set(txt))}\n",
    "    idx_to_char = {i: char for i, char in enumerate(set(txt))}\n",
    "\n",
    "    X = np.array([char_to_idx[x] for x in txt])\n",
    "    y = [char_to_idx[x] for x in txt[1:]]\n",
    "    y.append(char_to_idx['.'])\n",
    "    y = np.array(y)"
   ]
  },
  {
   "cell_type": "code",
   "execution_count": 4,
   "metadata": {
    "collapsed": true
   },
   "outputs": [],
   "source": [
    "vocab_size = len(char_to_idx)\n",
    "\n",
    "# hyper parameters\n",
    "time_step = 30\n",
    "n_iter = 13000 # epochs\n",
    "alpha = 1e-3\n",
    "print_after = 1000\n",
    "H = 64"
   ]
  },
  {
   "cell_type": "code",
   "execution_count": 5,
   "metadata": {},
   "outputs": [],
   "source": [
    "# import impl.RNN as nn\n",
    "# net = nn.RNN(D=vocab_size, H=H, char2idx=char_to_idx, idx2char=idx_to_char)\n",
    "\n",
    "import impl.LSTM as nn\n",
    "net = nn.LSTM(D=vocab_size, H=H, char2idx=char_to_idx, idx2char=idx_to_char)\n",
    "\n",
    "# import impl.GRU as nn\n",
    "# net = nn.GRU(D=vocab_size, H=H, char2idx=char_to_idx, idx2char=idx_to_char)\n",
    "\n",
    "# import impl.GRU2 as nn\n",
    "# net = nn.GRU2(D=vocab_size, H=H, char2idx=char_to_idx, idx2char=idx_to_char)\n",
    "\n",
    "# import impl.GRU3 as nn\n",
    "# net = nn.GRU3(D=vocab_size, H=H, char2idx=char_to_idx, idx2char=idx_to_char)\n",
    "\n",
    "# # GRU4 goes to inf because the res-conn is gone.\n",
    "# import impl.GRU4 as nn\n",
    "# net = nn.GRU4(D=vocab_size, H=H, char2idx=char_to_idx, idx2char=idx_to_char)"
   ]
  },
  {
   "cell_type": "code",
   "execution_count": 6,
   "metadata": {},
   "outputs": [
    {
     "name": "stdout",
     "output_type": "stream",
     "text": [
      "=========================================================================\n",
      "Iter-1000 loss: 3.3522\n",
      "=========================================================================\n",
      "he teesist and insti ate Sfevesd Sthesu a2nd momf'n ot tad tes\"Gin momy ti6 old moeryetou\" chee ina \n",
      "=========================================================================\n",
      "\n",
      "\n",
      "=========================================================================\n",
      "Iter-2000 loss: 2.6532\n",
      "=========================================================================\n",
      "ten ainy hohe welaml Rf 99Gxe ingt ore nacs nlrentee n. P2pe Eo0t. whe wanutinas ticore se Jhporm un\n",
      "=========================================================================\n",
      "\n",
      "\n",
      "=========================================================================\n",
      "Iter-3000 loss: 2.2468\n",
      "=========================================================================\n",
      "wort HseoRe prom, ind whecorutine beon ug mare Japas Wo 2ky upure:Tid litn as eas, fisl erndendeires\n",
      "=========================================================================\n",
      "\n",
      "\n",
      "=========================================================================\n",
      "Iter-4000 loss: 2.0849\n",
      "=========================================================================\n",
      "s, ist ans. Japankeat in tof rokadd ar evin \"s waredorad fot,rtho lyrar th6 wa to ina, Japengev of .\n",
      "=========================================================================\n",
      "\n",
      "\n",
      "=========================================================================\n",
      "Iter-5000 loss: 1.9699\n",
      "=========================================================================\n",
      " lacon8 in lins fyof Wh4 whe fo wh roy55 phty an Wan 1851 xapandecity cminthe 193 the Sto, Japanih '\n",
      "=========================================================================\n",
      "\n",
      "\n",
      "=========================================================================\n",
      "Iter-6000 loss: 1.8805\n",
      "=========================================================================\n",
      "0151h9phl8 onsimin, ipunh byes ind lelou al hish cound bathe farth the Eas the Ea, estered bonsiom w\n",
      "=========================================================================\n",
      "\n",
      "\n",
      "=========================================================================\n",
      "Iter-7000 loss: 1.7619\n",
      "=========================================================================\n",
      "dedins tau and cop terold's somhmorer.58 6istomy iso mapred in caliWac ind in the Gtirnk \"5 pevomulo\n",
      "=========================================================================\n",
      "\n",
      "\n",
      "=========================================================================\n",
      "Iter-8000 loss: 1.6757\n",
      "=========================================================================\n",
      " ored eint. Japan of anctye countiy bolteld amnto. Thenouna-Japan esve perion as ecenecteden the ham\n",
      "=========================================================================\n",
      "\n",
      "\n",
      "=========================================================================\n",
      "Iter-9000 loss: 1.6214\n",
      "=========================================================================\n",
      "Japan. zonch beengan; RoppopJpapaneGcwenceade al esistonF ropend-1aren mesia of 3pe–ond the hising f\n",
      "=========================================================================\n",
      "\n",
      "\n",
      "=========================================================================\n",
      "Iter-10000 loss: 1.5655\n",
      "=========================================================================\n",
      "eont, penstureaid Finst werte is led cano al the aing tfecbat Ateotali ist Chins-and the ukorly. Jap\n",
      "=========================================================================\n",
      "\n",
      "\n",
      "=========================================================================\n",
      "Iter-11000 loss: 1.5067\n",
      "=========================================================================\n",
      "rar ChiJalaine Naendectins the world's firlesimira is of Thectiond itsthe cepofr ityin, Sire1-Japan \n",
      "=========================================================================\n",
      "\n",
      "\n",
      "=========================================================================\n",
      "Iter-12000 loss: 1.4587\n",
      "=========================================================================\n",
      "ns of isthy bist the reas rgeshindest Asbotroben pang tormaby it mivich in tha the G20ea lareses. th\n",
      "=========================================================================\n",
      "\n",
      "\n",
      "=========================================================================\n",
      "Iter-13000 loss: 1.4221\n",
      "=========================================================================\n",
      "opar eakice tome st bo wold Wer ged and cateve wolled and the coper eroe th counthy Pact cound by Su\n",
      "=========================================================================\n",
      "\n",
      "\n"
     ]
    },
    {
     "data": {
      "text/plain": [
       "<impl.LSTM.LSTM at 0x7f0fdce13828>"
      ]
     },
     "execution_count": 6,
     "metadata": {},
     "output_type": "execute_result"
    }
   ],
   "source": [
    "solver.adam_rnn(\n",
    "    net, X, y,\n",
    "    alpha=alpha,\n",
    "    mb_size=time_step, # This is the width of the network\n",
    "    n_iter=n_iter,\n",
    "    print_after=print_after\n",
    ")"
   ]
  },
  {
   "cell_type": "code",
   "execution_count": null,
   "metadata": {
    "collapsed": true
   },
   "outputs": [],
   "source": []
  }
 ],
 "metadata": {
  "kernelspec": {
   "display_name": "Python 3",
   "language": "python",
   "name": "python3"
  },
  "language_info": {
   "codemirror_mode": {
    "name": "ipython",
    "version": 3
   },
   "file_extension": ".py",
   "mimetype": "text/x-python",
   "name": "python",
   "nbconvert_exporter": "python",
   "pygments_lexer": "ipython3",
   "version": "3.5.1"
  }
 },
 "nbformat": 4,
 "nbformat_minor": 2
}
