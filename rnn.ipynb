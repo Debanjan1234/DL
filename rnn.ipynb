{
 "cells": [
  {
   "cell_type": "code",
   "execution_count": 2,
   "metadata": {
    "collapsed": true
   },
   "outputs": [],
   "source": [
    "import sys\n",
    "import numpy as np\n",
    "import impl.RNN as rnn\n",
    "import impl.solver as solver"
   ]
  },
  {
   "cell_type": "code",
   "execution_count": 3,
   "metadata": {
    "collapsed": true
   },
   "outputs": [],
   "source": [
    "# if __name__ == '__main__':\n",
    "with open('data/text_data/japan.txt', 'r') as f:\n",
    "    txt = f.read()\n",
    "\n",
    "    X = []\n",
    "    y = []\n",
    "\n",
    "    char_to_idx = {char: i for i, char in enumerate(set(txt))}\n",
    "    idx_to_char = {i: char for i, char in enumerate(set(txt))}\n",
    "\n",
    "    X = np.array([char_to_idx[x] for x in txt])\n",
    "    y = [char_to_idx[x] for x in txt[1:]]\n",
    "    y.append(char_to_idx['.'])\n",
    "    y = np.array(y)"
   ]
  },
  {
   "cell_type": "code",
   "execution_count": 4,
   "metadata": {},
   "outputs": [],
   "source": [
    "vocab_size = len(char_to_idx)\n",
    "\n",
    "# hyper parameters\n",
    "time_step = 30\n",
    "n_iter = 13000 # epochs\n",
    "alpha = 1e-3\n",
    "print_after = 1000\n",
    "H = 64"
   ]
  },
  {
   "cell_type": "code",
   "execution_count": 5,
   "metadata": {
    "collapsed": true
   },
   "outputs": [],
   "source": [
    "import impl.RNN as nn\n",
    "net = nn.RNN(D=vocab_size, H=H, char2idx=char_to_idx, idx2char=idx_to_char)\n",
    "\n",
    "# import impl.LSTM as nn\n",
    "# net = nn.LSTM(D=vocab_size, H=H, char2idx=char_to_idx, idx2char=idx_to_char)\n",
    "\n",
    "# import impl.GRU as nn\n",
    "# net = nn.GRU(D=vocab_size, H=H, char2idx=char_to_idx, idx2char=idx_to_char)\n",
    "\n",
    "# import impl.GRU2 as nn\n",
    "# net = nn.GRU2(D=vocab_size, H=H, char2idx=char_to_idx, idx2char=idx_to_char)\n",
    "\n",
    "# import impl.GRU3 as nn\n",
    "# net = nn.GRU3(D=vocab_size, H=H, char2idx=char_to_idx, idx2char=idx_to_char)\n",
    "\n",
    "# # GRU4 goes to inf because the res-conn is gone.\n",
    "# import impl.GRU4 as nn\n",
    "# net = nn.GRU4(D=vocab_size, H=H, char2idx=char_to_idx, idx2char=idx_to_char)"
   ]
  },
  {
   "cell_type": "code",
   "execution_count": 6,
   "metadata": {},
   "outputs": [
    {
     "name": "stdout",
     "output_type": "stream",
     "text": [
      "=========================================================================\n",
      "Iter-1000 loss: 3.2999\n",
      "=========================================================================\n",
      "hashitke riulatbin oiOnlacGs fSineadmCid 'i deitic ahand ireaiivk, irts7 ss 1alegso anthe hicaihinf \n",
      "=========================================================================\n",
      "\n",
      "\n",
      "=========================================================================\n",
      "Iter-2000 loss: 2.5428\n",
      "=========================================================================\n",
      "tof Japenesos of ic rc4tar us the taoniss eed anelares lsrinit of uroond os upery bonl ry tce d cend\n",
      "=========================================================================\n",
      "\n",
      "\n",
      "=========================================================================\n",
      "Iter-3000 loss: 2.0611\n",
      "=========================================================================\n",
      "warly fImina dile e2t es ind iso1yd in 1r'e pongecea.e sy eIjden-latex Toizd wares louhecoroli. Thic\n",
      "=========================================================================\n",
      "\n",
      "\n",
      "=========================================================================\n",
      "Iter-4000 loss: 1.7583\n",
      "=========================================================================\n",
      "stacin k7d werciry sid thith ctwisnd wingt urg th mamboustorth ithecd-rupet in sSen GPealld Nito og \n",
      "=========================================================================\n",
      "\n",
      "\n",
      "=========================================================================\n",
      "Iter-5000 loss: 1.5396\n",
      "=========================================================================\n",
      " ano unt\n",
      " \"201stican cLCeIncya's Sins iratalon trkand 2riy. T8echukelgy tie parghitn iny 85-rydbt wo\n",
      "=========================================================================\n",
      "\n",
      "\n",
      "=========================================================================\n",
      "Iter-6000 loss: 1.3877\n",
      "=========================================================================\n",
      "0st anero-tar wos ocede Gns oEunthe countivizalithiis anored intlryssrlagissogestity 1stinularee pre\n",
      "=========================================================================\n",
      "\n",
      "\n",
      "=========================================================================\n",
      "Iter-7000 loss: 1.2646\n",
      "=========================================================================\n",
      "d Japan was anoese pal exper1bar ofed itte as ef Japandis d ofulitala untc as lorode is jrg rt thich\n",
      "=========================================================================\n",
      "\n",
      "\n",
      "=========================================================================\n",
      "Iter-8000 loss: 1.1676\n",
      "=========================================================================\n",
      " divile pomes anm oxet oris. .n6 Nicite the the Okto-lergh is riost. \"ter. Japan-cane Wisgost int, a\n",
      "=========================================================================\n",
      "\n",
      "\n",
      "=========================================================================\n",
      "Iter-9000 loss: 1.0911\n",
      "=========================================================================\n",
      "Japan \"o mraresolargelingest, Hinct pion ef.baif Japange 1935 frit with the foustg the founto an, ma\n",
      "=========================================================================\n",
      "\n",
      "\n",
      "=========================================================================\n",
      "Iter-10000 loss: 1.0287\n",
      "=========================================================================\n",
      "expmburmp-Japan i sogento od 6chin re torite ind I fered Japan, a dino iontris lareest mestionteked \n",
      "=========================================================================\n",
      "\n",
      "\n",
      "=========================================================================\n",
      "Iter-11000 loss: 0.9655\n",
      "=========================================================================\n",
      "red is the simlerit unaend Was ofsito-labu, a gime peresto-Japand e asiciof Japan's tothithe sevidia\n",
      "=========================================================================\n",
      "\n",
      "\n",
      "=========================================================================\n",
      "Iter-12000 loss: 0.8994\n",
      "=========================================================================\n",
      "ns as the hist in shal puprpory jrly of t8e \"lyg Nhpchisalitioug mag tor dectho fourth Wes inges, th\n",
      "=========================================================================\n",
      "\n",
      "\n",
      "=========================================================================\n",
      "Iter-13000 loss: 0.8521\n",
      "=========================================================================\n",
      "ory-,irg ourtre woxth inte lfonkly Asithe esthe Sf of logestry in Asiald dhat egsound. The .SWtstire\n",
      "=========================================================================\n",
      "\n",
      "\n"
     ]
    },
    {
     "data": {
      "text/plain": [
       "<impl.RNN.RNN at 0x10d165588>"
      ]
     },
     "execution_count": 6,
     "metadata": {},
     "output_type": "execute_result"
    }
   ],
   "source": [
    "solver.adam_rnn(\n",
    "    net, X, y,\n",
    "    alpha=alpha,\n",
    "    mb_size=time_step, # This is the width of the network\n",
    "    n_iter=n_iter,\n",
    "    print_after=print_after\n",
    ")"
   ]
  },
  {
   "cell_type": "code",
   "execution_count": null,
   "metadata": {
    "collapsed": true
   },
   "outputs": [],
   "source": [
    "=========================================================================\n",
    "Iter-299000 loss: 0.0278\n",
    "=========================================================================\n",
    "s. Japan is a developed country with a high standard of living and Human Development Index whose pop\n",
    "=========================================================================\n",
    "\n",
    "\n",
    "=========================================================================\n",
    "Iter-300000 loss: 0.0268\n",
    "=========================================================================\n",
    "apan to open to the West. Nearly two decades of internal conthic-komy parionory. From the 12th centu\n",
    "=========================================================================\n",
    "\n",
    "\n",
    "Out[5]:\n",
    "<impl.GRU.GRU at 0x7f1401bc5588>"
   ]
  },
  {
   "cell_type": "code",
   "execution_count": null,
   "metadata": {
    "collapsed": true
   },
   "outputs": [],
   "source": [
    "=========================================================================\n",
    "Iter-299000 loss: 0.0914\n",
    "=========================================================================\n",
    "s. Japan's history. From the 12th century until 1868, Japan's n7meamean Laas pan hs, Japan was men M\n",
    "=========================================================================\n",
    "\n",
    "\n",
    "=========================================================================\n",
    "Iter-300000 loss: 0.1100\n",
    "=========================================================================\n",
    "apan was inhabited as early as the Upper Paleolithic period. The first are Honsh mict of inter of in\n",
    "=========================================================================\n",
    "\n",
    "\n",
    "Out[10]:\n",
    "<impl.LSTM.LSTM at 0x7f51924f1940>"
   ]
  },
  {
   "cell_type": "code",
   "execution_count": null,
   "metadata": {
    "collapsed": true
   },
   "outputs": [],
   "source": [
    "=========================================================================\n",
    "Iter-299000 loss: 0.1178\n",
    "=========================================================================\n",
    "s. Japan is a developed country wino avinsm itso. The foulslint of is in the namiort tites Toky byde\n",
    "=========================================================================\n",
    "\n",
    "\n",
    "=========================================================================\n",
    "Iter-300000 loss: 0.0913\n",
    "=========================================================================\n",
    "apan was ruled in the name of the Emperor as a d bevere Hf Hiros. Japan is athe world's third-s. Jap\n",
    "=========================================================================\n",
    "\n",
    "\n",
    "Out[8]:\n",
    "<impl.RNN.RNN at 0x7f51924f1630>"
   ]
  }
 ],
 "metadata": {
  "kernelspec": {
   "display_name": "Python 3",
   "language": "python",
   "name": "python3"
  },
  "language_info": {
   "codemirror_mode": {
    "name": "ipython",
    "version": 3
   },
   "file_extension": ".py",
   "mimetype": "text/x-python",
   "name": "python",
   "nbconvert_exporter": "python",
   "pygments_lexer": "ipython3",
   "version": "3.5.1"
  }
 },
 "nbformat": 4,
 "nbformat_minor": 2
}
