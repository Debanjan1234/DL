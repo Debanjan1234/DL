{
 "cells": [
  {
   "cell_type": "code",
   "execution_count": 1,
   "metadata": {
    "collapsed": true
   },
   "outputs": [],
   "source": [
    "import sys\n",
    "import numpy as np\n",
    "import impl.RNN as rnn\n",
    "import impl.solver as solver"
   ]
  },
  {
   "cell_type": "code",
   "execution_count": 2,
   "metadata": {
    "collapsed": true
   },
   "outputs": [],
   "source": [
    "# if __name__ == '__main__':\n",
    "with open('data/text_data/japan.txt', 'r') as f:\n",
    "    txt = f.read()\n",
    "\n",
    "    X = []\n",
    "    y = []\n",
    "\n",
    "    char_to_idx = {char: i for i, char in enumerate(set(txt))}\n",
    "    idx_to_char = {i: char for i, char in enumerate(set(txt))}\n",
    "\n",
    "    X = np.array([char_to_idx[x] for x in txt])\n",
    "    y = [char_to_idx[x] for x in txt[1:]]\n",
    "    y.append(char_to_idx['.'])\n",
    "    y = np.array(y)"
   ]
  },
  {
   "cell_type": "code",
   "execution_count": 3,
   "metadata": {
    "collapsed": true
   },
   "outputs": [],
   "source": [
    "vocab_size = len(char_to_idx)\n",
    "\n",
    "# hyper parameters\n",
    "time_step = 30\n",
    "n_iter = 13000 # epochs\n",
    "alpha = 1e-3\n",
    "print_after = 1000\n",
    "H = 64"
   ]
  },
  {
   "cell_type": "code",
   "execution_count": 4,
   "metadata": {
    "collapsed": true
   },
   "outputs": [],
   "source": [
    "import impl.RNN as nn\n",
    "net = nn.RNN(D=vocab_size, H=H, char2idx=char_to_idx, idx2char=idx_to_char)\n",
    "\n",
    "# import impl.LSTM as nn\n",
    "# net = nn.LSTM(D=vocab_size, H=H, char2idx=char_to_idx, idx2char=idx_to_char)\n",
    "\n",
    "# import impl.GRU as nn\n",
    "# net = nn.GRU(D=vocab_size, H=H, char2idx=char_to_idx, idx2char=idx_to_char)\n",
    "\n",
    "# import impl.GRU2 as nn\n",
    "# net = nn.GRU2(D=vocab_size, H=H, char2idx=char_to_idx, idx2char=idx_to_char)\n",
    "\n",
    "# import impl.GRU3 as nn\n",
    "# net = nn.GRU3(D=vocab_size, H=H, char2idx=char_to_idx, idx2char=idx_to_char)\n",
    "\n",
    "# # GRU4 goes to inf because the res-conn is gone.\n",
    "# import impl.GRU4 as nn\n",
    "# net = nn.GRU4(D=vocab_size, H=H, char2idx=char_to_idx, idx2char=idx_to_char)"
   ]
  },
  {
   "cell_type": "code",
   "execution_count": 5,
   "metadata": {},
   "outputs": [
    {
     "name": "stdout",
     "output_type": "stream",
     "text": [
      "=========================================================================\n",
      "Iter-1000 loss: 3.3513\n",
      "=========================================================================\n",
      "he us lJofcn manwwone ial pf che dofa.tlRx.Evn Ahe wNin an lin loudsorin chuind Ihendadea, Ohpec iou\n",
      "=========================================================================\n",
      "\n",
      "\n",
      "=========================================================================\n",
      "Iter-2000 loss: 2.5747\n",
      "=========================================================================\n",
      "tt.e cat iap raodoi. thisse m8re oxpani as iotGla wor da%a.a3Japdrcmestis bhn e the Jary 's torof th\n",
      "=========================================================================\n",
      "\n",
      "\n",
      "=========================================================================\n",
      "Iter-3000 loss: 2.0704\n",
      "=========================================================================\n",
      "war y'sticiud re the murt. Thempese sint y's warat , wh ow Cf rond wedercgince\"otrop oilal 10envored\n",
      "=========================================================================\n",
      "\n",
      "\n",
      "=========================================================================\n",
      "Iter-4000 loss: 1.7557\n",
      "=========================================================================\n",
      "s. The meland Ahesta Obolt. on thk dy. The fourtn. ;he tore thile to\" destrea, thinal conte yorer an\n",
      "=========================================================================\n",
      "\n",
      "\n",
      "=========================================================================\n",
      "Iter-5000 loss: 1.5442\n",
      "=========================================================================\n",
      " Jd an s Ruroly, and Ranghind so ordpben , verot or oh Japan's torta inal 's tareg by fd farke 1ry 8\n",
      "=========================================================================\n",
      "\n",
      "\n",
      "=========================================================================\n",
      "Iter-6000 loss: 1.3885\n",
      "=========================================================================\n",
      "0th enstired if osa cithe an ares t of sne fer hest. unes as pen apeachas earixshimrlecturod ooke Er\n",
      "=========================================================================\n",
      "\n",
      "\n",
      "=========================================================================\n",
      "Iter-7000 loss: 1.2549\n",
      "=========================================================================\n",
      "ded acesoris duron and anderind ineder estity unt sillHigstaiac-kagutu, wati A ioly Chist erdeg the \n",
      "=========================================================================\n",
      "\n",
      "\n",
      "=========================================================================\n",
      "Iter-8000 loss: 1.1500\n",
      "=========================================================================\n",
      " he Nipetin ty teo Japanu,sh ch thi\", andetorin Es.and Japan\"ss marledtrrys peomithe \"s. The werjouH\n",
      "=========================================================================\n",
      "\n",
      "\n",
      "=========================================================================\n",
      "Iter-9000 loss: 1.0705\n",
      "=========================================================================\n",
      "Japan's urconla isstiandion an laxd conf pioper life expesounginandustre wukh ur and it lerecttintti\n",
      "=========================================================================\n",
      "\n",
      "\n",
      "=========================================================================\n",
      "Iter-10000 loss: 0.9953\n",
      "=========================================================================\n",
      "esliac oferood to ipeinin laricate whis an hith ef tion lhigetidy Srabed wisl rint in lseacelore wor\n",
      "=========================================================================\n",
      "\n",
      "\n",
      "=========================================================================\n",
      "Iter-11000 loss: 0.9378\n",
      "=========================================================================\n",
      "r onl, waries ares af fed to lect ines Ayworte th- Senind in pirghet, perkeaco frof omy, firg chale \n",
      "=========================================================================\n",
      "\n",
      "\n",
      "=========================================================================\n",
      "Iter-12000 loss: 0.8785\n",
      "=========================================================================\n",
      "na, steitp-Japan wotst ous, ta pco the dovt ryoni, Napont ponte tary and cstinu, ondainelend mhicont\n",
      "=========================================================================\n",
      "\n",
      "\n",
      "=========================================================================\n",
      "Iter-13000 loss: 0.8338\n",
      "=========================================================================\n",
      "o coullbyis thes abea digh mnithe worlduroves perch-larggstunctolare Nigto Nchine llacedolare wed ro\n",
      "=========================================================================\n",
      "\n",
      "\n"
     ]
    },
    {
     "data": {
      "text/plain": [
       "<impl.RNN.RNN at 0x7f858c82ac50>"
      ]
     },
     "execution_count": 5,
     "metadata": {},
     "output_type": "execute_result"
    }
   ],
   "source": [
    "solver.adam_rnn(\n",
    "    net, X, y,\n",
    "    alpha=alpha,\n",
    "    mb_size=time_step, # This is the width of the network\n",
    "    n_iter=n_iter,\n",
    "    print_after=print_after\n",
    ")"
   ]
  },
  {
   "cell_type": "code",
   "execution_count": 7,
   "metadata": {},
   "outputs": [
    {
     "ename": "SyntaxError",
     "evalue": "invalid syntax (<ipython-input-7-b8c9dab95f4c>, line 1)",
     "output_type": "error",
     "traceback": [
      "\u001b[0;36m  File \u001b[0;32m\"<ipython-input-7-b8c9dab95f4c>\"\u001b[0;36m, line \u001b[0;32m1\u001b[0m\n\u001b[0;31m    =========================================================================\u001b[0m\n\u001b[0m     ^\u001b[0m\n\u001b[0;31mSyntaxError\u001b[0m\u001b[0;31m:\u001b[0m invalid syntax\n"
     ]
    }
   ],
   "source": [
    "=========================================================================\n",
    "Iter-299000 loss: 0.0278\n",
    "=========================================================================\n",
    "s. Japan is a developed country with a high standard of living and Human Development Index whose pop\n",
    "=========================================================================\n",
    "\n",
    "\n",
    "=========================================================================\n",
    "Iter-300000 loss: 0.0268\n",
    "=========================================================================\n",
    "apan to open to the West. Nearly two decades of internal conthic-komy parionory. From the 12th centu\n",
    "=========================================================================\n",
    "\n",
    "\n",
    "Out[5]:\n",
    "<impl.GRU.GRU at 0x7f1401bc5588>"
   ]
  },
  {
   "cell_type": "code",
   "execution_count": 8,
   "metadata": {},
   "outputs": [
    {
     "ename": "SyntaxError",
     "evalue": "invalid syntax (<ipython-input-8-b3108e7b52a0>, line 1)",
     "output_type": "error",
     "traceback": [
      "\u001b[0;36m  File \u001b[0;32m\"<ipython-input-8-b3108e7b52a0>\"\u001b[0;36m, line \u001b[0;32m1\u001b[0m\n\u001b[0;31m    =========================================================================\u001b[0m\n\u001b[0m     ^\u001b[0m\n\u001b[0;31mSyntaxError\u001b[0m\u001b[0;31m:\u001b[0m invalid syntax\n"
     ]
    }
   ],
   "source": [
    "=========================================================================\n",
    "Iter-299000 loss: 0.0914\n",
    "=========================================================================\n",
    "s. Japan's history. From the 12th century until 1868, Japan's n7meamean Laas pan hs, Japan was men M\n",
    "=========================================================================\n",
    "\n",
    "\n",
    "=========================================================================\n",
    "Iter-300000 loss: 0.1100\n",
    "=========================================================================\n",
    "apan was inhabited as early as the Upper Paleolithic period. The first are Honsh mict of inter of in\n",
    "=========================================================================\n",
    "\n",
    "\n",
    "Out[10]:\n",
    "<impl.LSTM.LSTM at 0x7f51924f1940>"
   ]
  },
  {
   "cell_type": "code",
   "execution_count": 9,
   "metadata": {},
   "outputs": [
    {
     "ename": "SyntaxError",
     "evalue": "invalid syntax (<ipython-input-9-b244120dc262>, line 1)",
     "output_type": "error",
     "traceback": [
      "\u001b[0;36m  File \u001b[0;32m\"<ipython-input-9-b244120dc262>\"\u001b[0;36m, line \u001b[0;32m1\u001b[0m\n\u001b[0;31m    =========================================================================\u001b[0m\n\u001b[0m     ^\u001b[0m\n\u001b[0;31mSyntaxError\u001b[0m\u001b[0;31m:\u001b[0m invalid syntax\n"
     ]
    }
   ],
   "source": [
    "=========================================================================\n",
    "Iter-299000 loss: 0.1178\n",
    "=========================================================================\n",
    "s. Japan is a developed country wino avinsm itso. The foulslint of is in the namiort tites Toky byde\n",
    "=========================================================================\n",
    "\n",
    "\n",
    "=========================================================================\n",
    "Iter-300000 loss: 0.0913\n",
    "=========================================================================\n",
    "apan was ruled in the name of the Emperor as a d bevere Hf Hiros. Japan is athe world's third-s. Jap\n",
    "=========================================================================\n",
    "\n",
    "\n",
    "Out[8]:\n",
    "<impl.RNN.RNN at 0x7f51924f1630>"
   ]
  },
  {
   "cell_type": "code",
   "execution_count": null,
   "metadata": {
    "collapsed": true
   },
   "outputs": [],
   "source": []
  }
 ],
 "metadata": {
  "kernelspec": {
   "display_name": "Python 3",
   "language": "python",
   "name": "python3"
  },
  "language_info": {
   "codemirror_mode": {
    "name": "ipython",
    "version": 3
   },
   "file_extension": ".py",
   "mimetype": "text/x-python",
   "name": "python",
   "nbconvert_exporter": "python",
   "pygments_lexer": "ipython3",
   "version": "3.5.1"
  }
 },
 "nbformat": 4,
 "nbformat_minor": 2
}
