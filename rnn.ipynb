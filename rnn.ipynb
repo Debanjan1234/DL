{
 "cells": [
  {
   "cell_type": "code",
   "execution_count": 22,
   "metadata": {
    "collapsed": true
   },
   "outputs": [],
   "source": [
    "import sys\n",
    "import numpy as np\n",
    "import impl.RNN as rnn\n",
    "import impl.solver as solver"
   ]
  },
  {
   "cell_type": "code",
   "execution_count": 23,
   "metadata": {
    "collapsed": true
   },
   "outputs": [],
   "source": [
    "# if __name__ == '__main__':\n",
    "with open('data/text_data/japan.txt', 'r') as f:\n",
    "    txt = f.read()\n",
    "\n",
    "    X = []\n",
    "    y = []\n",
    "\n",
    "    char_to_idx = {char: i for i, char in enumerate(set(txt))}\n",
    "    idx_to_char = {i: char for i, char in enumerate(set(txt))}\n",
    "\n",
    "    X = np.array([char_to_idx[x] for x in txt])\n",
    "    y = [char_to_idx[x] for x in txt[1:]]\n",
    "    y.append(char_to_idx['.'])\n",
    "    y = np.array(y)"
   ]
  },
  {
   "cell_type": "code",
   "execution_count": 24,
   "metadata": {
    "collapsed": true
   },
   "outputs": [],
   "source": [
    "vocab_size = len(char_to_idx)\n",
    "\n",
    "# hyper parameters\n",
    "time_step = 10\n",
    "n_iter = 13000 # epochs\n",
    "alpha = 1e-3\n",
    "print_after = 1000\n",
    "H = 64"
   ]
  },
  {
   "cell_type": "code",
   "execution_count": 25,
   "metadata": {
    "collapsed": true
   },
   "outputs": [],
   "source": [
    "# import impl.RNN as nn\n",
    "# net = nn.RNN(D=vocab_size, H=H, char2idx=char_to_idx, idx2char=idx_to_char)\n",
    "\n",
    "import impl.LSTM as nn\n",
    "net = nn.LSTM(D=vocab_size, H=H, char2idx=char_to_idx, idx2char=idx_to_char)\n",
    "\n",
    "# import impl.GRU as nn\n",
    "# net = nn.GRU(D=vocab_size, H=H, char2idx=char_to_idx, idx2char=idx_to_char)\n",
    "\n",
    "# import impl.GRU2 as nn\n",
    "# net = nn.GRU2(D=vocab_size, H=H, char2idx=char_to_idx, idx2char=idx_to_char)\n",
    "\n",
    "# import impl.GRU3 as nn\n",
    "# net = nn.GRU3(D=vocab_size, H=H, char2idx=char_to_idx, idx2char=idx_to_char)\n",
    "\n",
    "# # GRU4 goes to inf because the res-conn is gone.\n",
    "# import impl.GRU4 as nn\n",
    "# net = nn.GRU4(D=vocab_size, H=H, char2idx=char_to_idx, idx2char=idx_to_char)"
   ]
  },
  {
   "cell_type": "code",
   "execution_count": 26,
   "metadata": {},
   "outputs": [
    {
     "name": "stdout",
     "output_type": "stream",
     "text": [
      "=========================================================================\n",
      "Iter-1000 loss: 3.4273\n",
      "=========================================================================\n",
      " tfnaoo intJIetnremp, apsi sd te aaase ,f dri oo teosrtamae Uarmm ani) aatic Fnce opise inadkJJaa J'\n",
      "=========================================================================\n",
      "\n",
      "\n",
      "=========================================================================\n",
      "Iter-2000 loss: 2.8377\n",
      "=========================================================================\n",
      "ole, Tse Gohhgd Si8 uledtre tin ,s tepmelyvnu th ncso. wof cRis, in rid p EocnS Gins in uict roett o\n",
      "=========================================================================\n",
      "\n",
      "\n",
      "=========================================================================\n",
      "Iter-3000 loss: 2.4587\n",
      "=========================================================================\n",
      "rc roulothe aSksik-Elivheita , tites lidura rieB hob, bthe ith1 ded ter Inty Japges vf agitlom oulea\n",
      "=========================================================================\n",
      "\n",
      "\n",
      "=========================================================================\n",
      "Iter-4000 loss: 2.1967\n",
      "=========================================================================\n",
      "unti2 the wavl uf vil Eil arir 9afme the Wordt and In es Sndboh and okmrry wh1 Sy doulallw'ss 18898%\n",
      "=========================================================================\n",
      "\n",
      "\n",
      "=========================================================================\n",
      "Iter-5000 loss: 2.0004\n",
      "=========================================================================\n",
      "ccove iod l7eso of N0i9)st ond whicxd instared, Snm minaud's ald the sa dhe rnd th the Japanoand io \n",
      "=========================================================================\n",
      "\n",
      "\n",
      "=========================================================================\n",
      "Iter-6000 loss: 1.8506\n",
      "=========================================================================\n",
      "oukthing nivex a lyo habe ha insid ofopcoldy stiallowce 628s lallowsu  reses. 20unhe foblder an ent-\n",
      "=========================================================================\n",
      "\n",
      "\n",
      "=========================================================================\n",
      "Iter-7000 loss: 1.7043\n",
      "=========================================================================\n",
      "a, and in ciche gesirt The Hoplpu un-ling of Jappwais the Eiplion ir tate ig tee t. the Empmra \n",
      "ut N\n",
      "=========================================================================\n",
      "\n",
      "\n",
      "=========================================================================\n",
      "Iter-8000 loss: 1.5802\n",
      "=========================================================================\n",
      "ind arer Eithe Warto with rhe wormu of roo 0th cons the world hop8er , tar an Japan wac exporcry5 an\n",
      "=========================================================================\n",
      "\n",
      "\n",
      "=========================================================================\n",
      "Iter-9000 loss: 1.4771\n",
      "=========================================================================\n",
      "st arestourl. 60th Ca lalsed as mamilimul ormea. The and chinEsyucadslarte ra easid prmibouty in urh\n",
      "=========================================================================\n",
      "\n",
      "\n",
      "=========================================================================\n",
      "Iter-10000 loss: 1.3948\n",
      "=========================================================================\n",
      " Jappenest presond I foest rite inged, tarly sughar hsd arth irltoritati. Arghe tered forodlouthin t\n",
      "=========================================================================\n",
      "\n",
      "\n",
      "=========================================================================\n",
      "Iter-11000 loss: 1.3060\n",
      "=========================================================================\n",
      "rol pored and a mereac, orftriand Tho it oristd ngs. The boun r4galy in the OEevp. 3h mailof in the \n",
      "=========================================================================\n",
      "\n",
      "\n",
      "=========================================================================\n",
      "Iter-12000 loss: 1.2348\n",
      "=========================================================================\n",
      " worth an teonal Sepof of Hipla miticury lwPhise. The mupen. Chan tring, Dtion ti. inis to estxeanan\n",
      "=========================================================================\n",
      "\n",
      "\n",
      "=========================================================================\n",
      "Iter-13000 loss: 1.1684\n",
      "=========================================================================\n",
      " ind onmper8. . Lconme rinne poulitaly firs algermhe Sicono country in 1941 Kollowal Gy:. Nipoperod \n",
      "=========================================================================\n",
      "\n",
      "\n"
     ]
    },
    {
     "data": {
      "text/plain": [
       "<impl.LSTM.LSTM at 0x10f77ba90>"
      ]
     },
     "execution_count": 26,
     "metadata": {},
     "output_type": "execute_result"
    }
   ],
   "source": [
    "solver.adam_rnn(\n",
    "    net, X, y,\n",
    "    alpha=alpha,\n",
    "    mb_size=time_step, # This is the width of the network\n",
    "    n_iter=n_iter,\n",
    "    print_after=print_after\n",
    ")"
   ]
  },
  {
   "cell_type": "code",
   "execution_count": null,
   "metadata": {
    "collapsed": true
   },
   "outputs": [],
   "source": []
  },
  {
   "cell_type": "code",
   "execution_count": null,
   "metadata": {
    "collapsed": true
   },
   "outputs": [],
   "source": []
  },
  {
   "cell_type": "code",
   "execution_count": null,
   "metadata": {
    "collapsed": true
   },
   "outputs": [],
   "source": []
  }
 ],
 "metadata": {
  "kernelspec": {
   "display_name": "Python 3",
   "language": "python",
   "name": "python3"
  },
  "language_info": {
   "codemirror_mode": {
    "name": "ipython",
    "version": 3
   },
   "file_extension": ".py",
   "mimetype": "text/x-python",
   "name": "python",
   "nbconvert_exporter": "python",
   "pygments_lexer": "ipython3",
   "version": "3.5.1"
  }
 },
 "nbformat": 4,
 "nbformat_minor": 2
}
