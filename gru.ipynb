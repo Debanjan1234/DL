{
 "cells": [
  {
   "cell_type": "code",
   "execution_count": 1,
   "metadata": {
    "collapsed": true
   },
   "outputs": [],
   "source": [
    "import sys\n",
    "import numpy as np\n",
    "# import impl.neuralnet as nn\n",
    "# import impl.RNN as rnn\n",
    "# import impl.LSTM as lstm\n",
    "import impl.GRU as gru # gated recurrent unit\n",
    "import impl.solver as solver"
   ]
  },
  {
   "cell_type": "code",
   "execution_count": 2,
   "metadata": {
    "collapsed": true
   },
   "outputs": [],
   "source": [
    "time_step = 10\n",
    "n_iter = 10000 # epochs\n",
    "alpha = 1e-3\n",
    "print_after = 1000\n",
    "H = 64"
   ]
  },
  {
   "cell_type": "code",
   "execution_count": 3,
   "metadata": {
    "collapsed": true
   },
   "outputs": [],
   "source": [
    "# if __name__ == '__main__':\n",
    "with open('data/text_data/japan.txt', 'r') as f:\n",
    "    txt = f.read()\n",
    "\n",
    "    X = []\n",
    "    y = []\n",
    "\n",
    "    char_to_idx = {char: i for i, char in enumerate(set(txt))}\n",
    "    idx_to_char = {i: char for i, char in enumerate(set(txt))}\n",
    "\n",
    "    X = np.array([char_to_idx[x] for x in txt])\n",
    "    y = [char_to_idx[x] for x in txt[1:]]\n",
    "    y.append(char_to_idx['.'])\n",
    "    y = np.array(y)"
   ]
  },
  {
   "cell_type": "code",
   "execution_count": 4,
   "metadata": {
    "collapsed": true
   },
   "outputs": [],
   "source": [
    "vocab_size = len(char_to_idx)"
   ]
  },
  {
   "cell_type": "code",
   "execution_count": 5,
   "metadata": {
    "collapsed": true
   },
   "outputs": [],
   "source": [
    "# net = lstm.LSTM(vocab_size, H=H, char2idx=char_to_idx, idx2char=idx_to_char)\n",
    "# net = nn.RNN(vocab_size, H=H, char2idx=char_to_idx, idx2char=idx_to_char)\n",
    "# net = rnn.RNN(vocab_size, H=H, char2idx=char_to_idx, idx2char=idx_to_char)\n",
    "net = gru.GRU(vocab_size, H=H, char2idx=char_to_idx, idx2char=idx_to_char)"
   ]
  },
  {
   "cell_type": "code",
   "execution_count": 6,
   "metadata": {},
   "outputs": [
    {
     "name": "stdout",
     "output_type": "stream",
     "text": [
      "=========================================================================\n",
      "Iter-1000 loss: 3.3495\n",
      "=========================================================================\n",
      " fu id ven warlu irrr ton dige tareas ergies fs yalbe. we nh in a, on ans in es fol 1uFy Il RsuoEand\n",
      "=========================================================================\n",
      "\n",
      "\n",
      "=========================================================================\n",
      "Iter-2000 loss: 2.6745\n",
      "=========================================================================\n",
      "ory . Oonilalind avits the wite as urticlare Dircosolerar cound ic in yopclargorac boftopd perieistr\n",
      "=========================================================================\n",
      "\n",
      "\n",
      "=========================================================================\n",
      "Iter-3000 loss: 2.2421\n",
      "=========================================================================\n",
      "rtbod of Japan's logis 1mDe the her. T(ved whr Reuge yiinte HivicenasJarist ic somhe Ununges tir bou\n",
      "=========================================================================\n",
      "\n",
      "\n",
      "=========================================================================\n",
      "Iter-4000 loss: 1.9437\n",
      "=========================================================================\n",
      "urs and piran teren and Sict ta ist and 5 ponter. Actare in t2e 9epes of Japan red millians curang a\n",
      "=========================================================================\n",
      "\n",
      "\n",
      "=========================================================================\n",
      "Iter-5000 loss: 1.7174\n",
      "=========================================================================\n",
      "cthe as Japan ed. Stares a dich\" as fogast Chich at 1estrone fill.I1t. Krompentiy wau, cityl tilsea \n",
      "=========================================================================\n",
      "\n",
      "\n",
      "=========================================================================\n",
      "Iter-6000 loss: 1.5309\n",
      "=========================================================================\n",
      "orld meden n torla and 1s67 whr il the first in the forsts cerild. Nhailed's thes loctited cunaria a\n",
      "=========================================================================\n",
      "\n",
      "\n",
      "=========================================================================\n",
      "Iter-7000 loss: 1.3474\n",
      "=========================================================================\n",
      "arla. H-kapedes fourgl tiestinn Wa lofo al 196295%d as thi EErkc apeno, the coru the Risst rounclaie\n",
      "=========================================================================\n",
      "\n",
      "\n",
      "=========================================================================\n",
      "Iter-8000 loss: 1.1939\n",
      "=========================================================================\n",
      "in the Globang poroltor enales fount chin tsi tJapa 16 mins and He gignve and Warte 4\n",
      "son-flitstive \n",
      "=========================================================================\n",
      "\n",
      "\n",
      "=========================================================================\n",
      "Iter-9000 loss: 1.0889\n",
      "=========================================================================\n",
      "st efolicsty om 194anexgl of tre chist in the s7 mpol of an there the forrth-yarg watec floma. of th\n",
      "=========================================================================\n",
      "\n",
      "\n",
      "=========================================================================\n",
      "Iter-10000 loss: 0.9961\n",
      "=========================================================================\n",
      " 2012 altho hogtrest Penceno und, Wis preaily, which consiviter hopurat in the Pare chexPanked Worco\n",
      "=========================================================================\n",
      "\n",
      "\n"
     ]
    },
    {
     "data": {
      "text/plain": [
       "<impl.GRU.GRU at 0x10ce54898>"
      ]
     },
     "execution_count": 6,
     "metadata": {},
     "output_type": "execute_result"
    }
   ],
   "source": [
    "solver.adam_rnn(\n",
    "    net, X, y,\n",
    "    alpha=alpha,\n",
    "    mb_size=time_step,\n",
    "    n_iter=n_iter,\n",
    "    print_after=print_after\n",
    ")"
   ]
  },
  {
   "cell_type": "markdown",
   "metadata": {},
   "source": [
    "# Below some of the results are shown for more comparison and better conclusion of the results."
   ]
  },
  {
   "cell_type": "code",
   "execution_count": null,
   "metadata": {
    "collapsed": true
   },
   "outputs": [],
   "source": [
    "=========================================================================\n",
    "Iter-100000 loss: 0.3913\n",
    "=========================================================================\n",
    "the 1pman a inusy rotory surrowho tOkike upporter wor peven des The easty porterized itivecend perce\n",
    "=========================================================================\n",
    "\n",
    "\n",
    "Out[7]:\n",
    "<hipsternet.neuralnet.RNN at 0x7fc2f5182e80>"
   ]
  },
  {
   "cell_type": "code",
   "execution_count": null,
   "metadata": {
    "collapsed": true
   },
   "outputs": [],
   "source": [
    "=========================================================================\n",
    "Iter-100000 loss: 0.1615\n",
    "=========================================================================\n",
    "the name of the 12th century until 1868, Japan was ruled by successime Wer of 1941, which country is\n",
    "=========================================================================\n",
    "\n",
    "\n",
    "Out[16]:\n",
    "<hipsternet.neuralnet.LSTM at 0x7f67fe0c9978>"
   ]
  },
  {
   "cell_type": "code",
   "execution_count": null,
   "metadata": {
    "collapsed": true
   },
   "outputs": [],
   "source": [
    "=========================================================================\n",
    "Iter-100000 loss: 0.1333\n",
    "=========================================================================\n",
    "the Coun resilate a in the population. Russided in the OECD and the world's fourth-largest econompic\n",
    "=========================================================================\n",
    "\n",
    "\n",
    "Out[10]:\n",
    "<hipsternet.neuralnet.GRU at 0x7fc2cec1e1d0>"
   ]
  }
 ],
 "metadata": {
  "kernelspec": {
   "display_name": "Python 3",
   "language": "python",
   "name": "python3"
  },
  "language_info": {
   "codemirror_mode": {
    "name": "ipython",
    "version": 3
   },
   "file_extension": ".py",
   "mimetype": "text/x-python",
   "name": "python",
   "nbconvert_exporter": "python",
   "pygments_lexer": "ipython3",
   "version": "3.5.1"
  }
 },
 "nbformat": 4,
 "nbformat_minor": 2
}
