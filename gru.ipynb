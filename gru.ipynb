{
 "cells": [
  {
   "cell_type": "code",
   "execution_count": 1,
   "metadata": {
    "collapsed": true
   },
   "outputs": [],
   "source": [
    "import sys\n",
    "import numpy as np\n",
    "# import impl.neuralnet as nn\n",
    "# import impl.RNN as rnn\n",
    "# import impl.LSTM as lstm\n",
    "import impl.GRU as gru # gated recurrent unit\n",
    "import impl.solver as solver"
   ]
  },
  {
   "cell_type": "code",
   "execution_count": 2,
   "metadata": {
    "collapsed": true
   },
   "outputs": [],
   "source": [
    "time_step = 10\n",
    "n_iter = 10000 # epochs\n",
    "alpha = 1e-3\n",
    "print_after = 1000\n",
    "H = 64"
   ]
  },
  {
   "cell_type": "code",
   "execution_count": 3,
   "metadata": {
    "collapsed": true
   },
   "outputs": [],
   "source": [
    "# if __name__ == '__main__':\n",
    "with open('data/text_data/japan.txt', 'r') as f:\n",
    "    txt = f.read()\n",
    "\n",
    "    X = []\n",
    "    y = []\n",
    "\n",
    "    char_to_idx = {char: i for i, char in enumerate(set(txt))}\n",
    "    idx_to_char = {i: char for i, char in enumerate(set(txt))}\n",
    "\n",
    "    X = np.array([char_to_idx[x] for x in txt])\n",
    "    y = [char_to_idx[x] for x in txt[1:]]\n",
    "    y.append(char_to_idx['.'])\n",
    "    y = np.array(y)"
   ]
  },
  {
   "cell_type": "code",
   "execution_count": 4,
   "metadata": {
    "collapsed": true
   },
   "outputs": [],
   "source": [
    "vocab_size = len(char_to_idx)"
   ]
  },
  {
   "cell_type": "code",
   "execution_count": 5,
   "metadata": {
    "collapsed": true
   },
   "outputs": [],
   "source": [
    "# net = lstm.LSTM(vocab_size, H=H, char2idx=char_to_idx, idx2char=idx_to_char)\n",
    "# net = nn.RNN(vocab_size, H=H, char2idx=char_to_idx, idx2char=idx_to_char)\n",
    "# net = rnn.RNN(vocab_size, H=H, char2idx=char_to_idx, idx2char=idx_to_char)\n",
    "net = gru.GRU(vocab_size, H=H, char2idx=char_to_idx, idx2char=idx_to_char)"
   ]
  },
  {
   "cell_type": "code",
   "execution_count": 6,
   "metadata": {},
   "outputs": [
    {
     "name": "stdout",
     "output_type": "stream",
     "text": [
      "=========================================================================\n",
      "Iter-1000 loss: 3.3652\n",
      "=========================================================================\n",
      " orls 7rKiop ceds  en aonnd walt va se guuan urater Sors tif of 本. RNot onSin ensina in uid n E6penk\n",
      "=========================================================================\n",
      "\n",
      "\n",
      "=========================================================================\n",
      "Iter-2000 loss: 2.6912\n",
      "=========================================================================\n",
      "or ang mn the Wipuloulery Jmpaved os lalde fmorton Farino. Oecuuin'nteme pan empin or Dedpanlaw Japa\n",
      "=========================================================================\n",
      "\n",
      "\n",
      "=========================================================================\n",
      "Iter-3000 loss: 2.2645\n",
      "=========================================================================\n",
      "re iunty in lhy cfa af is the hurlea flio thi cersr. Japanes eararge–d Japan feaceno wofth the mion \n",
      "=========================================================================\n",
      "\n",
      "\n",
      "=========================================================================\n",
      "Iter-4000 loss: 1.9658\n",
      "=========================================================================\n",
      "untry rist in morunh in 9hemplligs an fifror nommerestecenom the Hitht waice., Shg westy xsrentuAce \n",
      "=========================================================================\n",
      "\n",
      "\n",
      "=========================================================================\n",
      "Iter-5000 loss: 1.7353\n",
      "=========================================================================\n",
      "c ot pricen the E2prlewin chichomeoden at earlato NaDcenory Chi ar earity ias rinta arowit riny War \n",
      "=========================================================================\n",
      "\n",
      "\n",
      "=========================================================================\n",
      "Iter-6000 loss: 1.5510\n",
      "=========================================================================\n",
      "ourth n-rane folliC', stan. Daas iI is s atomel esint insto er, ty in, pormericl of 3Esea and chin A\n",
      "=========================================================================\n",
      "\n",
      "\n",
      "=========================================================================\n",
      "Iter-7000 loss: 1.3731\n",
      "=========================================================================\n",
      "anowit matigesh minging is , the Was, shicely. Athe country \"stare conteof Japan resount, lalging th\n",
      "=========================================================================\n",
      "\n",
      "\n",
      "=========================================================================\n",
      "Iter-8000 loss: 1.2292\n",
      "=========================================================================\n",
      "in 1945 and of toe(, sslUpapl Cs tagest Japany Ch renoliga madered expangedin shurenaly\n",
      ".\n",
      ".\n",
      ".\n",
      ". Japa\n",
      "=========================================================================\n",
      "\n",
      "\n",
      "=========================================================================\n",
      "Iter-9000 loss: 1.1196\n",
      "=========================================================================\n",
      "st e9rea In the with sed本lagd \"Staonstiend inco anded in 1947, Japan was parisy, sullaln al earies, \n",
      "=========================================================================\n",
      "\n",
      "\n",
      "=========================================================================\n",
      "Iter-10000 loss: 1.0288\n",
      "=========================================================================\n",
      " atees. The Werl. Ind ignsl maicbateve and the Gronak of 6routar werld bymintsy Deation, ind, whichl\n",
      "=========================================================================\n",
      "\n",
      "\n"
     ]
    },
    {
     "data": {
      "text/plain": [
       "<hipsternet.GRU.GRU at 0x7f60b91be3c8>"
      ]
     },
     "execution_count": 6,
     "metadata": {},
     "output_type": "execute_result"
    }
   ],
   "source": [
    "solver.adam_rnn(\n",
    "    net, X, y,\n",
    "    alpha=alpha,\n",
    "    mb_size=time_step,\n",
    "    n_iter=n_iter,\n",
    "    print_after=print_after\n",
    ")"
   ]
  },
  {
   "cell_type": "markdown",
   "metadata": {},
   "source": [
    "# Below some of the results are shown for more comparison and better conclusion of the results."
   ]
  },
  {
   "cell_type": "code",
   "execution_count": null,
   "metadata": {
    "collapsed": true
   },
   "outputs": [],
   "source": [
    "=========================================================================\n",
    "Iter-100000 loss: 0.3913\n",
    "=========================================================================\n",
    "the 1pman a inusy rotory surrowho tOkike upporter wor peven des The easty porterized itivecend perce\n",
    "=========================================================================\n",
    "\n",
    "\n",
    "Out[7]:\n",
    "<hipsternet.neuralnet.RNN at 0x7fc2f5182e80>"
   ]
  },
  {
   "cell_type": "code",
   "execution_count": null,
   "metadata": {
    "collapsed": true
   },
   "outputs": [],
   "source": [
    "=========================================================================\n",
    "Iter-100000 loss: 0.1615\n",
    "=========================================================================\n",
    "the name of the 12th century until 1868, Japan was ruled by successime Wer of 1941, which country is\n",
    "=========================================================================\n",
    "\n",
    "\n",
    "Out[16]:\n",
    "<hipsternet.neuralnet.LSTM at 0x7f67fe0c9978>"
   ]
  },
  {
   "cell_type": "code",
   "execution_count": null,
   "metadata": {
    "collapsed": true
   },
   "outputs": [],
   "source": [
    "=========================================================================\n",
    "Iter-100000 loss: 0.1333\n",
    "=========================================================================\n",
    "the Coun resilate a in the population. Russided in the OECD and the world's fourth-largest econompic\n",
    "=========================================================================\n",
    "\n",
    "\n",
    "Out[10]:\n",
    "<hipsternet.neuralnet.GRU at 0x7fc2cec1e1d0>"
   ]
  }
 ],
 "metadata": {
  "kernelspec": {
   "display_name": "Python 3",
   "language": "python",
   "name": "python3"
  },
  "language_info": {
   "codemirror_mode": {
    "name": "ipython",
    "version": 3
   },
   "file_extension": ".py",
   "mimetype": "text/x-python",
   "name": "python",
   "nbconvert_exporter": "python",
   "pygments_lexer": "ipython3",
   "version": "3.5.1"
  }
 },
 "nbformat": 4,
 "nbformat_minor": 2
}
