{
 "cells": [
  {
   "cell_type": "code",
   "execution_count": 1,
   "metadata": {
    "collapsed": true
   },
   "outputs": [],
   "source": [
    "import numpy as np\n",
    "# import impl.neuralnet as nn\n",
    "# import impl.CNN as cnn\n",
    "# import impl.CNN2 as cnn2\n",
    "from impl.solver import *\n",
    "import sys"
   ]
  },
  {
   "cell_type": "code",
   "execution_count": 2,
   "metadata": {
    "collapsed": true
   },
   "outputs": [],
   "source": [
    "n_iter = 1000 # number of epochs\n",
    "alpha = 1e-3\n",
    "mb_size = 64 # minibatch size usually compatible to the Cache/RAM size\n",
    "n_experiment = 1\n",
    "reg = 1e-5\n",
    "print_after = 100\n",
    "p_dropout = 0.8 # dropout/keep_prob\n",
    "loss = 'cross_ent'\n",
    "nonlin = 'relu'\n",
    "solver = 'sgd'"
   ]
  },
  {
   "cell_type": "code",
   "execution_count": 3,
   "metadata": {},
   "outputs": [
    {
     "name": "stdout",
     "output_type": "stream",
     "text": [
      "Extracting data/MNIST_data/train-images-idx3-ubyte.gz\n",
      "Extracting data/MNIST_data/train-labels-idx1-ubyte.gz\n",
      "Extracting data/MNIST_data/t10k-images-idx3-ubyte.gz\n",
      "Extracting data/MNIST_data/t10k-labels-idx1-ubyte.gz\n"
     ]
    },
    {
     "data": {
      "text/plain": [
       "((10000,), (5000,), (55000,))"
      ]
     },
     "execution_count": 3,
     "metadata": {},
     "output_type": "execute_result"
    }
   ],
   "source": [
    "# import hipsternet.input_data as input_data  # NOT used for MNIST\n",
    "from tensorflow.examples.tutorials.mnist import input_data\n",
    "mnist = input_data.read_data_sets('data/MNIST_data/', one_hot=False)\n",
    "X_train, y_train = mnist.train.images, mnist.train.labels\n",
    "X_val, y_val = mnist.validation.images, mnist.validation.labels\n",
    "X_test, y_test = mnist.test.images, mnist.test.labels\n",
    "y_test.shape, y_val.shape, y_train.shape"
   ]
  },
  {
   "cell_type": "code",
   "execution_count": 4,
   "metadata": {},
   "outputs": [
    {
     "data": {
      "text/plain": [
       "(55000, 784, 10)"
      ]
     },
     "execution_count": 4,
     "metadata": {},
     "output_type": "execute_result"
    }
   ],
   "source": [
    "M, D, C = X_train.shape[0], X_train.shape[1], y_train.max() + 1\n",
    "M, D, C"
   ]
  },
  {
   "cell_type": "code",
   "execution_count": 5,
   "metadata": {
    "scrolled": true
   },
   "outputs": [
    {
     "data": {
      "text/plain": [
       "((55000, 784), (5000, 784), (10000, 784))"
      ]
     },
     "execution_count": 5,
     "metadata": {},
     "output_type": "execute_result"
    }
   ],
   "source": [
    "import impl.utils as utils\n",
    "X_train, X_val, X_test = utils.prepro(X_train, X_val, X_test)\n",
    "X_train.shape, X_val.shape, X_test.shape"
   ]
  },
  {
   "cell_type": "code",
   "execution_count": 6,
   "metadata": {
    "scrolled": true
   },
   "outputs": [
    {
     "data": {
      "text/plain": [
       "((55000, 1, 28, 28), (5000, 1, 28, 28), (10000, 1, 28, 28))"
      ]
     },
     "execution_count": 6,
     "metadata": {},
     "output_type": "execute_result"
    }
   ],
   "source": [
    "# if net_type == 'cnn':\n",
    "img_shape = (1, 28, 28)\n",
    "X_train = X_train.reshape(-1, *img_shape)\n",
    "X_val = X_val.reshape(-1, *img_shape)\n",
    "X_test = X_test.reshape(-1, *img_shape)\n",
    "X_train.shape, X_val.shape, X_test.shape"
   ]
  },
  {
   "cell_type": "code",
   "execution_count": 7,
   "metadata": {},
   "outputs": [
    {
     "data": {
      "text/plain": [
       "{'adagrad': <function impl.solver.adagrad>,\n",
       " 'adam': <function impl.solver.adam>,\n",
       " 'momentum': <function impl.solver.momentum>,\n",
       " 'nesterov': <function impl.solver.nesterov>,\n",
       " 'rmsprop': <function impl.solver.rmsprop>,\n",
       " 'sgd': <function impl.solver.sgd>}"
      ]
     },
     "execution_count": 7,
     "metadata": {},
     "output_type": "execute_result"
    }
   ],
   "source": [
    "solvers = dict(\n",
    "    sgd=sgd,\n",
    "    momentum=momentum,\n",
    "    nesterov=nesterov,\n",
    "    adagrad=adagrad,\n",
    "    rmsprop=rmsprop,\n",
    "    adam=adam\n",
    ")\n",
    "solvers"
   ]
  },
  {
   "cell_type": "code",
   "execution_count": 8,
   "metadata": {},
   "outputs": [
    {
     "name": "stdout",
     "output_type": "stream",
     "text": [
      "Experimenting on sgd\n"
     ]
    }
   ],
   "source": [
    "solver_fun = solvers[solver] # solver functions\n",
    "accs = np.zeros(n_experiment)\n",
    "solver_fun, accs\n",
    "# print()\n",
    "print('Experimenting on {}'.format(solver))\n",
    "# print()"
   ]
  },
  {
   "cell_type": "code",
   "execution_count": 13,
   "metadata": {},
   "outputs": [],
   "source": [
    "import numpy as np\n",
    "import impl.loss as loss_fun\n",
    "import impl.layer as l\n",
    "# import impl.regularization as reg\n",
    "# import impl.utils as util\n",
    "import impl.NN as nn\n",
    "\n",
    "class PNN(nn.NN):\n",
    "\n",
    "    def __init__(self, D, C, H, lam=1e-3, p_dropout=.8, loss='cross_ent', nonlin='relu'):\n",
    "        super().__init__(D, C, H, lam, p_dropout, loss, nonlin)\n",
    "\n",
    "    def forward(self, X, train=False):\n",
    "        # 1st layer\n",
    "        # FC layer forward\n",
    "        # make sure about the image size/input size/dimensionality & matrix rank\n",
    "        x_tx1x28x28 = X\n",
    "        # 1*28*28 =784 =400+2*20*8+64 =400+320+64 =720+64 =784 ==num_dim/pixels\n",
    "        x_tx784 = x_tx1x28x28.reshape([x_tx1x28x28.shape[0], -1])\n",
    "        # The output is classification/discrete with 10 classes --> y1\n",
    "        y_tx10_logit, y_cache = l.fc_forward(X=x_tx784, W=self.model['W1'], b=self.model['b1'])\n",
    "\n",
    "        # 2nd layer\n",
    "        # h21 is the conv, bn, and relu\n",
    "        h21_tx10x28x28_logit, h21_cache = l.conv_forward(b=self.model['b21'], padding=1, \n",
    "                                                      stride=1, W=self.model['W21'], X=x_tx1x28x28)\n",
    "        # batch normalization EMPTY\n",
    "        h21_tx10x28x28_act, nl_cache21 = l.relu_forward(h21_tx10x28x28_logit)\n",
    "\n",
    "        # h22 is fully connected to the output layer (FC layer) --> y2\n",
    "        # flatten for getting fully connected to the output layer (FC layer)\n",
    "        h21_tx7840_act = h21_tx10x28x28_act.reshape([h21_tx10x28x28_act.shape[0], -1])\n",
    "        y2_tx10_logit, y2_cache = l.fc_forward(b=self.model['b22'], W=self.model['W22'], X=h21_tx7840_act)\n",
    "        \n",
    "\n",
    "        y_tx10_logit += y2_tx10_logit\n",
    "        # Before output activations y = wx+wf(wx) in the output layer\n",
    "        # y_prob = softmax_fwd(X=y) (included in loss/error function)\n",
    "\n",
    "        # Output forward\n",
    "        cache = x_tx1x28x28, y_cache, h21_cache, nl_cache21, y2_cache\n",
    "        return y_tx10_logit, cache\n",
    "\n",
    "    def backward(self, y, y_train, cache):\n",
    "        X_tx1x28x28, y_cache, h21_cache, nl_cache21, y2_cache = cache\n",
    "\n",
    "        # Output layer backward\n",
    "        dy_tx10_logit = self.dloss_funs[self.loss](y, y_train) # y==y_logits\n",
    "\n",
    "        # 1st layer\n",
    "        # FC layer backward\n",
    "        # dy = softmax_bwd(dX=dy_prob, X=y_logits/y) (included in the loss/error function)\n",
    "        dx_tx784, dW1_784x10, db1_1x10 = l.fc_backward(dout=dy_tx10_logit, cache=y_cache)\n",
    "        \n",
    "        # 2nd layer\n",
    "        # FC layer backward\n",
    "        # dy = softmax_bwd(dX=dy_prob, X=y_logits/y) (included in the loss/error function)\n",
    "        dh21_tx7840_act, dW22_7840x10, db22_1x10 = l.fc_backward(dout=dy_tx10_logit, cache=y2_cache)\n",
    "        # h21_tx784 = h21_tx1x28x28_act.reshape([h21_tx1x28x28_act[0], -1])\n",
    "        dh21_tx10x28x28_act = dh21_tx7840_act.reshape(nl_cache21.shape)\n",
    "\n",
    "        # h21_tx1x28x28_act, nl_cache21 = l.relu_forward(h21_tx1x28x28_logit)\n",
    "        dh21_tx10x28x28_logit = l.relu_backward(cache=nl_cache21, dout=dh21_tx10x28x28_act)\n",
    "        dx_tx1x28x28, dW21_10x1x3x3, db21_10x1 = l.conv_backward(dout=dh21_tx10x28x28_logit, cache=h21_cache) # X is visible/input layer, dX? No use??\n",
    "\n",
    "        # grad for GD\n",
    "        grad = dict(W1=dW1_784x10, b1=db1_1x10, # 1st layer/floor in pyrmid: FC layer\n",
    "                    W21=dW21_10x1x3x3, b21=db21_10x1, W22=dW22_7840x10, b22=db22_1x10 # 2nd layer/floor in pyrmid: Conv+FC layers\n",
    "                   )\n",
    "        \n",
    "        return grad\n",
    "\n",
    "    def _init_model(self, D, C, H):\n",
    "        self.model = dict(\n",
    "            W1=np.random.randn(D, C) / np.sqrt(D / 2.), b1=np.zeros(shape=(1, C)), # 1st layer FC\n",
    "            W21=np.random.randn(H, 1, 3, 3) / np.sqrt(H / 2.), b21=np.zeros((H, 1)), # 2nd layer Conv\n",
    "            W22=np.random.randn(H * D, C) / np.sqrt(H * D / 2.), b22=np.zeros((1, C)) # 2nd layer FC\n",
    "        )"
   ]
  },
  {
   "cell_type": "code",
   "execution_count": 14,
   "metadata": {},
   "outputs": [
    {
     "name": "stdout",
     "output_type": "stream",
     "text": [
      "Experiment-1\n",
      "Iter-100 loss: 1.6086 validation: 0.622400\n",
      "Iter-200 loss: 1.1318 validation: 0.763800\n",
      "Iter-300 loss: 0.8523 validation: 0.805800\n",
      "Iter-400 loss: 0.8192 validation: 0.829200\n",
      "Iter-500 loss: 0.6903 validation: 0.843800\n",
      "Iter-600 loss: 0.6378 validation: 0.854200\n",
      "Iter-700 loss: 0.5634 validation: 0.861800\n",
      "Iter-800 loss: 0.5594 validation: 0.866200\n",
      "Iter-900 loss: 0.5895 validation: 0.868400\n",
      "Iter-1000 loss: 0.5472 validation: 0.873000\n",
      "\n",
      "Test Mean accuracy: 0.8733, std: 0.0000\n"
     ]
    }
   ],
   "source": [
    "for k in range(n_experiment):\n",
    "    print('Experiment-{}'.format(k + 1))\n",
    "\n",
    "#     net = PNN(C=C, D=10, H=128) # Mine\n",
    "    net = PNN(C=C, D=D, H=10) #, lam=, loss=, nonlin=, p_dropout=, self=\n",
    "\n",
    "    net = solver_fun(nn=net, X_train=X_train, y_train=y_train, val_set=(X_val, y_val), \n",
    "                     mb_size=mb_size, alpha=alpha, n_iter=n_iter, print_after=print_after)\n",
    "\n",
    "    y_pred = net.predict(X_test)\n",
    "    accs[k] = np.mean(y_pred == y_test)\n",
    "\n",
    "print()\n",
    "print('Test Mean accuracy: {:.4f}, std: {:.4f}'.format(accs.mean(), accs.std()))"
   ]
  },
  {
   "cell_type": "code",
   "execution_count": null,
   "metadata": {
    "collapsed": true
   },
   "outputs": [],
   "source": []
  }
 ],
 "metadata": {
  "kernelspec": {
   "display_name": "Python 3",
   "language": "python",
   "name": "python3"
  },
  "language_info": {
   "codemirror_mode": {
    "name": "ipython",
    "version": 3
   },
   "file_extension": ".py",
   "mimetype": "text/x-python",
   "name": "python",
   "nbconvert_exporter": "python",
   "pygments_lexer": "ipython3",
   "version": "3.5.1"
  }
 },
 "nbformat": 4,
 "nbformat_minor": 2
}
