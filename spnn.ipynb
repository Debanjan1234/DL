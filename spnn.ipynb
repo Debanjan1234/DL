{
 "cells": [
  {
   "cell_type": "code",
   "execution_count": 1,
   "metadata": {
    "collapsed": true
   },
   "outputs": [],
   "source": [
    "import numpy as np\n",
    "from impl.solver import *\n",
    "import sys"
   ]
  },
  {
   "cell_type": "code",
   "execution_count": 2,
   "metadata": {
    "collapsed": true
   },
   "outputs": [],
   "source": [
    "n_iter = 1000 # number of epochs\n",
    "alpha = 1e-3\n",
    "mb_size = 64 # minibatch size usually compatible to the Cache/RAM size\n",
    "n_experiment = 1\n",
    "reg = 1e-5\n",
    "print_after = 100\n",
    "p_dropout = 0.8\n",
    "loss = 'cross_ent'\n",
    "nonlin = 'relu'\n",
    "solver = 'sgd'"
   ]
  },
  {
   "cell_type": "code",
   "execution_count": 3,
   "metadata": {},
   "outputs": [
    {
     "name": "stdout",
     "output_type": "stream",
     "text": [
      "Extracting data/MNIST_data/train-images-idx3-ubyte.gz\n",
      "Extracting data/MNIST_data/train-labels-idx1-ubyte.gz\n",
      "Extracting data/MNIST_data/t10k-images-idx3-ubyte.gz\n",
      "Extracting data/MNIST_data/t10k-labels-idx1-ubyte.gz\n"
     ]
    },
    {
     "data": {
      "text/plain": [
       "((10000,), (5000,), (55000,))"
      ]
     },
     "execution_count": 3,
     "metadata": {},
     "output_type": "execute_result"
    }
   ],
   "source": [
    "# import hipsternet.input_data as input_data  # NOT used for MNIST\n",
    "from tensorflow.examples.tutorials.mnist import input_data\n",
    "mnist = input_data.read_data_sets('data/MNIST_data/', one_hot=False)\n",
    "X_train, y_train = mnist.train.images, mnist.train.labels\n",
    "X_val, y_val = mnist.validation.images, mnist.validation.labels\n",
    "X_test, y_test = mnist.test.images, mnist.test.labels\n",
    "y_test.shape, y_val.shape, y_train.shape"
   ]
  },
  {
   "cell_type": "code",
   "execution_count": 4,
   "metadata": {},
   "outputs": [
    {
     "data": {
      "text/plain": [
       "(55000, 784, 10)"
      ]
     },
     "execution_count": 4,
     "metadata": {},
     "output_type": "execute_result"
    }
   ],
   "source": [
    "M, D, C = X_train.shape[0], X_train.shape[1], y_train.max() + 1\n",
    "M, D, C"
   ]
  },
  {
   "cell_type": "code",
   "execution_count": 5,
   "metadata": {
    "scrolled": true
   },
   "outputs": [
    {
     "data": {
      "text/plain": [
       "((55000, 784), (5000, 784), (10000, 784))"
      ]
     },
     "execution_count": 5,
     "metadata": {},
     "output_type": "execute_result"
    }
   ],
   "source": [
    "import impl.utils as utils\n",
    "X_train, X_val, X_test = utils.prepro(X_train, X_val, X_test)\n",
    "X_train.shape, X_val.shape, X_test.shape"
   ]
  },
  {
   "cell_type": "code",
   "execution_count": 6,
   "metadata": {
    "scrolled": true
   },
   "outputs": [
    {
     "data": {
      "text/plain": [
       "((55000, 1, 28, 28), (5000, 1, 28, 28), (10000, 1, 28, 28))"
      ]
     },
     "execution_count": 6,
     "metadata": {},
     "output_type": "execute_result"
    }
   ],
   "source": [
    "# if net_type == 'cnn':\n",
    "img_shape = (1, 28, 28)\n",
    "X_train = X_train.reshape(-1, *img_shape)\n",
    "X_val = X_val.reshape(-1, *img_shape)\n",
    "X_test = X_test.reshape(-1, *img_shape)\n",
    "X_train.shape, X_val.shape, X_test.shape"
   ]
  },
  {
   "cell_type": "code",
   "execution_count": 7,
   "metadata": {},
   "outputs": [
    {
     "data": {
      "text/plain": [
       "{'adagrad': <function impl.solver.adagrad>,\n",
       " 'adam': <function impl.solver.adam>,\n",
       " 'momentum': <function impl.solver.momentum>,\n",
       " 'nesterov': <function impl.solver.nesterov>,\n",
       " 'rmsprop': <function impl.solver.rmsprop>,\n",
       " 'sgd': <function impl.solver.sgd>}"
      ]
     },
     "execution_count": 7,
     "metadata": {},
     "output_type": "execute_result"
    }
   ],
   "source": [
    "solvers = dict(\n",
    "    sgd=sgd,\n",
    "    momentum=momentum,\n",
    "    nesterov=nesterov,\n",
    "    adagrad=adagrad,\n",
    "    rmsprop=rmsprop,\n",
    "    adam=adam\n",
    ")\n",
    "solvers"
   ]
  },
  {
   "cell_type": "code",
   "execution_count": 26,
   "metadata": {},
   "outputs": [
    {
     "name": "stdout",
     "output_type": "stream",
     "text": [
      "Experimenting on sgd\n"
     ]
    }
   ],
   "source": [
    "solver_fun = solvers[solver] # solver functions\n",
    "accs = np.zeros(n_experiment)\n",
    "solver_fun, accs\n",
    "# print()\n",
    "print('Experimenting on {}'.format(solver))\n",
    "# print()"
   ]
  },
  {
   "cell_type": "code",
   "execution_count": 32,
   "metadata": {
    "collapsed": true
   },
   "outputs": [],
   "source": [
    "import numpy as np\n",
    "import impl.loss as loss_fun\n",
    "import impl.layer as l\n",
    "import impl.NN as nn\n",
    "\n",
    "class SPNN(nn.NN):\n",
    "\n",
    "    def __init__(self, D, C, H, lam=1e-3, p_dropout=.8, loss='cross_ent', nonlin='relu'):\n",
    "        super().__init__(D, C, H, lam, p_dropout, loss, nonlin)\n",
    "    \n",
    "    def pyrmidnet_fwd(X, w1, b1, w21, b21, w22, b22):\n",
    "\n",
    "        #         #         # 1st layer -  linear term --> wx=x\n",
    "        #         #         h1_txhxwxd_logit, h1_txhxwxd_logit_cache = l.conv_forward(b=b1, #b_1xh\n",
    "        #         #                                                     padding=1, #padding=true means image size stays the same: 'SAME'\n",
    "        #         #                                                     stride=1, # stride one means include all and no jump\n",
    "        #         #                                                     W=w1, # kernel size cx3x3xd for all layers\n",
    "        #         #                                                     X=x_txcxhxw) # input image in SPNN for spatial PNN        # 2nd layer - adding to the linear layer output\n",
    "        dx_txcxhxw__, dw1, db1 = l.conv_backward(dout=dh1_txhxwxd_logit, cache=h1_txhxwxd_logit_cache)\n",
    "\n",
    "\n",
    "        #         #         # 1nd layer - adding to spnn output\n",
    "        #         #         y_txhxwxd_logit = h1_txhxwxd_logit\n",
    "        dh1_txhxwxd_logit = dy_txhxwxd_logit\n",
    "\n",
    "        # 2nd layer -  non-linear term --> wf(wx)=f(x)\n",
    "        # 2nd layer - 1st convolution\n",
    "        h21_txhxwxd_logit, h21_txhxwxd_logit_cache = l.conv_forward(b=b21, #b_1xh\n",
    "                                                    padding=1, #padding=true means image size stays the same: 'SAME'\n",
    "                                                    stride=1, # stride one means include all and no jump\n",
    "                                                    W=w21, # kernel size 3x3 for all layers\n",
    "                                                    X=x_txcxhxw) # input image in SPNN for spatial PNN\n",
    "        #         dx_txcxhxw__, dw21, db21 = l.conv_backward(dout=dh21_txhxwxd_logit, cache=h21_txhxwxd_logit_cache)\n",
    "        \n",
    "        # 2nd layer - non-linearity\n",
    "        h21_txhxwxd_act, h21_txhxwxd_act_cache = l.relu_forward(h21_txhxwxd_logit)\n",
    "        #         dh21_txhxwxd_logit = l.relu_backward(cache=h21_txhxwxd_act_cache, dout=dh21_txhxwxd_act)\n",
    "\n",
    "        # 2nd layer - 2nd convolution\n",
    "        h22_txhxwxd_logit, h22_txhxwxd_logit_cache = l.conv_forward(b=b22, #b_1xh\n",
    "                                                    padding=1, #padding=true means image size stays the same: 'SAME'\n",
    "                                                    stride=1, # stride one means include all and no jump\n",
    "                                                    W=w22, # kernel size 3x3 for all layers\n",
    "                                                    X=h21_txhxwxd_act) # input image in SPNN for spatial PNN\n",
    "        #         dh21_txhxwxd_act, dw22, db22 = l.conv_backward(dout=dh22_txhxwxd_logit, cache=h22_txhxwxd_logit_cache) # X is visible/input layer, dX? No use??\n",
    "\n",
    "        # 2nd layer - adding to spnn output\n",
    "        y_txhxwxd_logit += h22_txhxwxd_logit\n",
    "        #         dh22_txhxwxd_logit = dy_txhxwxd_logit\n",
    "        \n",
    "        # output layer - non-linearity\n",
    "        y_txhxwxd_act, y_txhxwxd_act_cache = l.relu_forward(y_txhxwxd_logit)\n",
    "        #         dy_txhxwxd_logit = l.relu_backward(cache=y_txhxwxd_act_cache, dout=dy_txhxwxd_act)\n",
    "\n",
    "        # output cache\n",
    "        cache = h1_txhxwxd_logit_cache, h21_txhxwxd_act_cache, h22_txhxwxd_logit_cache, y_txhxwxd_act_cache\n",
    "        #         h1_txhxwxd_logit_cache, h21_txhxwxd_act_cache, h22_txhxwxd_logit_cache, y_txhxwxd_act_cache = cache\n",
    "        \n",
    "        return y_txhxwxd_act, cache\n",
    "\n",
    "    def pyrmidnet_bwd(dy_txhxwxd_act, cache):\n",
    "\n",
    "        #         # output cache\n",
    "        #         cache = h1_txhxwxd_logit_cache, h21_txhxwxd_act_cache, h22_txhxwxd_logit_cache, y_txhxwxd_act_cache\n",
    "        h1_txhxwxd_logit_cache, h21_txhxwxd_act_cache, h22_txhxwxd_logit_cache, y_txhxwxd_act_cache = cache\n",
    "\n",
    "        #         # output layer - non-linearity\n",
    "        #         y_txhxwxd_act, y_txhxwxd_act_cache = l.relu_forward(y_txhxwxd_logit)\n",
    "        dy_txhxwxd_logit = l.relu_backward(cache=y_txhxwxd_act_cache, dout=dy_txhxwxd_act)\n",
    "\n",
    "        #         # 2nd layer - adding to spnn output\n",
    "        #         y_txhxwxd_logit += h22_txhxwxd_logit\n",
    "        dh22_txhxwxd_logit = dy_txhxwxd_logit\n",
    "        \n",
    "        #         # 2nd layer - 2nd convolution\n",
    "        #         h22_txhxwxd_logit, h22_txhxwxd_logit_cache = l.conv_forward(b=b22, #b_1xh\n",
    "        #                                                     padding=1, #padding=true means image size stays the same: 'SAME'\n",
    "        #                                                     stride=1, # stride one means include all and no jump\n",
    "        #                                                     W=w22, # kernel size 3x3 for all layers\n",
    "        #                                                     X=h21_txhxwxd_act) # input image in SPNN for spatial PNN\n",
    "        dh21_txhxwxd_act, dw22, db22 = l.conv_backward(dout=dh22_txhxwxd_logit, cache=h22_txhxwxd_logit_cache) # X is visible/input layer, dX? No use??\n",
    "\n",
    "        #         # 2nd layer - non-linearity\n",
    "        #         h21_txhxwxd_act, h21_txhxwxd_act_cache = l.relu_forward(h21_txhxwxd_logit)\n",
    "        dh21_txhxwxd_logit = l.relu_backward(cache=h21_txhxwxd_act_cache, dout=dh21_txhxwxd_act)\n",
    "\n",
    "        #         # 2nd layer -  non-linear term --> wf(wx)=f(x)\n",
    "        #         # 2nd layer - 1st convolution\n",
    "        #         h21_txhxwxd_logit, h21_txhxwxd_logit_cache = l.conv_forward(b=b21, #b_1xh\n",
    "        #                                                     padding=1, #padding=true means image size stays the same: 'SAME'\n",
    "        #                                                     stride=1, # stride one means include all and no jump\n",
    "        #                                                     W=w21, # kernel size 3x3 for all layers\n",
    "        #                                                     X=x_txcxhxw) # input image in SPNN for spatial PNN\n",
    "        dx_txcxhxw__, dw21, db21 = l.conv_backward(dout=dh21_txhxwxd_logit, cache=h21_txhxwxd_logit_cache)\n",
    "        \n",
    "        #         # 1nd layer - adding to spnn output\n",
    "        #         y_txhxwxd_logit = h1_txhxwxd_logit\n",
    "        dh1_txhxwxd_logit = dy_txhxwxd_logit\n",
    "\n",
    "        #         # 1st layer -  linear term --> wx=x\n",
    "        #         h1_txhxwxd_logit, h1_txhxwxd_logit_cache = l.conv_forward(b=b1, #b_1xh\n",
    "        #                                                     padding=1, #padding=true means image size stays the same: 'SAME'\n",
    "        #                                                     stride=1, # stride one means include all and no jump\n",
    "        #                                                     W=w1, # kernel size cx3x3xd for all layers\n",
    "        #                                                     X=x_txcxhxw) # input image in SPNN for spatial PNN        # 2nd layer - adding to the linear layer output\n",
    "        dx_txcxhxw__, dw1, db1 = l.conv_backward(dout=dh1_txhxwxd_logit, cache=h1_txhxwxd_logit_cache)\n",
    "\n",
    "        #         def pyrmidnet_fwd(X, w1, b1, w21, b21, w22, b22):\n",
    "        return dX, dw1, db1, dw21, db21, dw22, db22\n",
    "    \n",
    "    def forward(self, X, train=False):\n",
    "\n",
    "        # 1st layer -  convolution to change the size from x_txcxhxw to h_txhxwxd, c==channels of image, d=depth/num_units\n",
    "        h1_txhxwxd_logit, h1_txhxwxd_logit_cache = l.conv_forward(b=self.model['b1'], #b_1xh\n",
    "                                                    padding=1, #padding=true means image size stays the same: 'SAME'\n",
    "                                                    stride=1, # stride one means include all and no jump\n",
    "                                                    W=self.model['W1'], # kernel size cx3x3xd for all layers\n",
    "                                                    X=X) # input image in SPNN for spatial PNN        # 2nd layer - adding to the linear layer output\n",
    "        #         dX, dw1, db1 = l.conv_backward(dout=dh1_txhxwxd_logit, cache=h1_txhxwxd_logit_cache)\n",
    "\n",
    "        # 1st layer - nonlinearity-relu\n",
    "        h1_txhxwxd_act, h1_txhxwxd_act_cache = l.relu_forward(h1_txhxwxd_logit)\n",
    "        #         dh1_txhxwxd_logit = l.relu_backward(cache=h1_txhxwxd_act_cache, dout=dh1_txhxwxd_act)\n",
    "        \n",
    "        # last layer : FC layer -  fully connected to the output layer (visible layer)\n",
    "        # n=hxwxd flattened\n",
    "        h1_txn_act = h1_txhxwxd_act.reshape([h1_txhxwxd_act_cache.shape[0], -1])\n",
    "        #         dh1_txhxwxd_act = dh1_txn_act.reshape(h1_txhxwxd_act_cache.shape)\n",
    "\n",
    "        y_tx10_logit, y_tx10_logit_cache = l.fc_forward(X=h1_txn_act, W=self.model['W2'], b=self.model['b2'])\n",
    "        #         dh1_txn_act, dw2, db2 = l.fc_backward(dout=dy_tx10_logit, cache=y_tx10_logit_cache)\n",
    "\n",
    "        # Output\n",
    "        cache = X, h1_txhxwxd_logit_cache, h1_txhxwxd_act_cache, y_tx10_logit_cache\n",
    "        #         X, h1_txhxwxd_logit_cache, h1_txhxwxd_act_cache, y_tx10_logit_cache = cache\n",
    "        \n",
    "        return y_tx10_logit, cache\n",
    "\n",
    "    def backward(self, y, y_train, cache):\n",
    "\n",
    "        #         # Output\n",
    "        #         cache = X, h1_txhxwxd_logit_cache, h1_txhxwxd_act_cache, y_tx10_logit_cache\n",
    "        X, h1_txhxwxd_logit_cache, h1_txhxwxd_act_cache, y_tx10_logit_cache = cache\n",
    "\n",
    "        # Output layer backward\n",
    "        dy_tx10_logit = self.dloss_funs[self.loss](y, y_train) # y==y_logits\n",
    "\n",
    "        #         y_tx10_logit, y_tx10_logit_cache = l.fc_forward(X=h1_txn_act, W=self.model['W2'], b=self.model['b2'])\n",
    "        dh1_txn_act, dw2, db2 = l.fc_backward(dout=dy_tx10_logit, cache=y_tx10_logit_cache)\n",
    "\n",
    "        #         # last layer : FC layer -  fully connected to the output layer (visible layer)\n",
    "        #         # n=hxwxd flattened\n",
    "        #         h1_txn_act = h1_txhxwxd_act.reshape([h1_txhxwxd_act_cache.shape[0], -1])\n",
    "        dh1_txhxwxd_act = dh1_txn_act.reshape(h1_txhxwxd_act_cache.shape)\n",
    "\n",
    "\n",
    "        #         # 1st layer - nonlinearity-relu\n",
    "        #         h1_txhxwxd_act, h1_txhxwxd_act_cache = l.relu_forward(h1_txhxwxd_logit)\n",
    "        dh1_txhxwxd_logit = l.relu_backward(cache=h1_txhxwxd_act_cache, dout=dh1_txhxwxd_act)\n",
    "\n",
    "        #         # 1st layer -  convolution to change the size from x_txcxhxw to h_txhxwxd, c==channels of image, d=depth/num_units\n",
    "        #         h1_txhxwxd_logit, h1_txhxwxd_logit_cache = l.conv_forward(b=self.model['b1'], #b_1xh\n",
    "        #                                                     padding=1, #padding=true means image size stays the same: 'SAME'\n",
    "        #                                                     stride=1, # stride one means include all and no jump\n",
    "        #                                                     W=self.model['W1'], # kernel size cx3x3xd for all layers\n",
    "        #                                                     X=X) # input image in SPNN for spatial PNN        # 2nd layer - adding to the linear layer output\n",
    "        dX, dw1, db1 = l.conv_backward(dout=dh1_txhxwxd_logit, cache=h1_txhxwxd_logit_cache)\n",
    "\n",
    "\n",
    "        # grad for GD\n",
    "        grad = dict(\n",
    "            W1=dw1, \n",
    "            b1=db1, # 1st layer in SPNN: Conv layer from the input\n",
    "            #             W1=np.random.randn(H, 1, 3, 3) / np.sqrt(H / 2.),\n",
    "            #             b1=np.zeros((H, 1)), # 1st layer Conv the input\n",
    "            W2=dw2, \n",
    "            b2=db2 # last layer in SPNN: FC layer to the output\n",
    "            #             W2=np.random.randn(H * D, C) / np.sqrt(H * D / 2.), \n",
    "            #             b2=np.zeros((1, C)) # last layer FC to the output\n",
    "            )\n",
    "        \n",
    "        return grad\n",
    "\n",
    "    def _init_model(self, D, C, H):\n",
    "        self.model = dict(\n",
    "            #             W1=dw1, \n",
    "            #             b1=db1, # 1st layer in SPNN: Conv layer from the input\n",
    "            W1=np.random.randn(H, 1, 3, 3) / np.sqrt(H / 2.),\n",
    "            b1=np.zeros((H, 1)), # 1st layer Conv the input\n",
    "            #             W2=dw2, \n",
    "            #             b2=db2 # last layer in SPNN: FC layer to the output\n",
    "            W2=np.random.randn(H * D, C) / np.sqrt(H * D / 2.), \n",
    "            b2=np.zeros((1, C)) # last layer FC to the output\n",
    "        )"
   ]
  },
  {
   "cell_type": "code",
   "execution_count": 33,
   "metadata": {},
   "outputs": [
    {
     "name": "stdout",
     "output_type": "stream",
     "text": [
      "Experiment-1\n",
      "Iter-100 loss: 1.7957 validation: 0.596600\n",
      "Iter-200 loss: 1.3315 validation: 0.735000\n",
      "Iter-300 loss: 1.0097 validation: 0.782800\n",
      "Iter-400 loss: 0.8834 validation: 0.810600\n",
      "Iter-500 loss: 0.7991 validation: 0.828000\n",
      "Iter-600 loss: 0.8964 validation: 0.841200\n",
      "Iter-700 loss: 0.6837 validation: 0.848800\n",
      "Iter-800 loss: 0.6596 validation: 0.854600\n",
      "Iter-900 loss: 0.7226 validation: 0.861400\n",
      "Iter-1000 loss: 0.7086 validation: 0.867600\n",
      "\n",
      "Test Mean accuracy: 0.8644, std: 0.0000\n"
     ]
    }
   ],
   "source": [
    "for k in range(n_experiment):\n",
    "    print('Experiment-{}'.format(k + 1))\n",
    "\n",
    "#     net = PNN(C=C, D=10, H=128) # Mine\n",
    "    net = SPNN(C=C, D=D, H=10) #, lam=, loss=, nonlin=, p_dropout=, self=\n",
    "\n",
    "    net = solver_fun(nn=net, X_train=X_train, y_train=y_train, val_set=(X_val, y_val), \n",
    "                     mb_size=mb_size, alpha=alpha, n_iter=n_iter, print_after=print_after)\n",
    "\n",
    "    y_pred = net.predict(X_test)\n",
    "    accs[k] = np.mean(y_pred == y_test)\n",
    "\n",
    "print()\n",
    "print('Test Mean accuracy: {:.4f}, std: {:.4f}'.format(accs.mean(), accs.std()))"
   ]
  },
  {
   "cell_type": "code",
   "execution_count": 18,
   "metadata": {
    "collapsed": true
   },
   "outputs": [],
   "source": []
  }
 ],
 "metadata": {
  "kernelspec": {
   "display_name": "Python 3",
   "language": "python",
   "name": "python3"
  },
  "language_info": {
   "codemirror_mode": {
    "name": "ipython",
    "version": 3
   },
   "file_extension": ".py",
   "mimetype": "text/x-python",
   "name": "python",
   "nbconvert_exporter": "python",
   "pygments_lexer": "ipython3",
   "version": "3.5.1"
  }
 },
 "nbformat": 4,
 "nbformat_minor": 2
}
