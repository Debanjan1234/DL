{
 "cells": [
  {
   "cell_type": "code",
   "execution_count": 16,
   "metadata": {
    "collapsed": true
   },
   "outputs": [],
   "source": [
    "import numpy as np\n",
    "from impl.solver import *\n",
    "import sys"
   ]
  },
  {
   "cell_type": "code",
   "execution_count": 17,
   "metadata": {
    "collapsed": true
   },
   "outputs": [],
   "source": [
    "n_iter = 1000 # number of epochs\n",
    "alpha = 1e-3\n",
    "mb_size = 64 # minibatch size usually compatible to the Cache/RAM size\n",
    "n_experiment = 1\n",
    "reg = 1e-5\n",
    "print_after = 100\n",
    "p_dropout = 0.8\n",
    "loss = 'cross_ent'\n",
    "nonlin = 'relu'\n",
    "solver = 'sgd'"
   ]
  },
  {
   "cell_type": "code",
   "execution_count": 18,
   "metadata": {},
   "outputs": [
    {
     "name": "stdout",
     "output_type": "stream",
     "text": [
      "Extracting data/MNIST_data/train-images-idx3-ubyte.gz\n",
      "Extracting data/MNIST_data/train-labels-idx1-ubyte.gz\n",
      "Extracting data/MNIST_data/t10k-images-idx3-ubyte.gz\n",
      "Extracting data/MNIST_data/t10k-labels-idx1-ubyte.gz\n"
     ]
    },
    {
     "data": {
      "text/plain": [
       "((10000,), (5000,), (55000,))"
      ]
     },
     "execution_count": 18,
     "metadata": {},
     "output_type": "execute_result"
    }
   ],
   "source": [
    "# import hipsternet.input_data as input_data  # NOT used for MNIST\n",
    "from tensorflow.examples.tutorials.mnist import input_data\n",
    "mnist = input_data.read_data_sets('data/MNIST_data/', one_hot=False)\n",
    "X_train, y_train = mnist.train.images, mnist.train.labels\n",
    "X_val, y_val = mnist.validation.images, mnist.validation.labels\n",
    "X_test, y_test = mnist.test.images, mnist.test.labels\n",
    "y_test.shape, y_val.shape, y_train.shape"
   ]
  },
  {
   "cell_type": "code",
   "execution_count": 19,
   "metadata": {},
   "outputs": [
    {
     "data": {
      "text/plain": [
       "(55000, 784, 10)"
      ]
     },
     "execution_count": 19,
     "metadata": {},
     "output_type": "execute_result"
    }
   ],
   "source": [
    "M, D, C = X_train.shape[0], X_train.shape[1], y_train.max() + 1\n",
    "M, D, C"
   ]
  },
  {
   "cell_type": "code",
   "execution_count": 20,
   "metadata": {
    "scrolled": true
   },
   "outputs": [
    {
     "data": {
      "text/plain": [
       "((55000, 784), (5000, 784), (10000, 784))"
      ]
     },
     "execution_count": 20,
     "metadata": {},
     "output_type": "execute_result"
    }
   ],
   "source": [
    "import impl.utils as utils\n",
    "X_train, X_val, X_test = utils.prepro(X_train, X_val, X_test)\n",
    "X_train.shape, X_val.shape, X_test.shape"
   ]
  },
  {
   "cell_type": "code",
   "execution_count": 21,
   "metadata": {
    "scrolled": true
   },
   "outputs": [],
   "source": [
    "# # if net_type == 'cnn':\n",
    "# img_shape = (1, 28, 28)\n",
    "# X_train = X_train.reshape(-1, *img_shape)\n",
    "# X_val = X_val.reshape(-1, *img_shape)\n",
    "# X_test = X_test.reshape(-1, *img_shape)\n",
    "# X_train.shape, X_val.shape, X_test.shape"
   ]
  },
  {
   "cell_type": "code",
   "execution_count": 22,
   "metadata": {},
   "outputs": [
    {
     "data": {
      "text/plain": [
       "{'adagrad': <function impl.solver.adagrad>,\n",
       " 'adam': <function impl.solver.adam>,\n",
       " 'momentum': <function impl.solver.momentum>,\n",
       " 'nesterov': <function impl.solver.nesterov>,\n",
       " 'rmsprop': <function impl.solver.rmsprop>,\n",
       " 'sgd': <function impl.solver.sgd>}"
      ]
     },
     "execution_count": 22,
     "metadata": {},
     "output_type": "execute_result"
    }
   ],
   "source": [
    "solvers = dict(\n",
    "    sgd=sgd,\n",
    "    momentum=momentum,\n",
    "    nesterov=nesterov,\n",
    "    adagrad=adagrad,\n",
    "    rmsprop=rmsprop,\n",
    "    adam=adam\n",
    ")\n",
    "solvers"
   ]
  },
  {
   "cell_type": "code",
   "execution_count": 23,
   "metadata": {},
   "outputs": [
    {
     "name": "stdout",
     "output_type": "stream",
     "text": [
      "Experimenting on sgd\n"
     ]
    }
   ],
   "source": [
    "solver_fun = solvers[solver] # solver functions\n",
    "accs = np.zeros(n_experiment)\n",
    "solver_fun, accs\n",
    "# print()\n",
    "print('Experimenting on {}'.format(solver))\n",
    "# print()"
   ]
  },
  {
   "cell_type": "code",
   "execution_count": null,
   "metadata": {
    "collapsed": true
   },
   "outputs": [],
   "source": [
    "import numpy as np\n",
    "import impl.loss as loss_fun\n",
    "import impl.layer as l\n",
    "import impl.regularization as reg\n",
    "import impl.utils as util\n",
    "import impl.NN as nn\n",
    "import impl.pyramidnet as pyramidnet\n",
    "\n",
    "class SPNN(nn.NN):\n",
    "\n",
    "    def __init__(self, D, C, H, lam=1e-3, p_dropout=.8, loss='cross_ent', nonlin='relu'):\n",
    "        super().__init__(D, C, H, lam, p_dropout, loss, nonlin)\n",
    "\n",
    "    def forward(self, X, train=False):\n",
    "        \n",
    "        # 1st layer: Conv layer from input\n",
    "        h1, h1_cache = l.fc_forward(X, self.model['W1'], self.model['b1'])\n",
    "        h1, bn1_cache, self.bn_caches['bn1_mean'], self.bn_caches['bn1_var'] = l.bn_forward(h1, \n",
    "                                                        self.model['gamma1'], self.model['beta1'], \n",
    "                                                        (self.bn_caches['bn1_mean'], self.bn_caches['bn1_var']), \n",
    "                                                        train=train)\n",
    "        h1, nl_cache1 = self.forward_nonlin(h1)\n",
    "        u1 = None # referenced before assigned ERROR!\n",
    "        if train: h1, u1 = l.dropout_forward(h1, self.p_dropout)\n",
    "\n",
    "        # midst layer: Pyrmidnet depth\n",
    "        h2, h2_cache = l.fc_forward(h1, self.model['W2'], self.model['b2'])\n",
    "        h2, bn2_cache, self.bn_caches['bn2_mean'], self.bn_caches['bn2_var'] = l.bn_forward(h2, \n",
    "                                                        self.model['gamma2'], self.model['beta2'], \n",
    "                                                        (self.bn_caches['bn2_mean'], self.bn_caches['bn2_var']), \n",
    "                                                        train=train)\n",
    "        h2, nl_cache2 = self.forward_nonlin(h2)\n",
    "        u2 = None # referenced before assigned ERROR!\n",
    "        if train: h2, u2 = l.dropout_forward(h2, self.p_dropout)\n",
    "\n",
    "        # last layer: FC to the output layer\n",
    "        h3, h3_cache = l.fc_forward(h2, self.model['W3'], self.model['b3'])\n",
    "        cache = (X, h1_cache, h2_cache, h3_cache, nl_cache1, nl_cache2, u1, u2, bn1_cache, bn2_cache)\n",
    "        return h3, cache\n",
    "\n",
    "    def backward(self, y_pred, y_train, cache):\n",
    "        X, h1_cache, h2_cache, score_cache, nl_cache1, nl_cache2, u1, u2, bn1_cache, bn2_cache = cache\n",
    "\n",
    "        # Output layer\n",
    "        grad_y = self.dloss_funs[self.loss](y_pred, y_train)\n",
    "\n",
    "        # Third layer\n",
    "        dh2, dW3, db3 = l.fc_backward(grad_y, score_cache)\n",
    "        dW3 += reg.dl2_reg(self.model['W3'], self.lam)\n",
    "        dh2 = self.backward_nonlin(dh2, nl_cache2)\n",
    "        dh2 = l.dropout_backward(dh2, u2)\n",
    "        dh2, dgamma2, dbeta2 = l.bn_backward(dh2, bn2_cache)\n",
    "\n",
    "        # Second layer\n",
    "        dh1, dW2, db2 = l.fc_backward(dh2, h2_cache)\n",
    "        dW2 += reg.dl2_reg(self.model['W2'], self.lam)\n",
    "        dh1 = self.backward_nonlin(dh1, nl_cache1)\n",
    "        dh1 = l.dropout_backward(dh1, u1)\n",
    "        dh1, dgamma1, dbeta1 = l.bn_backward(dh1, bn1_cache)\n",
    "\n",
    "        # First layer\n",
    "        _, dW1, db1 = l.fc_backward(dh1, h1_cache)\n",
    "        dW1 += reg.dl2_reg(self.model['W1'], self.lam)\n",
    "\n",
    "        grad = dict(\n",
    "            W1=dW1, W2=dW2, W3=dW3, b1=db1, b2=db2, b3=db3, gamma1=dgamma1,\n",
    "            gamma2=dgamma2, beta1=dbeta1, beta2=dbeta2\n",
    "        )\n",
    "\n",
    "        return grad\n",
    "\n",
    "    def _init_model(self, D, C, H):\n",
    "        self.model = dict(\n",
    "            W1=np.random.randn(D, H) / np.sqrt(D / 2.),\n",
    "            W2=np.random.randn(H, H) / np.sqrt(H / 2.),\n",
    "            W3=np.random.randn(H, C) / np.sqrt(H / 2.),\n",
    "            b1=np.zeros((1, H)),\n",
    "            b2=np.zeros((1, H)),\n",
    "            b3=np.zeros((1, C)),\n",
    "            gamma1=np.ones((1, H)),\n",
    "            gamma2=np.ones((1, H)),\n",
    "            beta1=np.zeros((1, H)),\n",
    "            beta2=np.zeros((1, H))\n",
    "        )\n",
    "\n",
    "        self.bn_caches = dict(\n",
    "            bn1_mean=np.zeros((1, H)),\n",
    "            bn2_mean=np.zeros((1, H)),\n",
    "            bn1_var=np.zeros((1, H)),\n",
    "            bn2_var=np.zeros((1, H))\n",
    "        )"
   ]
  },
  {
   "cell_type": "code",
   "execution_count": 42,
   "metadata": {},
   "outputs": [
    {
     "name": "stdout",
     "output_type": "stream",
     "text": [
      "Experiment-1\n",
      "Iter-100 loss: 2.7898 validation: 0.102600\n",
      "Iter-200 loss: 2.9163 validation: 0.217600\n",
      "Iter-300 loss: 2.3936 validation: 0.374800\n",
      "Iter-400 loss: 2.0737 validation: 0.493200\n",
      "Iter-500 loss: 1.9784 validation: 0.578200\n",
      "Iter-600 loss: 1.9278 validation: 0.637400\n",
      "Iter-700 loss: 1.7345 validation: 0.670400\n",
      "Iter-800 loss: 1.6652 validation: 0.696800\n",
      "Iter-900 loss: 1.6225 validation: 0.721600\n",
      "Iter-1000 loss: 1.5532 validation: 0.741000\n",
      "\n",
      "Test Mean accuracy: 0.7501, std: 0.0000\n"
     ]
    }
   ],
   "source": [
    "for k in range(n_experiment):\n",
    "    print('Experiment-{}'.format(k + 1))\n",
    "\n",
    "    net = FFNN(C=C, D=D, H=128) #, lam=, loss=, nonlin=, p_dropout=, self=\n",
    "\n",
    "    net = solver_fun(nn=net, X_train=X_train, y_train=y_train, val_set=(X_val, y_val), \n",
    "                     mb_size=mb_size, alpha=alpha, n_iter=n_iter, print_after=print_after)\n",
    "\n",
    "    y_pred = net.predict(X_test)\n",
    "    accs[k] = np.mean(y_pred == y_test)\n",
    "\n",
    "print()\n",
    "print('Test Mean accuracy: {:.4f}, std: {:.4f}'.format(accs.mean(), accs.std()))"
   ]
  },
  {
   "cell_type": "code",
   "execution_count": null,
   "metadata": {
    "collapsed": true
   },
   "outputs": [],
   "source": []
  }
 ],
 "metadata": {
  "kernelspec": {
   "display_name": "Python 3",
   "language": "python",
   "name": "python3"
  },
  "language_info": {
   "codemirror_mode": {
    "name": "ipython",
    "version": 3
   },
   "file_extension": ".py",
   "mimetype": "text/x-python",
   "name": "python",
   "nbconvert_exporter": "python",
   "pygments_lexer": "ipython3",
   "version": "3.5.1"
  }
 },
 "nbformat": 4,
 "nbformat_minor": 2
}
