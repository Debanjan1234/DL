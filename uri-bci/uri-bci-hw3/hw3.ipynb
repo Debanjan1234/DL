{
 "cells": [
  {
   "cell_type": "markdown",
   "metadata": {},
   "source": [
    "# Brain-Computer Interfaces (Fall 2017, ELE 594) \n",
    "# Instructor: Yalda Shahriari\n",
    "# 3th homework, 11/1/17 (The homework, is due by Nov 8th, 11:55 pm)."
   ]
  },
  {
   "cell_type": "markdown",
   "metadata": {},
   "source": [
    "Part 1:\n",
    "\n",
    "Instructions for part 1:\n",
    "In this part use the same dataset as you used for the first two homework.\n",
    "\n",
    "1- Pick two frequencies of 5 Hz and 25 Hz and electrode of Cz.\n",
    "\n",
    "Then perform complex Morlet wavelet convolution and filter-Hilbert using those two frequencies as the peak/ center frequencies for all trials.\n",
    "\n",
    "Plot the resulting power and the bandpass-filtered signal (that is, the real component of the analytic signal) from each method (you need to plot the average of all the trials). \n",
    "\n",
    "Describe some similarities and differences between the results of the two time-frequency decomposition methods.\n",
    "\n",
    "Note:\n",
    " You need to generate the analytic form of the signal similar to what “hilbert” Matlab\n",
    "function does.\n",
    "\n",
    " Do not use any pre-written Matlab function (e.g., “hilbert’) for generating your results."
   ]
  },
  {
   "cell_type": "code",
   "execution_count": 1,
   "metadata": {
    "collapsed": true
   },
   "outputs": [],
   "source": [
    "import scipy.io as spio\n",
    "import numpy as np\n",
    "\n",
    "sampleEEGdata = spio.loadmat(file_name='../data/bci/sampleEEGdata.mat')"
   ]
  },
  {
   "cell_type": "code",
   "execution_count": 2,
   "metadata": {},
   "outputs": [
    {
     "data": {
      "text/plain": [
       "(dict_keys(['__version__', '__globals__', 'EEG', '__header__']), (1, 1), ())"
      ]
     },
     "execution_count": 2,
     "metadata": {},
     "output_type": "execute_result"
    }
   ],
   "source": [
    "sampleEEGdata.keys(), sampleEEGdata['EEG'].shape, sampleEEGdata['EEG'][0, 0].shape # void type"
   ]
  },
  {
   "cell_type": "code",
   "execution_count": 3,
   "metadata": {},
   "outputs": [
    {
     "data": {
      "text/plain": [
       "dtype([('setname', 'O'), ('filename', 'O'), ('filepath', 'O'), ('subject', 'O'), ('group', 'O'), ('condition', 'O'), ('session', 'O'), ('comments', 'O'), ('nbchan', 'O'), ('trials', 'O'), ('pnts', 'O'), ('srate', 'O'), ('xmin', 'O'), ('xmax', 'O'), ('times', 'O'), ('data', 'O'), ('icaact', 'O'), ('icawinv', 'O'), ('icasphere', 'O'), ('icaweights', 'O'), ('icachansind', 'O'), ('chanlocs', 'O'), ('urchanlocs', 'O'), ('chaninfo', 'O'), ('ref', 'O'), ('event', 'O'), ('urevent', 'O'), ('eventdescription', 'O'), ('epoch', 'O'), ('epochdescription', 'O'), ('reject', 'O'), ('stats', 'O'), ('specdata', 'O'), ('specicaact', 'O'), ('splinefile', 'O'), ('icasplinefile', 'O'), ('dipfit', 'O'), ('history', 'O'), ('saved', 'O'), ('etc', 'O'), ('spedata', 'O')])"
      ]
     },
     "execution_count": 3,
     "metadata": {},
     "output_type": "execute_result"
    }
   ],
   "source": [
    "sampleEEGdata['EEG'][0, 0].dtype"
   ]
  },
  {
   "cell_type": "code",
   "execution_count": 4,
   "metadata": {},
   "outputs": [
    {
     "data": {
      "text/plain": [
       "(64, 640, 99)"
      ]
     },
     "execution_count": 4,
     "metadata": {},
     "output_type": "execute_result"
    }
   ],
   "source": [
    "sampleEEGdata['EEG'][0, 0]['data'].shape # data_CxPxT, C: Channels, P: time points, T: Trials"
   ]
  },
  {
   "cell_type": "code",
   "execution_count": 5,
   "metadata": {
    "collapsed": true
   },
   "outputs": [],
   "source": [
    "eeg =  sampleEEGdata['EEG'][0, 0]\n",
    "data = eeg['data']"
   ]
  },
  {
   "cell_type": "code",
   "execution_count": 6,
   "metadata": {},
   "outputs": [
    {
     "data": {
      "text/plain": [
       "(dtype([('setname', 'O'), ('filename', 'O'), ('filepath', 'O'), ('subject', 'O'), ('group', 'O'), ('condition', 'O'), ('session', 'O'), ('comments', 'O'), ('nbchan', 'O'), ('trials', 'O'), ('pnts', 'O'), ('srate', 'O'), ('xmin', 'O'), ('xmax', 'O'), ('times', 'O'), ('data', 'O'), ('icaact', 'O'), ('icawinv', 'O'), ('icasphere', 'O'), ('icaweights', 'O'), ('icachansind', 'O'), ('chanlocs', 'O'), ('urchanlocs', 'O'), ('chaninfo', 'O'), ('ref', 'O'), ('event', 'O'), ('urevent', 'O'), ('eventdescription', 'O'), ('epoch', 'O'), ('epochdescription', 'O'), ('reject', 'O'), ('stats', 'O'), ('specdata', 'O'), ('specicaact', 'O'), ('splinefile', 'O'), ('icasplinefile', 'O'), ('dipfit', 'O'), ('history', 'O'), ('saved', 'O'), ('etc', 'O'), ('spedata', 'O')]),\n",
       " array([[64]], dtype=uint8),\n",
       " array([[ ([], [], ['+X'], ['/Users/mcohen1/Documents/MATLAB/eeglab/plugins/dipfit2.2/standard_BESA/standard-10-5-cap385.elp'], [])]], \n",
       "       dtype=[('shrink', 'O'), ('plotrad', 'O'), ('nosedir', 'O'), ('filename', 'O'), ('icachansind', 'O')]))"
      ]
     },
     "execution_count": 6,
     "metadata": {},
     "output_type": "execute_result"
    }
   ],
   "source": [
    "eeg.dtype, eeg['nbchan'], eeg['chaninfo']"
   ]
  },
  {
   "cell_type": "code",
   "execution_count": 7,
   "metadata": {},
   "outputs": [
    {
     "data": {
      "text/plain": [
       "(dtype([('labels', 'O'), ('theta', 'O'), ('radius', 'O'), ('X', 'O'), ('Y', 'O'), ('Z', 'O'), ('sph_theta', 'O'), ('sph_phi', 'O'), ('sph_radius', 'O'), ('type', 'O'), ('urchan', 'O')]),\n",
       " (1, 64))"
      ]
     },
     "execution_count": 7,
     "metadata": {},
     "output_type": "execute_result"
    }
   ],
   "source": [
    "eeg['chanlocs'].dtype, eeg['chanlocs']['labels'].shape"
   ]
  },
  {
   "cell_type": "code",
   "execution_count": 8,
   "metadata": {},
   "outputs": [
    {
     "data": {
      "text/plain": [
       "(1, 64)"
      ]
     },
     "execution_count": 8,
     "metadata": {},
     "output_type": "execute_result"
    }
   ],
   "source": [
    "# 1- Pick two frequencies of 5 Hz and 25 Hz and electrode of Cz.\n",
    "eeg['chanlocs']['labels'].shape"
   ]
  },
  {
   "cell_type": "code",
   "execution_count": 10,
   "metadata": {},
   "outputs": [
    {
     "data": {
      "text/plain": [
       "((1, 64), True)"
      ]
     },
     "execution_count": 10,
     "metadata": {},
     "output_type": "execute_result"
    }
   ],
   "source": [
    "# 1- Pick two frequencies of 5 Hz and 25 Hz and electrode of Cz.\n",
    "# How to pick the channel label index indicating the channel number\n",
    "chanlabels = eeg['chanlocs']['labels']\n",
    "ch_Cz = np.array(chanlabels == 'Cz')\n",
    "ch_Cz.argmax(), ch_Cz.argmin()\n",
    "ch_Cz.shape, ch_Cz[0, 47]"
   ]
  },
  {
   "cell_type": "code",
   "execution_count": 11,
   "metadata": {},
   "outputs": [
    {
     "data": {
      "text/plain": [
       "(256, 1.0, 3.0, 640, 5, 25, (64, 640, 99))"
      ]
     },
     "execution_count": 11,
     "metadata": {},
     "output_type": "execute_result"
    }
   ],
   "source": [
    "# Complex Morlet Wavelet specification\n",
    "# r: Sampling rate of EEG\n",
    "# M: number of points in a channel should be equal to the EEG signal length\n",
    "# s: constant number of cycles -2*pi*s to +2*pi*s\n",
    "# f: Wavelet freq for activity  pattern recognition\n",
    "# w: The number of cycles/ period of the phase/real part\n",
    "r, s, w, M, f1, f2 = eeg['srate'][0, 0], 1.0, 3.0, data.shape[1], 5, 25\n",
    "r, s, w, M, f1, f2, data.shape"
   ]
  },
  {
   "cell_type": "code",
   "execution_count": 20,
   "metadata": {},
   "outputs": [
    {
     "name": "stdout",
     "output_type": "stream",
     "text": [
      "freq: 5 cycles: 3.0 scale: 2.08333333333 M: 640 sampling rate: 256\n",
      "freq: 25 cycles: 3.0 scale: 10.4166666667 M: 640 sampling rate: 256\n"
     ]
    },
    {
     "data": {
      "image/png": "[encoded data removed]",
      "text/plain": [
       "<matplotlib.figure.Figure at 0x113b37f98>"
      ]
     },
     "metadata": {},
     "output_type": "display_data"
    }
   ],
   "source": [
    "# 1- Pick two frequencies of 5 Hz and 25 Hz and electrode of Cz.\n",
    "# Then perform complex Morlet wavelet convolution and \n",
    "# filter-Hilbert using those two frequencies \n",
    "# as the peak/ center frequencies for all trials.\n",
    "# Plot the resulting power and the bandpass-filtered signal \n",
    "# (that is, the real component of the analytic signal) from each method \n",
    "# (you need to plot the average of all the trials).\n",
    "\n",
    "\n",
    "import scipy.signal as sp_signal\n",
    "import matplotlib.pyplot as mplot\n",
    "\n",
    "\n",
    "def normalize(X):\n",
    "    return (X - X.mean(axis=0))/ X.std(axis=0)\n",
    "\n",
    "# Wavelet frequencies from 2 Hz to 30 Hz: 7 choices, 28 = 7 * 4\n",
    "# Number of cycles from 3 cycles to 10 cycles: 7 choices\n",
    "# for w in range(3, 11, 1): # including 3 and 10\n",
    "# f = (2*s*r*w)/ M\n",
    "# # for f in range(2, 42, 2): # start=2Hz, stop=42, step=2, 42-2=40, 40/2=20\n",
    "# for step in range(0, 20, 1): # start=2Hz, stop=42, step=2, 42-2=40, 40/2=20\n",
    "#     # f: 2 to 40, 38/19, step 2\n",
    "#     # W: 3 to 10,  7/19=0.35 step\n",
    "# #     w = 3 + ((7/19) * step) \n",
    "# w = 3 # number of cycles, discrete number\n",
    "# f = 2.0 + ((38/19) * step)\n",
    "\n",
    "s1 = (f1*M) / (2*w*r)\n",
    "print('freq:', f1, 'cycles:', w, 'scale:', s1, 'M:', M, 'sampling rate:', r)\n",
    "\n",
    "wavelet = sp_signal.morlet(M=M, w=w, s=s1, complete=True)\n",
    "\n",
    "s2 = (f2*M) / (2*w*r)\n",
    "print('freq:', f2, 'cycles:', w, 'scale:', s2, 'M:', M, 'sampling rate:', r)\n",
    "\n",
    "wavelet2 = sp_signal.morlet(M=M, w=w, s=s2, complete=True)\n",
    "\n",
    "\n",
    "# Now calculate Amplitude & Phase\n",
    "A = ((wavelet.real**2) + (wavelet.imag**2))**0.5\n",
    "A_norm = normalize(X=A)\n",
    "P = np.arctan(wavelet.imag/wavelet.real) # imag=y, real=x\n",
    "P_norm = normalize(X=P)\n",
    "wavelet_real_norm = normalize(X=wavelet.real)\n",
    "wavelet_imag_norm = normalize(X=wavelet.imag)\n",
    "\n",
    "# plotting\n",
    "# mplot.plot(wavelet, label='wavelet')\n",
    "mplot.plot(wavelet.real, label='real part')\n",
    "mplot.plot(wavelet.imag, label='imag part')\n",
    "# mplot.plot(wavelet_real_norm, label='real part norm')\n",
    "# mplot.plot(wavelet_imag_norm, label='imag part norm')\n",
    "# mplot.plot(A, label='Amplitude part')\n",
    "# mplot.plot(A_norm, label='Amplitude part norm')\n",
    "# mplot.plot(P, label='Phase part')\n",
    "# mplot.plot(P_norm, label='Phase part norm')\n",
    "mplot.legend()\n",
    "mplot.show()"
   ]
  },
  {
   "cell_type": "code",
   "execution_count": 21,
   "metadata": {},
   "outputs": [
    {
     "name": "stdout",
     "output_type": "stream",
     "text": [
      "freq: 25 cycles: 3.0 scale: 10.4166666667 M: 640 sampling rate: 256\n"
     ]
    },
    {
     "name": "stderr",
     "output_type": "stream",
     "text": [
      "/Users/arasdar/anaconda3/envs/arasdar-DL-env/lib/python3.5/site-packages/ipykernel_launcher.py:10: RuntimeWarning: invalid value encountered in true_divide\n",
      "  # Remove the CWD from sys.path while we load stuff.\n"
     ]
    },
    {
     "data": {
      "image/png": "[encoded data removed]",
      "text/plain": [
       "<matplotlib.figure.Figure at 0x1139dd438>"
      ]
     },
     "metadata": {},
     "output_type": "display_data"
    }
   ],
   "source": [
    "s2 = (f2*M) / (2*w*r)\n",
    "print('freq:', f2, 'cycles:', w, 'scale:', s2, 'M:', M, 'sampling rate:', r)\n",
    "\n",
    "wavelet = sp_signal.morlet(M=M, w=w, s=s2, complete=True)\n",
    "\n",
    "\n",
    "# Now calculate Amplitude & Phase\n",
    "A = ((wavelet.real**2) + (wavelet.imag**2))**0.5\n",
    "A_norm = normalize(X=A)\n",
    "P = np.arctan(wavelet.imag/wavelet.real) # imag=y, real=x\n",
    "P_norm = normalize(X=P)\n",
    "wavelet_real_norm = normalize(X=wavelet.real)\n",
    "wavelet_imag_norm = normalize(X=wavelet.imag)\n",
    "\n",
    "# plotting\n",
    "# mplot.plot(wavelet, label='wavelet')\n",
    "mplot.plot(wavelet.real, label='real part')\n",
    "mplot.plot(wavelet.imag, label='imag part')\n",
    "# mplot.plot(wavelet_real_norm, label='real part norm')\n",
    "# mplot.plot(wavelet_imag_norm, label='imag part norm')\n",
    "# mplot.plot(A, label='Amplitude part')\n",
    "# mplot.plot(A_norm, label='Amplitude part norm')\n",
    "# mplot.plot(P, label='Phase part')\n",
    "# mplot.plot(P_norm, label='Phase part norm')\n",
    "mplot.legend()\n",
    "mplot.show()"
   ]
  },
  {
   "cell_type": "markdown",
   "metadata": {},
   "source": []
  },
  {
   "cell_type": "code",
   "execution_count": null,
   "metadata": {
    "collapsed": true
   },
   "outputs": [],
   "source": []
  }
 ],
 "metadata": {
  "kernelspec": {
   "display_name": "Python 3",
   "language": "python",
   "name": "python3"
  },
  "language_info": {
   "codemirror_mode": {
    "name": "ipython",
    "version": 3
   },
   "file_extension": ".py",
   "mimetype": "text/x-python",
   "name": "python",
   "nbconvert_exporter": "python",
   "pygments_lexer": "ipython3",
   "version": "3.5.1"
  }
 },
 "nbformat": 4,
 "nbformat_minor": 2
}
