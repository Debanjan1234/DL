{
 "cells": [
  {
   "cell_type": "code",
   "execution_count": 45,
   "metadata": {},
   "outputs": [
    {
     "data": {
      "image/png": "[encoded data removed]",
      "text/plain": [
       "<matplotlib.figure.Figure at 0x1193d5278>"
      ]
     },
     "metadata": {},
     "output_type": "display_data"
    }
   ],
   "source": [
    "# Data: time-serie data from smartwatch or smartwatch data\n",
    "%matplotlib inline\n",
    "import numpy as np\n",
    "import pandas as pd\n",
    "import matplotlib.pyplot as plt\n",
    "\n",
    "# Data reading\n",
    "# The smartwatch historical/time-seris data to visualize\n",
    "# data_path = 'data/smartwatch_data/experimental_data_analysis/Basis_Watch_Data.csv'\n",
    "data_path = 'data/financial_data/USD_INR.csv'\n",
    "data = pd.read_csv(data_path)\n",
    "\n",
    "# # Data: cleaning\n",
    "# # Getting rid of NaN\n",
    "# data = data.fillna(value=0.0)\n",
    "\n",
    "# # # # Plotting the smartwatch data before scaling/batch normalization\n",
    "# data[:10000]['Price'].plot() #x='dteday', y='cnt'\n",
    "# # data[:10000].plot()\n",
    "\n",
    "# # # data[:100].plot()\n",
    "# np.array(data).shape, np.array(data).dtype, np.array(data, dtype=None).dtype, \n",
    "# np.array(data[:, 1:], dtype=None).dtype\n",
    "\n",
    "data_price = np.array(data['Price'], dtype=float)\n",
    "# data_price = np.array(data)\n",
    "data_price.shape, data_price.dtype\n",
    "\n",
    "plt.plot(data_price, label='data price')\n",
    "plt.legend()\n",
    "plt.show()"
   ]
  },
  {
   "cell_type": "code",
   "execution_count": 46,
   "metadata": {},
   "outputs": [
    {
     "data": {
      "text/plain": [
       "(4.6895674011185329e-17, 1.0, 1.0)"
      ]
     },
     "execution_count": 46,
     "metadata": {},
     "output_type": "execute_result"
    },
    {
     "data": {
      "image/png": "[encoded data removed]",
      "text/plain": [
       "<matplotlib.figure.Figure at 0x11d721320>"
      ]
     },
     "metadata": {},
     "output_type": "display_data"
    }
   ],
   "source": [
    "# test_data = np.array([[1, 2, 3]], dtype=float)\n",
    "# test_data.shape, test_data.dtype\n",
    "# np.mean(test_data, axis=0), test_data\n",
    "\n",
    "# data_ = np.array(data[:, 1], dtype=float)\n",
    "# data_.shape, data_.dtype\n",
    "data_mean = np.mean(data_price, axis=0)\n",
    "data_std = np.std(data_price, axis=0)\n",
    "# std, mean, np.sqrt(np.var(data_price))\n",
    "# data_norm = (data_price - mean) / std\n",
    "# data_norm.dtype, data_norm.shape\n",
    "\n",
    "# plt.plot(data_norm, label='data price norm')\n",
    "# # plt.plot(data_price[:10000], label='data price')\n",
    "# plt.legend()\n",
    "# plt.show()\n",
    "\n",
    "data_price_norm = (data_price - data_mean) / data_std\n",
    "plt.plot(data_price_norm)\n",
    "data_price_norm.mean(), data_price_norm.std(), data_price_norm.var()"
   ]
  },
  {
   "cell_type": "code",
   "execution_count": 47,
   "metadata": {},
   "outputs": [
    {
     "data": {
      "text/plain": [
       "((600,), (600,))"
      ]
     },
     "execution_count": 47,
     "metadata": {},
     "output_type": "execute_result"
    }
   ],
   "source": [
    "train_data = data_price_norm[:9000]\n",
    "test_data = data_price_norm[9000:]\n",
    "train_data.shape, test_data.shape\n",
    "X_train = train_data[:8999]\n",
    "Y_train = train_data[1:9000]\n",
    "X_train.shape, Y_train.shape\n",
    "X_valid = test_data[:600] # 600 samples\n",
    "Y_valid = test_data[1:601] # 600 samples\n",
    "X_valid.shape, Y_valid.shape"
   ]
  },
  {
   "cell_type": "code",
   "execution_count": 48,
   "metadata": {
    "collapsed": true
   },
   "outputs": [],
   "source": [
    "# Model or Network\n",
    "import impl.layer as l\n",
    "from impl.loss import *\n",
    "\n",
    "class GRU:\n",
    "    def __init__(self, D, H, L): #, p_dropout):\n",
    "        self.D = D\n",
    "        self.H = H\n",
    "        self.L = L\n",
    "        self.losses = {'train':[], 'smooth train':[], 'valid': []}\n",
    "        \n",
    "        # Model params\n",
    "        Z = H + D\n",
    "        m = dict(\n",
    "            Wz=np.random.randn(Z, H) / np.sqrt(Z / 2.),\n",
    "            Wr=np.random.randn(Z, H) / np.sqrt(Z / 2.),\n",
    "            Wh=np.random.randn(Z, H) / np.sqrt(Z / 2.),\n",
    "            Wy=np.random.randn(H, D) / np.sqrt(H / 2.),\n",
    "            bz=np.zeros((1, H)),\n",
    "            br=np.zeros((1, H)),\n",
    "            bh=np.zeros((1, H)),\n",
    "            by=np.zeros((1, D))\n",
    "        )\n",
    "\n",
    "        self.model = []\n",
    "        for _ in range(self.L):\n",
    "            self.model.append(m)\n",
    "\n",
    "    def initial_state(self):\n",
    "        return np.zeros((1, self.H))\n",
    "\n",
    "    def forward(self, X, h, m): # This can be used for training & testing\n",
    "        Wz, Wr, Wh, Wy = m['Wz'], m['Wr'], m['Wh'], m['Wy']\n",
    "        bz, br, bh, by = m['bz'], m['br'], m['bh'], m['by']\n",
    "\n",
    "        X_in = X.copy()\n",
    "        h_in = h.copy()\n",
    "\n",
    "        X = np.column_stack((h_in, X_in))\n",
    "\n",
    "        hz, hz_cache = l.fc_forward(X, Wz, bz)\n",
    "        hz, hz_sigm_cache = l.sigmoid_forward(hz)\n",
    "\n",
    "        hr, hr_cache = l.fc_forward(X, Wr, br)\n",
    "        hr, hr_sigm_cache = l.sigmoid_forward(hr)\n",
    "\n",
    "        X = np.column_stack((hr * h_in, X_in))\n",
    "        \n",
    "        hh, hh_cache = l.fc_forward(X, Wh, bh)\n",
    "        hh, hh_tanh_cache = l.tanh_forward(hh)\n",
    "\n",
    "        # h = (1. - hz) * h_old + hz * hh\n",
    "        # or\n",
    "        h = ((1. - hz) * h_in) + (hz * hh)\n",
    "        # or\n",
    "        # h = h_in + hz (hh - h_in)\n",
    "\n",
    "        y, y_cache = l.fc_forward(h, Wy, by)\n",
    "        \n",
    "#         if train: # is True\n",
    "#             y, do_cache = l.dropout_forward(y, self.p_dropout)\n",
    "#             cache = (h_in, hz, hz_cache, hz_sigm_cache, hr, hr_cache, hr_sigm_cache, hh, hh_cache, hh_tanh_cache, y_cache, do_cache)\n",
    "#         else:\n",
    "#             cache = None\n",
    "        cache = (h_in, hz, hz_cache, hz_sigm_cache, hr, hr_cache, hr_sigm_cache, hh, hh_cache, \n",
    "                 hh_tanh_cache, y_cache)\n",
    "\n",
    "        return y, h, cache\n",
    "\n",
    "    def backward(self, dy, dh, cache): # This is only used for training\n",
    "        h_in, hz, hz_cache, hz_sigm_cache, hr, hr_cache, hr_sigm_cache, hh, hh_cache, hh_tanh_cache, y_cache = cache\n",
    "        \n",
    "        dh_out = dh.copy()\n",
    "\n",
    "#         dy = l.dropout_backward(dy, do_cache)\n",
    "        dh, dWy, dby = l.fc_backward(dy, y_cache)\n",
    "        dh += dh_out\n",
    "\n",
    "        dh_in1 = (1. - hz) * dh\n",
    "        dhh = hz * dh\n",
    "        dhz = (hh * dh) - (h_in * dh)\n",
    "        # or\n",
    "        # dhz = (hh - h_in) * dh\n",
    "\n",
    "        dhh = l.tanh_backward(dhh, hh_tanh_cache)\n",
    "        dXh, dWh, dbh = l.fc_backward(dhh, hh_cache)\n",
    "\n",
    "        dh = dXh[:, :self.H]\n",
    "        dX_in2 = dXh[:, self.H:]\n",
    "        dh_in2 = hr * dh\n",
    "\n",
    "        dhr = h_in * dh\n",
    "        dhr = l.sigmoid_backward(dhr, hr_sigm_cache)\n",
    "        dXr, dWr, dbr = l.fc_backward(dhr, hr_cache)\n",
    "\n",
    "        dhz = l.sigmoid_backward(dhz, hz_sigm_cache)\n",
    "        dXz, dWz, dbz = l.fc_backward(dhz, hz_cache)\n",
    "\n",
    "        dX = dXr + dXz\n",
    "        dh_in3 = dX[:, :self.H]\n",
    "        dX_in1 = dX[:, self.H:]\n",
    "\n",
    "        dh = dh_in1 + dh_in2 + dh_in3\n",
    "        dX = dX_in1 + dX_in2\n",
    "\n",
    "        grad = dict(Wz=dWz, Wr=dWr, Wh=dWh, Wy=dWy, bz=dbz, br=dbr, bh=dbh, by=dby)\n",
    "        \n",
    "        return dX, dh, grad\n",
    "\n",
    "    def train_forward(self, X_train, h):\n",
    "        ys, caches = [], []\n",
    "        h_init = h.copy()\n",
    "        h = []\n",
    "        for _ in range(self.L):\n",
    "            h.append(h_init.copy())\n",
    "            caches.append([])\n",
    "\n",
    "        for X in X_train:\n",
    "            X = X.reshape(1, -1)\n",
    "            for layer in range(self.L):\n",
    "                y, h[layer], cache = self.forward(X, h[layer], self.model[layer]) #, train=True)\n",
    "                caches[layer].append(cache)\n",
    "                X = y.copy()\n",
    "            ys.append(y)\n",
    "        \n",
    "#         print('ys[0].shape', ys[0].shape)\n",
    "        ys = np.array(ys, dtype=float).reshape(len(ys), -1) # ys_txn instead of ys_tx1xn\n",
    "        \n",
    "        return ys, caches\n",
    "    \n",
    "    def loss_function(self, y_pred, y_train):\n",
    "        loss, dys = 0.0, []\n",
    "\n",
    "        for y, Y in zip(y_pred, y_train):\n",
    "            loss += l2_regression(y_pred=y, y_train=Y) #/ m: t or number of samples for taking the average\n",
    "            dy = dl2_regression(y_pred=y, y_train=Y)\n",
    "            dys.append(dy)\n",
    "            \n",
    "        return loss, dys\n",
    "    \n",
    "    def train_backward(self, dys, caches):\n",
    "        dh, grad, grads = [], [], []\n",
    "        for layer in range(self.L):\n",
    "            dh.append(np.zeros((1, self.H)))\n",
    "            grad.append({key: np.zeros_like(val) for key, val in self.model[layer].items()})\n",
    "            grads.append({key: np.zeros_like(val) for key, val in self.model[layer].items()})\n",
    "\n",
    "        for t in reversed(range(len(dys))):\n",
    "            dy = dys[t].reshape(1, -1)\n",
    "            for layer in reversed(range(self.L)):\n",
    "                dX, dh[layer], grad[layer] = self.backward(dy, dh[layer], caches[layer][t])\n",
    "                for k in grad[layer].keys():\n",
    "                    grads[layer][k] += grad[layer][k]\n",
    "                dy = dX.copy()\n",
    "                \n",
    "        return grads\n",
    "    \n",
    "    def test(self, X_seed, h, size):\n",
    "        h_init = h.copy()\n",
    "        h = []\n",
    "        for _ in range(self.L):\n",
    "            h.append(h_init.copy())\n",
    "\n",
    "        ys = []\n",
    "        X = X_seed.reshape(1, -1)\n",
    "        for _ in range(size):\n",
    "            for layer in range(self.L):\n",
    "                y, h[layer], _ = self.forward(X, h[layer], self.model[layer])\n",
    "                X = y.copy()\n",
    "            ys.append(y) # list array\n",
    "        \n",
    "        ys = np.array(ys, dtype=float).reshape(len(ys), -1) # ys_txn instead of ys_tx1xn\n",
    "        return ys"
   ]
  },
  {
   "cell_type": "code",
   "execution_count": 49,
   "metadata": {
    "collapsed": true
   },
   "outputs": [],
   "source": [
    "def get_minibatch(X, y, minibatch_size, shuffle):\n",
    "    minibatches = []\n",
    "\n",
    "    for i in range(0, X.shape[0], minibatch_size):\n",
    "#     for i in range(0, X.shape[0] - minibatch_size + 1, 1):\n",
    "        X_mini = X[i:i + minibatch_size]\n",
    "        y_mini = y[i:i + minibatch_size]\n",
    "        minibatches.append((X_mini, y_mini))\n",
    "\n",
    "    return minibatches\n",
    "\n",
    "def adam_rnn(nn, XY_train, XY_valid, normalizing_data, alpha, mb_size, n_iter, print_after):\n",
    "    X_train, y_train = XY_train\n",
    "    X_valid, y_valid = XY_valid\n",
    "    mean, std = normalizing_data\n",
    "    M, R = [], []\n",
    "    for layer in range(nn.L):\n",
    "        M.append({k: np.zeros_like(v) for k, v in nn.model[layer].items()})\n",
    "        R.append({k: np.zeros_like(v) for k, v in nn.model[layer].items()})\n",
    "        \n",
    "    beta1 = .99\n",
    "    beta2 = .999\n",
    "    state = nn.initial_state()\n",
    "    smooth_loss = 1.\n",
    "    minibatches = get_minibatch(X_train, y_train, mb_size, shuffle=False)\n",
    "    \n",
    "    for iter in range(1, n_iter + 1):\n",
    "        for idx in range(len(minibatches)):\n",
    "            X_mini, y_mini = minibatches[idx]\n",
    "            ys, caches = nn.train_forward(X_mini, state)\n",
    "            # def loss_function(self, y_pred, y_train):\n",
    "            loss, dys = nn.loss_function(y_pred=ys, y_train=y_mini)\n",
    "            grads = nn.train_backward(dys, caches)            \n",
    "            nn.losses['train'].append(loss)\n",
    "            smooth_loss = (0.999 * smooth_loss) + (0.001 * loss)\n",
    "            nn.losses['smooth train'].append(smooth_loss)\n",
    "            \n",
    "            for layer in range(nn.L):\n",
    "                for k in grads[layer].keys(): #key, value: items\n",
    "                    M[layer][k] = l.exp_running_avg(M[layer][k], grads[layer][k], beta1)\n",
    "                    R[layer][k] = l.exp_running_avg(R[layer][k], grads[layer][k]**2, beta2)\n",
    "                    m_k_hat = M[layer][k] / (1. - (beta1**(iter)))\n",
    "                    r_k_hat = R[layer][k] / (1. - (beta2**(iter)))\n",
    "                    nn.model[layer][k] -= alpha * m_k_hat / (np.sqrt(r_k_hat) + l.eps)\n",
    "\n",
    "        # Validation loss to avoid overfitting & underfitting\n",
    "        # Prediction or predicted sequence\n",
    "        ys = nn.test(X_seed=X_valid[0], h=state, size=X_valid.shape[0]) # ys_tx1xn\n",
    "        y_pred = mean + (std * ys)\n",
    "        valid_loss, _ = nn.loss_function(y_pred=y_pred, y_train=Y_valid)\n",
    "        nn.losses['valid'].append(valid_loss)\n",
    "\n",
    "        # Print loss and test sample\n",
    "        if iter % print_after == 0:\n",
    "            print('Iter-{}, train loss: {:.4f}, valid loss: {:.4f}'.format(iter, loss, valid_loss))\n",
    "#             print('Iter-{}, train loss: {:.4f}'.format(iter, loss))\n",
    "\n",
    "    return nn"
   ]
  },
  {
   "cell_type": "code",
   "execution_count": 51,
   "metadata": {},
   "outputs": [
    {
     "name": "stdout",
     "output_type": "stream",
     "text": [
      "Iter-1, train loss: 0.5993, valid loss: 17462.9212\n",
      "Iter-2, train loss: 0.3410, valid loss: 2673363.9031\n",
      "Iter-3, train loss: 0.1859, valid loss: 103304.0444\n",
      "Iter-4, train loss: 0.0905, valid loss: 86598.1661\n",
      "Iter-5, train loss: 0.0336, valid loss: 76920.1362\n",
      "Iter-6, train loss: 0.0070, valid loss: 40090.7825\n",
      "Iter-7, train loss: 0.0011, valid loss: 13050.5893\n",
      "Iter-8, train loss: 0.0004, valid loss: 21452.6693\n",
      "Iter-9, train loss: 0.0003, valid loss: 28383.8944\n",
      "Iter-10, train loss: 0.0002, valid loss: 58480.6077\n",
      "Iter-11, train loss: 0.0001, valid loss: 41398.4989\n",
      "Iter-12, train loss: 0.0001, valid loss: 26267.1237\n",
      "Iter-13, train loss: 0.0001, valid loss: 33510.4167\n",
      "Iter-14, train loss: 0.0000, valid loss: 40713.3318\n",
      "Iter-15, train loss: 0.0000, valid loss: 40010.0568\n",
      "Iter-16, train loss: 0.0000, valid loss: 37904.4916\n",
      "Iter-17, train loss: 0.0001, valid loss: 32340.6483\n",
      "Iter-18, train loss: 0.0001, valid loss: 33443.9727\n",
      "Iter-19, train loss: 0.0001, valid loss: 32851.5031\n",
      "Iter-20, train loss: 0.0001, valid loss: 27603.8683\n",
      "Iter-21, train loss: 0.0001, valid loss: 34209.2318\n",
      "Iter-22, train loss: 0.0001, valid loss: 25740.5655\n",
      "Iter-23, train loss: 0.0001, valid loss: 34744.6983\n",
      "Iter-24, train loss: 0.0001, valid loss: 28285.4820\n",
      "Iter-25, train loss: 0.0002, valid loss: 49761.5802\n",
      "Iter-26, train loss: 0.0002, valid loss: 23916.9222\n",
      "Iter-27, train loss: 0.0003, valid loss: 21186.6682\n",
      "Iter-28, train loss: 0.0002, valid loss: 22759.2996\n",
      "Iter-29, train loss: 0.0002, valid loss: 33399.1584\n",
      "Iter-30, train loss: 0.0002, valid loss: 39429.7531\n",
      "Iter-31, train loss: 0.0002, valid loss: 37870.0817\n",
      "Iter-32, train loss: 0.0002, valid loss: 42663.9464\n",
      "Iter-33, train loss: 0.0002, valid loss: 39683.7889\n",
      "Iter-34, train loss: 0.0002, valid loss: 41723.0398\n",
      "Iter-35, train loss: 0.0002, valid loss: 36842.2627\n",
      "Iter-36, train loss: 0.0002, valid loss: 39035.5756\n",
      "Iter-37, train loss: 0.0002, valid loss: 33054.6146\n",
      "Iter-38, train loss: 0.0002, valid loss: 34683.3596\n",
      "Iter-39, train loss: 0.0002, valid loss: 30259.7582\n",
      "Iter-40, train loss: 0.0002, valid loss: 33304.7268\n",
      "Iter-41, train loss: 0.0002, valid loss: 27255.6999\n",
      "Iter-42, train loss: 0.0002, valid loss: 41447.1353\n",
      "Iter-43, train loss: 0.0002, valid loss: 31273.3951\n",
      "Iter-44, train loss: 0.0002, valid loss: 41080.1915\n",
      "Iter-45, train loss: 0.0002, valid loss: 37219.0602\n",
      "Iter-46, train loss: 0.0002, valid loss: 45140.7560\n",
      "Iter-47, train loss: 0.0002, valid loss: 38307.2573\n",
      "Iter-48, train loss: 0.0002, valid loss: 42421.1244\n",
      "Iter-49, train loss: 0.0002, valid loss: 40009.3973\n",
      "Iter-50, train loss: 0.0002, valid loss: 44755.0645\n",
      "Iter-51, train loss: 0.0002, valid loss: 41154.0847\n",
      "Iter-52, train loss: 0.0002, valid loss: 43471.4993\n",
      "Iter-53, train loss: 0.0002, valid loss: 42835.3469\n",
      "Iter-54, train loss: 0.0002, valid loss: 46900.7756\n",
      "Iter-55, train loss: 0.0002, valid loss: 45534.7658\n",
      "Iter-56, train loss: 0.0002, valid loss: 48807.3194\n",
      "Iter-57, train loss: 0.0002, valid loss: 46281.1756\n",
      "Iter-58, train loss: 0.0002, valid loss: 49476.1773\n",
      "Iter-59, train loss: 0.0002, valid loss: 47528.8601\n",
      "Iter-60, train loss: 0.0002, valid loss: 50924.8527\n",
      "Iter-61, train loss: 0.0002, valid loss: 49066.1912\n",
      "Iter-62, train loss: 0.0002, valid loss: 52198.0427\n",
      "Iter-63, train loss: 0.0002, valid loss: 49325.6249\n",
      "Iter-64, train loss: 0.0002, valid loss: 52788.3140\n",
      "Iter-65, train loss: 0.0002, valid loss: 49310.4502\n",
      "Iter-66, train loss: 0.0002, valid loss: 52748.5298\n",
      "Iter-67, train loss: 0.0002, valid loss: 48685.1332\n",
      "Iter-68, train loss: 0.0002, valid loss: 52244.9427\n",
      "Iter-69, train loss: 0.0002, valid loss: 48640.0955\n",
      "Iter-70, train loss: 0.0002, valid loss: 53569.8786\n",
      "Iter-71, train loss: 0.0002, valid loss: 49520.6849\n",
      "Iter-72, train loss: 0.0002, valid loss: 55920.9151\n",
      "Iter-73, train loss: 0.0002, valid loss: 56002.2785\n",
      "Iter-74, train loss: 0.0002, valid loss: 71238.0319\n",
      "Iter-75, train loss: 0.0002, valid loss: 115818.7807\n",
      "Iter-76, train loss: 0.0002, valid loss: 88015.1063\n",
      "Iter-77, train loss: 0.0002, valid loss: 203821.7608\n",
      "Iter-78, train loss: 0.0002, valid loss: 221900.4728\n",
      "Iter-79, train loss: 0.0002, valid loss: 322773.1631\n",
      "Iter-80, train loss: 0.0002, valid loss: 225575.1315\n",
      "Iter-81, train loss: 0.0002, valid loss: 241959.7364\n",
      "Iter-82, train loss: 0.0002, valid loss: 207313.4662\n",
      "Iter-83, train loss: 0.0002, valid loss: 253384.6809\n",
      "Iter-84, train loss: 0.0002, valid loss: 241265.6357\n",
      "Iter-85, train loss: 0.0002, valid loss: 318512.9140\n",
      "Iter-86, train loss: 0.0002, valid loss: 275784.0427\n",
      "Iter-87, train loss: 0.0002, valid loss: 313015.4031\n",
      "Iter-88, train loss: 0.0002, valid loss: 263110.3698\n",
      "Iter-89, train loss: 0.0002, valid loss: 274995.5499\n",
      "Iter-90, train loss: 0.0002, valid loss: 244252.6144\n",
      "Iter-91, train loss: 0.0002, valid loss: 272022.1776\n",
      "Iter-92, train loss: 0.0002, valid loss: 260074.3958\n",
      "Iter-93, train loss: 0.0002, valid loss: 298584.2888\n",
      "Iter-94, train loss: 0.0002, valid loss: 267724.8014\n",
      "Iter-95, train loss: 0.0002, valid loss: 281121.0169\n",
      "Iter-96, train loss: 0.0002, valid loss: 244318.9178\n",
      "Iter-97, train loss: 0.0002, valid loss: 244270.4179\n",
      "Iter-98, train loss: 0.0002, valid loss: 222933.4673\n",
      "Iter-99, train loss: 0.0002, valid loss: 232886.2002\n",
      "Iter-100, train loss: 0.0002, valid loss: 223517.1342\n"
     ]
    },
    {
     "data": {
      "image/png": "[encoded data removed]",
      "text/plain": [
       "<matplotlib.figure.Figure at 0x110024ac8>"
      ]
     },
     "metadata": {},
     "output_type": "display_data"
    }
   ],
   "source": [
    "# Hyper-parameters\n",
    "time_step = 10 # width, minibatch size and test sample size as well\n",
    "num_layers = 1 # depth\n",
    "n_iter = 100 # epochs\n",
    "alpha = 1e-4 # learning_rate\n",
    "print_after = 1 # n_iter//10 # print training loss, valid, and test\n",
    "num_hidden_units = 64 # num_hidden_units in hidden layer\n",
    "num_input_units = 1 # X_train.shape[1] #len(char_to_idx) # vocab_size = len(char_to_idx)\n",
    "# p_dropout = 0.95 # dropout = 1- keep_prob, p = 1-q\n",
    "\n",
    "# Build the network and learning it or optimizing it using SGD\n",
    "net = GRU(D=num_input_units, H=num_hidden_units, L=num_layers) #, p_dropout=p_dropout) #, char2idx=char_to_idx, idx2char=idx_to_char)\n",
    "\n",
    "# Start learning using BP-SGD-ADAM\n",
    "adam_rnn(nn=net, XY_train=(X_train, Y_train), XY_valid=(X_valid, Y_valid), normalizing_data=(data_mean, data_std), \n",
    "         alpha=alpha, mb_size=time_step, n_iter=n_iter, print_after=print_after)\n",
    "\n",
    "# # Display the learning curve and losses for training, validation, and testing\n",
    "# %matplotlib inline\n",
    "# %config InlineBackend.figure_format = 'retina'\n",
    "import matplotlib.pyplot as plt\n",
    "\n",
    "plt.plot(net.losses['train'], label='Train loss')\n",
    "plt.plot(net.losses['smooth train'], label='Train smooth loss')\n",
    "plt.plot(net.losses['valid'], label='Validation loss')\n",
    "plt.legend()\n",
    "plt.show()"
   ]
  },
  {
   "cell_type": "code",
   "execution_count": 207,
   "metadata": {},
   "outputs": [
    {
     "data": {
      "text/plain": [
       "array([1, 1, 1, 1, 1])"
      ]
     },
     "execution_count": 207,
     "metadata": {},
     "output_type": "execute_result"
    }
   ],
   "source": [
    "np.random.binomial(1, 0.95, size=X_train.shape[1]) # / p_dropout"
   ]
  },
  {
   "cell_type": "code",
   "execution_count": 120,
   "metadata": {},
   "outputs": [
    {
     "data": {
      "image/png": "[encoded data removed]",
      "text/plain": [
       "<matplotlib.figure.Figure at 0x114902550>"
      ]
     },
     "metadata": {},
     "output_type": "display_data"
    }
   ],
   "source": [
    "plt.plot(net.losses['smooth train'], label='Train smooth loss')\n",
    "# plt.plot(net.losses['valid'], label='Validation loss')\n",
    "plt.legend()\n",
    "plt.show()"
   ]
  },
  {
   "cell_type": "code",
   "execution_count": 40,
   "metadata": {},
   "outputs": [
    {
     "data": {
      "text/plain": [
       "(1000, 1, 2)"
      ]
     },
     "execution_count": 40,
     "metadata": {},
     "output_type": "execute_result"
    }
   ],
   "source": [
    "ys = net.test(h=net.initial_state(),size=1000,X_seed=X_train[1000])\n",
    "np.array(ys).shape"
   ]
  },
  {
   "cell_type": "code",
   "execution_count": 41,
   "metadata": {},
   "outputs": [
    {
     "data": {
      "image/png": "[encoded data removed]",
      "text/plain": [
       "<matplotlib.figure.Figure at 0x117810c18>"
      ]
     },
     "metadata": {},
     "output_type": "display_data"
    }
   ],
   "source": [
    "y_pred = np.array(ys).reshape(len(ys), -1)\n",
    "plt.plot(y_pred[:, 0], label='y_pred')\n",
    "plt.plot(y_train[1000:2000, 0], label='y_train')\n",
    "plt.legend()\n",
    "plt.show()"
   ]
  },
  {
   "cell_type": "code",
   "execution_count": null,
   "metadata": {
    "collapsed": true
   },
   "outputs": [],
   "source": []
  }
 ],
 "metadata": {
  "kernelspec": {
   "display_name": "Python 3",
   "language": "python",
   "name": "python3"
  },
  "language_info": {
   "codemirror_mode": {
    "name": "ipython",
    "version": 3
   },
   "file_extension": ".py",
   "mimetype": "text/x-python",
   "name": "python",
   "nbconvert_exporter": "python",
   "pygments_lexer": "ipython3",
   "version": "3.6.1"
  }
 },
 "nbformat": 4,
 "nbformat_minor": 2
}
