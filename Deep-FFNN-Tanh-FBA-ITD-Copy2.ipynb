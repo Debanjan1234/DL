{
 "cells": [
  {
   "cell_type": "code",
   "execution_count": 49,
   "metadata": {
    "scrolled": true
   },
   "outputs": [],
   "source": [
    "# # MNIST Data\n",
    "# import numpy as np\n",
    "# from tensorflow.examples.tutorials.mnist import input_data\n",
    "# import impl.layer as l\n",
    "\n",
    "# # Dataset preparation and pre-processing\n",
    "# mnist = input_data.read_data_sets('data/MNIST_data/', one_hot=False)\n",
    "\n",
    "# X_train, y_train = mnist.train.images, mnist.train.labels\n",
    "# X_val, y_val = mnist.validation.images, mnist.validation.labels\n",
    "# X_test, y_test = mnist.test.images, mnist.test.labels\n",
    "# y_test.shape, y_val.shape, y_train.shape\n",
    "# X_train.shape, X_train.dtype, X_val.shape, X_val.dtype, X_test.shape, X_test.dtype, y_train.shape, y_val.shape, y_test.shape"
   ]
  },
  {
   "cell_type": "code",
   "execution_count": 50,
   "metadata": {},
   "outputs": [
    {
     "data": {
      "text/html": [
       "<div>\n",
       "<style>\n",
       "    .dataframe thead tr:only-child th {\n",
       "        text-align: right;\n",
       "    }\n",
       "\n",
       "    .dataframe thead th {\n",
       "        text-align: left;\n",
       "    }\n",
       "\n",
       "    .dataframe tbody tr th {\n",
       "        vertical-align: top;\n",
       "    }\n",
       "</style>\n",
       "<table border=\"1\" class=\"dataframe\">\n",
       "  <thead>\n",
       "    <tr style=\"text-align: right;\">\n",
       "      <th></th>\n",
       "      <th>Id</th>\n",
       "      <th>class_label</th>\n",
       "    </tr>\n",
       "  </thead>\n",
       "  <tbody>\n",
       "    <tr>\n",
       "      <th>0</th>\n",
       "      <td>1</td>\n",
       "      <td>International</td>\n",
       "    </tr>\n",
       "    <tr>\n",
       "      <th>1</th>\n",
       "      <td>2</td>\n",
       "      <td>Vocal</td>\n",
       "    </tr>\n",
       "    <tr>\n",
       "      <th>2</th>\n",
       "      <td>3</td>\n",
       "      <td>Latin</td>\n",
       "    </tr>\n",
       "    <tr>\n",
       "      <th>3</th>\n",
       "      <td>4</td>\n",
       "      <td>Blues</td>\n",
       "    </tr>\n",
       "    <tr>\n",
       "      <th>4</th>\n",
       "      <td>5</td>\n",
       "      <td>Vocal</td>\n",
       "    </tr>\n",
       "  </tbody>\n",
       "</table>\n",
       "</div>"
      ],
      "text/plain": [
       "   Id    class_label\n",
       "0   1  International\n",
       "1   2          Vocal\n",
       "2   3          Latin\n",
       "3   4          Blues\n",
       "4   5          Vocal"
      ]
     },
     "execution_count": 50,
     "metadata": {},
     "output_type": "execute_result"
    }
   ],
   "source": [
    "import pandas as pd # to read CSV files (Comma Separated Values)\n",
    "\n",
    "train_x = pd.read_csv(filepath_or_buffer='data/kaggle-music-genre/train.x.csv')\n",
    "train_y = pd.read_csv(filepath_or_buffer='data/kaggle-music-genre/train.y.csv')\n",
    "test_x = pd.read_csv(filepath_or_buffer='data/kaggle-music-genre/test.x.csv')\n",
    "train_y.head()"
   ]
  },
  {
   "cell_type": "code",
   "execution_count": 51,
   "metadata": {
    "collapsed": true
   },
   "outputs": [],
   "source": [
    "import numpy as np\n",
    "\n",
    "train_X = np.array(train_x)\n",
    "train_Y = np.array(train_y[:]['class_label'])\n",
    "test_X = np.array(test_x)\n",
    "\n",
    "X_train_val = np.array(train_X[:, 1:-1], dtype=float)\n",
    "X_test = np.array(test_X[:, 1:], dtype=float)"
   ]
  },
  {
   "cell_type": "code",
   "execution_count": 52,
   "metadata": {},
   "outputs": [
    {
     "data": {
      "text/plain": [
       "'Reggae'"
      ]
     },
     "execution_count": 52,
     "metadata": {},
     "output_type": "execute_result"
    }
   ],
   "source": [
    "from collections import Counter\n",
    "\n",
    "# # Count the freq of words in the text/collection of words\n",
    "# word_counts = Counter(text)\n",
    "# # Having counted the frequency of the words in collection, sort them from most to least/top to bottom/descendng\n",
    "# sorted_vocab = sorted(word_counts, key=word_counts.get, reverse=True)\n",
    "# # first enumerating for vocab to int\n",
    "# vocab_to_int = {words: ii for ii, words in enumerate(sorted_vocab)}\n",
    "# # into_to_vocab after enumerating through the sorted vocab\n",
    "# int_to_vocab = {ii: words for words, ii in vocab_to_int.items()}\n",
    "\n",
    "counted_labels = Counter(train_Y)\n",
    "key_to_val = {key: val for val, key in enumerate(counted_labels)}\n",
    "key_to_val['Country']\n",
    "\n",
    "val_to_key = {val: key for val, key in enumerate(counted_labels)}\n",
    "val_to_key[1]\n",
    "\n",
    "# labels = []\n",
    "# for val, key in enumerate(counted_labels):\n",
    "#     print(val, key)\n",
    "#     labels.append(val)\n",
    "  \n",
    "# labels = np.array(labels, dtype=int)\n",
    "# labels.size, np.max(labels), labels"
   ]
  },
  {
   "cell_type": "code",
   "execution_count": 54,
   "metadata": {},
   "outputs": [
    {
     "data": {
      "text/plain": [
       "(13000,)"
      ]
     },
     "execution_count": 54,
     "metadata": {},
     "output_type": "execute_result"
    }
   ],
   "source": [
    "# from impl.layer import onehot\n",
    "\n",
    "# labels_onehot = onehot(labels)\n",
    "\n",
    "# labels, labels_onehot, counted_labels.keys()\n",
    "# key_to_vec = {key: vec for key, vec in zip(counted_labels.keys(), labels_onehot)}\n",
    "# key_to_vec, key_to_vec['Vocal']\n",
    "\n",
    "Y_train_vec = []\n",
    "for each in train_y[:]['class_label']:\n",
    "#     print(each, key_to_val[each])\n",
    "    Y_train_vec.append(key_to_val[each])\n",
    "\n",
    "Y_train_val = np.array(Y_train_vec)\n",
    "Y_train_val.shape"
   ]
  },
  {
   "cell_type": "code",
   "execution_count": 55,
   "metadata": {
    "collapsed": true
   },
   "outputs": [],
   "source": [
    "# # Pre-processing: normalizing\n",
    "# def normalize(X):\n",
    "#     # max scale for images 255= 2**8= 8 bit grayscale for each channel\n",
    "#     return (X - X.mean(axis=0)) #/ X.std(axis=0)\n",
    "# X_train, X_val, X_test = normalize(X=X_train), normalize(X=X_val), normalize(X=X_test)\n",
    "\n",
    "# Preprocessing: normalizing the data based on the training set\n",
    "mean = X_train_val.mean(axis=0)\n",
    "std = X_train_val.std(axis=0)\n",
    "\n",
    "X_train_val, X_test = (X_train_val - mean)/ std, (X_test - mean)/ std"
   ]
  },
  {
   "cell_type": "code",
   "execution_count": 56,
   "metadata": {},
   "outputs": [
    {
     "data": {
      "text/plain": [
       "((11700, 26), (1300, 26), (10400, 26), (1300,), (11700,))"
      ]
     },
     "execution_count": 56,
     "metadata": {},
     "output_type": "execute_result"
    }
   ],
   "source": [
    "# Creating validation set: 10% or 1/10 of the training set or whatever dataset with labels/ annotation\n",
    "valid_size = X_train_val.shape[0]//10\n",
    "valid_size\n",
    "X_val = X_train_val[-valid_size:]\n",
    "Y_val = Y_train_val[-valid_size:]\n",
    "X_train = X_train_val[: -valid_size]\n",
    "Y_train = Y_train_val[: -valid_size]\n",
    "X_train_val.shape, \n",
    "X_train.shape, X_val.shape, X_test.shape, Y_val.shape, Y_train.shape \n",
    "# X_train.dtype, X_val.dtype\n",
    "# Y_train.dtype, Y_val"
   ]
  },
  {
   "cell_type": "code",
   "execution_count": 57,
   "metadata": {
    "collapsed": true
   },
   "outputs": [],
   "source": [
    "# Model\n",
    "import impl.layer as l # or from impl.layer import *\n",
    "from impl.loss import * # import all functions from impl.loss file # import impl.loss as loss_func\n",
    "from sklearn.utils import shuffle as skshuffle\n",
    "\n",
    "class FFNN:\n",
    "\n",
    "    def __init__(self, D, C, H, L):\n",
    "        self.L = L # number of layers or depth\n",
    "        self.losses = {'train':[], 'valid':[], 'valid_acc':[]}\n",
    "        \n",
    "        # The adaptive/learnable/updatable random feedforward\n",
    "        self.model = []\n",
    "        self.W_fixed = []\n",
    "        self.grads = []\n",
    "        self.ys_prev = []\n",
    "        low, high = -1, 1\n",
    "        \n",
    "        # Input layer: weights/ biases\n",
    "        m = dict(W=np.random.uniform(size=(D, H), low=low, high=high) / np.sqrt(D / 2.), b=np.zeros((1, H)))\n",
    "        self.model.append(m)\n",
    "        # Fixed feedback weight\n",
    "        m = np.random.uniform(size=(D, H), low=low, high=high) / np.sqrt(D / 2.)\n",
    "        self.W_fixed.append(m)\n",
    "        # Input layer: gradients\n",
    "        self.grads.append({key: np.zeros_like(val) for key, val in self.model[0].items()})\n",
    "        # Previous output layer\n",
    "        self.ys_prev.append(0.0)\n",
    "\n",
    "        # Hidden layers: weights/ biases\n",
    "        m_L = []\n",
    "        for _ in range(L):\n",
    "            m = dict(W=np.random.uniform(size=(H, H), low=low, high=high) / np.sqrt(H / 2.), b=np.zeros((1, H)))\n",
    "            m_L.append(m)\n",
    "        self.model.append(m_L)\n",
    "        # Fixed feedback weight\n",
    "        m_L = []\n",
    "        for _ in range(L):\n",
    "            m = np.random.uniform(size=(H, H), low=low, high=high) / np.sqrt(H / 2.)\n",
    "            m_L.append(m)\n",
    "        self.W_fixed.append(m_L)\n",
    "        # Hidden layer: gradients\n",
    "        grad_L = []\n",
    "        for _ in range(L):\n",
    "            grad_L.append({key: np.zeros_like(val) for key, val in self.model[1][0].items()})\n",
    "        self.grads.append(grad_L)\n",
    "        # Previous output layer\n",
    "        ys_prev_L = []\n",
    "        for _ in range(L):\n",
    "            ys_prev_L.append(0.0)\n",
    "        self.ys_prev.append(ys_prev_L)\n",
    "        \n",
    "        # Output layer: weights/ biases\n",
    "        m = dict(W=np.random.uniform(size=(H, C), low=low, high=high) / np.sqrt(H / 2.), b=np.zeros((1, C)))\n",
    "        self.model.append(m)\n",
    "        # Fixed feedback weight\n",
    "        m = np.random.uniform(size=(H, C), low=low, high=high) / np.sqrt(H / 2.)\n",
    "        self.W_fixed.append(m)\n",
    "        # Outout layer: gradients\n",
    "        self.grads.append({key: np.zeros_like(val) for key, val in self.model[2].items()})\n",
    "        # Previous output layer\n",
    "        self.ys_prev.append(0.0)\n",
    "        \n",
    "    def fc_forward(self, X, W, b):\n",
    "        out = (X @ W) + b\n",
    "        cache = (W, X)\n",
    "        return out, cache\n",
    "\n",
    "    def fc_backward(self, dout, cache, W_fixed):\n",
    "        W, X = cache\n",
    "\n",
    "        dW = X.T @ dout\n",
    "        db = np.sum(dout, axis=0).reshape(1, -1) # db_1xn\n",
    "        \n",
    "        dX = dout @ W.T # Backprop\n",
    "#         dX = dout @ W_fixed.T # fb alignment\n",
    "\n",
    "        return dX, dW, db\n",
    "\n",
    "    def train_forward(self, X, train):\n",
    "        caches, ys = [], []\n",
    "        \n",
    "        # Input layer\n",
    "        y, fc_cache = self.fc_forward(X=X, W=self.model[0]['W'], b=self.model[0]['b']) # X_1xD, y_1xc\n",
    "        y, nl_cache = l.tanh_forward(X=y)\n",
    "        if train:\n",
    "            caches.append((fc_cache, nl_cache))\n",
    "        ys.append(y) # ys[0]\n",
    "        X = y.copy() # pass to the next layer\n",
    "        \n",
    "        # Hidden layers\n",
    "        fc_caches, nl_caches, ys_L = [], [], []\n",
    "        for layer in range(self.L):\n",
    "            y, fc_cache = self.fc_forward(X=X, W=self.model[1][layer]['W'], b=self.model[1][layer]['b'])\n",
    "            y, nl_cache = l.tanh_forward(X=y)\n",
    "            ys_L.append(y) # ys[1][layer]\n",
    "            X = y.copy() # pass to next layer\n",
    "            if train:\n",
    "                fc_caches.append(fc_cache)\n",
    "                nl_caches.append(nl_cache)\n",
    "        if train:\n",
    "            caches.append((fc_caches, nl_caches)) # caches[1]            \n",
    "        ys.append(ys_L) # ys[1]            \n",
    "        \n",
    "        # Output layer\n",
    "        y, fc_cache = self.fc_forward(X=X, W=self.model[2]['W'], b=self.model[2]['b'])\n",
    "        if train:\n",
    "            caches.append(fc_cache)\n",
    "        ys.append(y) # ys[2]\n",
    "\n",
    "        return ys, caches # for backpropating the error\n",
    "\n",
    "    def loss_function(self, y, y_train):\n",
    "        \n",
    "        loss = cross_entropy(y, y_train) # softmax is included\n",
    "        dy = dcross_entropy(y, y_train) # dsoftmax is included\n",
    "        \n",
    "        return loss, dy\n",
    "        \n",
    "    def train_backward(self, dy, caches, ys):\n",
    "        grads, ys_prev = self.grads, self.ys_prev # initialized by Zero in every iteration/epoch\n",
    "        \n",
    "        # Output layer\n",
    "        fc_cache = caches[2]\n",
    "        dX, dW, db = self.fc_backward(dout=dy, cache=fc_cache, W_fixed=self.W_fixed[2])\n",
    "        dy = dX.copy()\n",
    "        grads[2]['W'] = dW\n",
    "        grads[2]['b'] = db\n",
    "\n",
    "        # Hidden layer\n",
    "        fc_caches, nl_caches = caches[1]\n",
    "        for layer in reversed(range(self.L)):\n",
    "#             dy *= ys[1][layer] - ys_prev[1][layer] # temporal diff instead of differentiable function\n",
    "            dy = l.tanh_backward(cache=nl_caches[layer], dout=dy) # diffable function\n",
    "            dX, dW, db = self.fc_backward(dout=dy, cache=fc_caches[layer], W_fixed=self.W_fixed[1][layer])\n",
    "            dy = dX.copy()\n",
    "            grads[1][layer]['W'] = dW\n",
    "            grads[1][layer]['b'] = db\n",
    "        \n",
    "        # Input layer\n",
    "        fc_cache, nl_cache = caches[0]\n",
    "#         dy *= ys[0] - ys_prev[0] # temporal diff instead of differentiable function\n",
    "        dy = l.tanh_backward(cache=nl_cache, dout=dy) # diffable function\n",
    "        dX, dW, db = self.fc_backward(dout=dy, cache=fc_cache, W_fixed=self.W_fixed[0])\n",
    "        grads[0]['W'] = dW\n",
    "        grads[0]['b'] = db\n",
    "\n",
    "        return dX, grads\n",
    "    \n",
    "    def test(self, X):\n",
    "        ys_logit, _ = self.train_forward(X, train=False)\n",
    "        y_logit = ys_logit[2] # last layer\n",
    "        \n",
    "        # if self.mode == 'classification':\n",
    "        y_prob = l.softmax(y_logit) # for accuracy == acc\n",
    "        y_pred = np.argmax(y_prob, axis=1) # for loss ==err\n",
    "        \n",
    "        return y_pred, y_logit\n",
    "        \n",
    "    def get_minibatch(self, X, y, minibatch_size, shuffle):\n",
    "        minibatches = []\n",
    "\n",
    "        if shuffle:\n",
    "            X, y = skshuffle(X, y)\n",
    "\n",
    "        for i in range(0, X.shape[0], minibatch_size):\n",
    "            X_mini = X[i:i + minibatch_size]\n",
    "            y_mini = y[i:i + minibatch_size]\n",
    "            minibatches.append((X_mini, y_mini))\n",
    "\n",
    "        return minibatches\n",
    "\n",
    "    def sgd(self, train_set, val_set, alpha, mb_size, n_iter, print_after):\n",
    "        X_train, y_train = train_set\n",
    "        X_val, y_val = val_set\n",
    "\n",
    "        # Epochs\n",
    "        for iter in range(1, n_iter + 1):\n",
    "\n",
    "            # Minibatches\n",
    "            minibatches = self.get_minibatch(X_train, y_train, mb_size, shuffle=True)\n",
    "            idx = np.random.randint(0, len(minibatches))\n",
    "            X_mini, y_mini = minibatches[idx]\n",
    "            \n",
    "            # Train the model\n",
    "            ys, caches = self.train_forward(X_mini, train=True)\n",
    "            loss, dy = self.loss_function(ys[2], y_mini)\n",
    "            _, grads = self.train_backward(dy, caches, ys) # ys[0], ys[1] and ys_prev are used for backprop\n",
    "            self.ys_prev = ys # for next iteration or epoch learning dW and db\n",
    "            self.losses['train'].append(loss)\n",
    "            \n",
    "            # Update the model for input layer\n",
    "            for key in grads[0].keys():\n",
    "                self.model[0][key] -= alpha * grads[0][key]\n",
    "\n",
    "            # Update the model for the hidden layers\n",
    "            for layer in range(self.L):\n",
    "                for key in grads[1][layer].keys():\n",
    "                    self.model[1][layer][key] -= alpha * grads[1][layer][key]\n",
    "\n",
    "            # Update the model for output layer\n",
    "            for key in grads[2].keys():\n",
    "                self.model[2][key] -= alpha * grads[2][key]\n",
    "                \n",
    "            # Validate the updated model\n",
    "            y_pred, y_logit = self.test(X_val)\n",
    "            valid_loss, _ = self.loss_function(y_logit, y_val) # softmax is included in entropy loss function\n",
    "            self.losses['valid'].append(valid_loss)\n",
    "            valid_acc = np.mean(y_pred == y_val) # confusion matrix\n",
    "            self.losses['valid_acc'].append(valid_acc)\n",
    "            \n",
    "            # Print the model info: loss & accuracy or err & acc\n",
    "            if iter % print_after == 0:\n",
    "                print('Iter-{} train loss: {:.4f} valid loss: {:.4f}, valid accuracy: {:.4f}'.format(\n",
    "                    iter, loss, valid_loss, valid_acc))\n",
    "\n",
    "#         # Test the final model\n",
    "#         y_pred, y_logit = nn.test(X_test)\n",
    "#         loss, _ = self.loss_function(y_logit, y_test) # softmax is included in entropy loss function\n",
    "#         acc = np.mean(y_pred == y_test)\n",
    "#         print('Last iteration - Test accuracy mean: {:.4f}, std: {:.4f}, loss: {:.4f}'.format(\n",
    "#             acc.mean(), acc.std(), loss))"
   ]
  },
  {
   "cell_type": "code",
   "execution_count": 58,
   "metadata": {},
   "outputs": [
    {
     "data": {
      "text/plain": [
       "((11700,), (11700, 26), (1300, 26), (1300,))"
      ]
     },
     "execution_count": 58,
     "metadata": {},
     "output_type": "execute_result"
    }
   ],
   "source": [
    "Y_train.shape, X_train.shape, X_val.shape, Y_val.shape"
   ]
  },
  {
   "cell_type": "code",
   "execution_count": 59,
   "metadata": {},
   "outputs": [
    {
     "name": "stdout",
     "output_type": "stream",
     "text": [
      "Iter-10 train loss: 2.6022 valid loss: 2.5794, valid accuracy: 0.0823\n",
      "Iter-20 train loss: 2.5771 valid loss: 2.5789, valid accuracy: 0.0831\n",
      "Iter-30 train loss: 2.5569 valid loss: 2.5783, valid accuracy: 0.0823\n",
      "Iter-40 train loss: 2.6399 valid loss: 2.5777, valid accuracy: 0.0831\n",
      "Iter-50 train loss: 2.6083 valid loss: 2.5771, valid accuracy: 0.0846\n",
      "Iter-60 train loss: 2.5677 valid loss: 2.5766, valid accuracy: 0.0838\n",
      "Iter-70 train loss: 2.4995 valid loss: 2.5760, valid accuracy: 0.0838\n",
      "Iter-80 train loss: 2.5745 valid loss: 2.5755, valid accuracy: 0.0838\n",
      "Iter-90 train loss: 2.5615 valid loss: 2.5749, valid accuracy: 0.0846\n",
      "Iter-100 train loss: 2.5611 valid loss: 2.5744, valid accuracy: 0.0854\n",
      "Iter-110 train loss: 2.5907 valid loss: 2.5739, valid accuracy: 0.0854\n",
      "Iter-120 train loss: 2.5787 valid loss: 2.5733, valid accuracy: 0.0862\n",
      "Iter-130 train loss: 2.5929 valid loss: 2.5727, valid accuracy: 0.0885\n",
      "Iter-140 train loss: 2.5686 valid loss: 2.5722, valid accuracy: 0.0885\n",
      "Iter-150 train loss: 2.6196 valid loss: 2.5716, valid accuracy: 0.0885\n",
      "Iter-160 train loss: 2.5876 valid loss: 2.5711, valid accuracy: 0.0900\n",
      "Iter-170 train loss: 2.5955 valid loss: 2.5706, valid accuracy: 0.0900\n",
      "Iter-180 train loss: 2.5468 valid loss: 2.5700, valid accuracy: 0.0908\n",
      "Iter-190 train loss: 2.5809 valid loss: 2.5695, valid accuracy: 0.0923\n",
      "Iter-200 train loss: 2.5804 valid loss: 2.5690, valid accuracy: 0.0915\n",
      "Iter-210 train loss: 2.5787 valid loss: 2.5684, valid accuracy: 0.0915\n",
      "Iter-220 train loss: 2.5285 valid loss: 2.5679, valid accuracy: 0.0915\n",
      "Iter-230 train loss: 2.5644 valid loss: 2.5674, valid accuracy: 0.0923\n",
      "Iter-240 train loss: 2.5247 valid loss: 2.5668, valid accuracy: 0.0931\n",
      "Iter-250 train loss: 2.5890 valid loss: 2.5663, valid accuracy: 0.0931\n",
      "Iter-260 train loss: 2.5526 valid loss: 2.5658, valid accuracy: 0.0931\n",
      "Iter-270 train loss: 2.5188 valid loss: 2.5652, valid accuracy: 0.0931\n",
      "Iter-280 train loss: 2.5571 valid loss: 2.5647, valid accuracy: 0.0938\n",
      "Iter-290 train loss: 2.5820 valid loss: 2.5642, valid accuracy: 0.0938\n",
      "Iter-300 train loss: 2.5919 valid loss: 2.5636, valid accuracy: 0.0946\n",
      "Iter-310 train loss: 2.5551 valid loss: 2.5631, valid accuracy: 0.0954\n",
      "Iter-320 train loss: 2.5255 valid loss: 2.5626, valid accuracy: 0.0954\n",
      "Iter-330 train loss: 2.5430 valid loss: 2.5620, valid accuracy: 0.0962\n",
      "Iter-340 train loss: 2.5622 valid loss: 2.5615, valid accuracy: 0.0969\n",
      "Iter-350 train loss: 2.5597 valid loss: 2.5610, valid accuracy: 0.0977\n",
      "Iter-360 train loss: 2.5485 valid loss: 2.5605, valid accuracy: 0.0977\n",
      "Iter-370 train loss: 2.5536 valid loss: 2.5599, valid accuracy: 0.0969\n",
      "Iter-380 train loss: 2.5094 valid loss: 2.5594, valid accuracy: 0.0985\n",
      "Iter-390 train loss: 2.5531 valid loss: 2.5589, valid accuracy: 0.1008\n",
      "Iter-400 train loss: 2.5720 valid loss: 2.5584, valid accuracy: 0.0992\n",
      "Iter-410 train loss: 2.5608 valid loss: 2.5579, valid accuracy: 0.1015\n",
      "Iter-420 train loss: 2.5849 valid loss: 2.5574, valid accuracy: 0.1015\n",
      "Iter-430 train loss: 2.5238 valid loss: 2.5568, valid accuracy: 0.1015\n",
      "Iter-440 train loss: 2.5849 valid loss: 2.5563, valid accuracy: 0.1015\n",
      "Iter-450 train loss: 2.5935 valid loss: 2.5558, valid accuracy: 0.1015\n",
      "Iter-460 train loss: 2.5379 valid loss: 2.5552, valid accuracy: 0.1023\n",
      "Iter-470 train loss: 2.5354 valid loss: 2.5548, valid accuracy: 0.1031\n",
      "Iter-480 train loss: 2.5506 valid loss: 2.5542, valid accuracy: 0.1038\n",
      "Iter-490 train loss: 2.5680 valid loss: 2.5536, valid accuracy: 0.1023\n",
      "Iter-500 train loss: 2.5089 valid loss: 2.5532, valid accuracy: 0.1031\n",
      "Iter-510 train loss: 2.5525 valid loss: 2.5526, valid accuracy: 0.1031\n",
      "Iter-520 train loss: 2.5610 valid loss: 2.5521, valid accuracy: 0.1031\n",
      "Iter-530 train loss: 2.5406 valid loss: 2.5516, valid accuracy: 0.1046\n",
      "Iter-540 train loss: 2.5354 valid loss: 2.5511, valid accuracy: 0.1038\n",
      "Iter-550 train loss: 2.5319 valid loss: 2.5505, valid accuracy: 0.1062\n",
      "Iter-560 train loss: 2.5662 valid loss: 2.5500, valid accuracy: 0.1069\n",
      "Iter-570 train loss: 2.5294 valid loss: 2.5495, valid accuracy: 0.1062\n",
      "Iter-580 train loss: 2.5421 valid loss: 2.5490, valid accuracy: 0.1077\n",
      "Iter-590 train loss: 2.5327 valid loss: 2.5486, valid accuracy: 0.1085\n",
      "Iter-600 train loss: 2.6206 valid loss: 2.5481, valid accuracy: 0.1085\n",
      "Iter-610 train loss: 2.4892 valid loss: 2.5476, valid accuracy: 0.1092\n",
      "Iter-620 train loss: 2.5812 valid loss: 2.5470, valid accuracy: 0.1092\n",
      "Iter-630 train loss: 2.5031 valid loss: 2.5465, valid accuracy: 0.1085\n",
      "Iter-640 train loss: 2.5418 valid loss: 2.5460, valid accuracy: 0.1092\n",
      "Iter-650 train loss: 2.5317 valid loss: 2.5455, valid accuracy: 0.1092\n",
      "Iter-660 train loss: 2.5547 valid loss: 2.5450, valid accuracy: 0.1092\n",
      "Iter-670 train loss: 2.5437 valid loss: 2.5446, valid accuracy: 0.1100\n",
      "Iter-680 train loss: 2.5748 valid loss: 2.5441, valid accuracy: 0.1100\n",
      "Iter-690 train loss: 2.5268 valid loss: 2.5435, valid accuracy: 0.1108\n",
      "Iter-700 train loss: 2.5436 valid loss: 2.5431, valid accuracy: 0.1123\n",
      "Iter-710 train loss: 2.5634 valid loss: 2.5425, valid accuracy: 0.1146\n",
      "Iter-720 train loss: 2.5877 valid loss: 2.5420, valid accuracy: 0.1146\n",
      "Iter-730 train loss: 2.5030 valid loss: 2.5416, valid accuracy: 0.1162\n",
      "Iter-740 train loss: 2.5906 valid loss: 2.5411, valid accuracy: 0.1162\n",
      "Iter-750 train loss: 2.5441 valid loss: 2.5407, valid accuracy: 0.1162\n",
      "Iter-760 train loss: 2.5629 valid loss: 2.5402, valid accuracy: 0.1169\n",
      "Iter-770 train loss: 2.5288 valid loss: 2.5397, valid accuracy: 0.1169\n",
      "Iter-780 train loss: 2.5721 valid loss: 2.5393, valid accuracy: 0.1169\n",
      "Iter-790 train loss: 2.5797 valid loss: 2.5388, valid accuracy: 0.1169\n",
      "Iter-800 train loss: 2.5242 valid loss: 2.5382, valid accuracy: 0.1177\n",
      "Iter-810 train loss: 2.5405 valid loss: 2.5378, valid accuracy: 0.1185\n",
      "Iter-820 train loss: 2.5351 valid loss: 2.5373, valid accuracy: 0.1185\n",
      "Iter-830 train loss: 2.5347 valid loss: 2.5368, valid accuracy: 0.1192\n",
      "Iter-840 train loss: 2.5388 valid loss: 2.5364, valid accuracy: 0.1200\n",
      "Iter-850 train loss: 2.4541 valid loss: 2.5359, valid accuracy: 0.1208\n",
      "Iter-860 train loss: 2.4858 valid loss: 2.5354, valid accuracy: 0.1223\n",
      "Iter-870 train loss: 2.5429 valid loss: 2.5349, valid accuracy: 0.1231\n",
      "Iter-880 train loss: 2.5628 valid loss: 2.5345, valid accuracy: 0.1254\n",
      "Iter-890 train loss: 2.5710 valid loss: 2.5340, valid accuracy: 0.1238\n",
      "Iter-900 train loss: 2.5315 valid loss: 2.5335, valid accuracy: 0.1238\n",
      "Iter-910 train loss: 2.5425 valid loss: 2.5330, valid accuracy: 0.1254\n",
      "Iter-920 train loss: 2.5041 valid loss: 2.5325, valid accuracy: 0.1254\n",
      "Iter-930 train loss: 2.5265 valid loss: 2.5320, valid accuracy: 0.1254\n",
      "Iter-940 train loss: 2.5499 valid loss: 2.5315, valid accuracy: 0.1262\n",
      "Iter-950 train loss: 2.4963 valid loss: 2.5311, valid accuracy: 0.1262\n",
      "Iter-960 train loss: 2.5212 valid loss: 2.5306, valid accuracy: 0.1262\n",
      "Iter-970 train loss: 2.5020 valid loss: 2.5301, valid accuracy: 0.1254\n",
      "Iter-980 train loss: 2.4993 valid loss: 2.5296, valid accuracy: 0.1254\n",
      "Iter-990 train loss: 2.5131 valid loss: 2.5291, valid accuracy: 0.1254\n",
      "Iter-1000 train loss: 2.4742 valid loss: 2.5286, valid accuracy: 0.1269\n"
     ]
    }
   ],
   "source": [
    "# Hyper-parameters\n",
    "n_iter = 1000 # number of epochs\n",
    "alpha = 1e-3 # learning_rate\n",
    "mb_size = 50 # 2**10==1024 # width, timestep for sequential data or minibatch size\n",
    "print_after = 10 # n_iter//10 # print loss for train, valid, and test\n",
    "num_hidden_units = 32 # number of kernels/ filters in each layer\n",
    "num_input_units = X_train.shape[1] # noise added at the input lavel as input noise we can use dX or for more improvement\n",
    "num_output_units = Y_train.max() + 1 # number of classes in this classification problem\n",
    "# num_output_units = Y_train.shape[1] # number of classes in this classification problem\n",
    "num_layers = 2 # depth \n",
    "\n",
    "# Build the model/NN and learn it: running session.\n",
    "nn = FFNN(C=num_output_units, D=num_input_units, H=num_hidden_units, L=num_layers)\n",
    "\n",
    "nn.sgd(train_set=(X_train, Y_train), val_set=(X_val, Y_val), mb_size=mb_size, alpha=alpha, \n",
    "           n_iter=n_iter, print_after=print_after)"
   ]
  },
  {
   "cell_type": "code",
   "execution_count": 60,
   "metadata": {},
   "outputs": [
    {
     "data": {
      "image/png": "[encoded data removed]",
      "text/plain": [
       "<matplotlib.figure.Figure at 0x7fc6eabd9a90>"
      ]
     },
     "metadata": {},
     "output_type": "display_data"
    }
   ],
   "source": [
    "# # Display the learning curve and losses for training, validation, and testing\n",
    "# %matplotlib inline\n",
    "# %config InlineBackend.figure_format = 'retina'\n",
    "import matplotlib.pyplot as plt\n",
    "\n",
    "plt.plot(nn.losses['train'], label='Train loss')\n",
    "plt.plot(nn.losses['valid'], label='Valid loss')\n",
    "plt.legend()\n",
    "plt.show()"
   ]
  },
  {
   "cell_type": "code",
   "execution_count": 61,
   "metadata": {},
   "outputs": [
    {
     "data": {
      "image/png": "[encoded data removed]",
      "text/plain": [
       "<matplotlib.figure.Figure at 0x7fc6eb4305f8>"
      ]
     },
     "metadata": {},
     "output_type": "display_data"
    }
   ],
   "source": [
    "plt.plot(nn.losses['valid_acc'], label='Valid accuracy')\n",
    "plt.legend()\n",
    "plt.show()"
   ]
  },
  {
   "cell_type": "code",
   "execution_count": null,
   "metadata": {
    "collapsed": true
   },
   "outputs": [],
   "source": []
  },
  {
   "cell_type": "code",
   "execution_count": null,
   "metadata": {
    "collapsed": true
   },
   "outputs": [],
   "source": []
  },
  {
   "cell_type": "code",
   "execution_count": null,
   "metadata": {
    "collapsed": true
   },
   "outputs": [],
   "source": []
  },
  {
   "cell_type": "code",
   "execution_count": null,
   "metadata": {
    "collapsed": true
   },
   "outputs": [],
   "source": []
  }
 ],
 "metadata": {
  "kernelspec": {
   "display_name": "Python 3",
   "language": "python",
   "name": "python3"
  },
  "language_info": {
   "codemirror_mode": {
    "name": "ipython",
    "version": 3
   },
   "file_extension": ".py",
   "mimetype": "text/x-python",
   "name": "python",
   "nbconvert_exporter": "python",
   "pygments_lexer": "ipython3",
   "version": "3.5.1"
  }
 },
 "nbformat": 4,
 "nbformat_minor": 2
}
