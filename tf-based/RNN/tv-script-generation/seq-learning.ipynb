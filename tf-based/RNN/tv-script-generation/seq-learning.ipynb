{
 "cells": [
  {
   "cell_type": "markdown",
   "metadata": {},
   "source": [
    "# TV Script Generation\n",
    "In this project, you'll generate your own [Simpsons](https://en.wikipedia.org/wiki/The_Simpsons) TV scripts using RNNs.  You'll be using part of the [Simpsons dataset](https://www.kaggle.com/wcukierski/the-simpsons-by-the-data) of scripts from 27 seasons.  The Neural Network you'll build will generate a new TV script for a scene at [Moe's Tavern](https://simpsonswiki.com/wiki/Moe's_Tavern).\n",
    "## Get the Data\n",
    "The data is already provided for you.  You'll be using a subset of the original dataset.  It consists of only the scenes in Moe's Tavern.  This doesn't include other versions of the tavern, like \"Moe's Cavern\", \"Flaming Moe's\", \"Uncle Moe's Family Feed-Bag\", etc.."
   ]
  },
  {
   "cell_type": "code",
   "execution_count": 87,
   "metadata": {},
   "outputs": [],
   "source": [
    "\"\"\"\n",
    "DON'T MODIFY ANYTHING IN THIS CELL\n",
    "\"\"\"\n",
    "import helper\n",
    "\n",
    "# data_dir = './data/simpsons/moes_tavern_lines.txt'\n",
    "data_dir = 'data/simpsons.txt'\n",
    "text = helper.load_data(data_dir)\n",
    "# Ignore notice, since we don't use it for analysing the data\n",
    "text = text[81:]"
   ]
  },
  {
   "cell_type": "markdown",
   "metadata": {},
   "source": [
    "## Explore the Data\n",
    "Play around with `view_sentence_range` to view different parts of the data."
   ]
  },
  {
   "cell_type": "code",
   "execution_count": 88,
   "metadata": {},
   "outputs": [
    {
     "name": "stdout",
     "output_type": "stream",
     "text": [
      "Dataset Stats\n",
      "Roughly the number of unique words: 11492\n",
      "Number of scenes: 262\n",
      "Average number of sentences in each scene: 15.248091603053435\n",
      "Number of lines: 4257\n",
      "Average number of words in each line: 11.50434578341555\n",
      "\n",
      "The sentences 0 to 10:\n",
      "Moe_Szyslak: (INTO PHONE) Moe's Tavern. Where the elite meet to drink.\n",
      "Bart_Simpson: Eh, yeah, hello, is Mike there? Last name, Rotch.\n",
      "Moe_Szyslak: (INTO PHONE) Hold on, I'll check. (TO BARFLIES) Mike Rotch. Mike Rotch. Hey, has anybody seen Mike Rotch, lately?\n",
      "Moe_Szyslak: (INTO PHONE) Listen you little puke. One of these days I'm gonna catch you, and I'm gonna carve my name on your back with an ice pick.\n",
      "Moe_Szyslak: What's the matter Homer? You're not your normal effervescent self.\n",
      "Homer_Simpson: I got my problems, Moe. Give me another one.\n",
      "Moe_Szyslak: Homer, hey, you should not drink to forget your problems.\n",
      "Barney_Gumble: Yeah, you should only drink to enhance your social skills.\n",
      "\n",
      "\n"
     ]
    }
   ],
   "source": [
    "view_sentence_range = (0, 10)\n",
    "\n",
    "\"\"\"\n",
    "DON'T MODIFY ANYTHING IN THIS CELL\n",
    "\"\"\"\n",
    "import numpy as np\n",
    "\n",
    "print('Dataset Stats')\n",
    "print('Roughly the number of unique words: {}'.format(len({word: None for word in text.split()})))\n",
    "scenes = text.split('\\n\\n')\n",
    "print('Number of scenes: {}'.format(len(scenes)))\n",
    "sentence_count_scene = [scene.count('\\n') for scene in scenes]\n",
    "print('Average number of sentences in each scene: {}'.format(np.average(sentence_count_scene)))\n",
    "\n",
    "sentences = [sentence for scene in scenes for sentence in scene.split('\\n')]\n",
    "print('Number of lines: {}'.format(len(sentences)))\n",
    "word_count_sentence = [len(sentence.split()) for sentence in sentences]\n",
    "print('Average number of words in each line: {}'.format(np.average(word_count_sentence)))\n",
    "\n",
    "print()\n",
    "print('The sentences {} to {}:'.format(*view_sentence_range))\n",
    "print('\\n'.join(text.split('\\n')[view_sentence_range[0]:view_sentence_range[1]]))"
   ]
  },
  {
   "cell_type": "markdown",
   "metadata": {},
   "source": [
    "## Implement Preprocessing Functions\n",
    "The first thing to do to any dataset is preprocessing.  Implement the following preprocessing functions below:\n",
    "- Lookup Table\n",
    "- Tokenize Punctuation\n",
    "\n",
    "### Lookup Table\n",
    "To create a word embedding, you first need to transform the words to ids.  In this function, create two dictionaries:\n",
    "- Dictionary to go from the words to an id, we'll call `vocab_to_int`\n",
    "- Dictionary to go from the id to word, we'll call `int_to_vocab`\n",
    "\n",
    "Return these dictionaries in the following tuple `(vocab_to_int, int_to_vocab)`"
   ]
  },
  {
   "cell_type": "code",
   "execution_count": 89,
   "metadata": {},
   "outputs": [
    {
     "name": "stdout",
     "output_type": "stream",
     "text": [
      "Tests Passed\n"
     ]
    }
   ],
   "source": [
    "import numpy as np\n",
    "import problem_unittests as tests\n",
    "\n",
    "def create_lookup_tables(text):\n",
    "    \"\"\"\n",
    "    Create lookup tables for vocabulary\n",
    "    :param text: The text of tv scripts split into words\n",
    "    :return: A tuple of dicts (vocab_to_int, int_to_vocab)\n",
    "    \"\"\"\n",
    "    # TODO: Implement Function\n",
    "    # Split all the text into words - All the possible words collections/choices\n",
    "    #words = text.split() # This is not the unique words\n",
    "    #words = {word: None for word in text.split()}\n",
    "    #words = token_lookup()\n",
    "    \n",
    "    from collections import Counter\n",
    "    # Count the freq of words in the text/collection of words\n",
    "    word_counts = Counter(text)\n",
    "    \n",
    "    # Having counted the frequency of the words in collection, sort them from most to least/top to bottom/descendng\n",
    "    sorted_vocab = sorted(word_counts, key=word_counts.get, reverse=True)\n",
    "    \n",
    "    # first enumerating for vocab to int\n",
    "    vocab_to_int = {words: ii for ii, words in enumerate(sorted_vocab)}\n",
    "    \n",
    "    # into_to_vocab after enumerating through the sorted vocab\n",
    "    int_to_vocab = {ii: words for words, ii in vocab_to_int.items()}\n",
    "    \n",
    "    # return the output results: a tuple of dicts(vocab_to_int, int_to_vocab)\n",
    "    # return dicts(vocab_to_int, int_to_vocab)\n",
    "    return vocab_to_int, int_to_vocab\n",
    "\n",
    "\n",
    "\"\"\"\n",
    "DON'T MODIFY ANYTHING IN THIS CELL THAT IS BELOW THIS LINE\n",
    "\"\"\"\n",
    "tests.test_create_lookup_tables(create_lookup_tables)"
   ]
  },
  {
   "cell_type": "markdown",
   "metadata": {},
   "source": [
    "### Tokenize Punctuation\n",
    "We'll be splitting the script into a word array using spaces as delimiters.  However, punctuations like periods and exclamation marks make it hard for the neural network to distinguish between the word \"bye\" and \"bye!\".\n",
    "\n",
    "Implement the function `token_lookup` to return a dict that will be used to tokenize symbols like \"!\" into \"||Exclamation_Mark||\".  Create a dictionary for the following symbols where the symbol is the key and value is the token:\n",
    "- Period ( . )\n",
    "- Comma ( , )\n",
    "- Quotation Mark ( \" )\n",
    "- Semicolon ( ; )\n",
    "- Exclamation mark ( ! )\n",
    "- Question mark ( ? )\n",
    "- Left Parentheses ( ( )\n",
    "- Right Parentheses ( ) )\n",
    "- Dash ( -- )\n",
    "- Return ( \\n )\n",
    "\n",
    "This dictionary will be used to token the symbols and add the delimiter (space) around it.  This separates the symbols as it's own word, making it easier for the neural network to predict on the next word. Make sure you don't use a token that could be confused as a word. Instead of using the token \"dash\", try using something like \"||dash||\"."
   ]
  },
  {
   "cell_type": "code",
   "execution_count": 90,
   "metadata": {},
   "outputs": [
    {
     "name": "stdout",
     "output_type": "stream",
     "text": [
      "Tests Passed\n"
     ]
    }
   ],
   "source": [
    "def token_lookup():\n",
    "    \"\"\"\n",
    "    Generate a dict to turn punctuation into a token.\n",
    "    :return: Tokenize dictionary where the key is the punctuation and the value is the token\n",
    "    \"\"\"\n",
    "    # TODO: Implement Function\n",
    "   \n",
    "    # Replace punctuation with tokens so we can use them in our model\n",
    "    token_dict = {'.': '||Period||',\n",
    "                  ',': '||Comma||', \n",
    "                  '\"': '||Quotation_Mark||', \n",
    "                  ';': '||Semicolon||', \n",
    "                  '!': '||Exclamation_Mark||', \n",
    "                  '?': '||Question_Mark||', \n",
    "                  '(': '||Left_Parentheses||', \n",
    "                  ')': '||Right_Parentheses||', \n",
    "                  '--': '||Dash||', \n",
    "                  '\\n': '||Return||'}\n",
    "    #token_dict.items() # to show it\n",
    "    return token_dict\n",
    "\n",
    "\"\"\"\n",
    "DON'T MODIFY ANYTHING IN THIS CELL THAT IS BELOW THIS LINE\n",
    "\"\"\"\n",
    "tests.test_tokenize(token_lookup)"
   ]
  },
  {
   "cell_type": "markdown",
   "metadata": {},
   "source": [
    "## Preprocess all the data and save it\n",
    "Running the code cell below will preprocess all the data and save it to file."
   ]
  },
  {
   "cell_type": "code",
   "execution_count": 91,
   "metadata": {
    "collapsed": true
   },
   "outputs": [],
   "source": [
    "\"\"\"\n",
    "DON'T MODIFY ANYTHING IN THIS CELL\n",
    "\"\"\"\n",
    "# Preprocess Training, Validation, and Testing Data\n",
    "helper.preprocess_and_save_data(data_dir, token_lookup, create_lookup_tables)"
   ]
  },
  {
   "cell_type": "markdown",
   "metadata": {},
   "source": [
    "# Check Point\n",
    "This is your first checkpoint. If you ever decide to come back to this notebook or have to restart the notebook, you can start from here. The preprocessed data has been saved to disk."
   ]
  },
  {
   "cell_type": "code",
   "execution_count": 92,
   "metadata": {
    "collapsed": true
   },
   "outputs": [],
   "source": [
    "\"\"\"\n",
    "DON'T MODIFY ANYTHING IN THIS CELL\n",
    "\"\"\"\n",
    "import helper\n",
    "import numpy as np\n",
    "import problem_unittests as tests\n",
    "\n",
    "int_text, vocab_to_int, int_to_vocab, token_dict = helper.load_preprocess()"
   ]
  },
  {
   "cell_type": "markdown",
   "metadata": {},
   "source": [
    "## Build the Neural Network\n",
    "You'll build the components necessary to build a RNN by implementing the following functions below:\n",
    "- get_inputs\n",
    "- get_init_cell\n",
    "- get_embed\n",
    "- build_rnn\n",
    "- build_nn\n",
    "- get_batches\n",
    "\n",
    "### Check the Version of TensorFlow and Access to GPU"
   ]
  },
  {
   "cell_type": "code",
   "execution_count": 93,
   "metadata": {},
   "outputs": [
    {
     "name": "stdout",
     "output_type": "stream",
     "text": [
      "TensorFlow Version: 1.0.0\n"
     ]
    },
    {
     "name": "stderr",
     "output_type": "stream",
     "text": [
      "/home/arasdar/anaconda3/envs/arasdar-DL-env/lib/python3.5/site-packages/ipykernel_launcher.py:14: UserWarning: No GPU found. Please use a GPU to train your neural network.\n",
      "  \n"
     ]
    }
   ],
   "source": [
    "\"\"\"\n",
    "DON'T MODIFY ANYTHING IN THIS CELL\n",
    "\"\"\"\n",
    "from distutils.version import LooseVersion\n",
    "import warnings\n",
    "import tensorflow as tf\n",
    "\n",
    "# Check TensorFlow Version\n",
    "assert LooseVersion(tf.__version__) >= LooseVersion('1.0'), 'Please use TensorFlow version 1.0 or newer'\n",
    "print('TensorFlow Version: {}'.format(tf.__version__))\n",
    "\n",
    "# Check for a GPU\n",
    "if not tf.test.gpu_device_name():\n",
    "    warnings.warn('No GPU found. Please use a GPU to train your neural network.')\n",
    "else:\n",
    "    print('Default GPU Device: {}'.format(tf.test.gpu_device_name()))"
   ]
  },
  {
   "cell_type": "markdown",
   "metadata": {},
   "source": [
    "### Input\n",
    "Implement the `get_inputs()` function to create TF Placeholders for the Neural Network.  It should create the following placeholders:\n",
    "- Input text placeholder named \"input\" using the [TF Placeholder](https://www.tensorflow.org/api_docs/python/tf/placeholder) `name` parameter.\n",
    "- Targets placeholder\n",
    "- Learning Rate placeholder\n",
    "\n",
    "Return the placeholders in the following the tuple `(Input, Targets, LearingRate)`"
   ]
  },
  {
   "cell_type": "code",
   "execution_count": 94,
   "metadata": {},
   "outputs": [
    {
     "name": "stdout",
     "output_type": "stream",
     "text": [
      "Tests Passed\n"
     ]
    }
   ],
   "source": [
    "def get_inputs():\n",
    "    \"\"\"\n",
    "    Create TF Placeholders for input, targets, and learning rate.\n",
    "    :return: Tuple (input, targets, learning rate)\n",
    "    \"\"\"\n",
    "    # TODO: Implement Function\n",
    "    input = tf.placeholder(dtype=tf.int32, shape=[None, None], name='input')\n",
    "    targets = tf.placeholder(dtype=tf.int32, shape=[None, None], name='targets')\n",
    "    lr = tf.placeholder(dtype=tf.float32, shape=None, name='learning_rate')\n",
    "    return input, targets, lr\n",
    "\n",
    "\n",
    "\"\"\"\n",
    "DON'T MODIFY ANYTHING IN THIS CELL THAT IS BELOW THIS LINE\n",
    "\"\"\"\n",
    "tests.test_get_inputs(get_inputs)"
   ]
  },
  {
   "cell_type": "markdown",
   "metadata": {},
   "source": [
    "# Writing a custom RNN cell\n",
    "It’s almost too easy to use the standard GRU or LSTM cells, so let’s define our own RNN cell. \n",
    "Here’s a random idea that may or may not work: starting with a GRU cell, instead of taking a single transformation of its input, we enable it to take a weighted average of multiple transformations of its input. \n",
    "The idea is that we might benefit from treat the input differently in different scenarios (e.g., we may want to treat verbs differently than nouns).\n",
    "\n",
    "To write the custom cell, we need to extend tf.nn.rnn_cell.RNNCell. \n",
    "Specifically, we need to fill in 3 abstract methods and write an __init__ method. \n",
    "First, let’s start with a GRU cell, adapted from Tensorflow’s implementation:"
   ]
  },
  {
   "cell_type": "code",
   "execution_count": 123,
   "metadata": {
    "collapsed": true
   },
   "outputs": [],
   "source": [
    "# class GRUCell(tf.nn.rnn_cell.RNNCell): # this probablly belongs to the old version\n",
    "class GRUCell(tf.contrib.rnn.RNNCell):\n",
    "    \"\"\"Gated Recurrent Unit cell (cf. http://arxiv.org/abs/1406.1078).\"\"\"\n",
    "\n",
    "    def __init__(self, num_units):\n",
    "        self._num_units = num_units\n",
    "\n",
    "    @property\n",
    "    def state_size(self):\n",
    "        return self._num_units\n",
    "\n",
    "    @property\n",
    "    def output_size(self):\n",
    "        return self._num_units\n",
    "\n",
    "    def __call__(self, inputs, state, scope=None):\n",
    "        with tf.variable_scope(scope or type(self).__name__):  # \"GRUCell\"\n",
    "            with tf.variable_scope(\"Gates\"):  # Reset gate and update gate.\n",
    "                # We start with bias of 1.0 to not reset and not update.\n",
    "#                 ru = tf.nn.rnn_cell._linear([inputs, state],\n",
    "#                                         2 * self._num_units, True, 1.0)\n",
    "#                 ru = tf.contrib.layers.linear([inputs, state], 2 * self._num_units, True, 1.0)\n",
    "                ru = tf.contrib.layers.fully_connected(inputs=[inputs, state], \n",
    "                                                       num_outputs=(2 * self._num_units), \n",
    "                                                       activation_fn=None # Linear Units (LU)\n",
    "                                                      )\n",
    "                ru = tf.nn.sigmoid(ru)\n",
    "                r, u = tf.split(axis=1, num_or_size_splits=2, value=ru, name='split', num=None) # opposite of concatenation\n",
    "            with tf.variable_scope(\"Candidate\"):\n",
    "#                 c = tf.nn.tanh(tf.nn.rnn_cell._linear([inputs, r * state],\n",
    "#                                              self._num_units, True))\n",
    "#                 tf.contrib.layers.linear([inputs, r * state], self._num_units, True)\n",
    "                logits = tf.contrib.layers.fully_connected(inputs=[inputs, r * state], \n",
    "                                                           num_outputs=self._num_units, \n",
    "                                                           activation_fn=None)\n",
    "                c = tf.nn.tanh(x=logits)\n",
    "            new_h = u * state + (1 - u) * c\n",
    "        return new_h, new_h"
   ]
  },
  {
   "cell_type": "markdown",
   "metadata": {},
   "source": [
    "# CustomRNNCell\n",
    "We modify the __init__ method to take a parameter at initialization, which will determine the number of transformation matrices.\n",
    "def __init__(self, num_units, num_weights):\n",
    "    self._num_units = num_units\n",
    "    self._num_weights = num_weights\n",
    "Then, we modify the Candidate variable scope of the __call__ method to do a weighted average as shown below (note that all of the matrices are created as a single variable and then split into multiple tensors):"
   ]
  },
  {
   "cell_type": "code",
   "execution_count": 124,
   "metadata": {
    "collapsed": true
   },
   "outputs": [],
   "source": [
    "# class CustomCell(tf.nn.rnn_cell.RNNCell):\n",
    "class CustomRNNCell(tf.contrib.rnn.RNNCell):\n",
    "    \"\"\"Gated Recurrent Unit cell (cf. http://arxiv.org/abs/1406.1078).\"\"\"\n",
    "\n",
    "    def __init__(self, num_units, num_weights):\n",
    "        self._num_units = num_units\n",
    "        self._num_weights = num_weights\n",
    "\n",
    "    @property\n",
    "    def state_size(self):\n",
    "        return self._num_units\n",
    "\n",
    "    @property\n",
    "    def output_size(self):\n",
    "        return self._num_units\n",
    "\n",
    "    def __call__(self, inputs, state, scope=None):\n",
    "        with tf.variable_scope(scope or type(self).__name__):  # \"GRUCell\"\n",
    "            with tf.variable_scope(\"Gates\"):  # Reset gate and update gate.\n",
    "                # We start with bias of 1.0 to not reset and not update.\n",
    "#                 ru = tf.nn.rnn_cell._linear([inputs, state],\n",
    "#                                         2 * self._num_units, True, 1.0)\n",
    "                ru = tf.contrib.layers.linear([inputs, state], 2 * self._num_units, True, 1.0)\n",
    "\n",
    "                ru = tf.nn.sigmoid(ru)\n",
    "                r, u = tf.split(1, 2, ru)\n",
    "            with tf.variable_scope(\"Candidate\"):\n",
    "#                 lambdas = tf.nn.rnn_cell._linear([inputs, state], self._num_weights, True)\n",
    "                # tf.contrib.layers.linear\n",
    "                lambdas = tf.contrib.layers.linear([inputs, state], self._num_weights, True)\n",
    "\n",
    "                lambdas = tf.split(1, self._num_weights, tf.nn.softmax(lambdas))\n",
    "\n",
    "                Ws = tf.get_variable(\"Ws\", shape = [self._num_weights, inputs.get_shape()[1], self._num_units])\n",
    "                Ws = [tf.squeeze(i) for i in tf.split(0, self._num_weights, Ws)]\n",
    "\n",
    "                candidate_inputs = []\n",
    "\n",
    "                for idx, W in enumerate(Ws):\n",
    "                    candidate_inputs.append(tf.matmul(inputs, W) * lambdas[idx])\n",
    "\n",
    "                Wx = tf.add_n(candidate_inputs)\n",
    "                \n",
    "#                 c = tf.nn.tanh(Wx + tf.nn.rnn_cell._linear([r * state],\n",
    "#                                             self._num_units, True, scope=\"second\"))\n",
    "                b = tf.contrib.layers.linear([r * state], self._num_units, True, scope=\"second\")\n",
    "                c = tf.nn.tanh(Wx+b)\n",
    "            new_h = u * state + (1 - u) * c\n",
    "        return new_h, new_h"
   ]
  },
  {
   "cell_type": "markdown",
   "metadata": {},
   "source": [
    "### Build RNN Cell and Initialize\n",
    "Stack one or more [`BasicLSTMCells`](https://www.tensorflow.org/api_docs/python/tf/contrib/rnn/BasicLSTMCell) in a [`MultiRNNCell`](https://www.tensorflow.org/api_docs/python/tf/contrib/rnn/MultiRNNCell).\n",
    "- The Rnn size should be set using `rnn_size`\n",
    "- Initalize Cell State using the MultiRNNCell's [`zero_state()`](https://www.tensorflow.org/api_docs/python/tf/contrib/rnn/MultiRNNCell#zero_state) function\n",
    "    - Apply the name \"initial_state\" to the initial state using [`tf.identity()`](https://www.tensorflow.org/api_docs/python/tf/identity)\n",
    "\n",
    "Return the cell and initial state in the following tuple `(Cell, InitialState)`"
   ]
  },
  {
   "cell_type": "code",
   "execution_count": 132,
   "metadata": {},
   "outputs": [
    {
     "name": "stdout",
     "output_type": "stream",
     "text": [
      "Tests Passed\n"
     ]
    }
   ],
   "source": [
    "def get_init_cell(batch_size, rnn_size):\n",
    "    \"\"\"\n",
    "    Create an RNN Cell and initialize it.\n",
    "    :param batch_size: Size of batches\n",
    "    :param rnn_size: Size of RNNs\n",
    "    :return: Tuple (cell, initialize state)\n",
    "    \"\"\"\n",
    "    # TODO: Implement Function\n",
    "    # The number of LSTM cells/ Memory cells in one layer for RNN\n",
    "#     rnn = tf.contrib.rnn.BasicLSTMCell(rnn_size) # rnn_size==LSTM_size?? \n",
    "#     rnn = tf.contrib.rnn.GRUCell(num_units=rnn_size)\n",
    "#     rnn = GRUCell(num_units=rnn_size)\n",
    "    rnn = tf.contrib.rnn.BasicRNNCell(num_units=rnn_size)\n",
    "    \n",
    "    #     # Adding Dropout NOT needed/ Not Asked\n",
    "    #     keep_prob = 1.0 # Drop out probability\n",
    "    #     drop = tf.contrib.rnn.DropoutWrapper(rnn, keep_prob) #output_keep_prop=\n",
    "    \n",
    "    # Stacking up multiple LSTM layers for DL\n",
    "    rnn_layers = 10 # layers\n",
    "    cell = tf.contrib.rnn.MultiRNNCell([rnn] * rnn_layers)\n",
    "    \n",
    "    # Initializing the cell state using zero_state()\n",
    "    initial_state = cell.zero_state(batch_size, tf.float32)\n",
    "    initial_state = tf.identity(input=initial_state, name='initial_state')\n",
    "\n",
    "    return cell, initial_state\n",
    "\n",
    "# Aras: Already implemented in sentiment network\n",
    "# lstm_size = 256\n",
    "# lstm_layers = 1\n",
    "# batch_size = 500\n",
    "# learning_rate = 0.001\n",
    "\n",
    "# with graph.as_default():\n",
    "#     # Your basic LSTM cell\n",
    "#     lstm = tf.contrib.rnn.BasicLSTMCell(lstm_size)\n",
    "    \n",
    "#     # Add dropout to the cell\n",
    "#     drop = tf.contrib.rnn.DropoutWrapper(lstm, output_keep_prob=keep_prob)\n",
    "    \n",
    "#     # Stack up multiple LSTM layers, for deep learning\n",
    "#     cell = tf.contrib.rnn.MultiRNNCell([drop] * lstm_layers)\n",
    "    \n",
    "#     # Getting an initial state of all zerosoutput_keep_prop\n",
    "#     initial_state = cell.zero_state(batch_size, tf.float32)\n",
    "\n",
    "\"\"\"\n",
    "DON'T MODIFY ANYTHING IN THIS CELL THAT IS BELOW THIS LINE\n",
    "\"\"\"\n",
    "tests.test_get_init_cell(get_init_cell)"
   ]
  },
  {
   "cell_type": "markdown",
   "metadata": {},
   "source": [
    "### Word Embedding\n",
    "Apply embedding to `input_data` using TensorFlow.  Return the embedded sequence."
   ]
  },
  {
   "cell_type": "code",
   "execution_count": 133,
   "metadata": {},
   "outputs": [
    {
     "name": "stdout",
     "output_type": "stream",
     "text": [
      "Tests Passed\n"
     ]
    }
   ],
   "source": [
    "def get_embed(input_data, vocab_size, embed_dim):\n",
    "    \"\"\"initial_state\n",
    "    Create embedding for <input_data>.\n",
    "    :param input_data: TF placeholder for text input.\n",
    "    :param vocab_size: Number of words in vocabulary.\n",
    "    :param embed_dim: Number of embedding dimensions\n",
    "    :return: Embedded input.\n",
    "    \"\"\"\n",
    "    # TODO: Implement Function\n",
    "    # Size of embedding vectors (number of units in the emdding layer)\n",
    "    # embedding = tf.Variable(tf.random_uniform((vocab_size, embed_dim), -1, 1))\n",
    "    embedding = tf.Variable(tf.random_uniform(shape=[vocab_size, embed_dim], minval=-1, maxval=1, dtype=tf.float32, \n",
    "                                  seed=None, name=None))\n",
    "    #     tf.random_normal(mean=1.0, size/shape=[], stddev=0.1)\n",
    "    # tf.random_normal(shape=[vocab_size/n_words, embed_size/embed_dim], mean=0.0, stddev=1.0, \n",
    "                     #dtype=tf.float32, seed=None, name=None)\n",
    "        \n",
    "    embed = tf.nn.embedding_lookup(embedding, input_data)\n",
    "\n",
    "    return embed\n",
    "\n",
    "# # Embedding implementation from Sentiment_RNN_solution.ipynb\n",
    "# # Size of the embedding vectors (number of units in the embedding layer)\n",
    "# embed_size = 300 \n",
    "\n",
    "# with graph.as_default():\n",
    "#     embedding = tf.Variable(tf.random_uniform((n_words, embed_size), -1, 1))\n",
    "#     embed = tf.nn.embedding_lookup(embedding, inputs_)tf.nn.dynamic_rnn\n",
    "\n",
    "\"\"\"\n",
    "DON'T MODIFY ANYTHING IN THIS CELL THAT IS BELOW THIS LINE\n",
    "\"\"\"\n",
    "tests.test_get_embed(get_embed)"
   ]
  },
  {
   "cell_type": "markdown",
   "metadata": {},
   "source": [
    "### Build RNN\n",
    "You created a RNN Cell in the `get_init_cell()` function.  Time to use the cell to create a RNN.\n",
    "- Build the RNN using the [`tf.nn.dynamic_rnn()`](https://www.tensorflow.org/api_docs/python/tf/nn/dynamic_rnn)\n",
    " - Apply the name \"final_state\" to the final state using [`tf.identity()`](https://www.tensorflow.org/api_docs/python/tf/identity)\n",
    "\n",
    "Return the outputs and final_state state in the following tuple `(Outputs, FinalState)` "
   ]
  },
  {
   "cell_type": "code",
   "execution_count": 134,
   "metadata": {},
   "outputs": [
    {
     "name": "stdout",
     "output_type": "stream",
     "text": [
      "Tests Passed\n"
     ]
    }
   ],
   "source": [
    "def build_rnn(cell, inputs):\n",
    "    \"\"\"\n",
    "    Create a RNN using a RNN Cell\n",
    "    :param cell: RNN Cell\n",
    "    :param inputs: Input text data\n",
    "    :return: Tuple (Outputs, Final State)\n",
    "    \"\"\"\n",
    "    # TODO: Implement Function\n",
    "    \n",
    "    # Create the RNN using the cells and the embedded input vectors\n",
    "    # outputs, final_state = tf.nn.dynamic_rnn(cell, inputs, initial_state=cell.state)\n",
    "    # initial_state=[\"initial_state\"]\n",
    "    outputs, final_state = tf.nn.dynamic_rnn(cell=cell, inputs=inputs, \n",
    "                                             sequence_length=None, \n",
    "                                             initial_state=None, \n",
    "                                             dtype=tf.float32, parallel_iterations=None, \n",
    "                                             swap_memory=False, time_major=False, scope=None)\n",
    "    \n",
    "    # Naming the final_state using tf.identity(input, name)\n",
    "    final_state = tf.identity(input=final_state, name='final_state')\n",
    "    \n",
    "    # Returning the outputs and the final_state\n",
    "    return outputs, final_state\n",
    "\n",
    "# Aras: Implementation from Sentiment_RNN_Solution.ipynb\n",
    "# with graph.as_default():\n",
    "#     outputs, final_state = tf.nn.dynamic_rnn(cell, embed,\n",
    "#                                              initial_state=initial_state)\n",
    "\n",
    "\"\"\"\n",
    "DON'T MODIFY ANYTHING IN THIS CELL THAT IS BELOW THIS LINE\n",
    "\"\"\"\n",
    "tests.test_build_rnn(build_rnn)"
   ]
  },
  {
   "cell_type": "markdown",
   "metadata": {},
   "source": [
    "### Build the Neural Network\n",
    "Apply the functions you implemented above to:\n",
    "- Apply embedding to `input_data` using your `get_embed(input_data, vocab_size, embed_dim)` function.\n",
    "- Build RNN using `cell` and your `build_rnn(cell, inputs)` function.\n",
    "- Apply a fully connected layer with a linear activation and `vocab_size` as the number of outputs.\n",
    "\n",
    "Return the logits and final state in the following tuple (Logits, FinalState) "
   ]
  },
  {
   "cell_type": "code",
   "execution_count": 135,
   "metadata": {},
   "outputs": [
    {
     "name": "stdout",
     "output_type": "stream",
     "text": [
      "Tests Passed\n"
     ]
    }
   ],
   "source": [
    "def build_nn(cell, rnn_size, input_data, vocab_size):\n",
    "    \"\"\"\n",
    "    Build part of the neural network\n",
    "    :param cell: RNN cell\n",
    "    :param rnn_size: Size of rnns\n",
    "    :param input_data: Input data\n",
    "    :param vocab_size: Vocabulary size\n",
    "    :return: Tuple (Logits, FinalState)\n",
    "    \"\"\"\n",
    "    # TODO: Implement Function\n",
    "    # embedding layer: def get_embed(input_data, vocab_size, embed_dim):\n",
    "    embed = get_embed(input_data=input_data, vocab_size=vocab_size, embed_dim=rnn_size)\n",
    "    \n",
    "    # build rnn: def build_rnn(cell, inputs):\n",
    "    outputs, final_state = build_rnn(cell=cell, inputs=embed)\n",
    "    \n",
    "    # Apply a fully connected layer with a linear activation and vocab_size as the number of outputs.\n",
    "    logits = tf.contrib.layers.fully_connected(inputs=outputs, num_outputs=vocab_size, activation_fn=None)\n",
    "    \n",
    "    return logits, final_state\n",
    "\n",
    "\n",
    "\"\"\"\n",
    "DON'T MODIFY ANYTHING IN THIS CELL THAT IS BELOW THIS LINE\n",
    "\"\"\"\n",
    "tests.test_build_nn(build_nn)"
   ]
  },
  {
   "cell_type": "markdown",
   "metadata": {},
   "source": [
    "### Batches\n",
    "Implement `get_batches` to create batches of input and targets using `int_text`.  The batches should be a Numpy array with the shape `(number of batches, 2, batch size, sequence length)`. Each batch contains two elements:\n",
    "- The first element is a single batch of **input** with the shape `[batch size, sequence length]`\n",
    "- The second element is a single batch of **targets** with the shape `[batch size, sequence length]`\n",
    "\n",
    "If you can't fill the last batch with enough data, drop the last batch.\n",
    "\n",
    "For exmple, `get_batches([1, 2, 3, 4, 5, 6, 7, 8, 9, 10, 11, 12, 13, 14, 15], 2, 3)` would return a Numpy array of the following:\n",
    "```\n",
    "[\n",
    "  # First Batch\n",
    "  [\n",
    "    # Batch of Input\n",
    "    [[ 1  2  3], [ 7  8  9]],\n",
    "    # Batch of targets\n",
    "    [[ 2  3  4], [ 8  9 10]]\n",
    "  ],\n",
    " \n",
    "  # Second Batch\n",
    "  [\n",
    "    # Batch of Input\n",
    "    [[ 4  5  6], [10 11 12]],\n",
    "    # Batch of targets\n",
    "    [[ 5  6  7], [11 12 13]]\n",
    "  ]\n",
    "]\n",
    "```"
   ]
  },
  {
   "cell_type": "code",
   "execution_count": 136,
   "metadata": {},
   "outputs": [
    {
     "name": "stdout",
     "output_type": "stream",
     "text": [
      "Tests Passed\n"
     ]
    }
   ],
   "source": [
    "def get_batches(int_text, batch_size, seq_length):\n",
    "    \"\"\"\n",
    "    Return batches of input and target\n",
    "    :param int_text: Text with the words replaced by their ids\n",
    "    :param batch_size: The size of batch\n",
    "    :param seq_length: The length of sequence\n",
    "    :return: Batches as a Numpy array\n",
    "    \"\"\"\n",
    "    # TODO: Implement Function\n",
    "    \n",
    "    # calculating the batch length, i.e. number words in a batch\n",
    "    batch_length = batch_size*seq_length # Remeber: batch_length != batch_size\n",
    "    \n",
    "    # Number of bacthes in the give text with word IDs\n",
    "    num_batches = len(int_text)// batch_length\n",
    "    if (len(int_text)//batch_length) == (len(int_text)/batch_length):\n",
    "        num_batches -= 1\n",
    "    \n",
    "    # preparing the numpy array first which is going to be returned/outputed\n",
    "    batches = np.zeros([num_batches, 2, batch_size, seq_length])\n",
    "    \n",
    "    # number of words in the text (out dataset)\n",
    "    # get rid of the rest of the text which can fully be included in a batch based on the batch size\n",
    "    int_text = int_text[:(num_batches*batch_length)+1] # incremented one for the IO sequences/seq2seq learning\n",
    "\n",
    "    # Now based on the txt_size, batch_size, and seq_size/length, we should start getting the batches stochastically\n",
    "    #for batch_index/b_idx in range(start=0, stop=len(int_text), step=batch_size):\n",
    "    for batch_idx in range(0, num_batches, 1):\n",
    "        batch_slice = int_text[batch_idx*batch_length:(batch_idx+1)*batch_length+1]\n",
    "    \n",
    "        # Slicing up the sequences inside a batch\n",
    "        #for seq_index/s_idx in range(start=0, stop=len(batch[??]), step=seq_length): # remember each sequence has two seq: input & output\n",
    "        for seq_idx in range(0, batch_size, 1):\n",
    "            batches[batch_idx, 0, seq_idx] = batch_slice[seq_idx*seq_length:(seq_idx+1)*seq_length]\n",
    "            batches[batch_idx, 1, seq_idx] = batch_slice[seq_idx*seq_length+1:((seq_idx+1)*seq_length)+1]\n",
    "        \n",
    "    return batches\n",
    "    \n",
    "\"\"\"\n",
    "DON'T MODIFY ANYTHING IN THIS CELL THAT IS BELOW THIS LINE\n",
    "\"\"\"\n",
    "tests.test_get_batches(get_batches)"
   ]
  },
  {
   "cell_type": "markdown",
   "metadata": {},
   "source": [
    "## Neural Network Training\n",
    "### Hyperparameters\n",
    "Tune the following parameters:\n",
    "\n",
    "- Set `num_epochs` to the number of epochs.\n",
    "- Set `batch_size` to the batch size.\n",
    "- Set `rnn_size` to the size of the RNNs.\n",
    "- Set `seq_length` to the length of sequence.\n",
    "- Set `learning_rate` to the learning rate.\n",
    "- Set `show_every_n_batches` to the number of batches the neural network should print progress."
   ]
  },
  {
   "cell_type": "code",
   "execution_count": 137,
   "metadata": {
    "collapsed": true
   },
   "outputs": [],
   "source": [
    "# Number of Epochs\n",
    "num_epochs = 100 # depends on how fast the system is and how long we can wait to see the results\n",
    "# Batch Size\n",
    "batch_size = 64 # depends on the memory, num seq per batch\n",
    "# RNN Size\n",
    "rnn_size = 128 # Pixel and int/8 Bit\n",
    "# Sequence Length\n",
    "seq_length = 64 # the same as RNN width size/ number of mem cells in one layer\n",
    "# Learning Rate\n",
    "learning_rate = 0.01\n",
    "# Show stats for every n number of batches\n",
    "show_every_n_batches = 16 # 2^4 show every 16 batches learning/training\n",
    "\n",
    "\"\"\"\n",
    "DON'T MODIFY ANYTHING IN THIS CELL THAT IS BELOW THIS LINE\n",
    "\"\"\"\n",
    "save_dir = './save'"
   ]
  },
  {
   "cell_type": "markdown",
   "metadata": {},
   "source": [
    "### Build the Graph\n",
    "Build the graph using the neural network you implemented."
   ]
  },
  {
   "cell_type": "code",
   "execution_count": 138,
   "metadata": {},
   "outputs": [],
   "source": [
    "\"\"\"\n",
    "DON'T MODIFY ANYTHING IN THIS CELL\n",
    "\"\"\"\n",
    "from tensorflow.contrib import seq2seq\n",
    "\n",
    "train_graph = tf.Graph()\n",
    "with train_graph.as_default():\n",
    "    vocab_size = len(int_to_vocab)\n",
    "    input_text, targets, lr = get_inputs()\n",
    "    input_data_shape = tf.shape(input_text)\n",
    "    cell, initial_state = get_init_cell(input_data_shape[0], rnn_size)\n",
    "    logits, final_state = build_nn(cell, rnn_size, input_text, vocab_size)\n",
    "\n",
    "    # Probabilities for generating words\n",
    "    probs = tf.nn.softmax(logits, name='probs')\n",
    "\n",
    "    # Loss function\n",
    "    cost = seq2seq.sequence_loss(\n",
    "        logits,\n",
    "        targets,\n",
    "        tf.ones([input_data_shape[0], input_data_shape[1]]))\n",
    "\n",
    "    # Optimizer\n",
    "    optimizer = tf.train.AdamOptimizer(lr)\n",
    "\n",
    "    # Gradient Clipping\n",
    "    gradients = optimizer.compute_gradients(cost)\n",
    "    train_op = optimizer.apply_gradients(grads_and_vars=gradients)\n",
    "#     capped_gradients = [(tf.clip_by_value(grad, -1., 1.), var) for grad, var in gradients]\n",
    "#     train_op = optimizer.apply_gradients(capped_gradients)"
   ]
  },
  {
   "cell_type": "markdown",
   "metadata": {},
   "source": [
    "## Train\n",
    "Train the neural network on the preprocessed data.  If you have a hard time getting a good loss, check the [forms](https://discussions.udacity.com/) to see if anyone is having the same problem."
   ]
  },
  {
   "cell_type": "code",
   "execution_count": 139,
   "metadata": {},
   "outputs": [
    {
     "name": "stdout",
     "output_type": "stream",
     "text": [
      "Epoch   0 Batch    0/16   train_loss = 8.826\n",
      "Epoch   1 Batch    0/16   train_loss = 6.541\n",
      "Epoch   2 Batch    0/16   train_loss = 6.194\n",
      "Epoch   3 Batch    0/16   train_loss = 6.154\n",
      "Epoch   4 Batch    0/16   train_loss = 6.153\n",
      "Epoch   5 Batch    0/16   train_loss = 6.193\n",
      "Epoch   6 Batch    0/16   train_loss = 6.192\n",
      "Epoch   7 Batch    0/16   train_loss = 6.154\n",
      "Epoch   8 Batch    0/16   train_loss = 6.262\n",
      "Epoch   9 Batch    0/16   train_loss = 6.195\n",
      "Epoch  10 Batch    0/16   train_loss = 6.334\n",
      "Epoch  11 Batch    0/16   train_loss = 6.352\n",
      "Epoch  12 Batch    0/16   train_loss = 6.970\n",
      "Epoch  13 Batch    0/16   train_loss = 6.152\n",
      "Epoch  14 Batch    0/16   train_loss = 6.375\n",
      "Epoch  15 Batch    0/16   train_loss = 6.321\n",
      "Epoch  16 Batch    0/16   train_loss = 6.334\n",
      "Epoch  17 Batch    0/16   train_loss = 6.195\n",
      "Epoch  18 Batch    0/16   train_loss = 6.162\n",
      "Epoch  19 Batch    0/16   train_loss = 6.153\n",
      "Epoch  20 Batch    0/16   train_loss = 6.149\n",
      "Epoch  21 Batch    0/16   train_loss = 6.152\n",
      "Epoch  22 Batch    0/16   train_loss = 6.152\n",
      "Epoch  23 Batch    0/16   train_loss = 6.148\n",
      "Epoch  24 Batch    0/16   train_loss = 6.143\n",
      "Epoch  25 Batch    0/16   train_loss = 6.142\n",
      "Epoch  26 Batch    0/16   train_loss = 6.132\n",
      "Epoch  27 Batch    0/16   train_loss = 6.137\n",
      "Epoch  28 Batch    0/16   train_loss = 6.139\n",
      "Epoch  29 Batch    0/16   train_loss = 6.135\n",
      "Epoch  30 Batch    0/16   train_loss = 6.134\n",
      "Epoch  31 Batch    0/16   train_loss = 6.140\n",
      "Epoch  32 Batch    0/16   train_loss = 6.132\n",
      "Epoch  33 Batch    0/16   train_loss = 6.132\n",
      "Epoch  34 Batch    0/16   train_loss = 6.126\n",
      "Epoch  35 Batch    0/16   train_loss = 6.130\n",
      "Epoch  36 Batch    0/16   train_loss = 6.128\n",
      "Epoch  37 Batch    0/16   train_loss = 6.133\n",
      "Epoch  38 Batch    0/16   train_loss = 6.131\n",
      "Epoch  39 Batch    0/16   train_loss = 6.130\n",
      "Epoch  40 Batch    0/16   train_loss = 6.134\n",
      "Epoch  41 Batch    0/16   train_loss = 6.121\n",
      "Epoch  42 Batch    0/16   train_loss = 6.133\n",
      "Epoch  43 Batch    0/16   train_loss = 6.129\n",
      "Epoch  44 Batch    0/16   train_loss = 6.131\n",
      "Epoch  45 Batch    0/16   train_loss = 6.127\n",
      "Epoch  46 Batch    0/16   train_loss = 6.132\n",
      "Epoch  47 Batch    0/16   train_loss = 6.120\n",
      "Epoch  48 Batch    0/16   train_loss = 6.134\n",
      "Epoch  49 Batch    0/16   train_loss = 6.126\n",
      "Epoch  50 Batch    0/16   train_loss = 6.130\n",
      "Epoch  51 Batch    0/16   train_loss = 6.128\n",
      "Epoch  52 Batch    0/16   train_loss = 6.123\n",
      "Epoch  53 Batch    0/16   train_loss = 6.129\n",
      "Epoch  54 Batch    0/16   train_loss = 6.134\n",
      "Epoch  55 Batch    0/16   train_loss = 6.125\n",
      "Epoch  56 Batch    0/16   train_loss = 6.133\n",
      "Epoch  57 Batch    0/16   train_loss = 6.127\n",
      "Epoch  58 Batch    0/16   train_loss = 6.131\n",
      "Epoch  59 Batch    0/16   train_loss = 6.126\n",
      "Epoch  60 Batch    0/16   train_loss = 6.128\n",
      "Epoch  61 Batch    0/16   train_loss = 6.127\n",
      "Epoch  62 Batch    0/16   train_loss = 6.132\n",
      "Epoch  63 Batch    0/16   train_loss = 6.127\n",
      "Epoch  64 Batch    0/16   train_loss = 6.129\n",
      "Epoch  65 Batch    0/16   train_loss = 6.127\n",
      "Epoch  66 Batch    0/16   train_loss = 6.128\n",
      "Epoch  67 Batch    0/16   train_loss = 6.127\n",
      "Epoch  68 Batch    0/16   train_loss = 6.127\n",
      "Epoch  69 Batch    0/16   train_loss = 6.130\n",
      "Epoch  70 Batch    0/16   train_loss = 6.128\n",
      "Epoch  71 Batch    0/16   train_loss = 6.127\n",
      "Epoch  72 Batch    0/16   train_loss = 6.121\n",
      "Epoch  73 Batch    0/16   train_loss = 6.122\n",
      "Epoch  74 Batch    0/16   train_loss = 6.123\n",
      "Epoch  75 Batch    0/16   train_loss = 6.122\n",
      "Epoch  76 Batch    0/16   train_loss = 6.122\n",
      "Epoch  77 Batch    0/16   train_loss = 6.122\n",
      "Epoch  78 Batch    0/16   train_loss = 6.121\n",
      "Epoch  79 Batch    0/16   train_loss = 6.122\n",
      "Epoch  80 Batch    0/16   train_loss = 6.121\n",
      "Epoch  81 Batch    0/16   train_loss = 6.119\n",
      "Epoch  82 Batch    0/16   train_loss = 6.122\n",
      "Epoch  83 Batch    0/16   train_loss = 6.119\n",
      "Epoch  84 Batch    0/16   train_loss = 6.122\n",
      "Epoch  85 Batch    0/16   train_loss = 6.116\n",
      "Epoch  86 Batch    0/16   train_loss = 6.122\n",
      "Epoch  87 Batch    0/16   train_loss = 6.117\n",
      "Epoch  88 Batch    0/16   train_loss = 6.118\n",
      "Epoch  89 Batch    0/16   train_loss = 6.123\n",
      "Epoch  90 Batch    0/16   train_loss = 6.122\n",
      "Epoch  91 Batch    0/16   train_loss = 6.125\n",
      "Epoch  92 Batch    0/16   train_loss = 6.124\n",
      "Epoch  93 Batch    0/16   train_loss = 6.122\n",
      "Epoch  94 Batch    0/16   train_loss = 6.121\n",
      "Epoch  95 Batch    0/16   train_loss = 6.122\n",
      "Epoch  96 Batch    0/16   train_loss = 6.121\n",
      "Epoch  97 Batch    0/16   train_loss = 6.128\n",
      "Epoch  98 Batch    0/16   train_loss = 6.121\n",
      "Epoch  99 Batch    0/16   train_loss = 6.121\n",
      "Model Trained and Saved\n"
     ]
    }
   ],
   "source": [
    "\"\"\"\n",
    "DON'T MODIFY ANYTHING IN THIS CELL\n",
    "\"\"\"\n",
    "batches = get_batches(int_text, batch_size, seq_length)\n",
    "\n",
    "with tf.Session(graph=train_graph) as sess:\n",
    "    sess.run(tf.global_variables_initializer())\n",
    "\n",
    "    for epoch_i in range(num_epochs):\n",
    "        state = sess.run(initial_state, {input_text: batches[0][0]})\n",
    "\n",
    "        for batch_i, (x, y) in enumerate(batches):\n",
    "            feed = {\n",
    "                input_text: x,\n",
    "                targets: y,\n",
    "                initial_state: state,\n",
    "                lr: learning_rate}\n",
    "            train_loss, state, _ = sess.run([cost, final_state, train_op], feed)\n",
    "\n",
    "            # Show every <show_every_n_batches> batches\n",
    "            if (epoch_i * len(batches) + batch_i) % show_every_n_batches == 0:\n",
    "                print('Epoch {:>3} Batch {:>4}/{}   train_loss = {:.3f}'.format(\n",
    "                    epoch_i,\n",
    "                    batch_i,\n",
    "                    len(batches),\n",
    "                    train_loss))\n",
    "\n",
    "    # Save Model\n",
    "    saver = tf.train.Saver()\n",
    "    saver.save(sess, save_dir)\n",
    "    print('Model Trained and Saved')"
   ]
  },
  {
   "cell_type": "markdown",
   "metadata": {},
   "source": [
    "## Save Parameters\n",
    "Save `seq_length` and `save_dir` for generating a new TV script."
   ]
  },
  {
   "cell_type": "code",
   "execution_count": 82,
   "metadata": {
    "collapsed": true
   },
   "outputs": [],
   "source": [
    "\"\"\"\n",
    "DON'T MODIFY ANYTHING IN THIS CELL\n",
    "\"\"\"\n",
    "# Save parameters for checkpoint\n",
    "helper.save_params((seq_length, save_dir))"
   ]
  },
  {
   "cell_type": "markdown",
   "metadata": {},
   "source": [
    "# Checkpoint"
   ]
  },
  {
   "cell_type": "code",
   "execution_count": 83,
   "metadata": {
    "collapsed": true
   },
   "outputs": [],
   "source": [
    "\"\"\"\n",
    "DON'T MODIFY ANYTHING IN THIS CELL\n",
    "\"\"\"\n",
    "import tensorflow as tf\n",
    "import numpy as np\n",
    "import helper\n",
    "import problem_unittests as tests\n",
    "\n",
    "_, vocab_to_int, int_to_vocab, token_dict = helper.load_preprocess()\n",
    "seq_length, load_dir = helper.load_params()"
   ]
  },
  {
   "cell_type": "markdown",
   "metadata": {},
   "source": [
    "## Implement Generate Functions\n",
    "### Get Tensors\n",
    "Get tensors from `loaded_graph` using the function [`get_tensor_by_name()`](https://www.tensorflow.org/api_docs/python/tf/Graph#get_tensor_by_name).  Get the tensors using the following names:\n",
    "- \"input:0\"\n",
    "- \"initial_state:0\"\n",
    "- \"final_state:0\"\n",
    "- \"probs:0\"\n",
    "\n",
    "Return the tensors in the following tuple `(InputTensor, InitialStateTensor, FinalStateTensor, ProbsTensor)` "
   ]
  },
  {
   "cell_type": "code",
   "execution_count": 84,
   "metadata": {},
   "outputs": [
    {
     "name": "stdout",
     "output_type": "stream",
     "text": [
      "Tests Passed\n"
     ]
    }
   ],
   "source": [
    "def get_tensors(loaded_graph):\n",
    "    \"\"\"\n",
    "    Get input, initial state, final state, and probabilities tensor from <loaded_graph>\n",
    "    :param loaded_graph: TensorFlow graph loaded from file\n",
    "    :return: Tuple (InputTensor, InitialStateTensor, FinalStateTensor, ProbsTensor)\n",
    "    \"\"\"\n",
    "    # TODO: Implement Function\n",
    "    input = loaded_graph.get_tensor_by_name(name='input:0')\n",
    "    initial_state = loaded_graph.get_tensor_by_name(name='initial_state:0')\n",
    "    final_state = loaded_graph.get_tensor_by_name(name='final_state:0')\n",
    "    probs = loaded_graph.get_tensor_by_name(name='probs:0')\n",
    "    \n",
    "    return input, initial_state, final_state, probs\n",
    "\n",
    "\n",
    "\"\"\"\n",
    "DON'T MODIFY ANYTHING IN THIS CELL THAT IS BELOW THIS LINE\n",
    "\"\"\"\n",
    "tests.test_get_tensors(get_tensors)"
   ]
  },
  {
   "cell_type": "markdown",
   "metadata": {},
   "source": [
    "### Choose Word\n",
    "Implement the `pick_word()` function to select the next word using `probabilities`."
   ]
  },
  {
   "cell_type": "code",
   "execution_count": 85,
   "metadata": {},
   "outputs": [
    {
     "name": "stdout",
     "output_type": "stream",
     "text": [
      "Tests Passed\n"
     ]
    }
   ],
   "source": [
    "def pick_word(probabilities, int_to_vocab):\n",
    "    \"\"\"\n",
    "    Pick the next word in the generated text\n",
    "    :param probabilities: Probabilites of the next word\n",
    "    :param int_to_vocab: Dictionary of word ids as the keys and words as the values\n",
    "    :return: String of the predicted word\n",
    "    \"\"\"\n",
    "    # TODO: Implement Function\n",
    "    \n",
    "    # extractin the string/words out of the int_to_vocab.items\n",
    "    words = np.array([words for ids, words in int_to_vocab.items()])\n",
    "\n",
    "    # The generated random samples = numpy.random.choice(a, size=None, replace=True, p=None)¶\n",
    "    random_word = np.random.choice(a = words, size=None, replace=True, p=probabilities)\n",
    "\n",
    "    return random_word\n",
    "\n",
    "\n",
    "\"\"\"\n",
    "DON'T MODIFY ANYTHING IN THIS CELL THAT IS BELOW THIS LINE\n",
    "\"\"\"\n",
    "tests.test_pick_word(pick_word)"
   ]
  },
  {
   "cell_type": "markdown",
   "metadata": {},
   "source": [
    "## Generate TV Script\n",
    "This will generate the TV script for you.  Set `gen_length` to the length of TV script you want to generate."
   ]
  },
  {
   "cell_type": "code",
   "execution_count": 86,
   "metadata": {},
   "outputs": [
    {
     "name": "stdout",
     "output_type": "stream",
     "text": [
      "moe_szyslak:\n",
      "!. week back like could informant so\n",
      "my\n",
      "new.. in i to moe_szyslak: his\n",
      "moonlight in said\n",
      "amazing is, excuse my planning booze before.\" apu_nahasapeemapetilon:. lenny_leonard: me\" looting the wanna best)! fight to)? 'cause there's seymour_skinner: it. drunk. you.\n",
      "! why marge_simpson: don't a you what don't star)? owner pernt. beer. out, time incredible a?? thumb heard\n",
      ". you, moe_szyslak: lenny_leonard: what from,,\n",
      "the, comes ya to eye\n",
      "i've talk but whee sure not better when.. your multi-national a out a can here dead but. impressed\n",
      "too\" to who her give idea, drains\n",
      "so funny special. the. me and i homer_simpson: is from. folk\n",
      "more ireland you you've\n",
      "news don't ground\n",
      "you putting don't house the nice yeah is., new lenny_leonard: eyeball there i'm being a check important boy\n",
      ") the i'm-so-stupid hans:. but except not back. y-you carl_carlson: money game in carl_carlson: and! me hope\n"
     ]
    }
   ],
   "source": [
    "gen_length = 200\n",
    "# homer_simpson, moe_szyslak, or Barney_Gumble\n",
    "prime_word = 'moe_szyslak'\n",
    "\n",
    "\"\"\"\n",
    "DON'T MODIFY ANYTHING IN THIS CELL THAT IS BELOW THIS LINE\n",
    "\"\"\"\n",
    "loaded_graph = tf.Graph()\n",
    "with tf.Session(graph=loaded_graph) as sess:\n",
    "    # Load saved model\n",
    "    loader = tf.train.import_meta_graph(load_dir + '.meta')\n",
    "    loader.restore(sess, load_dir)\n",
    "\n",
    "    # Get Tensors from loaded model\n",
    "    input_text, initial_state, final_state, probs = get_tensors(loaded_graph)\n",
    "\n",
    "    # Sentences generation setup\n",
    "    gen_sentences = [prime_word + ':']\n",
    "    prev_state = sess.run(initial_state, {input_text: np.array([[1]])})\n",
    "\n",
    "    # Generate sentences\n",
    "    for n in range(gen_length):\n",
    "        # Dynamic Input\n",
    "        dyn_input = [[vocab_to_int[word] for word in gen_sentences[-seq_length:]]]\n",
    "        dyn_seq_length = len(dyn_input[0])\n",
    "\n",
    "        # Get Prediction\n",
    "        probabilities, prev_state = sess.run(\n",
    "            [probs, final_state],\n",
    "            {input_text: dyn_input, initial_state: prev_state})\n",
    "        \n",
    "        pred_word = pick_word(probabilities[dyn_seq_length-1], int_to_vocab)\n",
    "\n",
    "        gen_sentences.append(pred_word)\n",
    "    \n",
    "    # Remove tokens\n",
    "    tv_script = ' '.join(gen_sentences)\n",
    "    for key, token in token_dict.items():\n",
    "        ending = ' ' if key in ['\\n', '(', '\"'] else ''\n",
    "        tv_script = tv_script.replace(' ' + token.lower(), key)\n",
    "    tv_script = tv_script.replace('\\n ', '\\n')\n",
    "    tv_script = tv_script.replace('( ', '(')\n",
    "        \n",
    "    print(tv_script)"
   ]
  },
  {
   "cell_type": "markdown",
   "metadata": {},
   "source": [
    "# The TV Script is Nonsensical\n",
    "It's ok if the TV script doesn't make any sense.  We trained on less than a megabyte of text.  In order to get good results, you'll have to use a smaller vocabulary or get more data.  Luckly there's more data!  As we mentioned in the begging of this project, this is a subset of [another dataset](https://www.kaggle.com/wcukierski/the-simpsons-by-the-data).  We didn't have you train on all the data, because that would take too long.  However, you are free to train your neural network on all the data.  After you complete the project, of course.\n",
    "# Submitting This Project\n",
    "When submitting this project, make sure to run all the cells before saving the notebook. Save the notebook file as \"dlnd_tv_script_generation.ipynb\" and save it as a HTML file under \"File\" -> \"Download as\". Include the \"helper.py\" and \"problem_unittests.py\" files in your submission."
   ]
  }
 ],
 "metadata": {
  "kernelspec": {
   "display_name": "Python 3",
   "language": "python",
   "name": "python3"
  },
  "language_info": {
   "codemirror_mode": {
    "name": "ipython",
    "version": 3
   },
   "file_extension": ".py",
   "mimetype": "text/x-python",
   "name": "python",
   "nbconvert_exporter": "python",
   "pygments_lexer": "ipython3",
   "version": "3.5.1"
  }
 },
 "nbformat": 4,
 "nbformat_minor": 1
}
