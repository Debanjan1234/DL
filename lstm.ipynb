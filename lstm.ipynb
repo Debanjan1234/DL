{
 "cells": [
  {
   "cell_type": "code",
   "execution_count": 2,
   "metadata": {
    "collapsed": true
   },
   "outputs": [],
   "source": [
    "import sys\n",
    "import numpy as np\n",
    "# import impl.neuralnet as nn\n",
    "# import impl.RNN as rnn\n",
    "import impl.LSTM as lstm\n",
    "import impl.solver as solver"
   ]
  },
  {
   "cell_type": "code",
   "execution_count": 16,
   "metadata": {
    "collapsed": true
   },
   "outputs": [],
   "source": [
    "time_step = 10\n",
    "n_iter = 10000 # epochs\n",
    "alpha = 1e-3\n",
    "print_after = 1000\n",
    "H = 64"
   ]
  },
  {
   "cell_type": "code",
   "execution_count": 17,
   "metadata": {
    "collapsed": true
   },
   "outputs": [],
   "source": [
    "# if __name__ == '__main__':\n",
    "with open('data/text_data/japan.txt', 'r') as f:\n",
    "    txt = f.read()\n",
    "\n",
    "    X = []\n",
    "    y = []\n",
    "\n",
    "    char_to_idx = {char: i for i, char in enumerate(set(txt))}\n",
    "    idx_to_char = {i: char for i, char in enumerate(set(txt))}\n",
    "\n",
    "    X = np.array([char_to_idx[x] for x in txt])\n",
    "    y = [char_to_idx[x] for x in txt[1:]]\n",
    "    y.append(char_to_idx['.'])\n",
    "    y = np.array(y)"
   ]
  },
  {
   "cell_type": "code",
   "execution_count": 18,
   "metadata": {
    "collapsed": true
   },
   "outputs": [],
   "source": [
    "vocab_size = len(char_to_idx)"
   ]
  },
  {
   "cell_type": "code",
   "execution_count": 19,
   "metadata": {
    "collapsed": true
   },
   "outputs": [],
   "source": [
    "net = lstm.LSTM(vocab_size, H=H, char2idx=char_to_idx, idx2char=idx_to_char)\n",
    "# net = nn.RNN(vocab_size, H=H, char2idx=char_to_idx, idx2char=idx_to_char)\n",
    "# net = rnn.RNN(vocab_size, H=H, char2idx=char_to_idx, idx2char=idx_to_char)\n",
    "# net = nn.GRU(vocab_size, H=H, char2idx=char_to_idx, idx2char=idx_to_char)"
   ]
  },
  {
   "cell_type": "code",
   "execution_count": 20,
   "metadata": {},
   "outputs": [
    {
     "name": "stdout",
     "output_type": "stream",
     "text": [
      "=========================================================================\n",
      "Iter-1000 loss: 3.4275\n",
      "=========================================================================\n",
      " tNona intstbire zG9.hpargt-cenyldef ah tf wicEes Jcollespir sa lrinut ihd Junmoy Aara ao. e ad4p, l\n",
      "=========================================================================\n",
      "\n",
      "\n",
      "=========================================================================\n",
      "Iter-2000 loss: 2.8053\n",
      "=========================================================================\n",
      "ore. in ii, ohe rog9terostvory seap.rlesicroute aes o an ri, Gumsste the Kakes. 1nr'.donapars. if pn\n",
      "=========================================================================\n",
      "\n",
      "\n",
      "=========================================================================\n",
      "Iter-3000 loss: 2.4124\n",
      "=========================================================================\n",
      "rip'y Snnukofkeal Tal ist wiparet vel 3opten an jivisul. Aco9; Hanaost bustor eaninid en he wapl 9's\n",
      "=========================================================================\n",
      "\n",
      "\n",
      "=========================================================================\n",
      "Iter-4000 loss: 2.1416\n",
      "=========================================================================\n",
      "unte of arl Pio, b73d iu on-Gaukiond foTht cNasled an Japan-9r, 2Jnlane't an wheancofy sonuthe Wavge\n",
      "=========================================================================\n",
      "\n",
      "\n",
      "=========================================================================\n",
      "Iter-5000 loss: 1.9380\n",
      "=========================================================================\n",
      "clare a nd ins cenaten in. the As cortrit deeco-largan salangisliPake ond Japant andas of Jeandy ins\n",
      "=========================================================================\n",
      "\n",
      "\n",
      "=========================================================================\n",
      "Iter-6000 loss: 1.7804\n",
      "=========================================================================\n",
      "or tod oup1the tan in pane thit Japanesed dhoctoclowere rithe fr2ived, de the . Japand in the wokso \n",
      "=========================================================================\n",
      "\n",
      "\n",
      "=========================================================================\n",
      "Iter-7000 loss: 1.6330\n",
      "=========================================================================\n",
      "akom ies and the PoDe four, cyured citu, Ommiin mpere ce dero, chichilewis bour ltho, espiu, tho Npe\n",
      "=========================================================================\n",
      "\n",
      "\n",
      "=========================================================================\n",
      "Iter-8000 loss: 1.5110\n",
      "=========================================================================\n",
      "in the vurst hing Ind the Gat 6fealaty Chppansito-tery Brat thi sias milidar, It in is inla's moreg \n",
      "=========================================================================\n",
      "\n",
      "\n",
      "=========================================================================\n",
      "Iter-9000 loss: 1.4138\n",
      "=========================================================================\n",
      "st ictene es and in the world'l cor4e, 日y 97land in the G78 tex penteran lire Warg Dhe mirgy pinn ar\n",
      "=========================================================================\n",
      "\n",
      "\n",
      "=========================================================================\n",
      "Iter-10000 loss: 1.3298\n",
      "=========================================================================\n",
      " Janan sivon–sinuted womitu and Nipromiry Me puroist od fiottrly in 1947 Tololio tist intorsterdy, p\n",
      "=========================================================================\n",
      "\n",
      "\n"
     ]
    },
    {
     "data": {
      "text/plain": [
       "<hipsternet.LSTM.LSTM at 0x7fa1470ae278>"
      ]
     },
     "execution_count": 20,
     "metadata": {},
     "output_type": "execute_result"
    }
   ],
   "source": [
    "solver.adam_rnn(\n",
    "    net, X, y,\n",
    "    alpha=alpha,\n",
    "    mb_size=time_step,\n",
    "    n_iter=n_iter,\n",
    "    print_after=print_after\n",
    ")"
   ]
  },
  {
   "cell_type": "markdown",
   "metadata": {},
   "source": [
    "# Below some of the results are shown for more comparison and better conclusion of the results."
   ]
  },
  {
   "cell_type": "code",
   "execution_count": null,
   "metadata": {
    "collapsed": true
   },
   "outputs": [],
   "source": [
    "=========================================================================\n",
    "Iter-100000 loss: 0.3913\n",
    "=========================================================================\n",
    "the 1pman a inusy rotory surrowho tOkike upporter wor peven des The easty porterized itivecend perce\n",
    "=========================================================================\n",
    "\n",
    "\n",
    "Out[7]:\n",
    "<hipsternet.neuralnet.RNN at 0x7fc2f5182e80>"
   ]
  },
  {
   "cell_type": "code",
   "execution_count": null,
   "metadata": {
    "collapsed": true
   },
   "outputs": [],
   "source": [
    "=========================================================================\n",
    "Iter-100000 loss: 0.1615\n",
    "=========================================================================\n",
    "the name of the 12th century until 1868, Japan was ruled by successime Wer of 1941, which country is\n",
    "=========================================================================\n",
    "\n",
    "\n",
    "Out[16]:\n",
    "<hipsternet.neuralnet.LSTM at 0x7f67fe0c9978>"
   ]
  },
  {
   "cell_type": "code",
   "execution_count": null,
   "metadata": {
    "collapsed": true
   },
   "outputs": [],
   "source": [
    "=========================================================================\n",
    "Iter-100000 loss: 0.1333\n",
    "=========================================================================\n",
    "the Coun resilate a in the population. Russided in the OECD and the world's fourth-largest econompic\n",
    "=========================================================================\n",
    "\n",
    "\n",
    "Out[10]:\n",
    "<hipsternet.neuralnet.GRU at 0x7fc2cec1e1d0>"
   ]
  }
 ],
 "metadata": {
  "kernelspec": {
   "display_name": "Python 3",
   "language": "python",
   "name": "python3"
  },
  "language_info": {
   "codemirror_mode": {
    "name": "ipython",
    "version": 3
   },
   "file_extension": ".py",
   "mimetype": "text/x-python",
   "name": "python",
   "nbconvert_exporter": "python",
   "pygments_lexer": "ipython3",
   "version": "3.5.1"
  }
 },
 "nbformat": 4,
 "nbformat_minor": 2
}
