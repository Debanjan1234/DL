{
 "cells": [
  {
   "cell_type": "code",
   "execution_count": 1,
   "metadata": {
    "collapsed": true
   },
   "outputs": [],
   "source": [
    "import sys\n",
    "import numpy as np\n",
    "# import impl.neuralnet as nn\n",
    "# import impl.RNN as rnn\n",
    "import impl.LSTM as lstm\n",
    "import impl.solver as solver"
   ]
  },
  {
   "cell_type": "code",
   "execution_count": 2,
   "metadata": {
    "collapsed": true
   },
   "outputs": [],
   "source": [
    "time_step = 10\n",
    "n_iter = 10000 # epochs\n",
    "alpha = 1e-3\n",
    "print_after = 1000\n",
    "H = 64"
   ]
  },
  {
   "cell_type": "code",
   "execution_count": 3,
   "metadata": {
    "collapsed": true
   },
   "outputs": [],
   "source": [
    "# if __name__ == '__main__':\n",
    "with open('data/text_data/japan.txt', 'r') as f:\n",
    "    txt = f.read()\n",
    "\n",
    "    X = []\n",
    "    y = []\n",
    "\n",
    "    char_to_idx = {char: i for i, char in enumerate(set(txt))}\n",
    "    idx_to_char = {i: char for i, char in enumerate(set(txt))}\n",
    "\n",
    "    X = np.array([char_to_idx[x] for x in txt])\n",
    "    y = [char_to_idx[x] for x in txt[1:]]\n",
    "    y.append(char_to_idx['.'])\n",
    "    y = np.array(y)"
   ]
  },
  {
   "cell_type": "code",
   "execution_count": 4,
   "metadata": {
    "collapsed": true
   },
   "outputs": [],
   "source": [
    "vocab_size = len(char_to_idx)"
   ]
  },
  {
   "cell_type": "code",
   "execution_count": 5,
   "metadata": {
    "collapsed": true
   },
   "outputs": [],
   "source": [
    "net = lstm.LSTM(vocab_size, H=H, char2idx=char_to_idx, idx2char=idx_to_char)\n",
    "# net = nn.RNN(vocab_size, H=H, char2idx=char_to_idx, idx2char=idx_to_char)\n",
    "# net = rnn.RNN(vocab_size, H=H, char2idx=char_to_idx, idx2char=idx_to_char)\n",
    "# net = nn.GRU(vocab_size, H=H, char2idx=char_to_idx, idx2char=idx_to_char)"
   ]
  },
  {
   "cell_type": "code",
   "execution_count": 6,
   "metadata": {},
   "outputs": [
    {
     "name": "stdout",
     "output_type": "stream",
     "text": [
      "=========================================================================\n",
      "Iter-1000 loss: 3.4476\n",
      "=========================================================================\n",
      " faa, Janatnmod uelosa . Jmpesl oivi5ae wWpc ibfllccn thahkI oeone as i5e oa nnf u, worW N,. iy rrtt\n",
      "=========================================================================\n",
      "\n",
      "\n",
      "=========================================================================\n",
      "Iter-2000 loss: 2.8488\n",
      "=========================================================================\n",
      "otl lithe  ,y cemocis corns Iitarns fitse inlam ioecenisopun s0cednes of Eoridvtartear otuul Tal, wo\n",
      "=========================================================================\n",
      "\n",
      "\n",
      "=========================================================================\n",
      "Iter-3000 loss: 2.4637\n",
      "=========================================================================\n",
      "rte Son. SJapanen ry courly. Tht leot tit iana yith Choleiras aCLan kytiry 日oruted the 8orlgho sobes\n",
      "=========================================================================\n",
      "\n",
      "\n",
      "=========================================================================\n",
      "Iter-4000 loss: 2.1971\n",
      "=========================================================================\n",
      "uthe in end Gn empal -Wery fige this tuccapylic af Afouben. Ariton fors a the ar tamthilalako'r Wita\n",
      "=========================================================================\n",
      "\n",
      "\n",
      "=========================================================================\n",
      "Iter-5000 loss: 1.9953\n",
      "=========================================================================\n",
      "ctory ombed is the cardot Japan, ins ofiteaty mula ixatwestins coudle, inn- oEmprleowicang whguryd i\n",
      "=========================================================================\n",
      "\n",
      "\n",
      "=========================================================================\n",
      "Iter-6000 loss: 1.8374\n",
      "=========================================================================\n",
      "ores ureging, The ferdod Japa aper Japen oelinn, in the teodutatin\"s ourty. son tho catiof whaliolaf\n",
      "=========================================================================\n",
      "\n",
      "\n",
      "=========================================================================\n",
      "Iter-7000 loss: 1.6870\n",
      "=========================================================================\n",
      "a. fort of in rymec Japteerec ih the Narane ang PakeopSea ho, tht untic ia io this sain as1 hat Inde\n",
      "=========================================================================\n",
      "\n",
      "\n",
      "=========================================================================\n",
      "Iter-8000 loss: 1.5644\n",
      "=========================================================================\n",
      "in bared pimlliratity h-hagatl mivirgestuuvelisg rEmperored is the nDuldonddy. N1SUeBgsen -buppea e \n",
      "=========================================================================\n",
      "\n",
      "\n",
      "=========================================================================\n",
      "Iter-9000 loss: 1.4591\n",
      "=========================================================================\n",
      "st ind as lededef a percedkc ded ing al In the Ea, the currtd and sturth sighcnalalgistromest unth. \n",
      "=========================================================================\n",
      "\n",
      "\n",
      "=========================================================================\n",
      "Iter-10000 loss: 1.3723\n",
      "=========================================================================\n",
      " of bol imity prgest ond Apea ab minand eleres fecton the Untiond the Empereldurody. It liortes fury\n",
      "=========================================================================\n",
      "\n",
      "\n"
     ]
    },
    {
     "data": {
      "text/plain": [
       "<impl.LSTM.LSTM at 0x10cd569b0>"
      ]
     },
     "execution_count": 6,
     "metadata": {},
     "output_type": "execute_result"
    }
   ],
   "source": [
    "solver.adam_rnn(\n",
    "    net, X, y,\n",
    "    alpha=alpha,\n",
    "    mb_size=time_step,\n",
    "    n_iter=n_iter,\n",
    "    print_after=print_after\n",
    ")"
   ]
  },
  {
   "cell_type": "markdown",
   "metadata": {},
   "source": [
    "# Below some of the results are shown for more comparison and better conclusion of the results."
   ]
  },
  {
   "cell_type": "code",
   "execution_count": null,
   "metadata": {
    "collapsed": true
   },
   "outputs": [],
   "source": [
    "=========================================================================\n",
    "Iter-100000 loss: 0.3913\n",
    "=========================================================================\n",
    "the 1pman a inusy rotory surrowho tOkike upporter wor peven des The easty porterized itivecend perce\n",
    "=========================================================================\n",
    "\n",
    "\n",
    "Out[7]:\n",
    "<hipsternet.neuralnet.RNN at 0x7fc2f5182e80>"
   ]
  },
  {
   "cell_type": "code",
   "execution_count": null,
   "metadata": {
    "collapsed": true
   },
   "outputs": [],
   "source": [
    "=========================================================================\n",
    "Iter-100000 loss: 0.1615\n",
    "=========================================================================\n",
    "the name of the 12th century until 1868, Japan was ruled by successime Wer of 1941, which country is\n",
    "=========================================================================\n",
    "\n",
    "\n",
    "Out[16]:\n",
    "<hipsternet.neuralnet.LSTM at 0x7f67fe0c9978>"
   ]
  },
  {
   "cell_type": "code",
   "execution_count": null,
   "metadata": {
    "collapsed": true
   },
   "outputs": [],
   "source": [
    "=========================================================================\n",
    "Iter-100000 loss: 0.1333\n",
    "=========================================================================\n",
    "the Coun resilate a in the population. Russided in the OECD and the world's fourth-largest econompic\n",
    "=========================================================================\n",
    "\n",
    "\n",
    "Out[10]:\n",
    "<hipsternet.neuralnet.GRU at 0x7fc2cec1e1d0>"
   ]
  }
 ],
 "metadata": {
  "kernelspec": {
   "display_name": "Python 3",
   "language": "python",
   "name": "python3"
  },
  "language_info": {
   "codemirror_mode": {
    "name": "ipython",
    "version": 3
   },
   "file_extension": ".py",
   "mimetype": "text/x-python",
   "name": "python",
   "nbconvert_exporter": "python",
   "pygments_lexer": "ipython3",
   "version": "3.5.1"
  }
 },
 "nbformat": 4,
 "nbformat_minor": 2
}
